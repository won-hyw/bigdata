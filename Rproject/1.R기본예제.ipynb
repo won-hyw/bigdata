{
 "cells": [
  {
   "cell_type": "markdown",
   "id": "1c525558",
   "metadata": {},
   "source": [
    "## 변수 만들기\n",
    "\n",
    "- <- 또는 = 을 이용하여 변수 생성\n",
    "- = 는 R에서 추천하는 방식이 아님"
   ]
  },
  {
   "cell_type": "code",
   "execution_count": 1,
   "id": "a6faf7f3",
   "metadata": {},
   "outputs": [
    {
     "name": "stdout",
     "output_type": "stream",
     "text": [
      "[1] 1\n",
      "[1] 3\n"
     ]
    }
   ],
   "source": [
    "# 변수 생성 방법\n",
    "\n",
    "a <- 1\n",
    "b = 3\n",
    "c <- 1.5\n",
    "\n",
    "# 변수 출력\n",
    "\n",
    "print(a)\n",
    "print(b)"
   ]
  },
  {
   "cell_type": "markdown",
   "id": "222b101c",
   "metadata": {},
   "source": [
    "### <- 와 = 의 차이"
   ]
  },
  {
   "cell_type": "code",
   "execution_count": 2,
   "id": "f51d425e",
   "metadata": {},
   "outputs": [
    {
     "data": {
      "text/html": [
       "3"
      ],
      "text/latex": [
       "3"
      ],
      "text/markdown": [
       "3"
      ],
      "text/plain": [
       "[1] 3"
      ]
     },
     "metadata": {},
     "output_type": "display_data"
    },
    {
     "data": {
      "text/html": [
       "<ol class=list-inline>\n",
       "\t<li>1</li>\n",
       "\t<li>2</li>\n",
       "</ol>\n"
      ],
      "text/latex": [
       "\\begin{enumerate*}\n",
       "\\item 1\n",
       "\\item 2\n",
       "\\end{enumerate*}\n"
      ],
      "text/markdown": [
       "1. 1\n",
       "2. 2\n",
       "\n",
       "\n"
      ],
      "text/plain": [
       "[1] 1 2"
      ]
     },
     "metadata": {},
     "output_type": "display_data"
    }
   ],
   "source": [
    "sum(x <- c(1, 2))\n",
    "x"
   ]
  },
  {
   "cell_type": "code",
   "execution_count": 11,
   "id": "7e700a21",
   "metadata": {},
   "outputs": [
    {
     "data": {
      "text/html": [
       "1"
      ],
      "text/latex": [
       "1"
      ],
      "text/markdown": [
       "1"
      ],
      "text/plain": [
       "[1] 1"
      ]
     },
     "metadata": {},
     "output_type": "display_data"
    }
   ],
   "source": [
    "sum(y = 1)\n",
    "# y 에러 발생, = 는 변수 생성도 하지만 파라미터 값으로도 인식되기 때문"
   ]
  },
  {
   "cell_type": "markdown",
   "id": "aae8361c",
   "metadata": {},
   "source": [
    "## 기본 연산"
   ]
  },
  {
   "cell_type": "code",
   "execution_count": 7,
   "id": "6532cd76",
   "metadata": {},
   "outputs": [
    {
     "data": {
      "text/html": [
       "4"
      ],
      "text/latex": [
       "4"
      ],
      "text/markdown": [
       "4"
      ],
      "text/plain": [
       "[1] 4"
      ]
     },
     "metadata": {},
     "output_type": "display_data"
    }
   ],
   "source": [
    "a + b"
   ]
  },
  {
   "cell_type": "code",
   "execution_count": 8,
   "id": "9434ce22",
   "metadata": {},
   "outputs": [
    {
     "data": {
      "text/html": [
       "2"
      ],
      "text/latex": [
       "2"
      ],
      "text/markdown": [
       "2"
      ],
      "text/plain": [
       "[1] 2"
      ]
     },
     "metadata": {},
     "output_type": "display_data"
    }
   ],
   "source": [
    "6 / b"
   ]
  },
  {
   "cell_type": "code",
   "execution_count": 9,
   "id": "02ec4f69",
   "metadata": {},
   "outputs": [
    {
     "data": {
      "text/html": [
       "3"
      ],
      "text/latex": [
       "3"
      ],
      "text/markdown": [
       "3"
      ],
      "text/plain": [
       "[1] 3"
      ]
     },
     "metadata": {},
     "output_type": "display_data"
    }
   ],
   "source": [
    "2 * c"
   ]
  },
  {
   "cell_type": "markdown",
   "id": "8a7ba18d",
   "metadata": {},
   "source": [
    "## 여러 값으로 구성된 변수\n",
    "\n",
    "- c() 함수 : 변수에 여러 값을 넣는 함수"
   ]
  },
  {
   "cell_type": "code",
   "execution_count": 12,
   "id": "53852c7d",
   "metadata": {},
   "outputs": [
    {
     "data": {
      "text/html": [
       "<ol class=list-inline>\n",
       "\t<li>1</li>\n",
       "\t<li>3</li>\n",
       "\t<li>5</li>\n",
       "\t<li>7</li>\n",
       "\t<li>9</li>\n",
       "</ol>\n"
      ],
      "text/latex": [
       "\\begin{enumerate*}\n",
       "\\item 1\n",
       "\\item 3\n",
       "\\item 5\n",
       "\\item 7\n",
       "\\item 9\n",
       "\\end{enumerate*}\n"
      ],
      "text/markdown": [
       "1. 1\n",
       "2. 3\n",
       "3. 5\n",
       "4. 7\n",
       "5. 9\n",
       "\n",
       "\n"
      ],
      "text/plain": [
       "[1] 1 3 5 7 9"
      ]
     },
     "metadata": {},
     "output_type": "display_data"
    }
   ],
   "source": [
    "# 숫자 5개로 이루어진 변수\n",
    "\n",
    "var1 <- c(1, 3, 5, 7, 9)\n",
    "var1"
   ]
  },
  {
   "cell_type": "code",
   "execution_count": 13,
   "id": "0580ab1a",
   "metadata": {},
   "outputs": [
    {
     "data": {
      "text/html": [
       "<ol class=list-inline>\n",
       "\t<li>1</li>\n",
       "\t<li>2</li>\n",
       "\t<li>3</li>\n",
       "\t<li>4</li>\n",
       "\t<li>5</li>\n",
       "</ol>\n"
      ],
      "text/latex": [
       "\\begin{enumerate*}\n",
       "\\item 1\n",
       "\\item 2\n",
       "\\item 3\n",
       "\\item 4\n",
       "\\item 5\n",
       "\\end{enumerate*}\n"
      ],
      "text/markdown": [
       "1. 1\n",
       "2. 2\n",
       "3. 3\n",
       "4. 4\n",
       "5. 5\n",
       "\n",
       "\n"
      ],
      "text/plain": [
       "[1] 1 2 3 4 5"
      ]
     },
     "metadata": {},
     "output_type": "display_data"
    }
   ],
   "source": [
    "# 콜론 : 1씩 증가하는 연속된 수 (마지막 수 포함)\n",
    "\n",
    "var2 <- c(1:5)\n",
    "var2"
   ]
  },
  {
   "cell_type": "code",
   "execution_count": 15,
   "id": "959d47b1",
   "metadata": {},
   "outputs": [
    {
     "data": {
      "text/html": [
       "<ol class=list-inline>\n",
       "\t<li>1</li>\n",
       "\t<li>2</li>\n",
       "\t<li>3</li>\n",
       "\t<li>4</li>\n",
       "\t<li>5</li>\n",
       "</ol>\n"
      ],
      "text/latex": [
       "\\begin{enumerate*}\n",
       "\\item 1\n",
       "\\item 2\n",
       "\\item 3\n",
       "\\item 4\n",
       "\\item 5\n",
       "\\end{enumerate*}\n"
      ],
      "text/markdown": [
       "1. 1\n",
       "2. 2\n",
       "3. 3\n",
       "4. 4\n",
       "5. 5\n",
       "\n",
       "\n"
      ],
      "text/plain": [
       "[1] 1 2 3 4 5"
      ]
     },
     "metadata": {},
     "output_type": "display_data"
    }
   ],
   "source": [
    "# seq() : 연속된 값을 지닌 변수 생성 (sequence)\n",
    "\n",
    "var3 <- seq(from = 1, to = 5)\n",
    "var3"
   ]
  },
  {
   "cell_type": "code",
   "execution_count": 18,
   "id": "fb62c4c3",
   "metadata": {},
   "outputs": [
    {
     "data": {
      "text/html": [
       "<ol class=list-inline>\n",
       "\t<li>1</li>\n",
       "\t<li>3</li>\n",
       "\t<li>5</li>\n",
       "\t<li>7</li>\n",
       "\t<li>9</li>\n",
       "</ol>\n"
      ],
      "text/latex": [
       "\\begin{enumerate*}\n",
       "\\item 1\n",
       "\\item 3\n",
       "\\item 5\n",
       "\\item 7\n",
       "\\item 9\n",
       "\\end{enumerate*}\n"
      ],
      "text/markdown": [
       "1. 1\n",
       "2. 3\n",
       "3. 5\n",
       "4. 7\n",
       "5. 9\n",
       "\n",
       "\n"
      ],
      "text/plain": [
       "[1] 1 3 5 7 9"
      ]
     },
     "metadata": {},
     "output_type": "display_data"
    }
   ],
   "source": [
    "# seq 함수의 간격 조절\n",
    "\n",
    "var4 <- seq(1, 10, by = 2)\n",
    "var4"
   ]
  },
  {
   "cell_type": "code",
   "execution_count": 20,
   "id": "d22d34cc",
   "metadata": {},
   "outputs": [
    {
     "data": {
      "text/html": [
       "<ol class=list-inline>\n",
       "\t<li>1</li>\n",
       "\t<li>3.25</li>\n",
       "\t<li>5.5</li>\n",
       "\t<li>7.75</li>\n",
       "\t<li>10</li>\n",
       "</ol>\n"
      ],
      "text/latex": [
       "\\begin{enumerate*}\n",
       "\\item 1\n",
       "\\item 3.25\n",
       "\\item 5.5\n",
       "\\item 7.75\n",
       "\\item 10\n",
       "\\end{enumerate*}\n"
      ],
      "text/markdown": [
       "1. 1\n",
       "2. 3.25\n",
       "3. 5.5\n",
       "4. 7.75\n",
       "5. 10\n",
       "\n",
       "\n"
      ],
      "text/plain": [
       "[1]  1.00  3.25  5.50  7.75 10.00"
      ]
     },
     "metadata": {},
     "output_type": "display_data"
    }
   ],
   "source": [
    "# 등차수열\n",
    "\n",
    "var5 <- seq(1, 10, length = 5)\n",
    "var5"
   ]
  },
  {
   "cell_type": "code",
   "execution_count": 21,
   "id": "a88daed3",
   "metadata": {},
   "outputs": [
    {
     "data": {
      "text/html": [
       "<ol class=list-inline>\n",
       "\t<li>1</li>\n",
       "\t<li>4</li>\n",
       "\t<li>7</li>\n",
       "\t<li>10</li>\n",
       "</ol>\n"
      ],
      "text/latex": [
       "\\begin{enumerate*}\n",
       "\\item 1\n",
       "\\item 4\n",
       "\\item 7\n",
       "\\item 10\n",
       "\\end{enumerate*}\n"
      ],
      "text/markdown": [
       "1. 1\n",
       "2. 4\n",
       "3. 7\n",
       "4. 10\n",
       "\n",
       "\n"
      ],
      "text/plain": [
       "[1]  1  4  7 10"
      ]
     },
     "metadata": {},
     "output_type": "display_data"
    }
   ],
   "source": [
    "# 수열 개수 지정\n",
    "\n",
    "var6 <- seq(1, by = 3, length.out = 4)\n",
    "var6"
   ]
  },
  {
   "cell_type": "markdown",
   "id": "117ad6fc",
   "metadata": {},
   "source": [
    "## 수열 연산\n",
    "\n",
    "- 변수 + 변수\n",
    "- 변수 + 숫자"
   ]
  },
  {
   "cell_type": "code",
   "execution_count": 26,
   "id": "966607ce",
   "metadata": {},
   "outputs": [
    {
     "data": {
      "text/html": [
       "<ol class=list-inline>\n",
       "\t<li>3</li>\n",
       "\t<li>5</li>\n",
       "\t<li>7</li>\n",
       "\t<li>9</li>\n",
       "\t<li>11</li>\n",
       "</ol>\n"
      ],
      "text/latex": [
       "\\begin{enumerate*}\n",
       "\\item 3\n",
       "\\item 5\n",
       "\\item 7\n",
       "\\item 9\n",
       "\\item 11\n",
       "\\end{enumerate*}\n"
      ],
      "text/markdown": [
       "1. 3\n",
       "2. 5\n",
       "3. 7\n",
       "4. 9\n",
       "5. 11\n",
       "\n",
       "\n"
      ],
      "text/plain": [
       "[1]  3  5  7  9 11"
      ]
     },
     "metadata": {},
     "output_type": "display_data"
    }
   ],
   "source": [
    "# 변수 + 숫자 : 각 변수의 각 값에 2가 더해진 값이 출력\n",
    "\n",
    "var1 + 2"
   ]
  },
  {
   "cell_type": "code",
   "execution_count": 27,
   "id": "155fa70f",
   "metadata": {},
   "outputs": [
    {
     "data": {
      "text/html": [
       "<ol class=list-inline>\n",
       "\t<li>2</li>\n",
       "\t<li>5</li>\n",
       "\t<li>8</li>\n",
       "\t<li>11</li>\n",
       "\t<li>14</li>\n",
       "</ol>\n"
      ],
      "text/latex": [
       "\\begin{enumerate*}\n",
       "\\item 2\n",
       "\\item 5\n",
       "\\item 8\n",
       "\\item 11\n",
       "\\item 14\n",
       "\\end{enumerate*}\n"
      ],
      "text/markdown": [
       "1. 2\n",
       "2. 5\n",
       "3. 8\n",
       "4. 11\n",
       "5. 14\n",
       "\n",
       "\n"
      ],
      "text/plain": [
       "[1]  2  5  8 11 14"
      ]
     },
     "metadata": {},
     "output_type": "display_data"
    }
   ],
   "source": [
    "# 변수 + 변수 : 같은 순서에 위치한 값끼리 연산\n",
    "\n",
    "var1 + var2"
   ]
  },
  {
   "cell_type": "code",
   "execution_count": 30,
   "id": "b3e8ca15",
   "metadata": {},
   "outputs": [
    {
     "name": "stderr",
     "output_type": "stream",
     "text": [
      "Warning message in var1 + var6:\n",
      "\"두 객체의 길이가 서로 배수관계에 있지 않습니다\""
     ]
    },
    {
     "data": {
      "text/html": [
       "<ol class=list-inline>\n",
       "\t<li>2</li>\n",
       "\t<li>7</li>\n",
       "\t<li>12</li>\n",
       "\t<li>17</li>\n",
       "\t<li>10</li>\n",
       "</ol>\n"
      ],
      "text/latex": [
       "\\begin{enumerate*}\n",
       "\\item 2\n",
       "\\item 7\n",
       "\\item 12\n",
       "\\item 17\n",
       "\\item 10\n",
       "\\end{enumerate*}\n"
      ],
      "text/markdown": [
       "1. 2\n",
       "2. 7\n",
       "3. 12\n",
       "4. 17\n",
       "5. 10\n",
       "\n",
       "\n"
      ],
      "text/plain": [
       "[1]  2  7 12 17 10"
      ]
     },
     "metadata": {},
     "output_type": "display_data"
    }
   ],
   "source": [
    "# 변수 + 변수 연산에서 데이터의 길이가 다를 경우\n",
    "# 경고 메시지가 출력되지만 결과값도 함께 출력됨\n",
    "\n",
    "var1 + var6"
   ]
  },
  {
   "cell_type": "markdown",
   "id": "85a8f3e2",
   "metadata": {},
   "source": [
    "### 문자로 된 변수"
   ]
  },
  {
   "cell_type": "code",
   "execution_count": 31,
   "id": "8acb3782",
   "metadata": {},
   "outputs": [
    {
     "data": {
      "text/html": [
       "'Hello, World!'"
      ],
      "text/latex": [
       "'Hello, World!'"
      ],
      "text/markdown": [
       "'Hello, World!'"
      ],
      "text/plain": [
       "[1] \"Hello, World!\""
      ]
     },
     "metadata": {},
     "output_type": "display_data"
    }
   ],
   "source": [
    "str1 <- \"Hello, World!\"\n",
    "str1"
   ]
  },
  {
   "cell_type": "code",
   "execution_count": 32,
   "id": "1879ee88",
   "metadata": {},
   "outputs": [
    {
     "data": {
      "text/html": [
       "<ol class=list-inline>\n",
       "\t<li>'Hello'</li>\n",
       "\t<li>'world'</li>\n",
       "\t<li>'is'</li>\n",
       "\t<li>'good!'</li>\n",
       "</ol>\n"
      ],
      "text/latex": [
       "\\begin{enumerate*}\n",
       "\\item 'Hello'\n",
       "\\item 'world'\n",
       "\\item 'is'\n",
       "\\item 'good!'\n",
       "\\end{enumerate*}\n"
      ],
      "text/markdown": [
       "1. 'Hello'\n",
       "2. 'world'\n",
       "3. 'is'\n",
       "4. 'good!'\n",
       "\n",
       "\n"
      ],
      "text/plain": [
       "[1] \"Hello\" \"world\" \"is\"    \"good!\""
      ]
     },
     "metadata": {},
     "output_type": "display_data"
    }
   ],
   "source": [
    "# 연속 문자 변수\n",
    "\n",
    "str2 <- c(\"Hello\", \"world\", \"is\", \"good!\")\n",
    "str2"
   ]
  },
  {
   "cell_type": "markdown",
   "id": "4e97f787",
   "metadata": {},
   "source": [
    "- 문자형 변수는 연산 불가능"
   ]
  },
  {
   "cell_type": "code",
   "execution_count": 34,
   "id": "05b588c9",
   "metadata": {},
   "outputs": [],
   "source": [
    "# str1 * 2"
   ]
  },
  {
   "cell_type": "markdown",
   "id": "d3ad7e4f",
   "metadata": {},
   "source": [
    "## 숫자를 다루는 함수"
   ]
  },
  {
   "cell_type": "code",
   "execution_count": 35,
   "id": "4be4d886",
   "metadata": {},
   "outputs": [
    {
     "data": {
      "text/html": [
       "2"
      ],
      "text/latex": [
       "2"
      ],
      "text/markdown": [
       "2"
      ],
      "text/plain": [
       "[1] 2"
      ]
     },
     "metadata": {},
     "output_type": "display_data"
    },
    {
     "data": {
      "text/html": [
       "3"
      ],
      "text/latex": [
       "3"
      ],
      "text/markdown": [
       "3"
      ],
      "text/plain": [
       "[1] 3"
      ]
     },
     "metadata": {},
     "output_type": "display_data"
    },
    {
     "data": {
      "text/html": [
       "1"
      ],
      "text/latex": [
       "1"
      ],
      "text/markdown": [
       "1"
      ],
      "text/plain": [
       "[1] 1"
      ]
     },
     "metadata": {},
     "output_type": "display_data"
    }
   ],
   "source": [
    "x <- c(1, 2, 3)\n",
    "\n",
    "# 평균\n",
    "mean(x)\n",
    "\n",
    "# 최댓값\n",
    "max(x)\n",
    "\n",
    "# 최솟값\n",
    "min(x)"
   ]
  },
  {
   "cell_type": "markdown",
   "id": "caa16f1f",
   "metadata": {},
   "source": [
    "## 문자를 다루는 함수\n",
    "### paste() : 여러 문자를 합치는 함수"
   ]
  },
  {
   "cell_type": "code",
   "execution_count": 36,
   "id": "73f85094",
   "metadata": {},
   "outputs": [
    {
     "data": {
      "text/html": [
       "'Hello World'"
      ],
      "text/latex": [
       "'Hello World'"
      ],
      "text/markdown": [
       "'Hello World'"
      ],
      "text/plain": [
       "[1] \"Hello World\""
      ]
     },
     "metadata": {},
     "output_type": "display_data"
    }
   ],
   "source": [
    "paste(\"Hello\", \"World\")"
   ]
  },
  {
   "cell_type": "code",
   "execution_count": 38,
   "id": "b7677c53",
   "metadata": {},
   "outputs": [
    {
     "data": {
      "text/html": [
       "'Hello world is good!'"
      ],
      "text/latex": [
       "'Hello world is good!'"
      ],
      "text/markdown": [
       "'Hello world is good!'"
      ],
      "text/plain": [
       "[1] \"Hello world is good!\""
      ]
     },
     "metadata": {},
     "output_type": "display_data"
    }
   ],
   "source": [
    "paste(str2, collapse = \" \")"
   ]
  },
  {
   "cell_type": "code",
   "execution_count": 40,
   "id": "db840880",
   "metadata": {},
   "outputs": [
    {
     "data": {
      "text/html": [
       "<ol class=list-inline>\n",
       "\t<li>'Hello'</li>\n",
       "\t<li>'World'</li>\n",
       "</ol>\n"
      ],
      "text/latex": [
       "\\begin{enumerate*}\n",
       "\\item 'Hello'\n",
       "\\item 'World'\n",
       "\\end{enumerate*}\n"
      ],
      "text/markdown": [
       "1. 'Hello'\n",
       "2. 'World'\n",
       "\n",
       "\n"
      ],
      "text/plain": [
       "[1] \"Hello\" \"World\""
      ]
     },
     "metadata": {},
     "output_type": "display_data"
    },
    {
     "data": {
      "text/html": [
       "<ol class=list-inline>\n",
       "\t<li>'1 st'</li>\n",
       "\t<li>'2 nd'</li>\n",
       "\t<li>'3 rd'</li>\n",
       "\t<li>'4 th'</li>\n",
       "\t<li>'5 th'</li>\n",
       "\t<li>'6 th'</li>\n",
       "\t<li>'7 th'</li>\n",
       "\t<li>'8 th'</li>\n",
       "\t<li>'9 th'</li>\n",
       "\t<li>'10 th'</li>\n",
       "</ol>\n"
      ],
      "text/latex": [
       "\\begin{enumerate*}\n",
       "\\item '1 st'\n",
       "\\item '2 nd'\n",
       "\\item '3 rd'\n",
       "\\item '4 th'\n",
       "\\item '5 th'\n",
       "\\item '6 th'\n",
       "\\item '7 th'\n",
       "\\item '8 th'\n",
       "\\item '9 th'\n",
       "\\item '10 th'\n",
       "\\end{enumerate*}\n"
      ],
      "text/markdown": [
       "1. '1 st'\n",
       "2. '2 nd'\n",
       "3. '3 rd'\n",
       "4. '4 th'\n",
       "5. '5 th'\n",
       "6. '6 th'\n",
       "7. '7 th'\n",
       "8. '8 th'\n",
       "9. '9 th'\n",
       "10. '10 th'\n",
       "\n",
       "\n"
      ],
      "text/plain": [
       " [1] \"1 st\"  \"2 nd\"  \"3 rd\"  \"4 th\"  \"5 th\"  \"6 th\"  \"7 th\"  \"8 th\"  \"9 th\" \n",
       "[10] \"10 th\""
      ]
     },
     "metadata": {},
     "output_type": "display_data"
    }
   ],
   "source": [
    "# 묶인 원소는 개별로 인식\n",
    "\n",
    "paste(c(\"Hello\", \"World\"))\n",
    "paste(1:10, c(\"st\", \"nd\", \"rd\", rep(\"th\", 7)))"
   ]
  },
  {
   "cell_type": "code",
   "execution_count": null,
   "id": "2d12321c",
   "metadata": {},
   "outputs": [],
   "source": []
  }
 ],
 "metadata": {
  "kernelspec": {
   "display_name": "R",
   "language": "R",
   "name": "ir"
  },
  "language_info": {
   "codemirror_mode": "r",
   "file_extension": ".r",
   "mimetype": "text/x-r-source",
   "name": "R",
   "pygments_lexer": "r",
   "version": "3.6.1"
  }
 },
 "nbformat": 4,
 "nbformat_minor": 5
}
