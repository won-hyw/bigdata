{
  "nbformat": 4,
  "nbformat_minor": 0,
  "metadata": {
    "colab": {
      "name": "5.데이터정제.ipynb",
      "provenance": []
    },
    "kernelspec": {
      "name": "ir",
      "display_name": "R"
    },
    "language_info": {
      "name": "R"
    }
  },
  "cells": [
    {
      "cell_type": "markdown",
      "source": [
        "# 결측치 찾기\n",
        "\n",
        "- 결측치의 의의\n",
        "  - 누락된 값, 비어있는 값\n",
        "  - 결측치가 있으면 함수가 적용되지 않거나 분석 결과가 왜곡되는 현상이 발생\n",
        "  - 결측치를 제거 한 후 분석 실시\n",
        "  - 표기법 : 대문자 NA(따옴표 없음)\n",
        "    - Not Available "
      ],
      "metadata": {
        "id": "-izTDAYrATwN"
      }
    },
    {
      "cell_type": "code",
      "execution_count": 2,
      "metadata": {
        "colab": {
          "base_uri": "https://localhost:8080/",
          "height": 272
        },
        "id": "YTTC3CQGALEI",
        "outputId": "b89a7969-9751-4c4e-eceb-b0c7cd340366"
      },
      "outputs": [
        {
          "output_type": "display_data",
          "data": {
            "text/html": [
              "<table class=\"dataframe\">\n",
              "<caption>A data.frame: 5 × 2</caption>\n",
              "<thead>\n",
              "\t<tr><th scope=col>sex</th><th scope=col>score</th></tr>\n",
              "\t<tr><th scope=col>&lt;chr&gt;</th><th scope=col>&lt;dbl&gt;</th></tr>\n",
              "</thead>\n",
              "<tbody>\n",
              "\t<tr><td>M </td><td> 5</td></tr>\n",
              "\t<tr><td>F </td><td> 4</td></tr>\n",
              "\t<tr><td>NA</td><td> 3</td></tr>\n",
              "\t<tr><td>M </td><td> 4</td></tr>\n",
              "\t<tr><td>F </td><td>NA</td></tr>\n",
              "</tbody>\n",
              "</table>\n"
            ],
            "text/markdown": "\nA data.frame: 5 × 2\n\n| sex &lt;chr&gt; | score &lt;dbl&gt; |\n|---|---|\n| M  |  5 |\n| F  |  4 |\n| NA |  3 |\n| M  |  4 |\n| F  | NA |\n\n",
            "text/latex": "A data.frame: 5 × 2\n\\begin{tabular}{ll}\n sex & score\\\\\n <chr> & <dbl>\\\\\n\\hline\n\t M  &  5\\\\\n\t F  &  4\\\\\n\t NA &  3\\\\\n\t M  &  4\\\\\n\t F  & NA\\\\\n\\end{tabular}\n",
            "text/plain": [
              "  sex score\n",
              "1 M    5   \n",
              "2 F    4   \n",
              "3 NA   3   \n",
              "4 M    4   \n",
              "5 F   NA   "
            ]
          },
          "metadata": {}
        }
      ],
      "source": [
        "df <- data.frame(\n",
        "  sex = c(\"M\", \"F\", NA, \"M\", \"F\"),\n",
        "  score = c(5, 4, 3, 4, NA)\n",
        ")\n",
        "df"
      ]
    },
    {
      "cell_type": "code",
      "source": [
        "# 결측치 확인\n",
        "is.na(df)"
      ],
      "metadata": {
        "colab": {
          "base_uri": "https://localhost:8080/",
          "height": 241
        },
        "id": "Vg9TyVlEBn3B",
        "outputId": "836e8a48-51f7-45d1-e84e-2d5cd83d5706"
      },
      "execution_count": 3,
      "outputs": [
        {
          "output_type": "display_data",
          "data": {
            "text/html": [
              "<table class=\"dataframe\">\n",
              "<caption>A matrix: 5 × 2 of type lgl</caption>\n",
              "<thead>\n",
              "\t<tr><th scope=col>sex</th><th scope=col>score</th></tr>\n",
              "</thead>\n",
              "<tbody>\n",
              "\t<tr><td>FALSE</td><td>FALSE</td></tr>\n",
              "\t<tr><td>FALSE</td><td>FALSE</td></tr>\n",
              "\t<tr><td> TRUE</td><td>FALSE</td></tr>\n",
              "\t<tr><td>FALSE</td><td>FALSE</td></tr>\n",
              "\t<tr><td>FALSE</td><td> TRUE</td></tr>\n",
              "</tbody>\n",
              "</table>\n"
            ],
            "text/markdown": "\nA matrix: 5 × 2 of type lgl\n\n| sex | score |\n|---|---|\n| FALSE | FALSE |\n| FALSE | FALSE |\n|  TRUE | FALSE |\n| FALSE | FALSE |\n| FALSE |  TRUE |\n\n",
            "text/latex": "A matrix: 5 × 2 of type lgl\n\\begin{tabular}{ll}\n sex & score\\\\\n\\hline\n\t FALSE & FALSE\\\\\n\t FALSE & FALSE\\\\\n\t  TRUE & FALSE\\\\\n\t FALSE & FALSE\\\\\n\t FALSE &  TRUE\\\\\n\\end{tabular}\n",
            "text/plain": [
              "     sex   score\n",
              "[1,] FALSE FALSE\n",
              "[2,] FALSE FALSE\n",
              "[3,]  TRUE FALSE\n",
              "[4,] FALSE FALSE\n",
              "[5,] FALSE  TRUE"
            ]
          },
          "metadata": {}
        }
      ]
    },
    {
      "cell_type": "code",
      "source": [
        "# 결측치 빈도 출력\n",
        "table(is.na(df))"
      ],
      "metadata": {
        "colab": {
          "base_uri": "https://localhost:8080/",
          "height": 71
        },
        "id": "4WLS8uM5F-rH",
        "outputId": "967a4584-a08f-4207-e405-0827bb9b5e53"
      },
      "execution_count": 4,
      "outputs": [
        {
          "output_type": "display_data",
          "data": {
            "text/plain": [
              "\n",
              "FALSE  TRUE \n",
              "    8     2 "
            ]
          },
          "metadata": {}
        }
      ]
    },
    {
      "cell_type": "code",
      "source": [
        "# 각 변수별로 결측치 확인\n",
        "table(is.na(df$sex))\n",
        "table(is.na(df$score))"
      ],
      "metadata": {
        "colab": {
          "base_uri": "https://localhost:8080/",
          "height": 126
        },
        "id": "H2YsXYxEGNNg",
        "outputId": "a9cd4d70-6185-4c78-e2fe-e15c0666c784"
      },
      "execution_count": 5,
      "outputs": [
        {
          "output_type": "display_data",
          "data": {
            "text/plain": [
              "\n",
              "FALSE  TRUE \n",
              "    4     1 "
            ]
          },
          "metadata": {}
        },
        {
          "output_type": "display_data",
          "data": {
            "text/plain": [
              "\n",
              "FALSE  TRUE \n",
              "    4     1 "
            ]
          },
          "metadata": {}
        }
      ]
    },
    {
      "cell_type": "code",
      "source": [
        "# 결측치가 포함된 상태로 분석\n",
        "mean(df$score) # 결측치가 있는 상태로는 연산을 할 수 없다."
      ],
      "metadata": {
        "colab": {
          "base_uri": "https://localhost:8080/",
          "height": 34
        },
        "id": "rnqQ3dGMGa4I",
        "outputId": "802feb6c-e937-445a-f2e5-d021c49d07cf"
      },
      "execution_count": 6,
      "outputs": [
        {
          "output_type": "display_data",
          "data": {
            "text/html": [
              "&lt;NA&gt;"
            ],
            "text/markdown": "&lt;NA&gt;",
            "text/latex": "<NA>",
            "text/plain": [
              "[1] NA"
            ]
          },
          "metadata": {}
        }
      ]
    },
    {
      "cell_type": "code",
      "source": [
        "sum(df$score) # 비어 있는 값(NA)를 어떻게 처리해줘야 할지 모르기 때문에 NA값이 출력되게 된다."
      ],
      "metadata": {
        "colab": {
          "base_uri": "https://localhost:8080/",
          "height": 34
        },
        "id": "_FR7PPlJGlx6",
        "outputId": "28211105-b982-44bb-c14d-6d00b48de8a1"
      },
      "execution_count": 7,
      "outputs": [
        {
          "output_type": "display_data",
          "data": {
            "text/html": [
              "&lt;NA&gt;"
            ],
            "text/markdown": "&lt;NA&gt;",
            "text/latex": "<NA>",
            "text/plain": [
              "[1] NA"
            ]
          },
          "metadata": {}
        }
      ]
    },
    {
      "cell_type": "markdown",
      "source": [
        "# 결측치 제거하기"
      ],
      "metadata": {
        "id": "cuy4lktNGzcj"
      }
    },
    {
      "cell_type": "code",
      "source": [
        "# dplyr 패키지 로드\n",
        "library(dplyr)"
      ],
      "metadata": {
        "colab": {
          "base_uri": "https://localhost:8080/"
        },
        "id": "WOKWUd2KGuXG",
        "outputId": "2bca3250-3103-45f8-8abd-1f77749f8372"
      },
      "execution_count": 8,
      "outputs": [
        {
          "output_type": "stream",
          "name": "stderr",
          "text": [
            "\n",
            "Attaching package: ‘dplyr’\n",
            "\n",
            "\n",
            "The following objects are masked from ‘package:stats’:\n",
            "\n",
            "    filter, lag\n",
            "\n",
            "\n",
            "The following objects are masked from ‘package:base’:\n",
            "\n",
            "    intersect, setdiff, setequal, union\n",
            "\n",
            "\n"
          ]
        }
      ]
    },
    {
      "cell_type": "code",
      "source": [
        "# score가 NA인 데이터만 출력\n",
        "df %>% \n",
        "  filter(is.na(score))"
      ],
      "metadata": {
        "colab": {
          "base_uri": "https://localhost:8080/",
          "height": 146
        },
        "id": "HkZpLTsNG3TF",
        "outputId": "acce9d46-bdc3-4f02-a444-3fdc946c5567"
      },
      "execution_count": 11,
      "outputs": [
        {
          "output_type": "display_data",
          "data": {
            "text/html": [
              "<table class=\"dataframe\">\n",
              "<caption>A data.frame: 1 × 2</caption>\n",
              "<thead>\n",
              "\t<tr><th scope=col>sex</th><th scope=col>score</th></tr>\n",
              "\t<tr><th scope=col>&lt;chr&gt;</th><th scope=col>&lt;dbl&gt;</th></tr>\n",
              "</thead>\n",
              "<tbody>\n",
              "\t<tr><td>F</td><td>NA</td></tr>\n",
              "</tbody>\n",
              "</table>\n"
            ],
            "text/markdown": "\nA data.frame: 1 × 2\n\n| sex &lt;chr&gt; | score &lt;dbl&gt; |\n|---|---|\n| F | NA |\n\n",
            "text/latex": "A data.frame: 1 × 2\n\\begin{tabular}{ll}\n sex & score\\\\\n <chr> & <dbl>\\\\\n\\hline\n\t F & NA\\\\\n\\end{tabular}\n",
            "text/plain": [
              "  sex score\n",
              "1 F   NA   "
            ]
          },
          "metadata": {}
        }
      ]
    },
    {
      "cell_type": "code",
      "source": [
        "# score가 결측치가 아닌 데이터만 출력\n",
        "# ! : 부정(not)\n",
        "df %>%\n",
        "  filter(!is.na(score))"
      ],
      "metadata": {
        "colab": {
          "base_uri": "https://localhost:8080/",
          "height": 241
        },
        "id": "WxPf2HyyHDdr",
        "outputId": "a8290f41-a599-4c2b-f25d-2b52cfda3599"
      },
      "execution_count": 12,
      "outputs": [
        {
          "output_type": "display_data",
          "data": {
            "text/html": [
              "<table class=\"dataframe\">\n",
              "<caption>A data.frame: 4 × 2</caption>\n",
              "<thead>\n",
              "\t<tr><th scope=col>sex</th><th scope=col>score</th></tr>\n",
              "\t<tr><th scope=col>&lt;chr&gt;</th><th scope=col>&lt;dbl&gt;</th></tr>\n",
              "</thead>\n",
              "<tbody>\n",
              "\t<tr><td>M </td><td>5</td></tr>\n",
              "\t<tr><td>F </td><td>4</td></tr>\n",
              "\t<tr><td>NA</td><td>3</td></tr>\n",
              "\t<tr><td>M </td><td>4</td></tr>\n",
              "</tbody>\n",
              "</table>\n"
            ],
            "text/markdown": "\nA data.frame: 4 × 2\n\n| sex &lt;chr&gt; | score &lt;dbl&gt; |\n|---|---|\n| M  | 5 |\n| F  | 4 |\n| NA | 3 |\n| M  | 4 |\n\n",
            "text/latex": "A data.frame: 4 × 2\n\\begin{tabular}{ll}\n sex & score\\\\\n <chr> & <dbl>\\\\\n\\hline\n\t M  & 5\\\\\n\t F  & 4\\\\\n\t NA & 3\\\\\n\t M  & 4\\\\\n\\end{tabular}\n",
            "text/plain": [
              "  sex score\n",
              "1 M   5    \n",
              "2 F   4    \n",
              "3 NA  3    \n",
              "4 M   4    "
            ]
          },
          "metadata": {}
        }
      ]
    },
    {
      "cell_type": "code",
      "source": [
        "# 결측치 제외한 데이터로 분석하기\n",
        "df_nomiss <- df %>%\n",
        "  filter(!is.na(score))\n",
        "\n",
        "# score 평균 산출\n",
        "mean(df_nomiss$score)\n",
        "\n",
        "# score 합계 산출\n",
        "sum(df_nomiss$score)"
      ],
      "metadata": {
        "colab": {
          "base_uri": "https://localhost:8080/",
          "height": 52
        },
        "id": "iikzUU_eHPjY",
        "outputId": "e7ed1ece-cbe1-411e-eca1-c3558aca4346"
      },
      "execution_count": 13,
      "outputs": [
        {
          "output_type": "display_data",
          "data": {
            "text/html": [
              "4"
            ],
            "text/markdown": "4",
            "text/latex": "4",
            "text/plain": [
              "[1] 4"
            ]
          },
          "metadata": {}
        },
        {
          "output_type": "display_data",
          "data": {
            "text/html": [
              "16"
            ],
            "text/markdown": "16",
            "text/latex": "16",
            "text/plain": [
              "[1] 16"
            ]
          },
          "metadata": {}
        }
      ]
    },
    {
      "cell_type": "code",
      "source": [
        "# 여러 변수에 동시에 결측치가 없는 데이터 추출하기\n",
        "# score, sex 결측치 제외\n",
        "df_nomiss <- df %>%\n",
        "  filter(!is.na(score) & !is.na(sex))\n",
        "\n",
        "df_nomiss"
      ],
      "metadata": {
        "colab": {
          "base_uri": "https://localhost:8080/",
          "height": 210
        },
        "id": "hb7U8N_PHigV",
        "outputId": "fb79578f-6789-47fe-fcbf-59231651e73d"
      },
      "execution_count": 14,
      "outputs": [
        {
          "output_type": "display_data",
          "data": {
            "text/html": [
              "<table class=\"dataframe\">\n",
              "<caption>A data.frame: 3 × 2</caption>\n",
              "<thead>\n",
              "\t<tr><th scope=col>sex</th><th scope=col>score</th></tr>\n",
              "\t<tr><th scope=col>&lt;chr&gt;</th><th scope=col>&lt;dbl&gt;</th></tr>\n",
              "</thead>\n",
              "<tbody>\n",
              "\t<tr><td>M</td><td>5</td></tr>\n",
              "\t<tr><td>F</td><td>4</td></tr>\n",
              "\t<tr><td>M</td><td>4</td></tr>\n",
              "</tbody>\n",
              "</table>\n"
            ],
            "text/markdown": "\nA data.frame: 3 × 2\n\n| sex &lt;chr&gt; | score &lt;dbl&gt; |\n|---|---|\n| M | 5 |\n| F | 4 |\n| M | 4 |\n\n",
            "text/latex": "A data.frame: 3 × 2\n\\begin{tabular}{ll}\n sex & score\\\\\n <chr> & <dbl>\\\\\n\\hline\n\t M & 5\\\\\n\t F & 4\\\\\n\t M & 4\\\\\n\\end{tabular}\n",
            "text/plain": [
              "  sex score\n",
              "1 M   5    \n",
              "2 F   4    \n",
              "3 M   4    "
            ]
          },
          "metadata": {}
        }
      ]
    },
    {
      "cell_type": "code",
      "source": [
        "# 결측치가 하나라도 있으면 제거\n",
        "# 모든 변수에 결측치 없는 데이터 추출\n",
        "# 현업에서는 분석에 사용가능한 행까지 지나치게 제거될 가능성이 있어서 비추천\n",
        "df_nomiss2 <- na.omit(df)\n",
        "df_nomiss2"
      ],
      "metadata": {
        "colab": {
          "base_uri": "https://localhost:8080/",
          "height": 192
        },
        "id": "H84V4mfcH55i",
        "outputId": "7662549a-e9a4-4012-928c-b37df4e86a4e"
      },
      "execution_count": 15,
      "outputs": [
        {
          "output_type": "display_data",
          "data": {
            "text/html": [
              "<table class=\"dataframe\">\n",
              "<caption>A data.frame: 3 × 2</caption>\n",
              "<thead>\n",
              "\t<tr><th></th><th scope=col>sex</th><th scope=col>score</th></tr>\n",
              "\t<tr><th></th><th scope=col>&lt;chr&gt;</th><th scope=col>&lt;dbl&gt;</th></tr>\n",
              "</thead>\n",
              "<tbody>\n",
              "\t<tr><th scope=row>1</th><td>M</td><td>5</td></tr>\n",
              "\t<tr><th scope=row>2</th><td>F</td><td>4</td></tr>\n",
              "\t<tr><th scope=row>4</th><td>M</td><td>4</td></tr>\n",
              "</tbody>\n",
              "</table>\n"
            ],
            "text/markdown": "\nA data.frame: 3 × 2\n\n| <!--/--> | sex &lt;chr&gt; | score &lt;dbl&gt; |\n|---|---|---|\n| 1 | M | 5 |\n| 2 | F | 4 |\n| 4 | M | 4 |\n\n",
            "text/latex": "A data.frame: 3 × 2\n\\begin{tabular}{r|ll}\n  & sex & score\\\\\n  & <chr> & <dbl>\\\\\n\\hline\n\t1 & M & 5\\\\\n\t2 & F & 4\\\\\n\t4 & M & 4\\\\\n\\end{tabular}\n",
            "text/plain": [
              "  sex score\n",
              "1 M   5    \n",
              "2 F   4    \n",
              "4 M   4    "
            ]
          },
          "metadata": {}
        }
      ]
    },
    {
      "cell_type": "markdown",
      "source": [
        "## 함수의 결측제 제외 기능"
      ],
      "metadata": {
        "id": "0mCyyCKZI9m-"
      }
    },
    {
      "cell_type": "code",
      "source": [
        "# 결측치를 제외한 평균\n",
        "mean(df$score, na.rm = T)"
      ],
      "metadata": {
        "colab": {
          "base_uri": "https://localhost:8080/",
          "height": 34
        },
        "id": "Olv2qhPhIPwx",
        "outputId": "6508a9d8-40b8-4514-fea1-ac66b6a319d3"
      },
      "execution_count": 16,
      "outputs": [
        {
          "output_type": "display_data",
          "data": {
            "text/html": [
              "4"
            ],
            "text/markdown": "4",
            "text/latex": "4",
            "text/plain": [
              "[1] 4"
            ]
          },
          "metadata": {}
        }
      ]
    },
    {
      "cell_type": "code",
      "source": [
        "# 결측치를 제외한 합계\n",
        "sum(df$score, na.rm = T)"
      ],
      "metadata": {
        "colab": {
          "base_uri": "https://localhost:8080/",
          "height": 34
        },
        "id": "6GSj4HMvJLuM",
        "outputId": "6cec1faa-be16-4ba3-a97f-393e5e2a36af"
      },
      "execution_count": 17,
      "outputs": [
        {
          "output_type": "display_data",
          "data": {
            "text/html": [
              "16"
            ],
            "text/markdown": "16",
            "text/latex": "16",
            "text/plain": [
              "[1] 16"
            ]
          },
          "metadata": {}
        }
      ]
    },
    {
      "cell_type": "code",
      "source": [
        "exam <- read.csv(\"/content/csv_exam.csv\")"
      ],
      "metadata": {
        "id": "QDChTEq6JS8f"
      },
      "execution_count": 18,
      "outputs": []
    },
    {
      "cell_type": "code",
      "source": [
        "exam[c(3, 8, 15), \"math\"] <- NA # exam 데이터의 3, 8, 15행의 math열에 NA라는 값을 삽입하겠다\n",
        "head(exam)"
      ],
      "metadata": {
        "colab": {
          "base_uri": "https://localhost:8080/",
          "height": 286
        },
        "id": "d7HyM9ETJwqx",
        "outputId": "f2dacef4-f22e-4c65-db31-6d80d47c63b0"
      },
      "execution_count": 19,
      "outputs": [
        {
          "output_type": "display_data",
          "data": {
            "text/html": [
              "<table class=\"dataframe\">\n",
              "<caption>A data.frame: 6 × 5</caption>\n",
              "<thead>\n",
              "\t<tr><th></th><th scope=col>id</th><th scope=col>class</th><th scope=col>math</th><th scope=col>english</th><th scope=col>science</th></tr>\n",
              "\t<tr><th></th><th scope=col>&lt;int&gt;</th><th scope=col>&lt;int&gt;</th><th scope=col>&lt;int&gt;</th><th scope=col>&lt;int&gt;</th><th scope=col>&lt;int&gt;</th></tr>\n",
              "</thead>\n",
              "<tbody>\n",
              "\t<tr><th scope=row>1</th><td>1</td><td>1</td><td>50</td><td>98</td><td>50</td></tr>\n",
              "\t<tr><th scope=row>2</th><td>2</td><td>1</td><td>60</td><td>97</td><td>60</td></tr>\n",
              "\t<tr><th scope=row>3</th><td>3</td><td>1</td><td>NA</td><td>86</td><td>78</td></tr>\n",
              "\t<tr><th scope=row>4</th><td>4</td><td>1</td><td>30</td><td>98</td><td>58</td></tr>\n",
              "\t<tr><th scope=row>5</th><td>5</td><td>2</td><td>25</td><td>80</td><td>65</td></tr>\n",
              "\t<tr><th scope=row>6</th><td>6</td><td>2</td><td>50</td><td>89</td><td>98</td></tr>\n",
              "</tbody>\n",
              "</table>\n"
            ],
            "text/markdown": "\nA data.frame: 6 × 5\n\n| <!--/--> | id &lt;int&gt; | class &lt;int&gt; | math &lt;int&gt; | english &lt;int&gt; | science &lt;int&gt; |\n|---|---|---|---|---|---|\n| 1 | 1 | 1 | 50 | 98 | 50 |\n| 2 | 2 | 1 | 60 | 97 | 60 |\n| 3 | 3 | 1 | NA | 86 | 78 |\n| 4 | 4 | 1 | 30 | 98 | 58 |\n| 5 | 5 | 2 | 25 | 80 | 65 |\n| 6 | 6 | 2 | 50 | 89 | 98 |\n\n",
            "text/latex": "A data.frame: 6 × 5\n\\begin{tabular}{r|lllll}\n  & id & class & math & english & science\\\\\n  & <int> & <int> & <int> & <int> & <int>\\\\\n\\hline\n\t1 & 1 & 1 & 50 & 98 & 50\\\\\n\t2 & 2 & 1 & 60 & 97 & 60\\\\\n\t3 & 3 & 1 & NA & 86 & 78\\\\\n\t4 & 4 & 1 & 30 & 98 & 58\\\\\n\t5 & 5 & 2 & 25 & 80 & 65\\\\\n\t6 & 6 & 2 & 50 & 89 & 98\\\\\n\\end{tabular}\n",
            "text/plain": [
              "  id class math english science\n",
              "1 1  1     50   98      50     \n",
              "2 2  1     60   97      60     \n",
              "3 3  1     NA   86      78     \n",
              "4 4  1     30   98      58     \n",
              "5 5  2     25   80      65     \n",
              "6 6  2     50   89      98     "
            ]
          },
          "metadata": {}
        }
      ]
    },
    {
      "cell_type": "code",
      "source": [
        "# 평균\n",
        "exam %>%\n",
        "  summarise(mean_math = mean(math))"
      ],
      "metadata": {
        "colab": {
          "base_uri": "https://localhost:8080/",
          "height": 146
        },
        "id": "crjBYXItKF0D",
        "outputId": "814d21ec-8c75-48a7-c456-df0752ae29a8"
      },
      "execution_count": 21,
      "outputs": [
        {
          "output_type": "display_data",
          "data": {
            "text/html": [
              "<table class=\"dataframe\">\n",
              "<caption>A data.frame: 1 × 1</caption>\n",
              "<thead>\n",
              "\t<tr><th scope=col>mean_math</th></tr>\n",
              "\t<tr><th scope=col>&lt;dbl&gt;</th></tr>\n",
              "</thead>\n",
              "<tbody>\n",
              "\t<tr><td>NA</td></tr>\n",
              "</tbody>\n",
              "</table>\n"
            ],
            "text/markdown": "\nA data.frame: 1 × 1\n\n| mean_math &lt;dbl&gt; |\n|---|\n| NA |\n\n",
            "text/latex": "A data.frame: 1 × 1\n\\begin{tabular}{l}\n mean\\_math\\\\\n <dbl>\\\\\n\\hline\n\t NA\\\\\n\\end{tabular}\n",
            "text/plain": [
              "  mean_math\n",
              "1 NA       "
            ]
          },
          "metadata": {}
        }
      ]
    },
    {
      "cell_type": "code",
      "source": [
        "# 결측치 제외하고 계산한 평균\n",
        "exam %>%\n",
        "  summarise(mean_math = mean(math, na.rm = T))"
      ],
      "metadata": {
        "colab": {
          "base_uri": "https://localhost:8080/",
          "height": 146
        },
        "id": "v-FfM2PhKNAQ",
        "outputId": "930b2f5e-0aee-4306-e6ea-65a0b03a45cb"
      },
      "execution_count": 22,
      "outputs": [
        {
          "output_type": "display_data",
          "data": {
            "text/html": [
              "<table class=\"dataframe\">\n",
              "<caption>A data.frame: 1 × 1</caption>\n",
              "<thead>\n",
              "\t<tr><th scope=col>mean_math</th></tr>\n",
              "\t<tr><th scope=col>&lt;dbl&gt;</th></tr>\n",
              "</thead>\n",
              "<tbody>\n",
              "\t<tr><td>55.23529</td></tr>\n",
              "</tbody>\n",
              "</table>\n"
            ],
            "text/markdown": "\nA data.frame: 1 × 1\n\n| mean_math &lt;dbl&gt; |\n|---|\n| 55.23529 |\n\n",
            "text/latex": "A data.frame: 1 × 1\n\\begin{tabular}{l}\n mean\\_math\\\\\n <dbl>\\\\\n\\hline\n\t 55.23529\\\\\n\\end{tabular}\n",
            "text/plain": [
              "  mean_math\n",
              "1 55.23529 "
            ]
          },
          "metadata": {}
        }
      ]
    },
    {
      "cell_type": "code",
      "source": [
        "exam %>%\n",
        "  summarise(\n",
        "    mean_math = mean(math, na.rm = T),\n",
        "    sum_math = sum(math, na.rm = T),\n",
        "    median_math = median(math, na.rm = T)\n",
        "  )"
      ],
      "metadata": {
        "colab": {
          "base_uri": "https://localhost:8080/",
          "height": 130
        },
        "id": "B7nDpOF6Ke6c",
        "outputId": "4b1f5685-3f2a-45f0-ccb1-98265e1089e4"
      },
      "execution_count": 23,
      "outputs": [
        {
          "output_type": "display_data",
          "data": {
            "text/html": [
              "<table class=\"dataframe\">\n",
              "<caption>A data.frame: 1 × 3</caption>\n",
              "<thead>\n",
              "\t<tr><th scope=col>mean_math</th><th scope=col>sum_math</th><th scope=col>median_math</th></tr>\n",
              "\t<tr><th scope=col>&lt;dbl&gt;</th><th scope=col>&lt;int&gt;</th><th scope=col>&lt;int&gt;</th></tr>\n",
              "</thead>\n",
              "<tbody>\n",
              "\t<tr><td>55.23529</td><td>939</td><td>50</td></tr>\n",
              "</tbody>\n",
              "</table>\n"
            ],
            "text/markdown": "\nA data.frame: 1 × 3\n\n| mean_math &lt;dbl&gt; | sum_math &lt;int&gt; | median_math &lt;int&gt; |\n|---|---|---|\n| 55.23529 | 939 | 50 |\n\n",
            "text/latex": "A data.frame: 1 × 3\n\\begin{tabular}{lll}\n mean\\_math & sum\\_math & median\\_math\\\\\n <dbl> & <int> & <int>\\\\\n\\hline\n\t 55.23529 & 939 & 50\\\\\n\\end{tabular}\n",
            "text/plain": [
              "  mean_math sum_math median_math\n",
              "1 55.23529  939      50         "
            ]
          },
          "metadata": {}
        }
      ]
    },
    {
      "cell_type": "markdown",
      "source": [
        "# 결측치 대체하기\n",
        "\n",
        "- 데이터가 적고, 결측치가 많은 경우. 모든 결측치 데이터를 제외하면 데이터의 손실이 너무 크다\n",
        "- 대안 : 다른 값 채워넣기"
      ],
      "metadata": {
        "id": "R7hi83_xLjyy"
      }
    },
    {
      "cell_type": "markdown",
      "source": [
        "## 결측치 대체법\n",
        "- 대표값(평균, 최빈값 등)으로 일괄대체\n",
        "- 통계분석 기법 적용, 예측값을 추정해서 대체"
      ],
      "metadata": {
        "id": "KKTOpDbEL8Ch"
      }
    },
    {
      "cell_type": "code",
      "source": [
        "# 평균값으로 대체하기\n",
        "# 결측값 제외하고 math 평균 산출\n",
        "mean(exam$math, na.rm = T)"
      ],
      "metadata": {
        "colab": {
          "base_uri": "https://localhost:8080/",
          "height": 34
        },
        "id": "XvkEWuO1KplG",
        "outputId": "103cee8c-c720-4d95-eb5c-2629e45dd671"
      },
      "execution_count": 24,
      "outputs": [
        {
          "output_type": "display_data",
          "data": {
            "text/html": [
              "55.2352941176471"
            ],
            "text/markdown": "55.2352941176471",
            "text/latex": "55.2352941176471",
            "text/plain": [
              "[1] 55.23529"
            ]
          },
          "metadata": {}
        }
      ]
    },
    {
      "cell_type": "code",
      "source": [
        "# math가 NA면 평균으로 대체\n",
        "exam$math <- ifelse(is.na(exam$math), 55, exam$math)\n",
        "table(is.na(exam$math))"
      ],
      "metadata": {
        "colab": {
          "base_uri": "https://localhost:8080/",
          "height": 71
        },
        "id": "mziuXefENDBw",
        "outputId": "4a12146e-4289-4857-d6b2-ecca9c8e4428"
      },
      "execution_count": 25,
      "outputs": [
        {
          "output_type": "display_data",
          "data": {
            "text/plain": [
              "\n",
              "FALSE \n",
              "   20 "
            ]
          },
          "metadata": {}
        }
      ]
    },
    {
      "cell_type": "code",
      "source": [
        "head(exam)"
      ],
      "metadata": {
        "colab": {
          "base_uri": "https://localhost:8080/",
          "height": 286
        },
        "id": "WIS12KVFNaz3",
        "outputId": "6c37748b-adf3-4933-cc5d-4e7b88d64a66"
      },
      "execution_count": 26,
      "outputs": [
        {
          "output_type": "display_data",
          "data": {
            "text/html": [
              "<table class=\"dataframe\">\n",
              "<caption>A data.frame: 6 × 5</caption>\n",
              "<thead>\n",
              "\t<tr><th></th><th scope=col>id</th><th scope=col>class</th><th scope=col>math</th><th scope=col>english</th><th scope=col>science</th></tr>\n",
              "\t<tr><th></th><th scope=col>&lt;int&gt;</th><th scope=col>&lt;int&gt;</th><th scope=col>&lt;dbl&gt;</th><th scope=col>&lt;int&gt;</th><th scope=col>&lt;int&gt;</th></tr>\n",
              "</thead>\n",
              "<tbody>\n",
              "\t<tr><th scope=row>1</th><td>1</td><td>1</td><td>50</td><td>98</td><td>50</td></tr>\n",
              "\t<tr><th scope=row>2</th><td>2</td><td>1</td><td>60</td><td>97</td><td>60</td></tr>\n",
              "\t<tr><th scope=row>3</th><td>3</td><td>1</td><td>55</td><td>86</td><td>78</td></tr>\n",
              "\t<tr><th scope=row>4</th><td>4</td><td>1</td><td>30</td><td>98</td><td>58</td></tr>\n",
              "\t<tr><th scope=row>5</th><td>5</td><td>2</td><td>25</td><td>80</td><td>65</td></tr>\n",
              "\t<tr><th scope=row>6</th><td>6</td><td>2</td><td>50</td><td>89</td><td>98</td></tr>\n",
              "</tbody>\n",
              "</table>\n"
            ],
            "text/markdown": "\nA data.frame: 6 × 5\n\n| <!--/--> | id &lt;int&gt; | class &lt;int&gt; | math &lt;dbl&gt; | english &lt;int&gt; | science &lt;int&gt; |\n|---|---|---|---|---|---|\n| 1 | 1 | 1 | 50 | 98 | 50 |\n| 2 | 2 | 1 | 60 | 97 | 60 |\n| 3 | 3 | 1 | 55 | 86 | 78 |\n| 4 | 4 | 1 | 30 | 98 | 58 |\n| 5 | 5 | 2 | 25 | 80 | 65 |\n| 6 | 6 | 2 | 50 | 89 | 98 |\n\n",
            "text/latex": "A data.frame: 6 × 5\n\\begin{tabular}{r|lllll}\n  & id & class & math & english & science\\\\\n  & <int> & <int> & <dbl> & <int> & <int>\\\\\n\\hline\n\t1 & 1 & 1 & 50 & 98 & 50\\\\\n\t2 & 2 & 1 & 60 & 97 & 60\\\\\n\t3 & 3 & 1 & 55 & 86 & 78\\\\\n\t4 & 4 & 1 & 30 & 98 & 58\\\\\n\t5 & 5 & 2 & 25 & 80 & 65\\\\\n\t6 & 6 & 2 & 50 & 89 & 98\\\\\n\\end{tabular}\n",
            "text/plain": [
              "  id class math english science\n",
              "1 1  1     50   98      50     \n",
              "2 2  1     60   97      60     \n",
              "3 3  1     55   86      78     \n",
              "4 4  1     30   98      58     \n",
              "5 5  2     25   80      65     \n",
              "6 6  2     50   89      98     "
            ]
          },
          "metadata": {}
        }
      ]
    },
    {
      "cell_type": "markdown",
      "source": [
        "### mpg 데이터를 이용한 실습"
      ],
      "metadata": {
        "id": "kqmC7x9mNmSf"
      }
    },
    {
      "cell_type": "code",
      "source": [
        "# mpg 데이터에 결측치 생성\n",
        "mpg <- as.data.frame(ggplot2::mpg)\n",
        "mpg[c(65, 124, 131, 153, 212), \"hwy\"] <- NA\n",
        "table(is.na(mpg$hwy))"
      ],
      "metadata": {
        "colab": {
          "base_uri": "https://localhost:8080/",
          "height": 71
        },
        "id": "4ceIuc4cNe-a",
        "outputId": "cbb124f4-6900-479e-d298-e8bbd88af3f0"
      },
      "execution_count": 34,
      "outputs": [
        {
          "output_type": "display_data",
          "data": {
            "text/plain": [
              "\n",
              "FALSE  TRUE \n",
              "  229     5 "
            ]
          },
          "metadata": {}
        }
      ]
    },
    {
      "cell_type": "markdown",
      "source": [
        "*요구사항* : drv(구동방식)별로 hwy 평균이 어떻게 다른지 알아보려고 한다<br>\n",
        "\n",
        "*분석계획* : <br>\n",
        "1. 분석에 앞서서 결측치 확인\n",
        "2. 구동방식별 hwy 평균을 구하기"
      ],
      "metadata": {
        "id": "lIKOiL96N-Gh"
      }
    },
    {
      "cell_type": "code",
      "source": [
        "# 결측치 확인\n",
        "table(is.na(mpg$hwy))"
      ],
      "metadata": {
        "colab": {
          "base_uri": "https://localhost:8080/",
          "height": 71
        },
        "id": "8k8uX43DRggL",
        "outputId": "8aed361d-0ef9-4003-b6ef-819294cf8378"
      },
      "execution_count": 36,
      "outputs": [
        {
          "output_type": "display_data",
          "data": {
            "text/plain": [
              "\n",
              "FALSE  TRUE \n",
              "  229     5 "
            ]
          },
          "metadata": {}
        }
      ]
    },
    {
      "cell_type": "code",
      "source": [
        "# 1버전\n",
        "mpg %>%\n",
        "  filter(!is.na(hwy)) %>%\n",
        "  group_by(drv) %>%\n",
        "  summarise(mean_hwy = mean(hwy))"
      ],
      "metadata": {
        "colab": {
          "base_uri": "https://localhost:8080/",
          "height": 192
        },
        "id": "tM45KY95RnG-",
        "outputId": "18a7d773-f755-4bd2-f376-6d6a65ed5b00"
      },
      "execution_count": 35,
      "outputs": [
        {
          "output_type": "display_data",
          "data": {
            "text/html": [
              "<table class=\"dataframe\">\n",
              "<caption>A tibble: 3 × 2</caption>\n",
              "<thead>\n",
              "\t<tr><th scope=col>drv</th><th scope=col>mean_hwy</th></tr>\n",
              "\t<tr><th scope=col>&lt;chr&gt;</th><th scope=col>&lt;dbl&gt;</th></tr>\n",
              "</thead>\n",
              "<tbody>\n",
              "\t<tr><td>4</td><td>19.24242</td></tr>\n",
              "\t<tr><td>f</td><td>28.20000</td></tr>\n",
              "\t<tr><td>r</td><td>21.00000</td></tr>\n",
              "</tbody>\n",
              "</table>\n"
            ],
            "text/markdown": "\nA tibble: 3 × 2\n\n| drv &lt;chr&gt; | mean_hwy &lt;dbl&gt; |\n|---|---|\n| 4 | 19.24242 |\n| f | 28.20000 |\n| r | 21.00000 |\n\n",
            "text/latex": "A tibble: 3 × 2\n\\begin{tabular}{ll}\n drv & mean\\_hwy\\\\\n <chr> & <dbl>\\\\\n\\hline\n\t 4 & 19.24242\\\\\n\t f & 28.20000\\\\\n\t r & 21.00000\\\\\n\\end{tabular}\n",
            "text/plain": [
              "  drv mean_hwy\n",
              "1 4   19.24242\n",
              "2 f   28.20000\n",
              "3 r   21.00000"
            ]
          },
          "metadata": {}
        }
      ]
    },
    {
      "cell_type": "code",
      "source": [
        "# 2버전\n",
        "mpg %>%\n",
        "  group_by(drv) %>%\n",
        "  summarise(mean_hwy = mean(hwy, na.rm = T))"
      ],
      "metadata": {
        "colab": {
          "base_uri": "https://localhost:8080/",
          "height": 192
        },
        "id": "rw7taXmuR6R0",
        "outputId": "682aaa86-8967-4433-e472-7f5ed8d51202"
      },
      "execution_count": 37,
      "outputs": [
        {
          "output_type": "display_data",
          "data": {
            "text/html": [
              "<table class=\"dataframe\">\n",
              "<caption>A tibble: 3 × 2</caption>\n",
              "<thead>\n",
              "\t<tr><th scope=col>drv</th><th scope=col>mean_hwy</th></tr>\n",
              "\t<tr><th scope=col>&lt;chr&gt;</th><th scope=col>&lt;dbl&gt;</th></tr>\n",
              "</thead>\n",
              "<tbody>\n",
              "\t<tr><td>4</td><td>19.24242</td></tr>\n",
              "\t<tr><td>f</td><td>28.20000</td></tr>\n",
              "\t<tr><td>r</td><td>21.00000</td></tr>\n",
              "</tbody>\n",
              "</table>\n"
            ],
            "text/markdown": "\nA tibble: 3 × 2\n\n| drv &lt;chr&gt; | mean_hwy &lt;dbl&gt; |\n|---|---|\n| 4 | 19.24242 |\n| f | 28.20000 |\n| r | 21.00000 |\n\n",
            "text/latex": "A tibble: 3 × 2\n\\begin{tabular}{ll}\n drv & mean\\_hwy\\\\\n <chr> & <dbl>\\\\\n\\hline\n\t 4 & 19.24242\\\\\n\t f & 28.20000\\\\\n\t r & 21.00000\\\\\n\\end{tabular}\n",
            "text/plain": [
              "  drv mean_hwy\n",
              "1 4   19.24242\n",
              "2 f   28.20000\n",
              "3 r   21.00000"
            ]
          },
          "metadata": {}
        }
      ]
    },
    {
      "cell_type": "markdown",
      "source": [
        "# 이상치 정제\n",
        "\n",
        "- 이상치(Outlier)의 의의\n",
        "  - 정상 범주에서 크게 벗어난 값\n",
        "  - 데이터 수집 과정에서의 오류 또는 극단적인 값\n",
        "  - 이상치 포함 시 분석 결과가 왜곡됨\n",
        "\n",
        "- 이상치의 종류\n",
        "  - 존재할 수 없는 값\n",
        "    - 예) 성별 변수에 3\n",
        "      - 결측 처리\n",
        "  \n",
        "  - 극단적인 값\n",
        "    - 예) 몸무게 변수에 200\n",
        "      - 정상범위 기준 정해서 결측 처리"
      ],
      "metadata": {
        "id": "-OTljzgcSwjj"
      }
    },
    {
      "cell_type": "code",
      "source": [
        "# 존재할 수 없는 값 제거\n",
        "df_outlier <- data.frame(\n",
        "  sex = c(1, 2, 1, 3, 2, 1),\n",
        "  score = c(5, 4, 3, 4, 2, 6)\n",
        ")\n",
        "\n",
        "df_outlier"
      ],
      "metadata": {
        "colab": {
          "base_uri": "https://localhost:8080/",
          "height": 303
        },
        "id": "sWCLjGKNOyPU",
        "outputId": "89fa3f5e-b755-488c-92ec-e769f577c560"
      },
      "execution_count": 38,
      "outputs": [
        {
          "output_type": "display_data",
          "data": {
            "text/html": [
              "<table class=\"dataframe\">\n",
              "<caption>A data.frame: 6 × 2</caption>\n",
              "<thead>\n",
              "\t<tr><th scope=col>sex</th><th scope=col>score</th></tr>\n",
              "\t<tr><th scope=col>&lt;dbl&gt;</th><th scope=col>&lt;dbl&gt;</th></tr>\n",
              "</thead>\n",
              "<tbody>\n",
              "\t<tr><td>1</td><td>5</td></tr>\n",
              "\t<tr><td>2</td><td>4</td></tr>\n",
              "\t<tr><td>1</td><td>3</td></tr>\n",
              "\t<tr><td>3</td><td>4</td></tr>\n",
              "\t<tr><td>2</td><td>2</td></tr>\n",
              "\t<tr><td>1</td><td>6</td></tr>\n",
              "</tbody>\n",
              "</table>\n"
            ],
            "text/markdown": "\nA data.frame: 6 × 2\n\n| sex &lt;dbl&gt; | score &lt;dbl&gt; |\n|---|---|\n| 1 | 5 |\n| 2 | 4 |\n| 1 | 3 |\n| 3 | 4 |\n| 2 | 2 |\n| 1 | 6 |\n\n",
            "text/latex": "A data.frame: 6 × 2\n\\begin{tabular}{ll}\n sex & score\\\\\n <dbl> & <dbl>\\\\\n\\hline\n\t 1 & 5\\\\\n\t 2 & 4\\\\\n\t 1 & 3\\\\\n\t 3 & 4\\\\\n\t 2 & 2\\\\\n\t 1 & 6\\\\\n\\end{tabular}\n",
            "text/plain": [
              "  sex score\n",
              "1 1   5    \n",
              "2 2   4    \n",
              "3 1   3    \n",
              "4 3   4    \n",
              "5 2   2    \n",
              "6 1   6    "
            ]
          },
          "metadata": {}
        }
      ]
    },
    {
      "cell_type": "code",
      "source": [
        "# 이상치 확인하기\n",
        "table(df_outlier$sex)\n",
        "table(df_outlier$score)"
      ],
      "metadata": {
        "colab": {
          "base_uri": "https://localhost:8080/",
          "height": 126
        },
        "id": "kSDZvsroUhPq",
        "outputId": "4cdbbc20-eb5a-48b1-cfcc-bd1dbb81f45e"
      },
      "execution_count": 39,
      "outputs": [
        {
          "output_type": "display_data",
          "data": {
            "text/plain": [
              "\n",
              "1 2 3 \n",
              "3 2 1 "
            ]
          },
          "metadata": {}
        },
        {
          "output_type": "display_data",
          "data": {
            "text/plain": [
              "\n",
              "2 3 4 5 6 \n",
              "1 1 2 1 1 "
            ]
          },
          "metadata": {}
        }
      ]
    },
    {
      "cell_type": "code",
      "source": [
        "# sex가 3이면 NA 할당\n",
        "df_outlier$sex <- ifelse(df_outlier$sex == 3, NA, df_outlier$sex)\n",
        "\n",
        "df_outlier"
      ],
      "metadata": {
        "colab": {
          "base_uri": "https://localhost:8080/",
          "height": 303
        },
        "id": "A-WKvzvXUvLg",
        "outputId": "c19a78e9-05de-4efb-8e76-953c9eec0582"
      },
      "execution_count": 40,
      "outputs": [
        {
          "output_type": "display_data",
          "data": {
            "text/html": [
              "<table class=\"dataframe\">\n",
              "<caption>A data.frame: 6 × 2</caption>\n",
              "<thead>\n",
              "\t<tr><th scope=col>sex</th><th scope=col>score</th></tr>\n",
              "\t<tr><th scope=col>&lt;dbl&gt;</th><th scope=col>&lt;dbl&gt;</th></tr>\n",
              "</thead>\n",
              "<tbody>\n",
              "\t<tr><td> 1</td><td>5</td></tr>\n",
              "\t<tr><td> 2</td><td>4</td></tr>\n",
              "\t<tr><td> 1</td><td>3</td></tr>\n",
              "\t<tr><td>NA</td><td>4</td></tr>\n",
              "\t<tr><td> 2</td><td>2</td></tr>\n",
              "\t<tr><td> 1</td><td>6</td></tr>\n",
              "</tbody>\n",
              "</table>\n"
            ],
            "text/markdown": "\nA data.frame: 6 × 2\n\n| sex &lt;dbl&gt; | score &lt;dbl&gt; |\n|---|---|\n|  1 | 5 |\n|  2 | 4 |\n|  1 | 3 |\n| NA | 4 |\n|  2 | 2 |\n|  1 | 6 |\n\n",
            "text/latex": "A data.frame: 6 × 2\n\\begin{tabular}{ll}\n sex & score\\\\\n <dbl> & <dbl>\\\\\n\\hline\n\t  1 & 5\\\\\n\t  2 & 4\\\\\n\t  1 & 3\\\\\n\t NA & 4\\\\\n\t  2 & 2\\\\\n\t  1 & 6\\\\\n\\end{tabular}\n",
            "text/plain": [
              "  sex score\n",
              "1  1  5    \n",
              "2  2  4    \n",
              "3  1  3    \n",
              "4 NA  4    \n",
              "5  2  2    \n",
              "6  1  6    "
            ]
          },
          "metadata": {}
        }
      ]
    },
    {
      "cell_type": "code",
      "source": [
        "# score가 1 ~ 5가 아니면 NA 할당\n",
        "df_outlier$score <- ifelse(df_outlier$score > 5, NA, df_outlier$score)\n",
        "\n",
        "df_outlier"
      ],
      "metadata": {
        "colab": {
          "base_uri": "https://localhost:8080/",
          "height": 303
        },
        "id": "UReQg135VSC7",
        "outputId": "dcfb9024-a4b1-4ecf-b259-467cd5351bd0"
      },
      "execution_count": 42,
      "outputs": [
        {
          "output_type": "display_data",
          "data": {
            "text/html": [
              "<table class=\"dataframe\">\n",
              "<caption>A data.frame: 6 × 2</caption>\n",
              "<thead>\n",
              "\t<tr><th scope=col>sex</th><th scope=col>score</th></tr>\n",
              "\t<tr><th scope=col>&lt;dbl&gt;</th><th scope=col>&lt;dbl&gt;</th></tr>\n",
              "</thead>\n",
              "<tbody>\n",
              "\t<tr><td> 1</td><td> 5</td></tr>\n",
              "\t<tr><td> 2</td><td> 4</td></tr>\n",
              "\t<tr><td> 1</td><td> 3</td></tr>\n",
              "\t<tr><td>NA</td><td> 4</td></tr>\n",
              "\t<tr><td> 2</td><td> 2</td></tr>\n",
              "\t<tr><td> 1</td><td>NA</td></tr>\n",
              "</tbody>\n",
              "</table>\n"
            ],
            "text/markdown": "\nA data.frame: 6 × 2\n\n| sex &lt;dbl&gt; | score &lt;dbl&gt; |\n|---|---|\n|  1 |  5 |\n|  2 |  4 |\n|  1 |  3 |\n| NA |  4 |\n|  2 |  2 |\n|  1 | NA |\n\n",
            "text/latex": "A data.frame: 6 × 2\n\\begin{tabular}{ll}\n sex & score\\\\\n <dbl> & <dbl>\\\\\n\\hline\n\t  1 &  5\\\\\n\t  2 &  4\\\\\n\t  1 &  3\\\\\n\t NA &  4\\\\\n\t  2 &  2\\\\\n\t  1 & NA\\\\\n\\end{tabular}\n",
            "text/plain": [
              "  sex score\n",
              "1  1   5   \n",
              "2  2   4   \n",
              "3  1   3   \n",
              "4 NA   4   \n",
              "5  2   2   \n",
              "6  1  NA   "
            ]
          },
          "metadata": {}
        }
      ]
    },
    {
      "cell_type": "code",
      "source": [
        "# 변환된 결측치를 제외하고 분석\n",
        "df_outlier %>%\n",
        "  filter(!is.na(sex) & !is.na(score)) %>%\n",
        "  group_by(sex) %>%\n",
        "  summarise(mean_score = mean(score))"
      ],
      "metadata": {
        "colab": {
          "base_uri": "https://localhost:8080/",
          "height": 161
        },
        "id": "HE_A_movVhQJ",
        "outputId": "c2ebb7ab-5cff-4a09-8aec-5aac7fff2c0b"
      },
      "execution_count": 43,
      "outputs": [
        {
          "output_type": "display_data",
          "data": {
            "text/html": [
              "<table class=\"dataframe\">\n",
              "<caption>A tibble: 2 × 2</caption>\n",
              "<thead>\n",
              "\t<tr><th scope=col>sex</th><th scope=col>mean_score</th></tr>\n",
              "\t<tr><th scope=col>&lt;dbl&gt;</th><th scope=col>&lt;dbl&gt;</th></tr>\n",
              "</thead>\n",
              "<tbody>\n",
              "\t<tr><td>1</td><td>4</td></tr>\n",
              "\t<tr><td>2</td><td>3</td></tr>\n",
              "</tbody>\n",
              "</table>\n"
            ],
            "text/markdown": "\nA tibble: 2 × 2\n\n| sex &lt;dbl&gt; | mean_score &lt;dbl&gt; |\n|---|---|\n| 1 | 4 |\n| 2 | 3 |\n\n",
            "text/latex": "A tibble: 2 × 2\n\\begin{tabular}{ll}\n sex & mean\\_score\\\\\n <dbl> & <dbl>\\\\\n\\hline\n\t 1 & 4\\\\\n\t 2 & 3\\\\\n\\end{tabular}\n",
            "text/plain": [
              "  sex mean_score\n",
              "1 1   4         \n",
              "2 2   3         "
            ]
          },
          "metadata": {}
        }
      ]
    },
    {
      "cell_type": "markdown",
      "source": [
        "- 극단치\n",
        "  - 정상범위의 기준을 정해서 이를 벗어나면 결측 처리\n",
        "\n",
        "- 정상범위 판단기준\n",
        "  - 논리적 판단\n",
        "    - 성인 몸무게 40kg ~ 150kg 벗어나면 극단치\n",
        "  - 통계적 판단\n",
        "    - 상하위 0.3% 또는 상자그림에서 1.5IQR을 벗어나면 극단치"
      ],
      "metadata": {
        "id": "dJ4M9P3tWFbH"
      }
    },
    {
      "cell_type": "markdown",
      "source": [
        "![boxplot.png](data:image/png;base64,iVBORw0KGgoAAAANSUhEUgAAAyAAAAGQCAIAAADZR5NjAAAgAElEQVR42uzdeVwVVf8H8O/M3dgVEAQURQUFFxAFd8oF19zXrHB/tNRKc8keK1vMSs3S3Mqe1PLJ1DJNrSeX1NwQcV9RFBQUFxZlu3DvLL8/vjm/22XJXcjP+9XLF13mzp0Z5s75zDlnzhFUVSUAAAAAeHBEHAIAAAAABCwAAAAABCwAAAAABCwAAAAAQMACAAAAQMACAAAAQMACAAAAAAQsAAAAAAQsAAAAAAQsAAAAAEDAAgAAAEDAAgAAAChX9A9kLZIk4VACAADAP5IgCDqd7u7eoqoqDhwAAADAA/QAarAkSVq2bFlycjKOJgAAAPyTCIIgSVKzZs169OihqqogCHf6xvupweJPys3NrVOnztNPP+3j42O1Wu/8swEAAADKLFVVTSbTuXPnFEXZsGHDXb1X/0A+3tPTc9asWVWqVLmrcAcAAABQlgOWIAgnT5784IMP7va9DyBgCYJgsVhycnKIyGq1iiKeTAQAAIByT1EUo9GYk5NjtVofQ8Bi3Lter9cjYAEAAMA/I2BxtrmH9yIMAQAAADxgCFgAAAAACFgAAAAACFgAAAAACFgAAAAAgIAFAAAAgIAFAAAAgIAFAAAAAAhYAAAAAAhYAAAAAAhYAAAAAICABQAAAICABQAAAICABQAAAICABQAAAAAIWAAAAAAIWAAAAAAIWAAAAACAgAUAAACAgAUAAACAgAUAAAAACFgAAAAACFgAAAAACFgAAAAAgIAFAAAAgIAFAAAAgIAFAAAAgIAFAAAAAAhYAAAAAAhYAAAAAAhYAAAAAICABQAAAICABQAAAICABQAAAAAIWAAAAAAIWAAAAAAIWAAAAACAgAUAAACAgAUAAACAgAUAAACAgAUAAAAACFgAAAAACFgAAAAA/2x6HAKAMkVVVSISBAGH4m8piiLLsl6v1w6XJElEpNfrH9QfQoO/CAAgYAGUY/dWkKuqqiiKKIr/yBxQ0t6JoiiKf6mGfyDRqtg/xD/7CAPAA4cmQoCyRVEURVHuIQ3odLp/atlfdO/4EO3atWvChAmnTp3iFyVJmjlz5syZM7ke6z4jnSzLtpVY2jbY1WwBACBgAZRdXGzn5uZGR0dHRUXl5uZSkVaqUt6YkpKyc+fOGzdu3OG7ytdhuXr16o4dOy5fvqy9IssyEW3fvn3OnDkHDx7khS0Wy4wZM2bMmFFYWHjPx4HXPGfOnJCQkMaNG4eEhNStWzc0NLRbt26LFy82m83IWACAgAVQzkiSdPDgwUOHDml1MKqqSpLEFTayLFutVqvValu5woFg8eLFrVu33rRpE+cMftE2pkiSJEmS1WqVJMkuHxT9CNsaIO29tsvYrl9RlNLXabek3dqKLqCqKr/darVyVFq9enWbNm2WL1+u7R3XZlWuXNnDw8Pb2/vPy5koOjs7Ozs763Q6u43R9qvYzy0a6VJTU8+dO5eenu7q6uro6Gi1Wrds2fLSSy9FRkZeunRJEATbldzDfvEfsaSEZ7sAv7ekxe5kjwAAAQvgif9CiqLBYLBtDhMEQa/Xi6KoqqpOpzMYDLyAXQ2Ng4MDEfHrOp3ONmEoisIr0ev1BoOBeynZNX5xP3HtI7SeTFxy628TRVFRFLv1i6Jo283cbrPt9k5vg9dWdAH+2XZr+eNMJpO2d/z6qFGjMjIyOnbsqO0OBw67cMPv4rUV+7lFGQwGIho3blxcXNy+fftOnz4dGxvbqFGjkydPLl68WFvt3e6Xqqq8X/xHLJpK7f7KqqraHhNtMf4r3NUeAcAjhk7uAGWLbR8sQRBycnLWr19fv379hg0bbtu2bfv27UTUoEGD3r17cwgQBGHPnj0HDhwgon379lWsWPHWrVuOjo5du3Y1mUyyLOt0urS0tB9++OHq1auqqjZo0KBXr14ODg7a44oXLlzYsWNHy5Yt69Sps2rVqqNHj3p4eLz88ssmk0kUxWvXrq1ZsyYtLc1oNPbv3z8kJOSHH35wcnLq3Lkzv/348eOHDh3q1q2bh4eHts6MjIxNmzaFh4c3aNCA+4YT0alTp/73v/9lZmaqqurh4dGnT5+AgAD+raqqgiAcO3bsyJEjPXr0cHBwWLFixZkzZ4KDg59++um9e/cSUXx8/MaNG2/duqXX6zt27FixYsVTp04dOHCgbdu2/v7+JVVHiaIoSdK6deuOHj0qy7KHh8ezzz5btWpVbatKqcfiP4QoirIsN2zY8P3333/mmWcOHTrE+Y+3ueh+9e7du0aNGsXul6Oj47fffnv+/Hmj0diuXbuoqChtM7RP/Pnnn+Pj4wVBaNmyZefOnY8cOXLixImePXu6uLhonyiK4rZt2/744w9JkhwcHLp37x4WFlb6HgHAo6beB0VRVFXNycmpU6fO2bNntW6hAHBv36Zbt265u7s7OjrevHmTX09ISCCiKVOmfPjhh2Tz3FyXLl2sVis3OTVu3Jh/RbeffXN1db127RqvYcOGDV5eXvwr/m1kZCSHLYvFoqoqV8m8/fbbI0aM4MuCi4sLv/3UqVN16tTR6pBcXFyWL1/u6elZs2ZNrbVx2rRpRBQbG8tXAH5xz549RPTmm2+qqmo2m1VVfffdd7X18GY4ODgsW7ZMa79TVXXy5MlEtG3btqeeeoq3pEmTJhMnTqTbjwfyGw0Gw5EjR7SPXrlyJR9As9ns7e3t7e3Nn8hbcu7cuaioKNvdd3Fx+f7777UF7PCW8IfOnDlTVdXCwkJ+MTExkY8e/7H4xffee6/ofi1dutR2v15//XUi2rFjR3R0NC/MS37xxRdaW6qqqnl5eV27dqXbHer5j8LH5Ny5c9oFNj8/f9CgQbZ75ODgwJvK6wGAB4W/dAcOHOjbt+/dvhe3OwBlvULLZDJ9+umnK1eu3L59e1ZWVnJycvv27X/55ZdFixZxo9ivv/46YsQIRVGmT59+4cKFQ4cOxcbGVqxYkYh++eWXbt26ubu7b9myJSMj49atW7NmzTpw4ECHDh1ycnJs256mT5++ffv2HTt2pKWlbd261dXVVZKkQYMGJSQkTJs27fr16zdv3nz11VcHDx6ckZHh7Oxs2xqoxTvbRjG7zOfm5vbWW28lJiamp6ffuHHj119/rVix4pAhQ3bs2MFVRNryvXv3tlqtx44dS01NnT9//ltvvfX6669LkvTqq68mJycfOnTo4MGDtWrVIiKj0UglD82g0+muX7/+zDPP7Nq1a9asWWlpaTdv3tyzZ4+7u/uzzz67detWnU5XUkco273QcsyuXbuIKDAwkPtgaVn2zTfftNuvoUOHbt++3W6/unXrZjKZLl26lJWVtW3bNj8/v1deeeXMmTM6nY6rykaPHr1x48ZevXpdvHgxKytr69atq1at+vzzz00mEy/An9upU6dvvvnmlVdeSU1NvXnz5pkzZxo3bjx58uSVK1cKglD6HgEAarAAUIOlqqp6+vRpvV5vMpn279+v1Tn98ccfRNSyZUutHoXrcr755ht+RatiCQkJMRqN8fHxXFPC39APPviAiObPn88f8cUXX3BuSE5Otq2F+uqrr7jUt30vV+2EhYXZ1WDFxcXZvnffvn1E9NZbb2lbaMt2mTfeeINrZVRVnTp1KhFFRERwc5uiKPze+fPnE9GsWbO0tfFxmD59OhGtXr26aA0WH4GPP/6YiD7++GPbbYuLiyOiF198sdhKLF7/hAkTiOjdd99VFOXq1atXrlz59ttvq1WrRkQrVqywfaNtpREfotjYWLv9evPNN4mobdu2ths/Z84cIpozZw6/l/+m9erVS09P1zbjt99+IyKTyZSQkMCL/e9//yOimJgY/jj+xDNnzri5udWpU4fXjHosANRgAcDf0Ol0kiT17t27SZMmVquVW44iIyP9/f3PnDljNpv5FavVSrefKOTxzYkoNTX19OnTgwYNaty4MXfG4kqXUaNGEdHJkye1jyCi5557rnr16vzUHi/27bffEtGAAQO0OzEieu211wRBsFgs93AjR0Tp6ek7d+5ctWrVypUrL1y4QEQpKSl2FWAvv/yyu7s7fwTX3PC/2it30qGbd+Gnn37y9PR85ZVXtHY3VVUjIyM7deq0bt26wsLCoj3NGfeUnz59uk6n8/X19ff3j4mJ0el0q1evfv7557WDpr2X9+v777/X9uvSpUt2i40dO1av11ssFt624OBgIuJmRyLi3nVjxozx9PS0WCxc+9WhQ4e2bdsWFhZqx+frr78mosGDB2s9zGRZrlOnzoABAxISErh/GEaRACgL0MkdoBzw8fGxbavS6/XOzs43b94stp1OG22ce77/9ttvrVq1kiSJnxPUhnG6du2a7Uc4OTnR7e5BgiCYzeaEhARXV9fQ0FAtKHCLmKOjo9ZAdoetnHq9/vLly1OmTFm1ahVnQW2d+fn52vZzLqxfvz7voyAItk2N2r9a01speY6Ibty4cfz4cUVR2rRpo3UP58f0zp07l52dffPmzcqVK5fSONioUaOwsLDCwsLExMR9+/ZlZ2fXrFmTt5OTmSAIV65cmTJlyvfff/+3+8Xv5d7xdPvBTy2qms1mImrYsCEvo+1j/fr1f//9d16PxWLhUVWnTJmi9bLnPeI8d/jw4aZNm6K3OwACFgDcaQ2QXfVM6TPladVFRGQ0Gp2dnbWKE04A7dq1a9Kkie3CRYtkSZJ4vIBiw0fpVUd2lXAFBQU9evQ4ePDg8OHDe/Xq5efnZzQa8/Pzo6KitFzyt+u/24oZHk2qQoUKLi4uWiDjQxceHl6xYkXuwlUsDkn9+vWbMGGCxWIxGo3btm3r3LlzVFTUjh07mjRpwhmL9ys+Pn7YsGG9e/euUqWKwWDIz89/6qmnilbylV7xxr+1PdpF/y6yLOfl5RERj/WlPbPJD4fWrVuXMxwm8wFAwAKAh5LAGD8A2K9fvw8//FCSpKKdwfnFYstjnU7n4uKSmprKXdq1GiAOLkXfom0A/2AbL3Q63Y8//njw4MERI0YsWbKEa794BAquV7vDfdSqoO4wabm4uJhMJh8fn99++00bMeFOEqFtoKHb45S2a9du5syZ48ePX7hwoRawNmzYEB8fP3z48K+++kqLO7m5ufcwV4+joyMRJSYmRkRE8EiqvGFXrlzRjqrRaPT09ExKSlqwYEG9evVKqqmyG2cVAB4LVCMD/BNwmaqV6/y/oaGher1+7dq1WVlZer2exxD/26fM+FE1o9HYunVrSZK2bdtGt2uDiCg+Pr6wsFBr59KqWHgeG+5fT0Q7duywLekvXrxIRFxnZjabOX5t3LhRluVSqpHsMhBvuZY8/nZ5Nze3Hj16HD9+nDempIHsS7s+2jRKEtHIkSOrVau2fPnynTt38mbzfkVGRhJRfn6+tl+SJBXdr9I3u169ekS0YsUKut2MqNPpzpw5s2nTJu0xQ656JKL169fzAeGBVdHpCgABCwD+PirZ1kAUOwhC0cX4ATdttj5WqVKlfv36nT17VhtDSxsF/vTp04cPH7YdXMr2I7jAHj58OBF9/fXXubm5JpPJaDTm5ORMmTKF/jr+Qo0aNYiI57HhJsXExMRPP/3Udmv9/PyI6NdffyUiJycnk8l07do1frbOdlW2P9vufpUqVYjo8OHDvIzW1lZ0ee2w8C7wsFKvvvrq9evXtXHPBUG4fv36uXPnqORmR16n9i8Pf+Dk5PTyyy8T0dq1a233i5/s0/aLn4W0G+y+pI/gXymKws8xbNq0acGCBfxxVqt16tSpeXl5RqNR286RI0eaTKbPPvvswIEDBoNBG0Y/Ly9v165dBQUF+AYBIGABgD1ZlgsKCmynGrR9jE6jKIrFYikoKNA6m3ft2rV69epvv/22l5dXjRo1QkNDMzMziWjJkiVdunSZNWuWp6dnTEzMuHHj+vXrV61atbp16/7yyy+8Nq53sZ0gmQeIatWq1Ztvvrl79+6AgIBRo0aNHDnS19c3OzvbxcWF38LhYODAga1atVq/fn2jRo1ee+216Ojo4ODg7t27a2uWZblv375NmjT56aefwsLCxo0b161bNx8fn7p16zo7O/O01trua//aRpMuXbpERkb++OOPFStWDAgICAwM5HjE28xVa1zxVlBQoB0WWZYHDBjwzjvvnDhxokqVKm3bth03btyIESMaNWpUuXJlHoSiaH0eH08+4LbHhLdk9OjR9evXnzdvHo+k2qtXr6ZNm65bt852v0JCQlxcXHJycmz/XkU/i6sb+V+e+ua7776rXLny2LFj3d3dg4KCONEOGzbMbDZzFJYkqWbNmkuXLs3NzW3SpElkZOQrr7wyevToli1buri4DB8+3HZQeAB4zHfL77zzzv28nx/Y/vLLL5977jlPT8+SejkAwJ18m1RVTUpKCgoK6tWrF/d3tlgsp0+fbtu2bcOGDfn7xS5cuFCjRo1evXpxGHJ1dW3atKnRaPTy8nJ3d69WrVrPnj252qlz585ubm65ubk7duzYt2/fjRs3GjZs2KtXrwEDBvA0ybdu3UpOTu7RowcPHGD7yF6LFi2cnZ2TkpI2b96clJT07LPPzp8/f9myZY6OjmPHjuUn3fR6fXh4eF5e3tGjR3fs2OHk5DRt2rQhQ4acPXu2Y8eO9evX53bAxo0b5+fnc4OdoiijRo365JNPrly50rhxYx7Qi6flycvL69evX8WKFbWd5cay6OhoR0dHLy+vChUq+Pn5de3a1d3dncf27NOnjzZVzvnz50NCQnr06KE9Dtm6devg4GBZlo8ePbp9+/aEhAQ/P7+OHTv279+/evXqVNzzAaIopqSkXLp0qU+fPiEhIXT7wUxZlk0mk5eXV2JiYpUqVSIjIw0GQ6NGjYrdr0aNGrVq1cpuv9zd3bX9ys/PT0xMbNu2Lbcwqqrq6enZqVMnJycnV1dXX1/fZ5555vPPP9+/f39sbOwbb7zh4uLCITI0NDQqKkqSpISEhO3btx89etTFxaVLly7Dhg0LDw8ndHIHeHC0h4X37NnTv3//u7uk38+9Dn9wbm5uRETEhg0bgoKC8HgwwGO8ChT7OpfxRFRQUGCxWPgBtLtarSzLOTk5jo6OJpMpPz/fx8fHz8/v5MmTtoNICYLAdW9OTk7aeBC269GWkSTJycmplF7nD+nISJKUn59vMpl40uj7XJvVatVmyH4Y+8Uryc7OjoiISElJuX79uqurK7+oXWYVRcnNzTUYDNxBHgAeOP66xcfHf/zxx2vWrLmr9+IpQoAyF5XsKiGKvlL0RY5BnKXs+g9xttDpdA4ODjz2Eg9ErtPptBYlrVql6Pbw43JcpaRV8Nh1k+LBP+1WbruFdstom2S3F8XuqXaZ4yud7X7ZxseS1iAIgiRJ3FfJzc1N+3Rtvr+7yqzaABnaeAo8cvq97ZftOAuCINy8ebOwsNDT01Ov13Oj4WeffXbu3LnnnntOS1d0e/JpItLpdNoe8V+/pFmDAODRw7cRoGwptlC/k8VKiguCIHC5a1vbZDveUinP5Wmjn9tVBdn2EqPb7YnaK8UW83eyTCkVP9qjfHbL272l2DXY7T6VPH3hPfyB7me/bBOYIAgJCQnNmjWrXr16o0aNCgoKYmNjs7KyGjRoYPfEABUZR54wNAMAAhYAlJ3odg9v1Ol0gYGB3t7edxgEH9Q2PPrdv6vl73O/+O3Vq1cfN27ckSNH4uLiFEUJCwtr1KjRiy++6O3tXWzvC/S1AkDAAoB/SD5zcHDYv3+/1r52z2V8Ka2BD1sZfBaHt8fHx4crq3i2Zq2ayq4ZFAAQsADgH+h+OomXlK60LlZFkwT/yrZ9U5u12pZdqyXdfvSvpH5UZbD6h4eMt+0bJ8tysccEABCwAOCf5v4rnwRBKCwszM7O9vDw4HqaYmME9x/XAkfRIGL7YrGdkDic2f7KYrHk5+c7OTkZDIYyWI9l211M+18AQMACgH+++8klXHVkNpujo6MrV668du1a7Sno7du3t2/fvmHDhvwKN43pdLpz585t2rQpPT2dn5ILCQnp2rWri4uLXbekdevWXblyRRv03MHBoXbt2g0bNjSZTPyh/G9OTk79+vWHDRv2wQcfFE1p/4AjDAAIWADwxOGBSRcsWLB37959+/YREU/bt3bt2g8//PD9999v2LChNtWxxWKZPn36ggULsrKyuIqL2wHr1Kkza9asbt26afNGK4oyffr0gwcPahPpcKJq1qzZ3LlzmzRpwmlMURRPT8+ePXvOmDGjT58+jRo1wtB9APCQ4MoCAI8IV0GZzeZFixbVqVOH537mfMNTI9sOHkFEr7322vTp052cnFauXHnjxo3s7Ozk5OTRo0cnJCR07979xx9/1EaE0lrTVq1atWPHji1btqxZs6ZVq1axsbFDhw69desWV4nxanmuwG+++YaKzEEEAICABQDlDIeh//73vxcuXJg0aZIoijwTnxZ0OAPxKKCLFi1auHBhzZo1//jjj2effbZixYqOjo5Vq1ZdsGABj6f82muvpaWl6fV6bbh5QRDatGnz9NNPt23btk+fPrt27erZs+epU6d4ee4wLsty1apVR4wYsWDBghs3bvDb8acBAAQsACivuGsRT5PcqVMnul19ZYfrsVauXElEM2fOrFmzpsVi4SY/7vbet2/f6OjoS5cuff/992QzibKqqgUFBRzXzGYzEfE0fzwztLYMETVs2FCSpHXr1lFx8z0DACBgAUD5wD3WMzMzv/vuu06dOlWpUqWk4Z30ev3evXt37drl6enZsWNHjlzc10qn03Fd18iRI4koNjaWiGynRNQ+i9fMNWTaPDZapHvqqaeIaMWKFfxxqMQCAAQsACiXOBidPXvWYrGEh4dTqVVHx48fJ6Lq1avbZiPbhNS4cWNRFHfv3p2Xl6fNSyiKIk97rNPpTCZTWloaV3G1bNmS/jo5Y1BQkK+v74EDB3JycvCnAYCHAU8RAsCjwLVEp06dIiInJyf661R6djj3BAUFaV2stF/xzxUqVHB0dMzKysrLy3N2duZ0pSjKW2+95eLioqpqRkbGpk2brl27NmXKlA4dOmijYWnj0derV2/r1q1WqxV/GgBAwAKA8i0rK4tuPzNYymhP/Ku76h3FNVuLFy/mqjKdTifLco8ePT788EO7sRj4fytWrEhE3FULAOCBQxMhADw6WnNe6Ytx+klISLBardy9XfsV/5yRkZGXl+fj4+Pq6sqr5TQWGxt7+fLlU6dOff/9940aNVq/fv1//vMfbTQHW49xMkQAQMACAHiQvLy8iMhisZQes8LCwojo0qVLRWuYuIIqLi6OiNq0aePo6KiNZSUIQkBAgJ+fX+3atfv27bt69Wp3d/dJkyZduHBB6x2v9X9PT08XBIH7bAEAIGABQPm81ogiEdWrV4+IcnNzqeTaI6vVGhER0alTp1u3bv30008cyGRZVhTFarVyVPr888+1HKZ10lJVVetTVVBQUKtWrcmTJ2dlZb399tt2H5Gfn3/q1ClnZ2e7oU0BABCwAKA80R7fq1ixIg+vYDs+gm3Y4ua8IUOGENGUKVNiY2NNJpMgCKIo6vV6QRAWLlwYFxcXFhb2/PPP01+neeYYJ4qiyWQiooEDB/r5+a1cufL8+fPcC17ra3/jxo2WLVtyj3g0FAIAAhYAlNeAJcuyq6vr888//8cffyQmJpJNKyH/wP/yuFYDBgz44IMPrl692rdv33feeWfz5s3Hjx9ftWrVgAEDXn755UqVKs2bN8/T07OkjvCCIEiSVL169ZEjRyqK8tFHH9mmt127dhFRTEwMYaBRAEDAAoByjfMTj0q1YcMGspkKUKt54mzEHdv//e9/L1iwID8//9133+3SpUtoaOjzzz+/evXqyMjI3bt3P/XUU9rgC9q7bD+OfxUTE+Ph4fHVV1/t379fe5YwPj7excWle/fu9NcKMACAB3ZXeT9DGHPVem5ubkRExIYNG4KCgjA1PQCUfsVQVTUiIuLatWvJycnaMFdXr169dOlSQECAt7e31mYny7JOp8vLyzty5MiBAweIaO3atbt27XrppZcWLlxod7U5ceJEbm5u48aNi3arOnfu3JUrV2rUqFGtWjUiSkhICA4Ofv311z/66CNJkniWaACAovg6Ex8f//HHH/OspncOVxYAeFT3c4LAgWb06NEjRozYtm1bx44duRbKx8fHx8dHW4x/4LGsnJ2dW7Zs2bx5c1EUu3fv3qdPn0WLFlWqVOndd9+1XXn9+vVLSnVBQUFBQUFawvv3v//t4OAwdOhQKmEyRACA+4eLC8AT5LFPusfVRcOGDXvhhRfWr19Pt1voeBbnopvH/bH4EUKLxVKzZs2lS5cOHDjw4MGDhw8fJptGRkVRtJ/tUp2iKLwGQRAyMzPT0tLmzJlTp04dWZYfZcDCjIcATxTUYAHAoyYIwrfffmu1WrVmvqI9qGwX1rpJKYoSGhr63XffcSAjmyqoUqKS7a8qVKiwZ88ebqlE7ysAeHhQgwXwz8dZ5NChQxMnTiwL26OqqqqqBoPhbiuQeHl+7u/e4pFOp+N09SiHZuC6q1GjRn399deE5xYBngyowfrz8vfwrrZ2M3Jggg54LGc4EaWmpu7YsUPraf4YT0JtXNB72Ib7b9R79OmKP27z5s3u7u6cd1F5BiiYELD+4acvd8LgEQi5teKeL98lfRnsXsQZDI+LTqfjETvLyPY8ri15XJ9bpg4+PDkFU7HnPAqmR+DJbSKUZVkQBL1erw3Awz9LknRvfVGLPUEtFktGRobtfGq5ublZWVloI4DHcuEuths4PLJrDo4/3FvBJMvyPRdMRcsmq9WamZmZn5+vvZKXl4eCCQHrgZ3EOp0uMzNz0aJF/fv3b9GiRffu3efNm5eSksID89ztqayqqiRJtmenJElE9MMPP1SqVGnmzJnaKwMGDKhatWpSUhLZPAAFAABPOG47zsjI+Prrr/v169eiRYsePXrMmjUrJSWFp+C8/4KJf8hK24cAACAASURBVN6+fbunp+e0adM4bBHR2LFjvby8Tpw4gYIJAet+7+NFUVyyZEl4ePjo0aN//vnn5OTkbdu2vfrqq/Xq1fvkk0+sVit3UtGWL/a05hf5XDx8+HCdOnUmTZrEr2jLWywWIrKtwbp582Z+fj6HLbu1aYr9rFK2R/0rnNYAAOWxYFq+fHlISMjw4cM3btyYlJS0ZcuWyZMnh4eHf/zxx/TXdpI7KZgSExMbNGgwfPhw219poaqgoEB7V25urizLXGDdT8FkuxgKJvEJPIkFQZg7d+7IkSMFQfjiiy8uXryYmpp6+fLl5cuX+/n5TZw4kZ+0sp2GtpTOVbxYbm7uhQsXuF7KdnntEXTtXdOmTVu2bJmfn5/t6/xlEG4rOqKPNnkIj+Vj+0btFe11ZCwAgHKEL+OffPLJkCFDdDrdZ599lpSUdPny5StXrqxatcrPz2/KlCmTJ08uWiiUVDCxgoKCM2fOnDt3rthlbP995ZVXvv7665o1a5ZSMBXtY1C0YOL3Fi2YbOssnhxPVid3bhnctm3b+PHjuRKrffv23J3Qzc1t0KBBLVq0aNq06fz589u1a9ezZ09eXpIk25F4bJMNP/KtBamiTwYVPaU6dOhgd5ZzH0ZFUcxmM6/TwcFBe13bcr6/EUWxoKDAarWaTCaj0cgfbTabtQfXHRwc0F0RAKAcpStRFA8cOPDGG2+Iorh27drmzZvzi25ubv379w8ODo6Ojp4zZ054ePgLL7zABVOxg5VwSWE7QSeVPKCJbf/3qKioqKiovy2Y+JViC6bCwkKLxaIVTIIgoGB6EpsIf/75ZyKaMmVK+/btLRaL9sh6YWFhYGDg1KlTiUgbYzo/P79Nmza8JN1u0iaixYsX16hR48iRI6Iozp8/v23btqIo/vLLL9WrV69Ro4a3t/e6deuouAFvBg0aFBQUlJycTLc7HYuiuH379vDwcGdnZzc3N2dn565du54/f547NhKRJEndu3ePiorKysoaMWIEL/bRRx8RUXJy8oABA9zc3FxvCw4O3rx5M2GsHSgBKjgBylrA4kLHarW+9NJLzZs314obLphCQ0O5iXD16tVcMFkslujo6MGDB2tfar7gf/zxx9WqVdu2bZsoil988UWTJk1EUYyLi+OCydPT85tvvrErHfjTJ0yYUL169ZMnT/IrXO+wdevWiIgILnFcXFw6d+586dIlzlj83gEDBnTq1Ck3N3fQoEFubm5ubm5vvfUWEaWlpQ0cONDVRnBwcFxcHD1hHbyeoBoszvVms3njxo1E9MILLxCR9rAGEXHu7tu379SpU9etW/fxxx97e3tLknTs2DGTyaSdkVw+Xb9+PTU1lZ/CCAgIiIyM3Lt3r5eXV5s2bRRFKSws9Pb2puIeLUxKSkpMTCwsLOSzXK/XL1myZOTIkT4+PqNHj/b09ExNTV26dOnZs2fXr19ft25dPiNPnz599erVdu3apaWlvfLKKxkZGTVq1CCimJiYvXv39uvXj2faNpvNy5cv3717d4cOHTDWDpT0ReCbCiStRwn1ylDS91Gv10uStGnTJiIaOHBgsQVT9+7dnZ2dt2zZkpycHBAQIMvyiRMnbB8DZGlpaWlpabdu3SKiatWqNW/e/Pfff69QocLTTz8tCEJeXp5d7xRNSkrKpUuXuLuwLMsGg2HlypXPPfecl5fXmDFjPDw8Ll68uGLFiubNm69fvz4iIoIvIAkJCVevXu3Wrdvx48dHjRp18+bNwMBAIho6dOiWLVt69uxZt25dVVVzcnLWrVt34MCBJk2a2M3RjoD1jypXEhMTL1y4UKFChapVqxZ7nvn7+4eFhe3fv//MmTMckgwGg16vL3bUEIPBQERdu3b19PTk5sVly5bxCcQVXUXPJA49/Ha9Xr9///6RI0fWr1//t99+8/Pz47rfrl279unTZ9asWUuXLuV3OTs7m81mFxeX48ePc+zT6/U///zz3r17X3rppYULF2oN3h988AF/u3jSNwBb2oA6pUxNAw/jykOYWBpKPj3S0tKOHz9eqVKl0NDQYgsmJycnb2/vpKSkuLi4gIAALn2K3kLzOcaZrHPnzjVq1AgJCQkODuaKq6ITTNm9kf81GAynT58eNmxYZGTkjz/+6O/vzwXTs88+26VLl48++uiHH37gd7m6up44ccJisSQnJ7u5ufFicXFxW7ZsGT9+/Jw5c/gVIpo5c2Z2djbd6wQMCFjl4DwmoqtXr/IJVOzAa5yN6tSps3//fo4pJc1Ba/cK1+hyqOLlS6oesHv9l19+IaLZs2dr6UpRlN69ew8ZMmT58uWffPKJh4cH3X7oY968ed7e3haLhW96+HzlpKgoCt8GOTg4ODs7444ZijKZTCdPnuzSpQs98tHMUYLq9fpz585x90oAO7du3ZJl2cPDw2QyFbuAwWBwd3dPSkq6k4JJe11rKvnbp/ns3rh48eKCgoJx48b5+/tLksSpqHPnzk899dSPP/6YkpLi7++vKAoXee+//76bmxsXgjqdLicnh4gqVqyorVCSJIPBULly5SetYHriKjn4RCm9cYRPyru63bRd+E4+QvvtkSNHOPb9/PPP3JtelmV3d/fCwkJVVc+ePdusWTPu+OXg4BAUFMTfNH57mzZtfH19p06devTo0RdeeCEyMrJy5cqPfRYUKLMURXF1dW3ZsuWT+UTPY8QBa8uWLegZCaWUIKWcHlovq3somEp5DLCkEnDLli1EdPPmTa1gUhSFO2MR0cGDB/39/VVVtVqtLi4uTZo0odvtOUTUuHHjmjVrTps27ejRo8OHDw8LC/Pz89PqL56oP+sTFLA4c/j7+3MPwaLnGT8NYbVaebA1rRPVnYSVe5t2oLCwkB+gHTFihN1XS6fTGY1G2yZ229kSuJthlSpVli5d+vbbb69evXrNmjWqqrZr1+6FF14YOHBgSbdB8CSzWq0BAQH8GAdS+COjHeqvv/6aq6IB7AoLd3d3o9GYnp6ek5Pj6elZ7Jc3PT2diHx9fekh1wNZrVauJ3v11VftCiZOUdoAWpy6tHpZTlEVK1ZctmzZa6+9tnbt2nXr1imK0q5du+eee07rko+A9Y89j2vVqhUeHh4fH3/8+PGWLVva9gTn6+CZM2dOnjwZEBAQEhLC73p446QZDAYXFxeDwbB//34PDw9t9FHtVqNKlSol3bKIoqiqaseOHTt06BAbG3vgwIFz586tWrVq6NChFy9enDZtmtb4DWB76bRarRzQEbAeWcASRVGn0yFdQUl8fX2feuqprVu37t27t1u3bvz8k23BdOPGjWvXrnl5eTVt2pRKrsd6IM/o8c28Xq/fuXNn1apV+Vl7rWCSZZlDXrHlCxdMUVFR+/fvj4+P37t376VLl77//vvhw4dfvnz5rbfeeqJu7Z6sgMV9wzt16hQfH//555+3bNmSW9+0FCWK4pdffklEffr0cXFx4a5ORqOxsLCQg7w2BOj169epSDsgnzfaCv827Ymi2KxZswMHDuTn54eHhxeNRH+7Er5kN2/evGnTpqIojhkzpn79+itXrpw6dSrP+YNCFOzOGb4HFUUR58YjC1i2IzoCFL2MGwyG6OjorVu3Ll68uFu3blxaaXfaRqNxyZIlkiT16NGD67dEUXRwcMjMzJQkiTMNFxZnz56lv46SzT9o3bDoDrqZOzk51a9fPzU19fr16y1atCipYCrpfNYKpiZNmkRERIiiGBMT06xZs4ULF06YMMHJyenJKZierAZRTv1Dhgzx9fVdtWrV7Nmz+fFAnU4niqLBYNiwYcP8+fNdXFyef/55jlOOjo6NGjW6efNmZmYmn1gmk+nEiRNff/012TSZe3l5EVFGRgbdfrjjDi+pERERRDR16lQeRcI2UVmt1tJHky8sLNTpdFxe8m+rVatWoUKF7OzsolPxAABAWazn0OuJaNCgQTVr1vzll18WLlzIRRKXI0ajceXKlR988IFer4+JieGiwWAwtGrV6uzZswkJCRyw9Hr9+fPnd+/ebVuPVaFCBZ7ckJ+Csh39odjiSXvlpZdeIiJ+9tCuYLLtYFNsAVe0YKpbt27lypVzc3OftILpyerkzi0jtWrVWrJkSd++fSdNmpSQkNCxY0cvL6+bN29u37590aJFRPTZZ5+Fh4drz2i0bt36119/HTVq1JQpUypVqhQXFzd79mw3N7cbN25ocT4gIKBevXo7d+588803/f39CwsL27dvHxISwidiSRVRiqIMGjRozZo1GzduHDBgQL9+/erWrSvLcmJi4u7du0VRnD17tvYRtivhqriFCxdu3ry5b9++tWvXrly58pUrV9avX5+ZmTl06FAHB4cnsEchAEB5rMTidrfPP/+8f//+Y8aMiY2N7d69u5eXV1ZW1r59+xYsWEBECxcufOqpp7Tqn1atWv33v/8dO3bse++95+npuX///s8//9zd3V2b+laWZX9//yZNmuzbt++9996rWrVqQUFB69atw8LCSiqY+BVZlrt37z5w4MCVK1f26NFj8ODBgYGBqqqeP39+//79mZmZCxYs4NRVbMH0zTffrFmz5tlnnw0MDKxcuXJGRsZXX32VkpISExPj5ub2ZLWrqPeBI0hOTk6dOnXOnj3LrbNqmccbuXfv3q5du9Jf52N66qmnNm/erC3DO5idnT106FDbtD5//vz33nuPiPbv36+qKo+bsGvXroYNG9LtCtj//Oc/qqpyRdcbb7zBD1yoqvr0008TUUJCArdOqqp67dq1119/3dHR0W5jPvjgA95gi8USFBTk4uKSm5vLW8VvXL9+ve1dAhs8eHBycrK28QDambZhw4amTZvafnnhEdAOda1atSZNmqRdMQCKFkzx8fHdu3fXLun8w9NPP71x40a7gslisXCFlnYjPX369PHjxxPR+vXrVVXlR9F3794dGRmp1ZPNmTNHVVWezuSVV17RzsYBAwYQ0cGDB7XLxc2bNydPnuzk5GRXME2YMEHb5oYNG/r6+vIHaQXTtm3bXFxc7AqmmJiYzMzM8njl4WN+4MCBvn373u177+tpbY6iubm5ERERGzZs4MHEy0WtCc8DIAjCyZMnDx06lJWV5eLi0rhx49DQ0JKeJt2zZ8/Ro0f1en1UVFRISMjly5dTUlIaNGjAg05pq71y5Up6ejrXaXl4eKSnp589e7ZatWpVq1blw5WQkHDr1q3Q0FB+8kLr+3XlypV9+/alpqYajcbq1atHRER4e3trg26fOHHCarU2bNhQ2zD+VXZ29uHDhxMTE3Nycjw8PCIiInjkXPT2ALsTXqfTbdy4cfr06bGxsYSnCB/tTSwf6sDAwN69e8+cOZObeHBkoGibBvcGSUhIiIuL44IpNDQ0PDycJx8sOiVuXFzcwYMHRVFs27ZtnTp1kpOT09LSQkJCKlasqJ14sixfvnw5MzNTluVq1apxi83p06erVKlSrVo1XuzChQs3btxo0KABJyqtYLp27dquXbuuXLliNBr9/f2bNm1aqVIlbc2nTp2yWq1cbtqe7Xl5eQcPHkxMTMzOzq5QoUKzZs24Pac8NqrwZsfHx3/88cdr1qy5u7rJJzNg8TknCILd1nK4Ltqhj0+1ovms2O/GPRxG22dGil6X//bC/bf7BQhYCFgIWPCPL5iKdmC/n4Kp2PnW7q1guufNKNcB68mdTYXPG+2pQPrrQFN/CaGCwG3kHEa576E2T7O2GPc0tO39pz0DYpvGis5UwIMQ2o7My18w23Ox2PkNtPVrKZm3DRcpKP52ShD4LEW0elzXHNz5wMMumPgLrn3HSyqY7BYrGtf48a8HVTA9mWf+kz5d3Z3/4e2CS7FhvOiLfI7afWJJhV8p2eje3gVgdyuGoZgeI9vnggEeb8H0t6+gYELAAoA7ul4TUYMGDcaPH48xmR4xbfaqN998MzAwkJ6w+W4BELDgoeD+VdqwWACPq4wnooCAgICAAByNx3X8hw0bVvp9P8AjwyOU4lR8uHe2OAQP+8LKY5niUEAZifs4Do+LLMsPZCYTgPtnN+goIGCVs8KMiFJTU+fPn88jvKP7BTz2uI/GqccIndyh7FixYsWBAwdQMD3cFItD8PDuVvV6/VdfffXuu++mp6e/8847xT7yCvDoc395zojajghEanneEdRqw+MpmHjElpiYmODg4KNHjxqNRjxZjIBVLvGsBTwzNADK9QeatFAkANzLLdaVK1eIKD09vbCw0Gg04rAgYJVL3OWCp8EBeLwkSbJYLOU6Y5lMeaIoWSxOkmwUym0NFg8aaTKZcE7C4yn49XpCmzUCVnmvKuDJw7llEE3d8BiDviiKZ8+e3bN7t8loVMrfqahyfVW3bp96Vjq7d8+LZ882czDlKapYHq8MktXqW6VKly5dcGbCY7zzt5uqGRCwyhl+aAt3CVAmzkYic2qqevkyiSKVrwurQKoqkKoqbS5TpUJrwtHCXVbBpUCVy1ttnCCQLFtcXAq9vHBCQlmoBQAErPKKa7CKzjMI8OiJoihbrf5GY/PateVyN16ASkRUwfE3osxmVfzD69UVHPKpXNVgqarqYDQeTUo6kJuL513g8Z6KOAgIWOX+5oADFiZ2hTJCITKZTBXd3VVJKlf3ryqpAhGRTkdErk5Oru7uZDKQWp5iiqKqotHo5Oio5ObiVISyELBQiYWAVY7x1G8IWFBWcj+RoqokSSTLavnablUgUgVVJSJVUUiSSS+TUp52QlVV0ulUjDUKZakWABCwyivug4WABWUqq5AglL+Lq/D/Tw0Kwp+7QeVqJ/488gBlIesjYD186Hz9cKEGCwAAELAQsOAB3m/bD9MAAACAgIWABQ8AAhYAAJTNWgBkLASscoybCDFMAwAAlBGowULAKt+nL5+7BQUFROTg4IBjAgAAZSdgAQJW+caTPXPAwu0CAACUkYCFIgkBqxyTZdk2YAEAAJSdgIWMhYBVXimKgoAFAABlENIVAlb5DliFhYVEZDQacTQAAKAsQB8sBKx/wknMI7ljmAYAAChTAQs1WAhY/4SAxSO542wGAIAyAn2wELDKMVmWMdAoAACUtZt/3PMjYP1DAhYGGgUAAAQsBCx4YAELfbAAAAABCwELHiRJkiRJEgSB+2ABAAAAAhbcL24iFEURNVgAAFBGYKBRBKxyT1EUnpQQfbAAAKCsBSwcCgSs8nr6csASRfHBBixVVTFMHAAASpn7gYCFgFWOWSwWRVEEQeAmwgd1NqNeFwDgCXc/pQBqsBCwyr3CwkIOWKL4wI6zJEn5+fkFBQU4vAAAT+zde15entVqvbdopdV+IWMhYJXvgCWK4gMJWDziw5o1a3x8fFq0aJGfn0+YUgoA4EnCBcH777/v4uIyd+5cvuu+t1UhXSFgle+AxSfxAwlYnKWys7NzcnJSUlIURcERBgB4AmVnZ2v/3jMELASsconDkMViIaIHVYPFuDuXXq/HdwMA4MnE1//7LAVQiCBglWNaA/kDP4/xICEAwBN+D3/PpQCKDwSsco+bxvHQHwAAlDUomxCwELAAAAAefMDCQUDAKk9UVVUUhXug2wUsbe5nAACAR1w2ybJs2zioBSxZlvHU1MOAKVwe/D2BIAjFBiydToc7BgAAeCxlk06nsw1SWnmEsukhQQ3Wg7w/IKKsrKzevXtPnz6dbndy1wLWu++++/333xM6GAIAwKPCoSopKal///6//vor3R5MS1VVg8GQkpIydOjQLVu2aEsCAlYZPYn37dv3008/zZgxIyMjg6cglGXZ1dV12bJl77777vjx4/Py8gRBQMYCAIBHVjb98MMPa9asGTduHBFx2cTF0Lx585YvXz579mwiEkURZRMCVpk8lKJIRG3btm3ZsqXVav3000/5THVwcEhLS1u0aBER9e7d29nZWVVV1McCAMAjK5u6du1auXLlpKSk9evXOzk5EZGLi8vhw4eXLFlCRM8++yxXB6BsQsAqiwRBkCTJwcGhV69eRLR8+fLY2FgicnZ2XrhwYVxcnK+v7xtvvIEDBQAAjzJgybIcEhLCKWr27Nmpqan8+kcffXTr1q3WrVsPHTpUi2KAgFUW8TDrQ4YMqVGjRmpq6tKlS3U6XWpq6vz584noX//6V9WqVSVJwi0CAAA8yvt/Iho8eLDBYNi3b9+XX35JRKdPn96wYQMRPf/880SEsgkBq6yfxLIse3p6jh8/nohu3boly7LVar1582bVqlUHDx6MWwQAAHjUJb0oKooSHh7+r3/9S5ZlnsQwKyvLbDZHRkbGxMRoFQSAgFWmz2MiGjJkiK+vr6Io/GQsEY0YMaJmzZqSJCFgAQDAo7//J6JJkyY5OTlxXyt+ZeTIkSaTCdVXCFjl4yTmxwa5SVuv10uS5Ofn969//Qu3CAAA8LjKJkVRAgICevfuzWWTLMsNGjR44YUXUDYhYJWfYyqKRDR+/Hh/f38ea/Sdd97x8/PDAxoAAPB4TZs2rUKFCjwU1owZMxwcHFA2IWCVpxsFSZIqVao0dOhQVVUDAwOfe+45Qu8rAAB4rDf/siwHBgYOGTJEUZSwsLCOHTuibHp4MFXOQ6H1u7JardHR0c7Ozoqi4CQGAIDHm7GI6OWXX3ZwcOjZs6fBYEDZhIBVznBrd5UqVWbMmEFEqqrewxmsqioG1QUAgPssPrQu7fxvzZo1P/roI7o9mLs2Qw6SFgJWOTizBUGwPVO1uXHusJ1bW9h2ecwSBQAAd1gG2RU3dmWQxWLR6XR20zzfVTkFCFiP58y2FFgSEhLSb6bLiuxkcqoZUNPHz+fOq6P4/L6UfOli6sVCqVAv6H28fAJqBOj1etRpAQBA6WWQOd+ccCYhKydLURUnk1NQzaBKlSvZFh9Go5GIki8kp15JLbAWGHQGHy+fmrVqGowGTOaGgFV2z+wzZ86s27rulnhLNskKKXpVT3uocVDjru27Ojo7ln7u8m9zsnM2/LbhWMoxqkBW1aoTdcJRwVP0fDHmRTxMCwAApZQgR44c2bBzQ74xXzJKKqkGxUC7qUX9Fh3bdjSajNzpKiM9Y9OWTaevnlbdVKtq1Yt6OkxVnav27dLX188XGQsBqyye2QlnEhatWeQa7Fqrdi1txvLs7Ozf9/1uNpsHPTuo9LNWEARLoeWrFV8lWhLrtqrr5OTEyxcWFp47fm7BfxfkpuYSmgsBAOCvODkdPXJ0yfol3g29A2sE8g25qqpZmVmb9m6yFFr69OwjimJeTt7SVUuTlKR6reo5OjpyJxar1Xr26NnF/108JmaMt483MhYCVtlKV/m5+at+XeUZ6hlQO6Agr6DQWsi/dXVybRTd6OC2g35b/aLbR5d04qqkCiT8+tuvF9WLjdo2IpksZgsJRESiINZrVO/qpat7Nu0hIpWI63rRYAh3dn4SESkqqSrOmTLx51BVUhUigVSVUIrBnZ85ikLFNmPwo1SZ6Zk/bPuharOqVapWKTAXSCTxbytWqNiwfcNd23dV3Ve1afOmGzdvTBVSm7RrYi2wWgosvIwoiA2aNDgdf/rbH76dMGYC0hUCVtkSFx+XY8oJqRlizjMLgiDQnyeo1Wo1OhgrBVXae3xvm9ZtdAZdSRHt+tXrsWdiA5oHkEKSLAmioGWvQnNh1VpVnao6EZF4u/+iIODqDH+PTxK9jgwGwnNCj7WEJEEgvZ4MBhLE///TANzhF5lvkEr6Fu/et9vsYq5ZtaY53yyI/18GWSwWB0cH1+quuw/vDg4KPpl60j/MX7JIsvL/Q4yqqmopsFQPqX56x+nExMTAoEBUYiFglZHzXiCik+dOGioYREEklcjmtBREQbJKnpU9kxKT0jPSK/tULnri8isXL13MVrIDnAKKDq2rkiqKoru/OxFJVoqPJycnkmVcoOHvKQo5mCjhPF1IIn8jjsfjI1JeHqWkkOUkeVREDRbcZT5XSVHIzY3S0v7837+UQQolXExwquxEyl8KICISRVGySh4+Htnp2UeOHVGdVTd3N9n611JGIEVRHB0dTR6mM+fOBAYF4oAjYJWdQowKpUK9Qa+qKgnF3LnqdDpJlHLzcitT5ZLWIcmS3kGv0+kU2b6XlUCCqqhcp2W10N69ZDIR+mLBHV6XjQZKvUrJydSwMpFAdvcA8Gj+CiRSXj6lXqaMU0Roq4V7OoscHYsJWHyXblWtJkeTqqjFvVE1Go2SKF27cU3RK6IgyiQXu5ijk6PZbCaM14CAVabuTR0NjumWdEEQiim9BJIlWa/oXV1cS/t76PVWs1WWZZFE9a8XYJVUQRQUWSUig5FatEANFtxx+L9dgyVdpgoGpKvHQxCIFHJ2oqpVqHJdimqJGiy463TFNVh79tw+o/5yggkm0XQz/6bWt8Tut4WFhXpF71fZ71jiMUVVSjhLhfy8fOeKzkSkqIoooEsBAtbjP+9VQRBCAkPOnzyvkGJXeqmKanQ0Xr181UVx8fTwLPbOgF+p7l/dTXQrMBe4urpardb/X0wlQRAUVbmZmkVEegNFRJCLC67OcKcBSxTJ0ZWuH6cKOTgej/EvQc7O5O9PQfWoWXMcDrhrskw6Hfn62gcsVVUFUQjyD/oj7Q9BtL/JVxTF5GDKupZVQa3QoEGDzUc2Z9/Mdq/gbpWstn2wRFE0m82FmYV1WtchIgH3Yfdb6wIPTvOmzX0En+SEZEcnR4EEUv8cGNdgNOSb89MT0ts2aasz6IodLJQflPX28W4T3ub8wfOSImmjPJBKoigajIakk0nWNCv9OQ3Cnzc0+A//3cl/RCTJJFnRrPx4a7FIVUmSyGolVfmzQgInJ/67w//4bOFbpmK1jmpdoaBCyoUUR2dHvjPnosJkMt26dSs3Obdd03YVPCuE1wy/dPQS6Uiv+2spYzJcOH4hxD2kVmAtQhMhAlZZuWwKgqIoJkdTz+ieuWdyE08lKqToDDqjySiIQk5uzsmdJ5tXbx4VFaVSic9l8OttW7cNNAWe2HXCyQwxSwAAIABJREFUXGAWdaLRZNQZdFbZevboWcfrjs1Dm9Ofs+j8eQeD//DfnfxHRKKAx07LyOWCBIEEkQSBRBEnJ/670//4bCmlDHJzd+vRukf60fTkxGRVUHVGncFkEEQhKysrYVdC6+DW4Y3DiahTu04BxoDDOw6bC/8sZUSDKCvy6YOnnTOdB/QcQLenzYH7gSbCB5dVRVFV1cDaga8+9+q6zeuOJRzTu+p1Rl1hdqGr6tqzcc/ottF/W+mqqqrBaHhp+Eubt27e/vt2s9Hs4OpgKbCIeWKwd/CLI19cumwpbiwAAKBoGaQoSmhY6BiHMT9v/fnYiWN6N71OpyvILvAQPJ5t8WxUVBTHJkdnx1Exo/635X+7f99daCp0cHGwmC2URw2rNew1tJeHpwcGaEDAKov1WKqqVq9RffTQ0adPn868mSkrsqPJsVaNWpV9K9/JDQGf0waD4ZnOzzSo2+BSyqVCa6FO1Pl6+9aoWUMQBVmWcZwBAKCk+/zadWq/XO3lU6dP3cq5pSiKo4Nj7cDanl6eWmxSVdXJ2al3z96NQhulXkkttBbqdfrKXpWDgoJ0eh3SFQJWmc5YBqMhNCzU9vW7OmU5ilWrXq1a9Wrai5IkEequAADg78ogk6MpvFF4SWUQL0NEATUDAmoG/P8ypCJdIWCV9fOb/jpdoKD1mbqbNahaV3YAAIC7yVi2xUfRMqjYUkYURTw4iIBVDoj3PSOJ3VcCEzwDAMA9FB/3uRjcYwzAIQAAAABAwAIAAABAwAIAAABAwAIAAAAABCwAAAAABCwAAAAABCwAAAAAQMACAAAAQMACAAAAQMACAAAAAAQsAAAAAAQsAAAAAAQsAAAAAAQsAAAAAEDAAgAAAEDAggdCEAQi0ul0/AMAADxxJbcoav8CAhY8GAUFBURkNptlWcbRAAB4AvH1H6VAGafHIShftyxhYWExMTE+Pj4mkwnHBADgicJtFy1btkxNTY2MjNReAQQsuN+A1apVq1atWtl92QAA4MkpCAYMGDBgwAB+RafT4bAgYMEDoKqqoij4UgEAPLEURVFVVRRF3GMjYMEDIwgCohUAwJMM3dvLx58JhwAAAAAAAQsAAAAAAQsAAAAAAQsAAAAAELAeLlVVVVXVfi7lt6W/lymKIklSKW8piSRJ/AhhuThixf4MAFA2L1ZFr9V3cm1/SNc3SZLKyziipZePTzI8RXhHbB+FLfpYLL+iqmqxT8wWfVEUxXt7BkSv1/8zjhgAQFm7WN3Vtb2kC/4DK5txtS//UIN1R2RZ5psJVVXtqpFkWeZbjWJPLFVVeQF+C//7xx9/jBkz5ujRo9ord3KDlZWVNXHixI0bN97hux77EeON5COG2xoAKINs2xO067zd1bvYy5cgCNrF/wFuD39WZmbm66+/vmDBgvJePiJgwd8bOnRo+/btiejKlSvBwcGzZ88mIkmSiGjKlCn16tWrW7ful19+STaTQ/EP33zzTXBwcP369adOnaq9ZefOnQsXLoyPj7+rgJWZmfnJJ5/89ttvVIarYXnDLBZLVFTU9OnTiWj//v2BgYH//e9/td0HACgLsYCIFi9eHBgYeOLECSLq379/jx49FEXhy/LGjRvr168fFhY2ePBg20su/zY+Pj4yMrJhw4YdOnTIy8t7UJdl7XZ65syZCxcu5Gtm2bzg81YpitKzZ88+ffoQUWxsbI0aNZYuXUqYJ5GI0ET4tycQ10slJCScP3+eiAoLC8+fP3/lyhXt9EpOTj579iwRffLJJ4MHDzaZTPwubgT88ccfExMTeTG6XX0aFhbWvn374OBguj1eHH9jRVHUvttEpNPpeHn+183NrWfPnhEREWRTca0oik6n4x94e7R3Ffuitl+KohQdBVjbDLvF6PbAwWTTvmm7frtGT0VRDh8+XK9ePSLKzs6+ePFiWloaTicAKGv5IDU19eLFi5yQTp06VVBQoF32b9y4cebMGSJKSkr64IMPqlWrxr/iq+K6desOHz5MRGlpaba3jtqFURAErSy488uvdrXv169fYGAgDyvNqyp6NS72am93Nb7bqz3XzBVdVbEv8htPnDhhMBiI6NatW6mpqZcvXyZ0xkLAunM6nY5PINvEw/jngICA8+fPnzt3rn79+tzjTxTFw4cPb9iwITo6eufOnbbz23Tv3r179+78dj5Tta+N7blr98Xw8vL66aefbN/Fo7orimI7vLs2l47dmO/al5NKHg7ermcYL6Z9k+3WT3+drsdu/Uaj0XbX+OgBAJQpfGniy5Rer9fr9drlnX8VGhp67NixNWvWTJgwQZZlnU6n1+tVVd28ebObm5skSXa3r0Wvrtq0NnbXVdteXLYL8NV+9erVRa/GdvOkFXs1to1id3u15021u7BzvCvlam8wGLjHGC+Dqz0C1t3Rcg9/H4p2Ue/du/fcuXMXLly4cOFC7fzesGEDEY0ZM+b333/nmML/pqSknDlzJiwszNvbm+8M4uLi9Hp9ZGRkSkrKmjVrLl++3KBBg+7du3t4eGhfwoKCgn379lWrVq1WrVq8/sTExNTU1FatWpnN5h9++OHEiRNBQUEDBgxwd3cnovz8/LVr1x4+fLhWrVq9evXy9fXlTxcEISMj48iRI7Vr1/b399fWL8tybGysq6traGgov3jp0qVz585FREQ4Ozv/9NNP+/fv9/X17d+/v7+/P38Pf/755927d3t7e3fv3r127dq2tyxaLiwaSQEAys61veh13vZXvXv3dnV1nTdv3rhx4/R6vSRJer1+06ZNBw4ceOutt5YvX56VlWV7fcvPzz98+PDu3bvT0tLc3d2joqJatWplNBq1y+/x48evXbsWFhbm5eXFV3IuMuLj4wsKCpo1a2Yymcxmc1xcnKura6NGjfhqfP78+aSkpPDwcEdHx59++unQoUPVqlXr378/X9gtFsuGDRtiY2N9fHx69epVq1Yt7eNu3Lhx7NixmjVr1qhRwzbSHT582Gw2N23alFNRWlraiRMn6tat6+vru3Hjxp07d3p4ePTt2zcoKIhj5ZYtW7Zu3eri4tKtW7eGDRty8Cr2uOFq//+nEA7BnSgsLMzPz6fb1aq2FcJ8YjVp0qRr167Lly/PzMzkWxwi+umnn6Kjoxs1aqTlfW6WXrlyZYcOHbZu3cprMJvN7du3Hz58+IoVK2rXrj1hwoS5c+cOHTq0Xbt2p0+fFgSBP+7q1att27adN28eEVmtViKaPXt2mzZtfv755+Dg4GHDhs2dO/ell15q3LjxiRMnTpw4ERwcHBMTM2/evDFjxoSHhx8+fFgQBH7jjh07oqOjv/32W94X/iqazeY2bdqMHTtW28H//Oc/0dHR69evb9GiRf/+/efOnTtx4sT69evv2rXr2rVrzZs379Gjx5w5cyZNmhQaGrpx40auPOfdzM3N5Z3lT+Sjh0pjAChTCgoKtCtzQUGB2WzW6oQ4KFSoUGHkyJGXLl365ZdftCW3bdtGRAMHDszPz7ety8nKyqpXr16rVq3+/e9/z58//913323Xrl2nTp1OnjypXclPnTrVvn375557juMOPyA1Y8aMZs2arVixwmQy8dW+devWI0eO1EZAmDNnTvv27T/77LN27dq98MILHPiaNWt26NChjIyMqKiofv36zZ07d9KkSY0bN96+fbt2td+yZUt0dDT3l9ea+RRFGTx4cLt27Xj3iejHH3/s0KHDJ5980qtXr27dun322Wf//ve/GzduvGrVKlVVu3Xr1qFDhzlz5rz99tuNGzf+7rvvuEMLr8psNvN6eAf5ag8IWH9DS+Ivvvgi91J3d3d//fXXO3fuTDbtdETk6Og4YcKE/Pz8lStX8otbt249cuRIr1693NzcSl+5qqqOjo6nT59+++23Z82adeXKlZSUlDfeeOPIkSMjR46kv7bE/aX6Ua8norFjx8bExCQmJqakpEyfPj0pKWnChAkvvfRS+/btz58/f+3atRkzZly7du3ll18uZVWl4Px09OjR69evL168ODs7e/LkyTExMZUqVTp+/HhGRsayZcskSXrxxRdv3LjB6zcaje+99x43g9auXXvy5Mlt2rS5t08HAHh4dVcdO3acNGmSv78/Eb366qsTJ07U+kVoN8AxMTFExAHLZDLl5OR8/fXXw4YNCwkJsQ1YvPAzzzzzzTffnD9/PiMj49ChQ1OnTt2+ffvEiRP5iq0oyoABA8aOHbt169Y333yTG+Y2b9789ttvN23adObMmSVVAvEmzZ07NzQ0NCEh4fr165999tmlS5cGDRrUvn17Ly+vkydP3rhxY8mSJbm5uZMnT+aatjs/GhwcP/30U1VVObStXr1aEIRXX321Xbt2V69ePXDgQHp6+vr166tXr/7yyy+npqbygdLpdBMnThw/fjxf7SdMmMAPhGE6akIT4R0aPnw4/+Du7v7RRx8V/Q6YzWbOEzwEAxEtWrSIiHr27Jmbm1v6ylVVNRgMkiRNnDhx9OjRVqvVYDDMmDFj586de/fuzczM9PDwKPaN3NTdvXv3jz76iGtxJ0yY8M0332zevHn06NELFizg79gbb7yxadOmPXv2HD9+vEGDBlRyFa4gCLa/4u9naGjoV199xds5atSotWvXbt68uVevXmvXruWa7cGDB+/Zs2fJ/7F33mFRHd/Dn+2F3hURUKQIFlQsWLAhGjFiAWuifi3RWAmWWIKa2FGxRkPEmkQNlgR7w4pYsKHYUEBFmtLLsv2+f5zX+d3sAoJionI+T548uDt39t5zZ86cOXPmzJYtR48eHTVqFP1RqKRhw4YrVqxgazQEQZCPxMDq0qVLly5d4JOJEyeyrRlApVJxOJxWrVrt27dv8eLFFhYW0dHRRUVFPj4++prc1tZ248aN9JPmzZt7enomJyfv3bv3xo0bXl5e4PVZsmRJfHz80qVLW7Zs2bVr11GjRnE4nLCwMDMzM9D/+kMMaOP+/ftHRERAJdOmTYuLi4uKiurRo8fRo0fBgTR27NjExMR169bduHGjXbt2+vP5ioDZb+fOnaOjo8HZFhQUFB8fv3LlSkNDw2vXrllYWCiVyr59+z58+HD27NkxMTEjR47UaDR8Ph9m74QQJycn2GKP2h49WNVArVbT7bIqlUp/A6pSqSSEDBo0KCoqKjk5WaPRHDx4cNiwYba2tm/1l3I4nLKyMjMzs+HDh0O7hNratm2r1WoLCgoquhA8wKNHjyaEwPZDsVjs4uJCCOnYsSN8CGXatm1LCIE9L6TipbpysxJD/UqlEiTg7e1NCAHlolQqoau3bNmSEPLy5UtaOU0PAxLDzCgIgnyEgJKkWks/lQx8MmPGjNzc3AMHDhBCwsLC6tSpM3jw4LKyMh0zAupRqVQpKSnXrl07d+5cQkJCvXr1CCE3b94kbyLQjY2N//zzT7FYPGvWrAEDBmRmZv72228+Pj4QMq9TG5vWrVtD/XBXsBV93LhxbG1sY2NDCHn+/Ln+jb3V3PT19eVwOHK5HKqysLAghHz11VcWFhYKhQKsNFtbW0JISkpKReMjanv0YFVTTG98rbBjoqJi48ePj4qKiomJgXYPVshbWzaELllYWEilUmjodDcsNd0qUg2EkDp16hDW6puBgQEhxNLSEj6EquCeqe6oYhAi1A+R+LQqoVBICBGLxewfhQ/fQWIIgiD/rR+LGknlrqmBluvdu7elpWVcXNzQoUPv3bs3ceJEsVhcUFCgk3+By+Xu3bt3+fLlCQkJsPmOVktn2lwuV6PRODg4bN269auvvkpJSRk1atTw4cO1Wi2sIVY0+yWEwAYmqnhhEmtvb0/erD/SbysZON5qZtH64enoaAIfQpQYu37U9mhgffBeSgjp1q1bmzZtfvvtNx6PZ2FhMXjwYFLlwKNKlu2qdSHbOKuoJNvme7cdH+XWjzHsCIJ8lhgbG48aNWrDhg2g+nr37q2vPLlcblRU1NChQ5s3bx4eHm5jY2NgYGBmZrZ3797Nmzfr77OjAeZWVlZV1J8VnRdC9NYfqjtwVPdDBA2s/4CAgAAIh58+fbqpqelH1Tpp92NnN0WrCEEQ5K1069Zt1apV27dvb9GihZ+fX7nzzOPHjxNC9u3b5+zsDGEbfD4/Li6OXRg2lScnJ48fP97JycnU1HTlypV9+vTx8fHRaDTVCl2qyuBSroZXqVQlJSUYJoUG1qdnYG3fvp3L5Y4fP/6jvUmImgf3MmzcFQqFT58+ValU+v42nL58ZjAMU3603Ud/44T5/0Gj///24b9PBy3DcN+k20Y+LdRqda9evYKCgk6ePDlt2jR23mnC8iElJiZaW1vb29ur1WqlUimRSNRqNaQMpTGpXC43Ly8vKChIrVZv2LDB0dGxSZMmAwcOvHTpkpubW3V3/70VCJmCA0XAtBIKhQ8ePEhJSTE1NdVpjajt0cD6uGAn0lSr1R4eHnCslVAoZKe7rTwPm06itkraun4ePJ1i5Sb21PnQzc3NyMgoKirqm2++qVu3LiEkPT19woQJ5J/RVJW4i8utH+dDn4KRQng8HhEKORrNp6RKOYQwHEIYAs2PL+AIRUSkItpPqskxDBGJuHzUup+Sbqcng3E4nN27d6vVarFYTDN2guqmWrFZs2Y3btw4ceJEQEAAfL5hw4Z79+79Y3pDyA8//HD79u0FCxb06tWLELJ169ZRo0bNmjXr0KFD+hq+ioqd7gHXKdOqVat69eodP348Pj6+devWWq1WqVQuWLAAtD01sKoycGDuaDSw/u3uB/MSGj/OMAzEANKGS89ppxfCzj76CeThpTtZdLqiTj3sEEia503/fnT2OdI9MoQQhUJhY2Mzc+bM+fPnd+rUqV+/fkqlMioqqlmzZkKhEM7kqujO6c3r7LX5mE8kRdjWFZ/LzSsuvvvkySe504chLgqllJBnWVm5SY/50jLmkzKwGIYR8PmZubl8nIp8Il4rHQVIk0hTDaxUKtnn1QwcOHDbtm2DBw8eNmxYnTp1Tp48mZyc3K9fv/3794PmFAqF27dv37x5s5+f38KFC8EXO3LkyNjY2MjIyNDQ0EWLFhHWbkSqVPVzXOsMAdQrzR5flEqlsbHxwoULx40bFxgY2L9/fz6fv2PHjmbNmrm7uz958kRHscP/K/qQPY7ob7dE0MCqeZydnZ2cnGBnLMwh6BkFUEAsFnt6ekL2BPjQ3t6+QYMGsDuPEMLn89u1a2dqasrOCEwIcXBwaNKkiUQiofU0a9bM0dGRzmwaNGjQvHlzsOcoLi4ubm5uOuFf9evXt7e3B2cVKIh58+ap1eq1a9euXr2ax+MtWLBg9uzZXbt2bdKkCb3Qzs6uUaNGsG+FVuXg4ODg4ABuZ/ph3bp169evr/Mh8rGh1WgIj5et0bx48eJTnNEwjLauskxKSGLeq8QXaRJDhVb76TU2AYfDMTZW4fj00U+era2tHRwcIAcpezWQ/s3n8729velJtVqttnfv3n/99dfMmTN37NjBMEzLli2vXr369OnTxMTEhg0bEkIKCgoOHjzo7e39yy+/sGsLDw8vKCg4ffr0qFGjnJychEKhl5eXh4cHHVAcHR0bNGhABxqq2GE5gu3Bsre3d3R0hJKw+3vs2LFlZWXLli1bt24dh8OZNGnSokWLgoODLSws6Ka/evXq2dnZwYZEWr+9vb2dnR2kmaAfWltbw8E7qO2rorPe3esAjaOkpMTLy+vw4cMQ1lfb1ol0XKyVlNHZ0KvzT1LBfsBKilXxqnJvEm5ALpdrNBqhUCgQCOgR0ZXcZ0XPWxUhIP9tK+VwOElJSfHXr4tEIvJJ+ho5hJDuPX4xM0u+emVkakoroVDGMJ+ktlGq1TY2Nt27d8eW+fHr9sp1mk4ZGAHVarVCoeByuSKRCI6UocMiHE0G+pYqW3A+QfoGrVYLRk+52r5c3V5R2nedu4J1Ej6fLxKJKtL2lY84lf/oZzsv1Wq5XO6NGzdWrFixb98+9GD9B3Od6pYpd6n7A11V0YeQmJT+rdPZqngPaFd9Qq3U2dm5UaNGn/SDcLn9CGHatuO1aYtNDvnodDuYU3w+HxYKtFotnLHxfyMuK2WUTmwTHDujk4PqrTdTFYUMpptQKIQQW9ir+M7aHhU+Glj/gXugWgWq4sEqt1gVpy9v/ZC9mkn+GchZI/UjH+eA8em/I9jYQbCtIR+JbtdR3TRTNGFFqbPrKVfbUxur3LXI99fG7AMWqQ331vEFtT0aWJ/AROfdfFFVKfaeTqwPXT+C1PiQB80NBYF8nLr9rYq0kjorL1az2p7U9JIIUv50EKloXoKgbJGPbcjTsa7K3XuLIKh8UOz/OejBKr81VHQigfZNnkAOh1PuMjb71IJyC7xPA616tXCr+udk6V+ovx4P1+oXhl+n0ZHl1qaz+b+i3CroYa4lQH+pqKlAM3jPbTFVdAYjSFUUO7TVchX7W5X/hzBK6C++9edoh9LpDjqfgIrW6XTlflgVyegPNBXF8tZOnY8GVvnQvR5s24LL5eokOtffNfmBkrBVt1oOh1PFMxDLTd2u/yE1udjPqx8aX+5gyZYSRH0KBAK0sWoDFRlP0JtqZBBiV1XROIEgoNnY2/Sqq9h1ynxoDVZdnV/FZl9usXJNq6pIpqLBgj0uqFQq/XrQwKqlE24ulxsXFzdlypSdO3c2bdoU2go0tcLCwnPnzt26dUssFnfu3LlNmzZ8Pl9nk4harZbL5dnZ2RkZGXZ2dg0aNKiRfgj7frOystLT0yETVSWzMQ6H8+rVq6SkJJqWncPhqFQqW1tbR0dHKACOK6VSuXnz5mHDhllbW6vVah6Px+FwcnJy7t+/37Bhw/r160NhEItKpXr06NHJkycLCgqaNWvm6+trbm5OHVpwk7dv31apVCAxoVBoa2traWkJ+YKpGCdPniyXy7dt24Y21ueNTCa7e/euWq22t7e3t7dnv26tVpuQkFBaWmpjYwMp4qoL9Ls1a9bs2rUrLi5OKpUSQoKDgx89enTs2DE+n4+tC9FR7ImJiSNGjFi/fn3Hjh3Zir24uPjixYvXrl0Ti8XdunXz9PQUi8Vsxa7RaPLy8m7cuHHr1i2NRuPl5dW+fXs4Z6aKbYyeS1j1mYNSqSwpKXn27JlcLvfw8Hjrzz158iQ7O5t9FAfDMO7u7kZGRjRBqEAgiI2NzcnJ6devH6RsAO395MmTnJycNm3awCNT6yonJ+f8+fMJCQkGBgZ+fn5Nmzbl8/kgTLiZ9PT0lJQUmuXH3Nzc1tbWyMgI7hNKXrt2bcqUKbt27YLxtHbNf5j3AJyHxcXFrq6uSUlJDMPAwXafLnD/fn5+ffv2hX/CMzIMExISAo1PJBLBBMjKyurPP/+EYnBhYmIiJPOEAhMnTmQYBpxh73M/169fh6ykUG1ISAjDMJDkVx/4PDIyku2dgo707bffwv2AG4lhmNzcXEtLy9u3b8NvwbV//PEHISQ0NBRqg5IXLlyAdHOQRgX6z8iRI/Pz8+l95uTkwCmHAoGAz+dDR3J0dLxw4QL8LtS/Y8cOQsiNGzc+gwaDVNJuExMTIQtu69atoRdotVr44+jRo9AyBw4cSDUJvValUtGGp69zoCEpFAqGYYKDgwkhRUVF8K2vr6+hoaFcLqd10vIqlYr9K7Q2+JD+qH4Z5LOhefPm3bt3Z793pVI5d+5c0GZUsRsbG4NipyoLkoKCOoXCfD5/+/bt76neywUqXLZsGfwi/NyJEycq+S3oKUOHDtW5SUII6F4YyOBZ5s+f//XXX+sMBHBtYWEhLaxWq6dMmQJVicViOuSdOnUKykAK+8WLF4Po+Hw+/elJkyZB96Ry7t69u6en5yetzeLj4wMDA6t7LfrS/zEn5nK558+fP3Xq1FdffUVYEUXBwcHh4eFdunQ5f/58fn5+VlbW7t27zc3NBw8e/Pfff0PuE0KIQqFo3Ljxd999N2fOHKJ3yMw7I5fLGzduHBISMmvWLKIX51SJe3nKlCl//vnntm3btm3b9uuvv44cORJ64PPnz/v16xcTE2NgYCCVSs3MzBISEoKCgm7evEn0TuPhcrmXLl3q06ePQCBYt27dixcvioqKLl68OGLEiJ07d44aNYrOqyBzqaOjY1xc3K1bt44dOzZr1qxnz55NnDixoKCAx+OByTVy5Eg3NzcQEfoYPu8VGaVS6eDgcPfu3ZMnT5I3YSKg99mLenSyB+0N0ghBt2KHx0JhOK6EfRAnbUWhoaG///47PYgXWiaU5/P54IvVuUPqxmDnLsJ395m5rwghN2/eTEhIGDZsGHlzwj0hZOrUqUuXLvX39z9x4kR+fn5mZubOnTvt7e0HDx78xx9/0Amqu7v7zJkzDx069PLly+Tk5C1btjg6Ok6ZMuXJkyc8Hq/yBgPfxsbGrly5UucgmkoQi8VffPHFkiVLOnToQMoL5Ch3lYMQ8uuvv+7atWv79u07d+7csWOHq6srrAAuXLhw0qRJYD4aGxsTQpYuXTpixAh6zI5OpxgxYsSGDRsGDBhw6dKl/Pz8jIyMX375RSwW+/n5nThxAhJr0UvWrl17//79uLi4HTt2tG/f/ueff163bh3IGYoNGTLkzp07t2/frnX9Cz1YOo/TrVs3JycneBAw+X/77TdCCPhUoRh8e/v2bQsLC1NT00ePHlHDHyqBE/2++eabmpriUFGDUnirB2vr1q2EkMOHD5d7A0qlctOmTT4+PmPGjKlbt+7o0aN79OgxZ86cV69eMQzz+++/E0Lmz58PD6VQKJycnAQCwdWrV+krhvsZO3YsIWTz5s1QbV5enkQicXd3h1+EkoMHDyaE/P7773BvcHsRERGEkIsXL36IKSDykcz5Hj16RAgZPXq0paUleE9h1ltSUlK/fv2BAweampr26dOHznThqufPn0dGRm7YsOHOnTtslQJNTi6XHzp0aM2aNZcvX2YY5rvvviOEFBcXQ4HS0lL4m5bPycmy4BJhAAAgAElEQVTZv3//+vXrd+7cmZ6ezvaWabXatLQ0aPMJCQnr16//448/cnNzdTxqyOfRGgMDA83MzEpLS6mSPHDgACHEz8+PtgcomZSU5OjoaGBgkJWVpd8Y4NpNmzYRQjZs2FCJKqbKlmGYefPmsRtqVW4bqv3+++8JITExMW/1YA0cOFAsFpeVlen8BPx9+/btoUOHBgYG9unTx8fH5+uvv+7Zs+fRo0ehDNuDxTDMnj17CCGDBg2il8NP3Lt3j8fjubq65ubmwudLliwhhJw5c4be8PPnzwkhvr6+OiOXmZkZeIA+OSMBPVg1Y2hyOJzS0tKzZ8/6+/vDcQcwSz506BAhZNmyZXw+H6YgHA5HoVB4enrOnDmzoKAA0udrNBqaulMmk9X47RFCSkpK3sHrAysmhHU8J5/P//bbbw8dOvTixYvMzMzbt29HRkYuXbqUfYIh3Tly4cKF5OTk8ePHt23bVqFQwFdQ1cKFCwUCwd69e9k3Cd5jtVoNQmjZsiUhJDc3F8rAVKxfv37g90aHwWePqanpoEGD9u/fL5fLwUX0119/paWlgcmlc6L5rFmzHBwcxo0bN3XqVE9Pz1GjRkGPg4iZ7Ozs7t279+3bd+bMmR06dAgNDaUhI9BuBw8e7ObmRjvprFmz6tSpM3jw4GnTpo0cOdLJyWn79u0QgAj+5ubNm8+YMePnn39u3rz5d999N3z4cC8vr3v37un7upBPV7Fzudzc3Nz9+/d/+eWXUqkUFDUhBLyqP/74IyFEqVRSH7yzs/OYMWNKS0v/+usv6naF5WNaLbRkcAVVBZFIJJFIqhV+BD9X9aEEdiBR9UsdSPCwzZo12717d1BQ0JEjRy5evOjs7HzixIlevXrpuJDhd9euXQuxKIR14LRSqWzSpMm33377+PHjqKgo9jAE0oP5s6mpqVQqzc7Opi4ujUZjaGj45Zdf7t+/Py8vj52I9bMHDax/tC2Yc1tZWdHVsby8vOPHj1tZWcGRn7DQwOFwIJZwyJAhEF2o48Wlu1Sq5UF8a+Gqx0gCISEhNjY29vb2vXv3vnjxIsQngil5+vTpbt26GRkZ1a9fv3Hjxn379t26dSt0CZ07OXbsGCGkcePG8Iywl1AgEGg0mnr16g0aNOjChQupqan0Qh6PJxQK+Xy+gYEBIeT06dOEEGdnZ7ZpaGxsLBKJQNq1c3dJrVqgCQ4Ofv369Z49e6ABnDp1qmPHjl26dCkuLoYhB+yn7777buXKlT/88EN6enpeXt6qVat27tw5efJkMPRVKpWvr+/ly5d3796dn5+fkJBw7ty5VatWmZiYUFWuVCphBk+nFuHh4SkpKRkZGU+ePPHz8xs9evTx48ehyWk0Gj6fv2vXrp07d964caOgoODo0aPPnz8HZwMuXn8eQNs4cuQIuFWgsfF4vNLS0n379jVv3rxNmzaEEKFQCIodVHe7du3oVdBEQeOVlJQoFIobN24sX77czc0tMDCwIg0Gs1C1Wg03wP5bo9HQvysbm7lcUp0tsTweTyaTNWvWzNLSskmTJvPnzy8uLqYrmMXFxVOnTt2wYYO/v3/Xrl2vXr3ar1+/Fy9e6B8o8vTp02vXrrVo0aJVq1ZUMnQbYFBQECEE3FT0Egi15PP5AoEgPT1dJpO5urrCT1OnQ5cuXQghEHxZU8EzaGB9Yuv0ly9fJoTAOeHAy5cvS0pK7Ozs6LF9bMzNzblcblpaGu0J1dXLHBaVF6tWtUqlUiKRuLq69urVq02bNufPn+/cufPq1avBPHrx4sWPP/44adKk7du383i8RYsWLV68eOvWrQkJCfoGFhhPzZo1I+WdAwpHxL98+ZK8OUsrPz9///79+/fv37Nnz+zZs8+cOdO7d+8vvviCrSyEQqGDg8OtW7fATYjZ/z7ozKGK5vsHorS01NnZuUWLFjExMYSQ7Ozs3bt3+/v7U/0LqhkW6WbPnr1o0SIrKytjY+Pp06fPmTMnMjLy1q1bhJCLFy8mJiaGhoYOHTpUKBQ2a9Zsw4YNsI1XZxJPXbDr1q2bMmWKvb29jY1No0aNDhw44ODgsHHjRp1JS0RERKtWrYRCYe/evadPn3748OH09PQadGJVXf7/7Zv6jGfOz54901Fi+fn5+fn5LVq00AknAh3l4eHB4/FSU1PBAwQOobCwMCMjIxsbm9atW4vF4gMHDkilUp0sUOymCFF9YJdwuVw4+5m8CSJ868SyWkl5QKm6uLh4e3v369ePy+UuWrSoS5cu9+/fhydavnz5/fv3Dxw40K1btyZNmhw5csTIyGjatGnsSTU0+Pv37xNCXFxcYCuuzq84ODgQQl69esW+gfPnzx8+fPjgwYNbtmyBKDcIYqbLIIQQLy8vsN5Ibco7imka/kF6ejo1GqA9lZWVEULEYnFF0xTIgMDuzNWy6uhyBsMwVel1VZnHEEJ69uz5+PHj+vXrgx/u/v37/fr1mzFjRtu2bTt27FinTp0TJ04YGhrm5+eXlJQUFxf36dOnZ8+ebBVDgWVB9uoh+2Hh5+g6jkAgyMzMHDp0KHjmtVqtt7c3BHXRTA3wE1ZWVvHx8aWlpSYmJtjwPtCcAUxeOpWvKKunTgrZmvUpwuAUFBQ0d+7cX3/9de/evRqNZtCgQXTxAoCAmLZt275+/RpiDQ0NDX19fZctW3b8+PGWLVvCQjxMoGEFv0WLFv3799+3bx/7hmkfhBb44MGD6OjowsJCtVptYGAgEAhu3boll8vFYjGXyy0tLe3YsWOLFi3oEAve6/T0dNgz+/7uEypzCOag+8J0isGbopvb2S8OeR9ApLCGZWZmRj8BlcVOasAG9kHDsiDdndOhQ4cZM2aYmpomJSVFR0dv3LhxzZo1IpFIJ3sCVbkwAdBqtVKp9OLFiyqVasqUKZCzRq1WW1paLliwoOprHZU/o1arXbp0qY2NDVSoVCrXr18/c+bMZcuWQfwrrKeLRKKioqKCggIOh7N9+3alUqnvF4AhD/KesB+NmnFUnpRly5bR+BNCyN69ewMCAnQSGIHw6XiHBlbtne6wd7rWqVOHEJKbm6tUKvV7I8RFQm4CtgFRFc3L4/EOHz48YMAAiUTC4/GKiopWrVo1ffp0tVpd3aVAfYUCTjgaLOnh4bFs2bKgoKCYmJiOHTtyOBypVMowjFgsHjVqlKWlZSW+aPj2yZMnTZo00Z/QQFgYdB4ul6tQKBwdHaOiogQCQU5OzvLly2NiYo4dOzZ8+HBQVTqX43z9AzVjtrTpZjpSXm5Y6kb9QPlp4Hf79+8/d+7czZs379q1q0+fPg0bNiwpKWE7L2HRYdy4cTSPGr0WdPfLly+FQiE0bB6PByaRra1tRfqay+VGRESEhITIZDKxWCyVSjkcTm5urp2dHXVNabVaIyMjKAwf1tRGQrrhkf0KwCWgM/Cwi8HbYS+b4krlBwLee05Ojv68kcPh5OXlKRQKc3NzsFfgjXTp0qVLly7w+hYtWjR//vwmTZpMnDhRR7NB033x4kVERAT7sGfIngN2v0ajsbe3nzdvXk2lXOZyuXZ2dtQ6FwqFU6dO3bRpU3R0dH5+vpmZmUQigX7Upk0b8EIxDAMeOB2dDPVkZmaWK5nCwkKq8Cnr16/v0qWLTCaLiYmZPXt2RETEF198YWxsjLno0MD6BzB/TU1NhYV5aG0eHh7Jyck6BhYEcMC+Uzc3N/qJvplVrg0Bzc7FxeWHH36APeclJSWw8F+Rj4FWW26F0HmoZQZTZxhWaZAjnUDQMVUikaxcuZJqefYshNK6devff/8d4qXo2AAzbIZhTp8+bWlpCSFWMF5KJJKWLVtCsbZt23p4eAQHB3fp0qVevXr0zrVabV5enrm5OcyTkA9hXT1+/HjXrl2nT5/Oy8szMzPr3Lnz6NGj3d3d2blhgcLCwufPn8fFxSUlJZmams6cOVMikdSUcoRK3Nzchg8fPm/ePIVCMXr0aKIXhwFNd+fOnfXq1VOr1fSnIdSPEAIjhE4T1d9kTv+ZlZU1YcKEgQMH7t69G5orn8/39/e/fPlyuR4v/Xt+H+sKHNvnz5/fuXPnnTt3VCqVg4NDYGBgUFCQubk528bSarXnzp07derUtWvXsrOz+Xy+h4fHuHHjIGMTtucamTND64LZIJ03tm/f/tSpU4WFhSYmJrS1Q7KeixcvkjeRWNBQQblRX+M333zz008/7dy5c+LEiaAJaZuhawjgClKr1YaGhqGhoStWrHj16pWhoSG0YQ6HAyuGFTW2ygcRmNtT7xo9k4rep0AgcHFxSU1NLSgoMDMzoweT9O7dm3rpdKqFqpo3b25mZnb79u2SkhJDQ0MdycTHx9NZN8XFxaVx48YqlapVq1Z2dnbDhw8PCwtbvHgxjIlQBoQP/8Qg91rqSW7bti15s2APjlwej/fFF1/I5fLo6GjyJj6RbjCEbB/t27cn/0zJo/9//QkHIaRx48Y//vhjaGjovHnzli1bBilPyjWw3lohzeJDOzntaaAgwEKiZdg5tSuXTEBAACHkxIkTWq1WKBSq38DhcE6cOJGQkDBkyBBDQ0O2Uwp6u0KhMDIyWrZsWU5Ozvbt29ljqkqlevHiRcuWLWmSd2yBNes0Cg8Pb9Wq1dKlS9PS0iwtLTMzM1evXu3p6TlnzhylUgnGOryOnTt3mpqaenp6Tpw4cc2aNStXroSBoWZ7FiGkU6dOCoXCzs4OtoboZESECYBMJmvevLmnp2fLN7Ru3Rqy7DZp0kSr1YJ+VygUcOHt27dheNO3uq5cuQLjHETp8vn8oqKi27dvi8Xit+r39xkAYIUoNTX1yy+/7NmzJyyJGhsbX716dcKECW3btj179izEn8Gv5OXl9evXLyws7MaNGyUlJenp6X/++aevr++ECROwX9RU8wNP54MHD9jT0T59+pSUlEDeYx3FfubMGfJmDxN7mgoWDCGkqKhIrVaXG5hLNbxYLBaLxTQAHDJ2QqJm+nl1OxG7foFAQAcLGoQOCh9cvM+ePROLxeCrozXQYICKhhITE5MhQ4ZkZ2cfPHgQdDVIBsYOyLAD2wUI6wwP6qUbPHiwq6vrpk2bUlNT6bYqQggE+MJesdrTsNHA+ofF06JFC5j7kjcBs4SQb775xsHBAfYfgbcJzJf58+dHR0ePGTMmICCg3JiJqhzJrGbxVluHdnJ9nb569erVq1dDDWq1+u7du3K5nO74S01NnTt3LiGkc+fOOjXo18b+FZh5h4SEXLx4cdq0aaApoG/fvHlzxIgRVlZW48aNYw/tdKchGE/Dhw/v3LnzunXrsrKyoL8RQoqLi0tKSpo2bUpq046Sf21ECQ4Onj59uouLy/79+1NTU69evZqSknLs2DFXV9fly5fD7mtqRuTl5XXu3HnBggVLly41MDAQiUQ1Ff3DbkjQEo4ePfrXX3/Z2NjQcYs2v2HDhtWpUycsLCw3N5dtMyUmJkJIFox2oN8hWjEqKio2NtbU1JR2HOib8LsQNciOxl25cmVmZqaBgQEtz74B/ZnMu/lLuFzu69evhw0bdurUqeHDh9+7d+/hw4c3btx4/vz5smXLXr165e/vf+zYMbooKZFIFi5ceOrUqYyMjJSUlPT09OPHjzdr1iwiIgIy8GEHeX/F7u/vT97khaEfjho1CvzrJ06coIqdx+OtWrXqzz//DAwMBA+WVqs9e/asTCYD6wr2VUCm9UGDBtHlgnIbA23GNIcCqfK+E3b30YnxIoRcu3Zt0qRJsbGx8OGDBw8gvQjcIWSff/z4cUBAgKWlJTsSv9xgAJ2DnOfMmWNubv79999fvXqVzk9UKlVoaOjly5e//fbb9u3bQ2wuXAIaA6YNPB5v2bJl+fn5YLnSvgbbyfv06UNq1c5xTDTKfhaGYVq2bNmsWTOdJGO3b98GfT1gwICVK1cuXbq0R48ehBAfHx/IXEfzi3bu3LlBgwaNGjUihBgbG3t4eFhbW2/cuPHdMmrS5IpQrZOTE4wcTZo0sbS0XL16NZQpKyuztra2srKSyWT0zBATE5PBgwdPmDAhICAA8rVMmzat8ncEKU927twJfYxmf2EYZsSIEbDQExoaGh4ePm7cOGNjYx6PFx0dTS/Mycnh8/mNGjWC3Hr0cAboaePHjwe3Fj2NB9LcYaLRGk+IRwgxMzNjJ+qkOTwhhokteXoeVHFxsYmJibGxcUFBwXsm24Sfe/jwISFk3LhxOm8ZvgWzCRKNQjuB9IY2NjYhISHh4eHz5s3z8fExMDB48eIFXDhmzBiYPa9fv37UqFFwjqFIJILzmhiG6dGjh4mJCSR+KykpsbW15fP5U6dOXbdunY+Pj729fZMmTUxNTaHPlpSUwKIhPCw02hUrVhBCIIvpO7RMeLRRo0YRQr766it2d4PaNm/eTAhp2LAhdFV9IYMoIBGR/jlCyDvr9l69etWpU4eqJngdsbGxFhYW0A7Zir1Xr17sjLWtWrUyNTUdOHDghAkThg8fDlFK/v7+9ACoKiYaLSkpeWt5aABbtmyxtraGIwjBA+fi4tK0adO0tDQotnz5ckLI4sWL4Z9btmwBJ/GYMWPGjRvXpEkTQoiVlRU7O3QlLRbSQUPHh4c6c+aMiYmJSCQaMmTIqlWrlixZAgs1AQEBIBnQ5AsXLiSEHD9+XKe/dO7cGSb2VAi2trY9e/b8FNvz+yQaxRis/5sugGd14cKFffv2PXbsWO/eveETrVbr6emZmpq6cePGX3/99fTp0xqNRiaTTZs2be3atTQPG8wDIF5EJBJBQnNYgH/PjXIcDodW6+HhAUaPVCqFvgeL6/379yesTTFjx44tKys7d+5cUVGRgYFB69atZ8+e3a1bN5hhVz5ncnBw8Pb2hi5KtzXt3Llz0KBBy5cv37Bhg1qtLikpMTMze/bsmZ2dHV1oh5B5CwsLuvoDnw8ZMuTevXsFBQWwe4sQsn79ei8vL4gGwN1SNbsaAkF13377bfPmzeVyOY3zUCgU9vb206ZNCw4O/umnn3r16gWOIphYQ2Yg/fjr97kTIyMjX1/f5s2bkzf7ZNmB2wKBoF+/fpBrB3rZkCFDGjdu/NNPP+3YsUOlUonFYldX161bt9Lo3cjIyFatWv30009XrlyxtbU9ePBgWlra9u3b6WqLt7e3tbU1tDoDA4NLly6FhIRERkYKBILWrVtfunRp3759V65cgWAUgUAQEBAAt0ddBa6urt26dYNBt7p+LJrTct++fXw+f+bMmeRN5ArUplarJ0yYcPjw4WPHjh05ciQoKAhm/LDgTt3PfD4f1twxBqumnAgcDmfu3Lk+Pj779u0bNmwYiF2r1Xbo0CE5OXn9+vU7duy4cOECKPYxY8ZERkaCuQAvbsmSJWvXrr1y5UpeXp5IJHJ2dl6wYMGIESN0oq8qcaE1adKkf//+Vdm9BLUZGxs3aNDAxMTE3t5eIBAoFAqVSiWRSGgNzZo169ChA2hpQkiPHj3Gjh174cKF27dvQ9jinDlzQkJCLC0tq6Lzvby8SktLaUS/Vqvt3r37kydPwsLCdu/effToUZVKJZfLQ0JCVq9eTQPRCCEtW7YMCAiAHkpDtXg83g8//LBq1arExERHR0dCSFRUVEZGxp9//kn+uTMRPVi16KgcipeX15AhQ9gmOX0uWKrPzMxs166dSCT6+++/P2aTXK1WQ8/U8dK9w4umEoCJC6Q/HjNmTFXmZDrnmEKuuZMnT6L7qsan6bm5uWAcnD17tly/0cOHDyEHLPtMGHpWt6GhYY14sN7Ti6xWq+Vyub4ygQLQqqvepJVKJXgR/oXuxjAMHPxAjwDSd2YsXbqUEDJy5Eh9hUkfcMCAATAsYR+pwXbVqFGjfv366ehz+odKpXr9+rWXlxeHw4FDxnTeDpwbxlanH5vmB0esQqGgB5q984jM9rxqtdqHDx96eHjw+XxQLG+tlh61DiUDAgKcnZ3fcxjCo3I+eWCN/Mcff4yLi3v48CFNg0sDxmGtuk6dOn/88Yenp+e4ceN0DtYoV8ofyA6uaL2fsDLrQFJ1uPmqzxt0KqcBBLABmBAyf/78JUuWbNu2DWIR2NsDy40kg3UouIE9e/b06NHDz88P3Vc1CIg9ISEhNze3bt26sF2DPXMF4Tdq1MjV1bW0tBSCk+gc/YPO36r4LfQj8C6IRCLa6XQeE1o1jdXV2WzF/PNwaMjNJhAIaMuspHy5jb9aD0sIuX79OiHE09NTP3wK5AxblW/fvq1SqWiiipKSkvnz58+YMeP7779v27btpUuXVq9eDWYW9pH396fCq4+MjIyPj79+/ToNgGMrdh6PZ2lpeeTIkU6dOk2ePDkhIYEWA/XF5XLZ6rS6Hae67aoqOp/d1EHDCwQCoVBI472qmHtFv3J4dnBHMQzj5ub222+/NWrU6JtvvmFLhhpM5WokENr169fj4+NhEbOivKyfK7hE+A+gMX3xxRd3794FZyxtoBCTC+5NrVbboEGD2NhYetYHu9iHW/2pegH2GW2k+tkjy/05nTrnzp0bHBwsk8mgF7H94RVdCx1sw4YNBgYGuHmwxk0Z8iZTromJSblbLiCZraOj4/3794uKiv61Vcuqf0sj4sttt7C8yF6Rr7xCdm3l9tCKcnC/z8Oyt6OXWwDS5hUXF8NeenoKanh4eGlpKez/8vb2HjBgAEzwPlB+sloFyLBz584PHjzQ2SpEFTtoJxsbm5iYmMLCQrZi11F972b1vsMhH1UvoNNxqnuHlWx1p0Oep6cnRHpA26bbQSrqRLSrNm7c+OHDhxAHXNsaMxpYpNxxqKKoKdqqQPHp5Fv7CJ/lA9UJczipVFrdRFZcLhe2faF19SHeC0Qj0WxnOhYYlIHjY98nme3HZpb9+72gEhv3rYKFtwP79untWVtbZ2RkgD/gzJkzU6ZMadCgwYkTJ3r27FlTgXGIVqut6HhmHcUO6+z/VUP6CBU+SAacfFX/LRqLSd6kL6l1lj32uopsrLcaClXP2/5Zigimfe8gAfRdfTjd6urqyuFwXr9+DQmX9ZHJZI8fP+ZyuTqpApGaApJQgPx12jl0luzsbEJInTp12JmQOByOsbEx7OIMCgqCbBTz5s2DVHwY7V4zo10Vjj2t5Yq9csmQd11ArzzQHg2sWjpcvbVMLTcU3k0CKLcP12IbN27cpEmToqIiSPnDjgGix5lnZGRYWFjAQhW+iBofgbp3704IOX36tFKp1LGN6CEqhBAfHx/6gugJDXTu0aNHj7p16965cwcOksfxHhX7p6vwa7OeQQMLQT4T3QcxPZD88NSpU/C5SqWCra8wlsMWzoEDBxoaGsJCLaTeIW/SMcMlNB8PCra6o4ibm1uDBg0SExOjoqIIIQqFAoSvVCoFAkFaWtru3bsJIZB5iI5Y8JrgTRFCSkpKysrK6PEMON4jCBpYCIL8d52ZyyWETJ482d7e/o8//lixYgVkPId85UKhcOPGjevWrXN0dAwNDSWs6ArIf2NoaAgl4VxkgUCA4/o72LgSiWTJkiWEkB9++CEhIUEsFlP5K5XK4ODgzMzMwYMHN23aFKJSsrKyFAqFQCAAcwrCrX7++eeCggJvb284WgRBkE8RDHJHkM9ngNdqtaamptu3bx8xYsTs2bPv3LnTvXt3U1PTwsLC+Pj4iIgIExOTiIgIW1tbmgAzJycHThooLS2VyWQcDmfhwoUSiYTD4UyePBkSFaKlVUVgTXDo0KH37t1btmxZ165dJ06c6ObmJhQKs7Kydu/efe3aNV9f340bN5I3OUjDwsLOnDkzbNgwOKdIJpNdu3Zt7969fD5//vz5hHXCOoIgnxiYaBRBPr8Dc+7duzdkyBBwTdHTx/z8/O7evcs+JAdSj0JuMw6HI5FIwLQihAiFwocPH2KnfudX8Oeff8JhdmzzdM6cOUVFRewcjNHR0bDhgF3M39//zJkzeE4OgnzSiUbRg4UgnxWQA9DDw2PPnj2ZmZm3bt0ihBw+fDgiIqK0tBSWnNg5fpydnV++fEneHD1OWBkEIBAe8zC9mytx0KBBgYGB9+7dS0lJUavVa9asuXLlirGxsZGRETilQMh9+/bNzMxMSkp6+vSpUqk0MDBwcXFxcnIC6wqFjyCfLmhgIcjnaWMxDFO3bl04zNjf39/Gxuann37q2LHjyZMn69WrRxf+eDwe5BZHatDAgngsLpfbvHnzZs2acTic7t27d+rUac6cOXl5eWFhYdR40mq1fD7f3d3d3d2d1gCvD1cGEQQNLARBPjobi7AOsuDz+aGhoVwuNyEh4ebNm2wDi1ScBQBDr94HiMeih7KZm5vv27cvPDy8qKgoIyPD1tYWXgEkZ2KnlKNLugiCoIGFIMjHCD1qBtwhCxYsIG+8I/rHFCIfQv7UTcgwjLu7e2RkJLWlqNgx8RKCoIGFIMinOtLTE2ohVzXK5N9/BWDaooMKQdDAQhDksxrgMabnvwXtKgSpXV0eRYAgCIIgCIIGFoIgCIIgCBpYCFL7gMOVawT2FrNPVBT0/t8qlpp62JoVGvsRPunWWBWxfOrtDUE+EjAGC0E+zNzlTcANzd4JYeY0wyQhBKLOKTRGSqPRsEOhqxiTrtVq4fxmGCO5XO5/EvQDjwmnFOuIglQhDone//tE4rO36cH9sHNSsDdX0q/Yn8NbY7+pqkgS0jGwb4Bdw79v0bJD7qrVlmBLBHZhBHnfUQBFgCA1jkqlevToETWtwNrgcDhsswMGYDbsz2kiK0LIq1evMjIyqmLS0dOd+Xw+JFj6959d5zEZhnn27Fl+fj6IJSUlRalUVmIV5efnZ2RkvKd1xeFwcnJyXrx48f/nkW/EApKhooZb1f+csNLZA6mpqQUFBaTinGHkzTYCWpvOu/6XjXv2s8jl8ufPn4M1X5W2lJSUlJeXV/nDIgjyVtCDhSA1iVqt5vP54eHhx48fP3/+PCEkIiLi4sWLBQUFWq22WbNmISEhNjY2hMsdNy4AACAASURBVJCioqIlS5a8evUKXA5CoXDZsmVwLN2ePXscHBzat2+vUCjEYvHChQuzsrIOHjyoVCph7NSxPyAt+P79+w8dOgSuMmNj47FjxzZt2hS+ohkv2W4t9rIddZiBGwwGaXZJ/cuhGKQsJ2/cbxwOJzMz88CBAyNHjjQ0NORwOCqVysnJafbs2UuWLElPT+/QocOFCxdcXFzgxuCcL5pvk8PhvHr16ssvv4yOjm7cuPE7nBVDXV+BgYETJ060t7ePjY3dvHmzWCyGlS+pVGpoaPj9999bWFhcv35969atKpUKrBA3N7fQ0FAOh1NSUrJz587AwEAbGxuQkp+f39SpU6dMmaJQKAQCgc5+THrnK1asKCgoAK9Y06ZNv/nmG0NDQ/iWCpb9+kDyIF76OchEv2Tll4N5BxKLjY19/vz58OHDVSqVQCC4evVqQEDA06dPraysfvzxx/T09L///ps2DJq8Aw4A4HK527Zte/78+Z49e/CcbwRBDxaCfBRAznSZTLZr167vv/+eECKTyX799VehUDhmzJj+/ftHRkYOHDgQChcWFm7atEkgEDg4ONSrV8/e3p4O22vWrDly5AjbaAOvD/WL6LgW4J/R0dF37tzx8PCoX7/+kSNHevfunZGRweVywZGm79aCsRkGZrBj4HQX+BUdQ4peTqORYEgGJxD4e6Bkdnb2/PnzlUoljM18Pj8yMnLAgAFQiUKhYBtt1HUEdTIM4+rqamtr+/PPP5N3imMDcyEiIuLx48f9+vUjhBgZGTk4ONjb29evX9/Nze3MmTMHDx6USCSEkBs3bmzbtq1u3bp2dnb29vZ16tSB21Cr1QsWLADbF55CrVZDzey71ZF/bm7u+vXr5XK5u7s7n8+fPn36iBEj2BYwfX30ueB1wFdsS4uKlD5URZezPZdwgDQh5NixY6tWrYK7JYS4urpu3LjRwMAAroX2QGVFXzc1p2bNmnXlypXY2Fh43divEQQ9WAjyHwOxRxERERYWFl988QUhRCwWX7lyRSgUgmdLKpV+/fXXL1++tLOzI4SYmpouWLCAHlwDg9mTJ0/y8/PT0tLOnz8vk8l69+4NVoJMJtu8eTOPxxs8eHDdunX1vQtKpdLX13f69OmEkODg4Pr16//6668LFy7kcrk5OTmHDh168eJFjx49OnbsCKFgT58+5fP55ubmu3fvdnNz69KlC4/He/To0fHjx+Vyefv27Tt16gS+pcLCwv3796elpfXs2dPb2xsuf/z4sVAoNDQ03LVrl1QqHTJkiJmZGSHkypUrKpXq+PHjRkZGrq6ubm5u7dq1s7CwIP9MWQ5/nzx5Mi4uzs3NbcCAASKRCGqeM2fOpEmTysrKJBJJdZ0oYHP8/fffo0ePFolEarXa09PT09MT6lEqlRs3blywYIFUKgWDz93dfcmSJWzXl1arPXXqlEqlunDhwrNnzxwdHZs2bUoIEQqFT58+3bZtm5eXV9++ffVXALlcrkgkmjx5sre3NyHExcVl1qxZ2dnZNjY2HA7n3r17hw8flkgkgwcPtrW1hdZy8+ZNd3f3R48eXb161c/Pz8XFhWGYmJiYS5cuWVlZ9e7du0GDBmBy3b179/jx4xKJZODAgfXq1QOb79atWy1atIiPjz958mSbNm38/f25XO6rV68eP34sl8uPHz+uUql8fHzMzc3btm1L16lpzBmPx3v9+vWBAweysrL8/f1bt24NJpq5ubmvr+8ff/zRsWNHPHAaQdCDhSAfC3fv3m3evDkMgVwuVygUajQacBvQ1TcY6kpLSzdv3hwWFnb06FG1Wg2OkHv37mVmZiYlJUVFRZ09e5YQIpVKr127NnHixMTExD179nTp0iU5OZkaZBStVgv+IRgjLS0ts7OzweLp0KHDnj17MjIyBg8ePHPmTHCVbdmy5Ysvvhg7duzhw4fv3btHCAkPD2/Xrt3ly5cfPXq0YMEC+JVLly65u7vv3bs3LS1t0KBBkyZNgvvfuHGjn5/fpEmTHjx4sHHjxrZt28pkMrVaHRcXV1ZWdubMmaioqCdPnhBCmjdvvmnTJvIm3h8eU6FQ+Pn5TZkyJSsra+3atV26dElLS4Mb69ixY3Fx8eHDh6vrxAJvUFpa2tWrV/v27UvenHutVqtBMps2bUpPTwd3Gnz74sWL8PDwNWvW3LlzBz5UKBRnz56VyWQXL17ct28fSEYqlUZGRs6ePfv169fffvvt5MmTy703pVJJXXSw2iuTyQgh8+bN8/Hxefz48dmzZzt16gRrx8XFxYGBgUOHDl26dOmpU6eSk5MJIb6+vmPGjElPTz916lRISIhKpeJyucuXL+/Ro8fdu3fPnDnj4eEBlxcVFcHlq1atevHixYgRI2bMmEEIuX///r179/Lz86Ojo6Ojo8vKym7fvu3t7V1cXMz2ffJ4vHPnzrVv3/7gwYNgOs+dO5c6ON3d3ePi4sibzRnYqRHkXWDeA1gsKC4udnV1TUpKguV8BkFqJdAdGIZp3Ljx4sWLGYZRqVTwOcAwTMeOHb29vaFYWlqai4tLUFDQ0KFDjY2Nu3btmpeXB1916NBh4cKFDMOUlZUxDAMDZ3x8PHzbqlWrWbNmMQyjVCrhEzDOgoKCxo4dyzAMLD4SQqKjoxmGadas2dy5c6Hk/fv3raysYmJiGIaZM2cOl8tNTEyErw4dOkQIOXnyJNyzQqFQKpVarbZ58+YhISFQ5tatW2ZmZlevXmUYJjg4mBCSnJzMMExubm69evUiIiIYhrl586aZmVlOTg5colQqpVIpPE5qaqq5ufnDhw8Zhpk6daqXl5dCoYBiLVq0mDhxIsMw8Am44tjPWBVADnv27DE1NS0uLma/FPije/fu3bt3p9Vu3769cePGY8aM6dSpEyEE3hrDMPn5+RYWFvfu3aPXOjo69ujRA/556tQpgUDw9OlTqvHg/48ePRIIBEePHtVqtS9fvuzSpQsEYB05csTU1PT+/ftweWhoKDggy8rKjIyMOnXqRGuYMmVKw4YNs7Ky4EdBhgcOHACzGy7/+eef3d3dtVqtTCaTSqV9+/aFRzt37pxYLIa7mj9/fuvWralALly4YG1tDbVNmDDB39+fYRiZTGZpaQnvhWGYxMREU1PTCxcuwD9jY2MlEklKSgpqdaSWA+0/Pj4+MDCwutfiEiGC1CQymSwzMxO8FxSVSiUUCmfMmJGUlHTr1i340MrK6sqVK+bm5oSQpKSkli1bzp8/f8OGDYQV8QM+kuLi4p49e3p5ecGqWfv27QsLC4nelntTU9MtW7ZcvnxZLpenpqYGBwf37dv35s2bT58+bdeu3d27d4uLi+vWrevg4HDkyJFu3brl5+ePGDHCw8MDhmoYhv38/MAHBrvhzp8///jx41WrViUkJJSWllpaWtrY2Pz9999t27YtLi728fFp2LChSqUyNzdv3LhxQkICeHE0Gg115OisDEKYGiHk4MGDY8aMycjIePbsWYMGDdq1aweXg3vMysoKaqjW+iDddCmVSsViMdu3x+Vy79y5ExMTA8Ft8CsBAQFDhgyBknv27Bk2bJi7u3v//v1lMplGo4Hgd4gf12q1PXr0AMl4e3ubmJikpKQ4OTnpeHc4HM6YMWNMTExyc3MZhtm9ezch5PTp0y1atDA2No6NjTUxMXFxcSkuLs7NzTU2NubxeN9++y3cuVqtPnDgwA8//GBjYwOh9CYmJoSQ2NjYunXrcrncq1evikSipk2bvnz58tGjR40aNZJIJMHBwRC81apVK1jEdHJyUigUtP3QzQc6UkpKSlIqlW3btk1ISCgpKalbt26DBg2OHDni4+NDCLGzs+NwOBkZGQ0aNMBOjSDvBhpYCFKTQMA4jSOGeYxQKJwwYUJUVNTVq1fr1asH5otQKISoI7VaDfE6mzdvXrduHUSO62RyEgqF1CzQyZ5FKSwsHDp06C+//JKVlWVjY2NoaEgIycnJ0Wq127dvByuHy+UaGRl5enrCJQKBgFarUCggNgiic1QqFY/Hy8zMVCqVmzZt4ryhbt26TZo0gcEbrEMaugR/sBNM6AzqdGEOltLOnz9///59MAIKCwu7du2qX9s7rE9BuDf7QggSj4qKcnd39/f3J2/2PJqampI3Gz8HDRo0fvz4q1ev9u/fX8dmgvLwCkAyFVl+DMOsXr26a9euKpXKxsYGfkUkEj169Gj27NkymQw2Tvr5+fH5fI1GQ60oHo9XXFysUqmcnZ3JmyQRENKnVqtlMtlPP/2kUqk4HI5arfbx8TEwMIBvwTqE3ZrsHaDsm9cRI/ydnZ2tVqu3bNkCxbhcrpmZmZeXF13rZBgGmgeCIGhgIch/CVhFIpHI2dk5KyuLjmRcLnfp0qX79+8/fPiwi4sLWFfskRuKyWQyunFMq9XC2Ab/1BnLYZDWvwGtVlunTh1jY2OJRCIQCKAM2Exz58718vKiActgIsAYT+9TKpWmpqbS3fvgZ3J0dBQKhYsXL4ZlKbic5vdiByGxx3Iejwfb9PS/BW+QUCg0MDDo169fcHAw2Dds84gQkpKS0qhRo+p6sKCwk5OTTCYrKCiwsrKC+wFhRkdHBwQEwOOzxUuTjlKzmG1R6Ri7Og45/Ruws7OrW7cuyEqhUPD5fKVS6eHh8fvvv1MBQkB9SUkJOxGGoaGhkZHRjRs3fH192VlPeTyesbHx3r176YXw/8LCQv1NA9SgpCHtOt/SfBz16tXjcrmhoaGenp7sSHa6AYLL5To4OFT3FSAI8n+6GkWAIDUFjNCtWrVKS0ujA9vcuXPnzZsXGRnZtGnTpKSkly9fyuVyQsilS5fOnj0LGcMPHz68bt26cePGwWBma2t78eLFwsJCSG6p44+p6CQTiPqiBcBOatq0aceOHSdPnpybm8vlclUq1aFDhyD2XGe3f2BgoEajCQsLg0og26S3t3e7du2+/vrrvLw8Lpcrl8tPnz4NmSr1Q+zhrqytrZVK5dmzZwsKCmQyGXhi2CnOof4ZM2YsWLDg9OnTEEYdHx9/6dIlKJOVlfXkyRNYrKzWFjYo3LFjRxMTE4jRpk6d6Ojox48fDx06lFpUGo3mwIEDz549A+ffokWLIO6eECIWi4uLi2NiYkpLS4uKisAo1HGJ6b8CGgdGpQFm3PDhw69du7Zs2TK4JCMjY9euXRC9Tg1ltVrN4XBCQkKWLl169uxZPp9fWloKjxAYGPj69evVq1dD5ousrKw9e/aASaT/CuCPRo0aPXv27NGjR5AvFF4B/Dr9w93d3cHBYcqUKQUFBeBTjI6OTkpKAuFcv369devWkAYMDSwEQQMLQf7r7sTlEkK6du167do1cJOUlpb+9ttvpqamM2bMcHZ27ty5c6dOnZ4+fUoIOXfuXPfu3du1a9eqVauAgICePXuGhobCGDl79uzbt287OzsHBQURQgwMDCCtACASidgBRhSJRAJ+I1hkpK6XyMhIyKLZo0ePNm3a/O9//wO7TSgUQj2wpta6devffvsN4qN9fHx69eqVm5tLCImIiFAoFB4eHr6+vm3atBk+fDjsRxOLxWw3Fb3JBg0aTJgw4X//+1/Dhg23bNnC5/MNDAzgh2CBEsyOSZMmBQYGfvnllz4+Pt26dYMEpFDV0aNHXVxcIBiouh4stVptaGjYtWvXqKgotlsrIiLC39+/adOm1GLg8XgbNmzw9PRs3759y5YtFy1aFBkZ2b17d1j6HDdu3Lx58xwcHCChlFQqBYcWVGhkZKTjIoIKDQ0N6WIu+Iq0Wq2Xl9emTZtAsCDDVatWQQFaD7ScSZMm9enTp3fv3t27d2/Tpk1oaKhKperQocMff/wBPkhfX18vL6+NGzdCeSMjI3ZWeiMjI5FIRAgJCgqytrbu0KFDmzZtHj58aGhoCElf4UEgIRaHwzl69GhRUZG7u7ufn5+Xl9fo0aMhto8Q8uDBA0g2UdF6NIIgb9dI77MFlzq6vby8Dh8+7OzsjElTkFoOdIoePXr07NlzxowZarW6tLRUpVJBygYY2MzMzCC2Ji8v7+XLlxqNxsHBwdramu0tKC0thSUkKyur0tJSrVZrZGQEBUpLS8Gg0fnp4uJiLper8zl0cK1W++LFi8zMTDMzM3t7eyijUw903tLS0idPnqjVakdHR0tLS5r/89mzZ1lZWebm5nZ2dhDdRe8KLi8qKuLxeAYGBnBJUVFRaWmpsbGxoaFhXl4eGH9arbagoMDExITmHM/JyUlOThYIBPb29mZmZmAuNGzYcOLEiSC96h44AytcMTExffv2ffbsmZWVFc0CamBgoLNwKZfLs7KysrOzDQ0NHR0dDQwM2Kt48AhGRkZGRkb5+fkSiQTMRIZhCgoKDA0NdUKUNBpNQUGBsbGxzudQp0wme/LkSVlZWb169erWrQt+O5164P1mZWWlpqYaGxs3bNgQhAaXJycnl5aW2tra2tra0supiQabH6n9qlKpIKc87LcoLi42NTWFxsNuSxqNJjU1NTs729LS0s7OTiKRcLnc69evDxo06MqVK+WmW0OQWgV0wBs3bqxYsWLfvn1oYCHIfwYM8H/99depU6c2b95crW7MTgJZg6Mau+aqqJJ3vlxHM7y1DKxj6lz17NmzRYsWrV27lhoB7/bUoaGhnTt39vX1rbpSYpes8VdQxeOidWRSrcvfv2HAD61du5YQEhwcjPocQdDAQpCPy4lFuyVdp/tHr2PFg9MAap3hXOdAG6K3I0x/+K/oc/qVzm+VW77cW6rK5eX+U//+dQwX9s+RN2t8+octvtsroLHelTys/nNV9Ap0brsiOVd05/pPWlH5il7BWy9n/5N98+yv9F8TuyQ8KcgNfVcI8p4GFu4iRJAaBmKiwboilUYRVb4frdy/K6mw8h+qYj3l3lJVLq/kn5U/i84ndHPi+4zu8ArYy4sVPWwV5Vkjr6AiwVax5Fsvr8oNv1X+cLgkWlcI8v6ggYUgNQ/6cf9z6eEreM9JAgoBQd5XC6EIEARBEARB0MBCEARBEARBAwtBEARBEAQNLARBEARBEAQNLARBEARBEDSwEARBEARB0MBCEARBEARB0MBCEARBEARBAwtBEARBEAQNLARBEARBEAQNLARBEARBEDSwEARBEARB0MBCEARBEARBAwtBEARBEARBAwtBEARBEAQNLARBEARBEDSwEARBEARBEDSwEARBEARB0MBCEARBEARBAwtBEARBEARBAwtBEARBEAQNLARBEARBEDSwEARBEARBEDSwEARBEARB0MBCEARBEARBAwtBEARBEAQNLARBEARBEAQNLARBEARBEDSwEARBEARB0MBCEARBEARB0MBCEARBEARBAwtBEARBEAQNLARBEARBEAQNLARBEARBEDSwEARBEARB0MBCEARBEARB0MBCEARBEARBAwtBEARBEAQNLARBEARBEDSwEARBEARBEDSwEARBEARB0MBCEARBEARBAwtBEARBEARBAwtBEARBEAQNLARBEARBEDSwEARBEARBEDSwEARBEARB0MBCEARBEARBAwtBEARBEARBAwtBEARBEAQNLARBEARBEDSwEARBEARB0MBCEARBEARB0MBCEARBEARBAwtBEARBEAQNLARBEARBEAQNLARBEARBEDSwEARBEARB0MBCEARBEARB0MBCEARBEARBAwtBEARBEAQNLARBEARBkFoNv6YqUqvV8H8uF422/4NhGPiDw+GgNFA4KBwUzgcVC4fDQeG8VTjwB8oHhVMVtFqtUChUq9W0Z/2rBhbDMDwez8jIiBAiEAjwxSAIgiAI8nkYWIQQQ0NDHo/3HxhYPB5PLpfPnz+/Tp06KpUKDSw2HA5HLBbL5fJ3MH5rg3BEIpFCoUDhoHDeQThyuRxFoQ+XyxWJRGVlZSgKfV8An8/n8XgKhQLHKRRO1SUjFouTkpKUSiV54+379wws+D0rKys0sHTEwuPxSktLV65cOX36dCMjI41Gg8Jhd+a8vLxffvklODhYLBZrtVoUDrvlFBcXr1mzZvr06QYGBthydFpOQUHBpk2bpk2bJpVKUTjsqbZIJEpJSfnll1++//57iUSCwmELx8DAIC4u7tGjR6NGjSorK+NwOCgcKhypVHr9+vX79++PHDlSLpejcHQMrLy8vMzMzOpeWzMGllQqnTJlip2dHa7d6tidRUVFBw4cmDRpkrm5OQpHRzi5ubnXrl2DYRKFo99yLl26NHnyZBMTExSOjnBev3597ty57777TiKRoHDYwySXy3348GFcXNx3330nFotRODrCcXBwOHv27KRJkzQazTus+HzewnF2dj558uTkyZNROPrCSUxMXLJkCalmaGPNGFhFRUXFxcWEELVajf2ZikUgEKhUqvz8fHAtonB0hFNaWvrq1SsIHtRoNCgWtnDkcvnr169h7wgKR0c4SqWyoKBApVKBkwbFQkcCoVBYUlKSn5+vUqlEIhEKR184eXl50Kdw8R2FU0Wdw+VyS0pK3iEmoQYMLIFAEBAQYGpqSgjh8/loQ9C3QgiRSCQBAQFSqRSFoy8cIyMjf39/kUjE4XD4fD6KhS0cqVTq7+8vkUgIITweD1sOWzgGBga9evUSiUTQrVAsbOFYWFj07t1bLBZzOBxsOWwbghDi4ODQpk0baDa44V1HOPb29iAc3Kym362srKw6dOhQ3Ws5aKgiCIIgCILULDUz+St3pR/TsegLh2EYmCsQQrhcLs4SdIQDcDgcnFyW261oohqccENgBLaTcpsNLGqgKPQlA+oXdW+5bYYKBxtPRVKqrknzoTxYOBJUBYwlZA+Z7H0rWq0WNtOhZKA3QVPBDqVjPeg0m1oORHlirylXvYDpgLq3igMT2qA1Mm/5gEuESqWypKREKpWKxWJ8PUBeXl5CQsKrV69MTEzatGmDWwt1hoeUlJS0tDR7e/tGjRqhWPQpKSnRaDQmJia1Wc1xOJykpKQHDx54eHg4OztjD9JBoVDIZDIjIyOMTtPh1atXjx8/lkqlHh4euMWSjUwmS0xMfP78OZ/Pb9mypYODAwqnXAOrqKhIJBJBaGw1LqtxVCpV//79CSGrV6+GfzK1GHj8bdu2EUJ4PB7MnExNTX/++Wem1gM7Vvbt29eoUSM6y/T19b116xb9tpYL5/79+1OnTu3ataupqamXl1dZWRn482uVKOB5CwoKhg0bBon3+Hz+tGnToHPVNmnoI5fLFy1aNGTIECcnJ2tr69jYWOw+VAIXL16EXRFgNNja2kZERKDuperFxsaGvNkvIpFIQkJCsFvpCyo4OJgQsnjx4qqbNDW/1Aoby9etW3f8+HFCSEFBAWEtXtZOoFdbW1uHhYXdvHnzxYsXN2/ebNWq1aRJk44cOUJwHz4hR44cadSo0cmTJ+Pj47du3Xr58uX+/fuXlZVxudza3Hjg2e/fv79+/Xpra2tHR8fk5ORau2xBCAkPD9+9e/f+/fuzs7O3bt26bt26FStW0DWg2txIVCpVeHj4gwcPXFxcXr16BZnccQ8TNJvTp0/Hx8dv2bIlLi7uzJkzDRs2HD9+/J49e+iAVct9M1OmTImNjU1JSUlJSRk2bFh4ePiOHTtqebeiQLjnzZs3f/vtN0JIbm5utR1fNW4RW1lZHTx4UCgUzp49m2EYpVKJVrDOXLywsJAQMm/ePJSPVqtVKBQgFpgZrFq1ihBy48YNnIWDTMBrNX78eENDQ2gttWpyCQ9bVFQkFAq///57cNgwDDNhwgQej1c7XXr6IiotLQVnMCHk7NmzDMNAkjmkrKyM7ZLJz8/ncrnjxo1DEen3Mo1G4+Tk5Ovri32KPVg7Oztv3rzZy8trwoQJH8SDVXlF7JIhISF+fn79+/dXKpW1ZD9CVYSj1WphtgSfpKWlEULAN/t5r3a/VTgcDkcoFELfhjmTgYFBLXHsVaXl8Pl8gUBACKm1B8xBq7h586ZSqXR3d6efODk5aTSajIwM9NbA+YyEEEhrjLARi8U8Hk+tVsN4KRaLBQIBumeoCmJnFs3Ozk5PT3d1dUUPFh2D5s6dy+fzJ0yYkJeXVy2Thl+tDvzWW+HxeBs2bHjy5MmuXbtq1VGsVbGQ4MVERES8fPmSw+FER0dPmzZt/PjxhJDPez9LVYTDvNmgAf38zJkzEokEhtLP2/qsonBALLV2wRSeOjExkRDStGlT2mXs7e0JIU+fPm3YsCEuh9FGgkZDuZLh8/mw0fLixYsKhcLb2xvtcvLm8NOYmJhTp06ZmZkdOXLEx8fnp59+wrak0Wj4fP7Zs2d///33s2fPvsOcv6oGllwuLy4uLncw0Gq1hoaGUqmUx+Pl5OSEhISEh4dbW1u/evWqlpjASqWysLCwIuEYGBgYGBgwDMPhcBiG+eWXX+7cuUMIkUqlYWFhQqEQlnhrp3Cg5VA7Q6lUCoXC7du3Hzhw4NdffzU0NPy8d1NXXTi4o4cQUlJSQgixtLSkqt/MzIwQkpOTgyMlwbQ4b5OMWq3m8/nJycmDBw/29fUdM2bMZz+5rQowAJ05cyYsLAyOd1uyZAnucGfe5AmaO3fuyJEjW7ZsqVAouFwumDRV1TZVif9gGOb3338Hm0AsFotYwFLOjz/+CIX79u371Vdfwd8ymYwQ8sMPP3zGMUawfn/y5EkejycWi8sVzqxZs9hLtnK5XCaTKZXKdevWgUOL+Ux3WYJwYmJiBAKBvnAMDQ0JIUuWLKGPD/+HQMKwsLDPOzwCHu3o0aNcLrci4SxatIj2HSg/atQoAwODWhiDBW1j5cqVhJDHjx9Tsfz999+EkL///huDaagEIHYbY7DKFc7Lly8dHBw8PDwgXg1jjNhdDGRy4MABQsjMmTNrefwrPPvMmf+vvfN7ZfcN4/i9PU/THjQipikpzYqGll9FfhTlx078iPJjKYQDQks0SZw5cOjAiXaCEsuBrOXA/4CiHBBiErGZebb5HFx9nha+7PvNX10XSwAABQtJREFUp0/fPe/XwcoT6bl2Xff9vq/7uq/bWlpaKj3MysoaHx+PXNJ8n8EiEVdRUeFwOD42VlEoFH6/32AwUEhvb2+3tbVNTk76/X4qBdjd3VUqlcPDw0lJSdGniGkZnZ+fv7W19TELFW4cjuOoKWJMTAzZYWhoaGZmZn9/v7+/PyozWPRSRqNxc3Pz4/dOxsnNzSXjUDJ2Y2Ojq6trdHTUarVSs7toXR7Rq5lMJofD8annvLy8kHEo6MIXTDJM1ZD/SBuCer2e1pFUfUXPkb+RuZN8vdfDcZzb7TabzRqNxuVyCYKAXqPhSRae53meD4VCTU1NnZ2dS0tLc3Nz0mwlQ5solcqnp6fFxUWTyTQ9Pf34+Mjz/O3trcvlmpqa6u3tpbKEr43zvcCiv09PT09PT/8ix0jp+t7eXq/Xe3x8zPM8CazHx8ezs7NorVaW+i+YzeZvf/PjtSdUdxndk2JycnJjY2MkyVi73W6xWObm5mw2G5NHXVpqamoknvPppwwFVnFxMWPs4OCgvr6ehpTLy0vGWGZmJgTWO/dAJVb49MRx3NXVVXl5uUajcTqdKSkpb7go4rO5SSpWe319RYU7x3EjIyPX19eHh4d0kUYgEPB4PGdnZyRvfkBgSXb/wtwUzAUFBcvLy9J/9fl8giC0t7fPzs6KohjFI+DXxqGb9UKh0MnJiVar1Wg0ZJ/19fW7u7u8vDz2exdchsYhy3Act7OzY7FYenp6bDab1+ulmFepVNE9CH5rHAoZOmceFxdHC02fz0cOQ0cL5QD5SUZGRkNDw+rq6tjYmCAI9/f3dru9oqIiISEBAosx5vf7BUGgwZYmgNfX13/RdTp6UxFut7u2ttbj8TidTq1W+/T0xPM8x3EqlUrmxlEoFEdHR7GxsRkZGTQU7+3traysNDc3q9Vq2ZZh0VsLgkANgyQ7GAwGs9m8sLBAUfb9rP2zHSMCgUAgEKCCifv7e8YY+mBJu7mdnZ2U0UlLS6MD1R0dHWjhQ9TU1DDG1Go1uSx9rq2tybyOhDzn9PSU7puiIKdNQ7ndkUCmODg40Gq1arW6qqpKrVbr9fqLiwuZR5D07mVlZVLqlz7r6upkbhyaeqanpxljKpWKYoeM09LSAuO8vb3Nz88zxjQajU6no7pho9F4c3ODiYlmH5I0wWAwGAzqdLrBwcHIB17+Z0UfOS6lGQVBsNlslZWVTPYnNWhenJqa0uv1Dw8PtFAoLCxsbW0lJYHFd3d3d1FRkUKhkK7vFUVRDm0aIvGcxMTEiYkJURR5nicTeb1e2i+Tz04QJbFycnJcLpfdbvd4PCUlJX19fTqdLrrP4UboJIwxi8VSWlpKq5RQKPT8/EwtLeQcQTT1VFdXi6IYExNDrRmVSqXP5zOZTDIfdUluDgwMxMfHn5+fB4NBhUKRnZ3d1dUlCMIbriP87T+SKaxWa/iVbt/HJmoh/yKSmIApAIh8UyP8R6xPAPjTgQb+4+LnjwosURQ5jkO5pSSnaIkguS+uu5eQeri/Wz3AechbPh6GkK1xpDiiOmV4iARtpoc/USqVKOWWfObdQxhHGl5o/51iinaioK7+KcSknbq/L7AAAAAAAGQIFn8AAAAAABBYAAAAAAAQWAAAAAAAEFgAAAAAAAACCwAAAAAAAgsAAAAAAAILAAAAAABAYAEAAAAAQGABAAAAAEBgAQAAAAAACCwAAAAAAAgsAAAAAID/F78AsCN8GD6Dn8gAAAAASUVORK5CYII=)"
      ],
      "metadata": {
        "id": "FQKM4peRWr5W"
      }
    },
    {
      "cell_type": "code",
      "source": [
        "boxplot(mpg$hwy)"
      ],
      "metadata": {
        "colab": {
          "base_uri": "https://localhost:8080/",
          "height": 437
        },
        "id": "EUnQ-h6AVzCd",
        "outputId": "04d80751-90a1-41eb-d927-281bcbe67d59"
      },
      "execution_count": 44,
      "outputs": [
        {
          "output_type": "display_data",
          "data": {
            "text/plain": [
              "plot without title"
            ],
            "image/png": "[encoded data removed]"
          },
          "metadata": {
            "image/png": {
              "width": 420,
              "height": 420
            }
          }
        }
      ]
    },
    {
      "cell_type": "code",
      "source": [
        "boxplot(mpg$hwy)$stats # 상자 그림 통계치 출력\n",
        "# 아래쪽 극단치 경계(Minimum), 1사분위수, 중앙값, 3사분위수, 위쪽 극단치 경계(Maximum)"
      ],
      "metadata": {
        "colab": {
          "base_uri": "https://localhost:8080/",
          "height": 698
        },
        "id": "vyCjncN1XlWN",
        "outputId": "1ead4495-fa9c-4db9-f737-1ecf1bccdfa2"
      },
      "execution_count": 45,
      "outputs": [
        {
          "output_type": "display_data",
          "data": {
            "text/html": [
              "<table class=\"dataframe\">\n",
              "<caption>A matrix: 5 × 1 of type dbl</caption>\n",
              "<tbody>\n",
              "\t<tr><td>12</td></tr>\n",
              "\t<tr><td>18</td></tr>\n",
              "\t<tr><td>25</td></tr>\n",
              "\t<tr><td>27</td></tr>\n",
              "\t<tr><td>37</td></tr>\n",
              "</tbody>\n",
              "</table>\n"
            ],
            "text/markdown": "\nA matrix: 5 × 1 of type dbl\n\n| 12 |\n| 18 |\n| 25 |\n| 27 |\n| 37 |\n\n",
            "text/latex": "A matrix: 5 × 1 of type dbl\n\\begin{tabular}{l}\n\t 12\\\\\n\t 18\\\\\n\t 25\\\\\n\t 27\\\\\n\t 37\\\\\n\\end{tabular}\n",
            "text/plain": [
              "     [,1]\n",
              "[1,] 12  \n",
              "[2,] 18  \n",
              "[3,] 25  \n",
              "[4,] 27  \n",
              "[5,] 37  "
            ]
          },
          "metadata": {}
        },
        {
          "output_type": "display_data",
          "data": {
            "text/plain": [
              "plot without title"
            ],
            "image/png": "[encoded data removed]"
          },
          "metadata": {
            "image/png": {
              "width": 420,
              "height": 420
            }
          }
        }
      ]
    },
    {
      "cell_type": "code",
      "source": [
        "# 12 ~ 37 벗어나면 NA 할당\n",
        "mpg$hwy <- ifelse(mpg$hwy < 12 | mpg$hwy > 37, NA, mpg$hwy)\n",
        "table(is.na(mpg$hwy))"
      ],
      "metadata": {
        "colab": {
          "base_uri": "https://localhost:8080/",
          "height": 71
        },
        "id": "Ku4Eep_ZYOC9",
        "outputId": "e37b7f9d-c36f-4ff9-ab97-f1de79fb1c0b"
      },
      "execution_count": 46,
      "outputs": [
        {
          "output_type": "display_data",
          "data": {
            "text/plain": [
              "\n",
              "FALSE  TRUE \n",
              "  226     8 "
            ]
          },
          "metadata": {}
        }
      ]
    },
    {
      "cell_type": "code",
      "source": [
        "# 극단치 정제 후 데이터 분석\n",
        "mpg %>%\n",
        "  group_by(drv) %>%\n",
        "  summarise(mean_hwy = mean(hwy, na.rm = T))"
      ],
      "metadata": {
        "colab": {
          "base_uri": "https://localhost:8080/",
          "height": 192
        },
        "id": "kkS24eOtZHHO",
        "outputId": "f2318826-44e3-4a3a-a7ea-41db9c624376"
      },
      "execution_count": 47,
      "outputs": [
        {
          "output_type": "display_data",
          "data": {
            "text/html": [
              "<table class=\"dataframe\">\n",
              "<caption>A tibble: 3 × 2</caption>\n",
              "<thead>\n",
              "\t<tr><th scope=col>drv</th><th scope=col>mean_hwy</th></tr>\n",
              "\t<tr><th scope=col>&lt;chr&gt;</th><th scope=col>&lt;dbl&gt;</th></tr>\n",
              "</thead>\n",
              "<tbody>\n",
              "\t<tr><td>4</td><td>19.24242</td></tr>\n",
              "\t<tr><td>f</td><td>27.76471</td></tr>\n",
              "\t<tr><td>r</td><td>21.00000</td></tr>\n",
              "</tbody>\n",
              "</table>\n"
            ],
            "text/markdown": "\nA tibble: 3 × 2\n\n| drv &lt;chr&gt; | mean_hwy &lt;dbl&gt; |\n|---|---|\n| 4 | 19.24242 |\n| f | 27.76471 |\n| r | 21.00000 |\n\n",
            "text/latex": "A tibble: 3 × 2\n\\begin{tabular}{ll}\n drv & mean\\_hwy\\\\\n <chr> & <dbl>\\\\\n\\hline\n\t 4 & 19.24242\\\\\n\t f & 27.76471\\\\\n\t r & 21.00000\\\\\n\\end{tabular}\n",
            "text/plain": [
              "  drv mean_hwy\n",
              "1 4   19.24242\n",
              "2 f   27.76471\n",
              "3 r   21.00000"
            ]
          },
          "metadata": {}
        }
      ]
    },
    {
      "cell_type": "markdown",
      "source": [
        "# mpg 데이터 분석 연습\n",
        "\n",
        "**분석계획** : <br>\n",
        "\n",
        "drv, cty 변수에 이상치 할당 <br>\n",
        "\n",
        "1. drv에 이상치가 있는지 확인한 뒤, 이상치를 결측 처리한 후 이상치가 잘 처리 되었는지 확인\n",
        "\n",
        "2. 상자 그림을 이용해 cty에 이상치가 있는지 확인하고 그림 통계치에서 정상범위를 벗어난 값을 결측처리. 그 후 다시 상자그림을 만들어 이상치가 있는지 확인\n",
        "\n",
        "3. 이상치를 제외한 다음 drv별로 cty 평균이 어떻게 다른지 확인"
      ],
      "metadata": {
        "id": "WGQvRyLjZ4q9"
      }
    },
    {
      "cell_type": "code",
      "source": [
        "mpg <- as.data.frame(ggplot2::mpg) # 데이터 불러오기\n",
        "mpg[c(10, 14, 58, 93), \"drv\"] <- \"k\" # drv 이상치 할당\n",
        "mpg[c(29, 43, 129, 203), \"cty\"] <- c(3, 4, 39, 42) # cty 이상치 할당"
      ],
      "metadata": {
        "id": "FESj2SoLZefa"
      },
      "execution_count": 61,
      "outputs": []
    },
    {
      "cell_type": "code",
      "source": [
        "# 1-1. 이상치가 있는지 확인\n",
        "table(mpg$drv)"
      ],
      "metadata": {
        "colab": {
          "base_uri": "https://localhost:8080/",
          "height": 71
        },
        "id": "X6BBnbLQa6pH",
        "outputId": "94361359-9caa-43c1-b595-edaae88ccbee"
      },
      "execution_count": 62,
      "outputs": [
        {
          "output_type": "display_data",
          "data": {
            "text/plain": [
              "\n",
              "  4   f   k   r \n",
              "100 106   4  24 "
            ]
          },
          "metadata": {}
        }
      ]
    },
    {
      "cell_type": "code",
      "source": [
        "# 1-2. 이상치를 결측 처리한 후 이상치가 잘 처리되었는지 확인\n",
        "mpg$drv <- ifelse(mpg$drv %in% c(\"4\", \"r\", \"f\"), mpg$drv, NA)\n",
        "\n",
        "table(mpg$drv)"
      ],
      "metadata": {
        "colab": {
          "base_uri": "https://localhost:8080/",
          "height": 71
        },
        "id": "yM4sgEeabCDQ",
        "outputId": "efa7fc8b-84f1-4609-904f-d16f07f80444"
      },
      "execution_count": 64,
      "outputs": [
        {
          "output_type": "display_data",
          "data": {
            "text/plain": [
              "\n",
              "  4   f   r \n",
              "100 106  24 "
            ]
          },
          "metadata": {}
        }
      ]
    },
    {
      "cell_type": "code",
      "source": [
        "# 2-1. 상자 그림을 이용해 cty에 이상치가 있는지 확인\n",
        "boxplot(mpg$cty)$stats"
      ],
      "metadata": {
        "colab": {
          "base_uri": "https://localhost:8080/",
          "height": 698
        },
        "id": "zrBwBqBhbpWU",
        "outputId": "43b7f089-84d1-4ee4-abf3-e9c84d0a8243"
      },
      "execution_count": 65,
      "outputs": [
        {
          "output_type": "display_data",
          "data": {
            "text/html": [
              "<table class=\"dataframe\">\n",
              "<caption>A matrix: 5 × 1 of type dbl</caption>\n",
              "<tbody>\n",
              "\t<tr><td> 9</td></tr>\n",
              "\t<tr><td>14</td></tr>\n",
              "\t<tr><td>17</td></tr>\n",
              "\t<tr><td>19</td></tr>\n",
              "\t<tr><td>26</td></tr>\n",
              "</tbody>\n",
              "</table>\n"
            ],
            "text/markdown": "\nA matrix: 5 × 1 of type dbl\n\n|  9 |\n| 14 |\n| 17 |\n| 19 |\n| 26 |\n\n",
            "text/latex": "A matrix: 5 × 1 of type dbl\n\\begin{tabular}{l}\n\t  9\\\\\n\t 14\\\\\n\t 17\\\\\n\t 19\\\\\n\t 26\\\\\n\\end{tabular}\n",
            "text/plain": [
              "     [,1]\n",
              "[1,]  9  \n",
              "[2,] 14  \n",
              "[3,] 17  \n",
              "[4,] 19  \n",
              "[5,] 26  "
            ]
          },
          "metadata": {}
        },
        {
          "output_type": "display_data",
          "data": {
            "text/plain": [
              "plot without title"
            ],
            "image/png": "[encoded data removed]"
          },
          "metadata": {
            "image/png": {
              "width": 420,
              "height": 420
            }
          }
        }
      ]
    },
    {
      "cell_type": "code",
      "source": [
        "# 2-2. 정상범위를 벗어난 값을 결측처리\n",
        "mpg$cty <- ifelse(mpg$cty < 9 | mpg$cty > 26, NA, mpg$cty)\n",
        "\n",
        "boxplot(mpg$cty)"
      ],
      "metadata": {
        "colab": {
          "base_uri": "https://localhost:8080/",
          "height": 437
        },
        "id": "zc9HPsEubuHH",
        "outputId": "ddff9f41-9c4d-4a9e-992d-fb0b9b7ecef5"
      },
      "execution_count": 66,
      "outputs": [
        {
          "output_type": "display_data",
          "data": {
            "text/plain": [
              "plot without title"
            ],
            "image/png": "[encoded data removed]"
          },
          "metadata": {
            "image/png": {
              "width": 420,
              "height": 420
            }
          }
        }
      ]
    },
    {
      "cell_type": "code",
      "source": [
        "# 3. 이상치를 제외한 다음 drv별로 cty 평균이 어떻게 다른지 확인\n",
        "mpg %>%\n",
        "  filter(!is.na(drv) & !is.na(cty)) %>%\n",
        "  group_by(drv) %>%\n",
        "  summarise(mean_cty = mean(cty))"
      ],
      "metadata": {
        "colab": {
          "base_uri": "https://localhost:8080/",
          "height": 192
        },
        "id": "ksEY1zb-cIcT",
        "outputId": "78fb8da7-803b-4f67-db43-ce0378650e27"
      },
      "execution_count": 67,
      "outputs": [
        {
          "output_type": "display_data",
          "data": {
            "text/html": [
              "<table class=\"dataframe\">\n",
              "<caption>A tibble: 3 × 2</caption>\n",
              "<thead>\n",
              "\t<tr><th scope=col>drv</th><th scope=col>mean_cty</th></tr>\n",
              "\t<tr><th scope=col>&lt;chr&gt;</th><th scope=col>&lt;dbl&gt;</th></tr>\n",
              "</thead>\n",
              "<tbody>\n",
              "\t<tr><td>4</td><td>14.24742</td></tr>\n",
              "\t<tr><td>f</td><td>19.47000</td></tr>\n",
              "\t<tr><td>r</td><td>13.95833</td></tr>\n",
              "</tbody>\n",
              "</table>\n"
            ],
            "text/markdown": "\nA tibble: 3 × 2\n\n| drv &lt;chr&gt; | mean_cty &lt;dbl&gt; |\n|---|---|\n| 4 | 14.24742 |\n| f | 19.47000 |\n| r | 13.95833 |\n\n",
            "text/latex": "A tibble: 3 × 2\n\\begin{tabular}{ll}\n drv & mean\\_cty\\\\\n <chr> & <dbl>\\\\\n\\hline\n\t 4 & 14.24742\\\\\n\t f & 19.47000\\\\\n\t r & 13.95833\\\\\n\\end{tabular}\n",
            "text/plain": [
              "  drv mean_cty\n",
              "1 4   14.24742\n",
              "2 f   19.47000\n",
              "3 r   13.95833"
            ]
          },
          "metadata": {}
        }
      ]
    },
    {
      "cell_type": "code",
      "source": [
        ""
      ],
      "metadata": {
        "id": "91KXMrDGdffn"
      },
      "execution_count": null,
      "outputs": []
    }
  ]
}