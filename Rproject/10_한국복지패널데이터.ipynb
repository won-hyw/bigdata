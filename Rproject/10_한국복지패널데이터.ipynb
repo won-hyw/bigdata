{
  "nbformat": 4,
  "nbformat_minor": 0,
  "metadata": {
    "colab": {
      "name": "10.한국복지패널데이터.ipynb",
      "provenance": []
    },
    "kernelspec": {
      "name": "ir",
      "display_name": "R"
    },
    "language_info": {
      "name": "R"
    }
  },
  "cells": [
    {
      "cell_type": "markdown",
      "source": [
        "# 한국 복지 패널 데이터 분석\n",
        "- 한국보건사회연구원에서 발간하는 조사자료\n",
        "- 전국 7000여 가구를 선정, 2006년부터 매년 추적 조사\n",
        "- 1000여개 변수로 구성"
      ],
      "metadata": {
        "id": "6C9SxgBuhIjd"
      }
    },
    {
      "cell_type": "code",
      "execution_count": 1,
      "metadata": {
        "colab": {
          "base_uri": "https://localhost:8080/"
        },
        "id": "vHq-9Udked1C",
        "outputId": "4efa93d1-db48-4f10-fb0b-40b0cbfd72bf"
      },
      "outputs": [
        {
          "output_type": "stream",
          "name": "stderr",
          "text": [
            "\n",
            "Attaching package: ‘dplyr’\n",
            "\n",
            "\n",
            "The following objects are masked from ‘package:stats’:\n",
            "\n",
            "    filter, lag\n",
            "\n",
            "\n",
            "The following objects are masked from ‘package:base’:\n",
            "\n",
            "    intersect, setdiff, setequal, union\n",
            "\n",
            "\n"
          ]
        }
      ],
      "source": [
        "library(foreign) # SPSS 파일 불러오기\n",
        "library(dplyr)\n",
        "library(ggplot2)\n",
        "library(readxl) # 엑셀 파일 불러오기"
      ]
    },
    {
      "cell_type": "code",
      "source": [
        "raw_welfare <- read.spss(file = \"/content/Koweps_hpc10_2015_beta1.sav\",\n",
        "                        to.data.frame = T)"
      ],
      "metadata": {
        "colab": {
          "base_uri": "https://localhost:8080/"
        },
        "id": "vWB5FNA9h4D6",
        "outputId": "434ef6a4-4edf-4a5c-e7f4-2823841fd4c6"
      },
      "execution_count": 2,
      "outputs": [
        {
          "output_type": "stream",
          "name": "stderr",
          "text": [
            "Warning message in read.spss(file = \"/content/Koweps_hpc10_2015_beta1.sav\", to.data.frame = T):\n",
            "“/content/Koweps_hpc10_2015_beta1.sav: Compression bias (0) is not the usual value of 100”\n"
          ]
        }
      ]
    },
    {
      "cell_type": "code",
      "source": [
        "welfare <- raw_welfare"
      ],
      "metadata": {
        "id": "uBSMsaYLiJUM"
      },
      "execution_count": 3,
      "outputs": []
    },
    {
      "cell_type": "code",
      "source": [
        "head(welfare)"
      ],
      "metadata": {
        "colab": {
          "base_uri": "https://localhost:8080/",
          "height": 306
        },
        "id": "M-RMTUX-mAWe",
        "outputId": "422c71b5-192d-4ca5-c00f-ee6ff3a7a5c2"
      },
      "execution_count": 4,
      "outputs": [
        {
          "output_type": "display_data",
          "data": {
            "text/html": [
              "<table class=\"dataframe\">\n",
              "<caption>A data.frame: 6 × 957</caption>\n",
              "<thead>\n",
              "\t<tr><th></th><th scope=col>h10_id</th><th scope=col>h10_ind</th><th scope=col>h10_sn</th><th scope=col>h10_merkey</th><th scope=col>h_new</th><th scope=col>h10_cobf</th><th scope=col>h10_reg5</th><th scope=col>h10_reg7</th><th scope=col>h10_din</th><th scope=col>h10_cin</th><th scope=col>⋯</th><th scope=col>c1007_4aq19</th><th scope=col>c1007_4aq20</th><th scope=col>c1007_4aq21</th><th scope=col>c1007_4aq22</th><th scope=col>c1007_4aq23</th><th scope=col>h10_pers_income1</th><th scope=col>h10_pers_income2</th><th scope=col>h10_pers_income3</th><th scope=col>h10_pers_income4</th><th scope=col>h10_pers_income5</th></tr>\n",
              "\t<tr><th></th><th scope=col>&lt;dbl&gt;</th><th scope=col>&lt;dbl&gt;</th><th scope=col>&lt;dbl&gt;</th><th scope=col>&lt;dbl&gt;</th><th scope=col>&lt;dbl&gt;</th><th scope=col>&lt;dbl&gt;</th><th scope=col>&lt;dbl&gt;</th><th scope=col>&lt;dbl&gt;</th><th scope=col>&lt;dbl&gt;</th><th scope=col>&lt;dbl&gt;</th><th scope=col>⋯</th><th scope=col>&lt;dbl&gt;</th><th scope=col>&lt;dbl&gt;</th><th scope=col>&lt;dbl&gt;</th><th scope=col>&lt;dbl&gt;</th><th scope=col>&lt;dbl&gt;</th><th scope=col>&lt;dbl&gt;</th><th scope=col>&lt;dbl&gt;</th><th scope=col>&lt;dbl&gt;</th><th scope=col>&lt;dbl&gt;</th><th scope=col>&lt;dbl&gt;</th></tr>\n",
              "</thead>\n",
              "<tbody>\n",
              "\t<tr><th scope=row>1</th><td>1</td><td>1</td><td>1</td><td>10101</td><td>0</td><td>NA</td><td>1</td><td>1</td><td> 864</td><td> 864</td><td>⋯</td><td>NA</td><td>NA</td><td>NA</td><td>NA</td><td>NA</td><td>NA</td><td>  NA</td><td>  NA</td><td>0</td><td>NA</td></tr>\n",
              "\t<tr><th scope=row>2</th><td>2</td><td>1</td><td>1</td><td>20101</td><td>0</td><td>NA</td><td>1</td><td>1</td><td> 600</td><td> 600</td><td>⋯</td><td>NA</td><td>NA</td><td>NA</td><td>NA</td><td>NA</td><td>NA</td><td>  NA</td><td>  NA</td><td>0</td><td>NA</td></tr>\n",
              "\t<tr><th scope=row>3</th><td>3</td><td>1</td><td>1</td><td>30101</td><td>0</td><td>NA</td><td>1</td><td>1</td><td>1571</td><td>1619</td><td>⋯</td><td>NA</td><td>NA</td><td>NA</td><td>NA</td><td>NA</td><td>NA</td><td>1440</td><td>  NA</td><td>0</td><td>NA</td></tr>\n",
              "\t<tr><th scope=row>4</th><td>4</td><td>1</td><td>1</td><td>40101</td><td>0</td><td>NA</td><td>1</td><td>1</td><td>3579</td><td>3687</td><td>⋯</td><td>NA</td><td>NA</td><td>NA</td><td>NA</td><td>NA</td><td>NA</td><td>2400</td><td>  NA</td><td>0</td><td>NA</td></tr>\n",
              "\t<tr><th scope=row>5</th><td>4</td><td>1</td><td>1</td><td>40101</td><td>0</td><td>NA</td><td>1</td><td>1</td><td>3579</td><td>3687</td><td>⋯</td><td>NA</td><td>NA</td><td>NA</td><td>NA</td><td>NA</td><td>NA</td><td>  NA</td><td>  NA</td><td>0</td><td>NA</td></tr>\n",
              "\t<tr><th scope=row>6</th><td>6</td><td>1</td><td>1</td><td>60101</td><td>0</td><td>NA</td><td>1</td><td>1</td><td>3030</td><td>3486</td><td>⋯</td><td>NA</td><td>NA</td><td>NA</td><td>NA</td><td>NA</td><td>NA</td><td>  NA</td><td>3000</td><td>0</td><td>NA</td></tr>\n",
              "</tbody>\n",
              "</table>\n"
            ],
            "text/markdown": "\nA data.frame: 6 × 957\n\n| <!--/--> | h10_id &lt;dbl&gt; | h10_ind &lt;dbl&gt; | h10_sn &lt;dbl&gt; | h10_merkey &lt;dbl&gt; | h_new &lt;dbl&gt; | h10_cobf &lt;dbl&gt; | h10_reg5 &lt;dbl&gt; | h10_reg7 &lt;dbl&gt; | h10_din &lt;dbl&gt; | h10_cin &lt;dbl&gt; | ⋯ ⋯ | c1007_4aq19 &lt;dbl&gt; | c1007_4aq20 &lt;dbl&gt; | c1007_4aq21 &lt;dbl&gt; | c1007_4aq22 &lt;dbl&gt; | c1007_4aq23 &lt;dbl&gt; | h10_pers_income1 &lt;dbl&gt; | h10_pers_income2 &lt;dbl&gt; | h10_pers_income3 &lt;dbl&gt; | h10_pers_income4 &lt;dbl&gt; | h10_pers_income5 &lt;dbl&gt; |\n|---|---|---|---|---|---|---|---|---|---|---|---|---|---|---|---|---|---|---|---|---|---|\n| 1 | 1 | 1 | 1 | 10101 | 0 | NA | 1 | 1 |  864 |  864 | ⋯ | NA | NA | NA | NA | NA | NA |   NA |   NA | 0 | NA |\n| 2 | 2 | 1 | 1 | 20101 | 0 | NA | 1 | 1 |  600 |  600 | ⋯ | NA | NA | NA | NA | NA | NA |   NA |   NA | 0 | NA |\n| 3 | 3 | 1 | 1 | 30101 | 0 | NA | 1 | 1 | 1571 | 1619 | ⋯ | NA | NA | NA | NA | NA | NA | 1440 |   NA | 0 | NA |\n| 4 | 4 | 1 | 1 | 40101 | 0 | NA | 1 | 1 | 3579 | 3687 | ⋯ | NA | NA | NA | NA | NA | NA | 2400 |   NA | 0 | NA |\n| 5 | 4 | 1 | 1 | 40101 | 0 | NA | 1 | 1 | 3579 | 3687 | ⋯ | NA | NA | NA | NA | NA | NA |   NA |   NA | 0 | NA |\n| 6 | 6 | 1 | 1 | 60101 | 0 | NA | 1 | 1 | 3030 | 3486 | ⋯ | NA | NA | NA | NA | NA | NA |   NA | 3000 | 0 | NA |\n\n",
            "text/latex": "A data.frame: 6 × 957\n\\begin{tabular}{r|lllllllllllllllllllll}\n  & h10\\_id & h10\\_ind & h10\\_sn & h10\\_merkey & h\\_new & h10\\_cobf & h10\\_reg5 & h10\\_reg7 & h10\\_din & h10\\_cin & ⋯ & c1007\\_4aq19 & c1007\\_4aq20 & c1007\\_4aq21 & c1007\\_4aq22 & c1007\\_4aq23 & h10\\_pers\\_income1 & h10\\_pers\\_income2 & h10\\_pers\\_income3 & h10\\_pers\\_income4 & h10\\_pers\\_income5\\\\\n  & <dbl> & <dbl> & <dbl> & <dbl> & <dbl> & <dbl> & <dbl> & <dbl> & <dbl> & <dbl> & ⋯ & <dbl> & <dbl> & <dbl> & <dbl> & <dbl> & <dbl> & <dbl> & <dbl> & <dbl> & <dbl>\\\\\n\\hline\n\t1 & 1 & 1 & 1 & 10101 & 0 & NA & 1 & 1 &  864 &  864 & ⋯ & NA & NA & NA & NA & NA & NA &   NA &   NA & 0 & NA\\\\\n\t2 & 2 & 1 & 1 & 20101 & 0 & NA & 1 & 1 &  600 &  600 & ⋯ & NA & NA & NA & NA & NA & NA &   NA &   NA & 0 & NA\\\\\n\t3 & 3 & 1 & 1 & 30101 & 0 & NA & 1 & 1 & 1571 & 1619 & ⋯ & NA & NA & NA & NA & NA & NA & 1440 &   NA & 0 & NA\\\\\n\t4 & 4 & 1 & 1 & 40101 & 0 & NA & 1 & 1 & 3579 & 3687 & ⋯ & NA & NA & NA & NA & NA & NA & 2400 &   NA & 0 & NA\\\\\n\t5 & 4 & 1 & 1 & 40101 & 0 & NA & 1 & 1 & 3579 & 3687 & ⋯ & NA & NA & NA & NA & NA & NA &   NA &   NA & 0 & NA\\\\\n\t6 & 6 & 1 & 1 & 60101 & 0 & NA & 1 & 1 & 3030 & 3486 & ⋯ & NA & NA & NA & NA & NA & NA &   NA & 3000 & 0 & NA\\\\\n\\end{tabular}\n",
            "text/plain": [
              "  h10_id h10_ind h10_sn h10_merkey h_new h10_cobf h10_reg5 h10_reg7 h10_din\n",
              "1 1      1       1      10101      0     NA       1        1         864   \n",
              "2 2      1       1      20101      0     NA       1        1         600   \n",
              "3 3      1       1      30101      0     NA       1        1        1571   \n",
              "4 4      1       1      40101      0     NA       1        1        3579   \n",
              "5 4      1       1      40101      0     NA       1        1        3579   \n",
              "6 6      1       1      60101      0     NA       1        1        3030   \n",
              "  h10_cin ⋯ c1007_4aq19 c1007_4aq20 c1007_4aq21 c1007_4aq22 c1007_4aq23\n",
              "1  864    ⋯ NA          NA          NA          NA          NA         \n",
              "2  600    ⋯ NA          NA          NA          NA          NA         \n",
              "3 1619    ⋯ NA          NA          NA          NA          NA         \n",
              "4 3687    ⋯ NA          NA          NA          NA          NA         \n",
              "5 3687    ⋯ NA          NA          NA          NA          NA         \n",
              "6 3486    ⋯ NA          NA          NA          NA          NA         \n",
              "  h10_pers_income1 h10_pers_income2 h10_pers_income3 h10_pers_income4\n",
              "1 NA                 NA               NA             0               \n",
              "2 NA                 NA               NA             0               \n",
              "3 NA               1440               NA             0               \n",
              "4 NA               2400               NA             0               \n",
              "5 NA                 NA               NA             0               \n",
              "6 NA                 NA             3000             0               \n",
              "  h10_pers_income5\n",
              "1 NA              \n",
              "2 NA              \n",
              "3 NA              \n",
              "4 NA              \n",
              "5 NA              \n",
              "6 NA              "
            ]
          },
          "metadata": {}
        }
      ]
    },
    {
      "cell_type": "code",
      "source": [
        "str(welfare)"
      ],
      "metadata": {
        "colab": {
          "base_uri": "https://localhost:8080/"
        },
        "id": "BJGFnvm7mCXa",
        "outputId": "77ce1d3f-52a3-41ca-e30b-d6332db56603"
      },
      "execution_count": 5,
      "outputs": [
        {
          "output_type": "stream",
          "name": "stdout",
          "text": [
            "'data.frame':\t16664 obs. of  957 variables:\n",
            " $ h10_id          : num  1 2 3 4 4 6 6 6 6 6 ...\n",
            " $ h10_ind         : num  1 1 1 1 1 1 1 1 1 1 ...\n",
            " $ h10_sn          : num  1 1 1 1 1 1 1 1 1 1 ...\n",
            " $ h10_merkey      : num  10101 20101 30101 40101 40101 ...\n",
            " $ h_new           : num  0 0 0 0 0 0 0 0 0 0 ...\n",
            " $ h10_cobf        : num  NA NA NA NA NA NA NA NA NA NA ...\n",
            " $ h10_reg5        : num  1 1 1 1 1 1 1 1 1 1 ...\n",
            " $ h10_reg7        : num  1 1 1 1 1 1 1 1 1 1 ...\n",
            " $ h10_din         : num  864 600 1571 3579 3579 ...\n",
            " $ h10_cin         : num  864 600 1619 3687 3687 ...\n",
            " $ h10_flag        : num  0 0 0 0 0 0 0 0 0 0 ...\n",
            " $ p10_wgl         : num  777 960 1059 1012 1075 ...\n",
            " $ p10_wsl         : num  0.257 0.317 0.35 0.334 0.355 ...\n",
            " $ p10_wgc         : num  764 949 1048 992 1057 ...\n",
            " $ p10_wsc         : num  0.252 0.314 0.346 0.328 0.349 ...\n",
            " $ h10_hc          : num  2 2 1 1 1 1 1 1 1 1 ...\n",
            " $ nh1001_1        : num  NA NA NA NA NA NA NA NA NA NA ...\n",
            " $ nh1001_2        : num  NA NA NA NA NA NA NA NA NA NA ...\n",
            " $ h1001_1         : num  1 1 1 2 2 5 5 5 5 5 ...\n",
            " $ h10_pind        : num  1 1 1 1 4 1 1 1 1 1 ...\n",
            " $ h10_pid         : num  101 201 301 401 402 601 602 603 604 605 ...\n",
            " $ h10_g1          : num  1 1 1 1 2 1 2 3 4 5 ...\n",
            " $ h10_g2          : num  10 10 10 10 2 10 20 11 1 2 ...\n",
            " $ h10_g3          : num  2 2 1 1 2 1 2 2 1 2 ...\n",
            " $ h10_g4          : num  1936 1945 1948 1942 1923 ...\n",
            " $ h10_g6          : num  2 4 3 7 2 6 5 3 4 4 ...\n",
            " $ h10_g7          : num  0 5 5 3 0 5 5 1 5 5 ...\n",
            " $ h10_g8          : num  0 0 0 0 0 0 0 0 0 0 ...\n",
            " $ h10_g9          : num  0 0 0 0 0 0 0 0 0 0 ...\n",
            " $ h10_g10         : num  2 2 2 3 2 1 1 0 1 1 ...\n",
            " $ h10_g11         : num  2 2 2 1 1 1 1 1 1 1 ...\n",
            " $ h10_g12         : num  1 1 1 1 1 1 1 1 1 1 ...\n",
            " $ h1001_110       : num  1 1 1 5 5 5 5 5 5 5 ...\n",
            " $ h1001_5aq1      : num  0 0 0 0 0 0 0 0 0 0 ...\n",
            " $ h1001_5aq2      : num  0 0 0 0 0 0 0 0 0 0 ...\n",
            " $ h1001_5aq3      : num  0 0 0 0 0 0 0 0 0 0 ...\n",
            " $ h1001_5aq4      : num  0 0 0 0 0 0 0 0 0 0 ...\n",
            " $ h10_med1        : num  1 1 1 1 2 1 2 3 4 5 ...\n",
            " $ h10_med2        : num  3 4 3 3 4 3 5 2 3 3 ...\n",
            " $ h10_med3        : num  60 28 12 3 6 5 0 3 0 14 ...\n",
            " $ h10_med4        : num  0 0 0 0 0 0 5 0 0 0 ...\n",
            " $ h10_med5        : num  0 0 0 0 0 0 23 0 0 0 ...\n",
            " $ h10_med6        : num  0 0 0 0 0 0 1 0 0 0 ...\n",
            " $ h10_med7        : num  3 2 2 1 1 2 1 2 0 2 ...\n",
            " $ h10_med8        : num  0 1 0 1 1 1 1 0 0 1 ...\n",
            " $ h10_g9_1        : num  3 3 3 3 3 3 3 0 0 3 ...\n",
            " $ h10_med9        : num  8 5 7 3 15 23 1 0 0 6 ...\n",
            " $ h10_med10       : num  0 0 0 0 0 1 1 1 0 0 ...\n",
            " $ h10_eco1        : num  1 1 1 1 2 1 2 3 4 5 ...\n",
            " $ h10_eco2        : num  2 3 1 1 3 1 1 0 3 3 ...\n",
            " $ h10_eco3        : num  NA NA NA NA NA NA NA NA NA NA ...\n",
            " $ h10_eco4        : num  9 9 2 2 9 6 9 NA 9 9 ...\n",
            " $ h10_eco4_1      : num  NA NA NA NA NA NA NA NA NA NA ...\n",
            " $ h10_eco5_1      : num  NA NA 1 1 NA NA NA NA NA NA ...\n",
            " $ h10_eco6        : num  NA NA 2 2 NA NA NA NA NA NA ...\n",
            " $ h10_eco_7_1     : num  NA NA 1 1 NA NA NA NA NA NA ...\n",
            " $ h10_eco_7_2     : num  NA NA 2 2 NA NA NA NA NA NA ...\n",
            " $ h10_eco_7_3     : num  NA NA 1 3 NA NA NA NA NA NA ...\n",
            " $ h10_eco8        : num  NA NA 75 42 NA 46 NA NA NA NA ...\n",
            " $ h10_eco9        : num  NA NA 942 762 NA 530 NA NA NA NA ...\n",
            " $ h10_eco10       : num  NA NA 3 2 NA 1 NA NA NA NA ...\n",
            " $ h10_eco11       : num  10 10 NA NA 10 NA 6 NA 10 10 ...\n",
            " $ h10_soc1        : num  1 1 1 1 2 1 2 3 4 5 ...\n",
            " $ h10_soc_2       : num  0 0 0 1 0 2 0 0 0 0 ...\n",
            " $ h10_soc_3       : num  NA NA NA NA NA 1 NA NA NA NA ...\n",
            " $ h10_soc_4       : num  NA NA NA NA NA 2 NA NA NA NA ...\n",
            " $ h10_soc_5       : num  NA NA NA NA NA 1 NA NA NA NA ...\n",
            " $ h10_soc_6       : num  NA NA NA NA NA NA NA NA NA NA ...\n",
            " $ h10_soc_7       : num  NA NA NA NA NA NA NA NA NA NA ...\n",
            " $ h10_soc_8       : num  NA NA NA NA NA NA NA NA NA NA ...\n",
            " $ h10_soc_9       : num  NA NA NA NA NA 0 NA NA NA NA ...\n",
            " $ h10_soc_10      : num  NA NA NA NA NA 0 NA NA NA NA ...\n",
            " $ h10_soc_11      : num  NA NA NA NA NA NA NA NA NA NA ...\n",
            " $ h10_soc8        : num  0 0 1 2 0 0 0 0 0 0 ...\n",
            " $ h10_soc9        : num  0 0 1 2 0 0 0 0 0 0 ...\n",
            " $ h10_soc11       : num  0 0 2 2 0 0 0 0 0 0 ...\n",
            " $ h10_soc10       : num  0 0 2 2 0 0 0 0 0 0 ...\n",
            " $ h10_soc_12      : num  4 4 4 4 4 4 4 4 4 4 ...\n",
            " $ h10_soc_13      : num  4 4 1 3 4 3 4 4 4 4 ...\n",
            " $ h1005_1         : num  1 1 1 1 1 1 1 1 1 1 ...\n",
            " $ h1005_3aq1      : num  2 2 1 2 2 2 2 2 2 2 ...\n",
            " $ h1005_2         : num  NA NA NA NA NA NA NA NA NA NA ...\n",
            " $ h1005_3         : num  NA NA NA NA NA NA NA NA NA NA ...\n",
            " $ h1005_4         : num  2 2 2 2 2 2 2 2 2 2 ...\n",
            " $ h1005_5         : num  NA NA NA NA NA NA NA NA NA NA ...\n",
            " $ h1005_6         : num  NA NA NA NA NA NA NA NA NA NA ...\n",
            " $ h1005_7         : num  0 0 0 0 0 1 1 1 1 1 ...\n",
            " $ nh1005_8        : num  4 3 3 3 3 3 3 3 3 3 ...\n",
            " $ nh1005_9        : num  5 4 3 3 3 4 4 4 4 4 ...\n",
            " $ h1005_3aq2      : num  0 0 0 0 0 11 11 11 11 11 ...\n",
            " $ h1006_aq1       : num  2 2 2 2 2 2 2 2 2 2 ...\n",
            " $ h1006_1         : num  2 2 2 1 1 2 2 2 2 2 ...\n",
            " $ h1006_2         : num  3 3 1 3 3 3 3 3 3 3 ...\n",
            " $ h1006_4         : num  2 3 1 3 3 3 3 3 3 3 ...\n",
            " $ h1006_5         : num  33 198 23 73 73 82 82 82 82 82 ...\n",
            " $ h1006_3         : num  2 1 3 1 1 1 1 1 1 1 ...\n",
            " $ h1006_6         : num  5000 60000 200 20000 20000 50700 50700 50700 50700 50700 ...\n",
            " $ h1006_8         : num  1 1 1 1 1 1 1 1 1 1 ...\n",
            " $ h1006_9         : num  88 4 88 88 88 88 88 88 88 88 ...\n",
            "  [list output truncated]\n",
            " - attr(*, \"variable.labels\")= Named chr [1:957] \"\\xb0\\xa1\\xb1\\xb8 \\xc6г\\xce ID(h10_id)\" \"\\xb0\\xa1\\xb1\\xb8\\xbb\\xfd\\xbc\\xba\\xc2\\xf7\\xbc\\xf6(h10_ind)\" \"\\xb0\\xa1\\xb1\\xb8\\xbaи\\xae\\xc0Ϸù\\xf8ȣ(h10_sn)\" \"\\xc6гΰ\\xa3 \\xb0\\xa1\\xb1\\xb8\\xb8\\xd3\\xc1\\xf6 Ű\\xba\\xaf\\xbc\\xf6(h10_merkey)\" ...\n",
            "  ..- attr(*, \"names\")= chr [1:957] \"h10_id\" \"h10_ind\" \"h10_sn\" \"h10_merkey\" ...\n"
          ]
        }
      ]
    },
    {
      "cell_type": "code",
      "source": [
        "welfare <- rename(welfare,\n",
        "                  sex = h10_g3,\n",
        "                  birth = h10_g4,\n",
        "                  marriage = h10_g10,\n",
        "                  religion = h10_g11,\n",
        "                  income = p1002_8aq1,\n",
        "                  code_job = h10_eco9,\n",
        "                  code_region = h10_reg7)"
      ],
      "metadata": {
        "id": "U5a1mVNSmHEl"
      },
      "execution_count": 6,
      "outputs": []
    },
    {
      "cell_type": "markdown",
      "source": [
        "## 성별에 따른 월급 차이\n",
        "\n",
        "- 분석 절차\n",
        "  - 변수 검토 및 전처리\n",
        "    - 성별\n",
        "    - 월급\n",
        "\n",
        "  - 변수 간 관계 분석\n",
        "    - 성별 월급 평균표 만들기\n",
        "    - 그래프 만들기"
      ],
      "metadata": {
        "id": "jeeUiItomtW0"
      }
    },
    {
      "cell_type": "code",
      "source": [
        "# 변수 검토하기\n",
        "class(welfare$sex)"
      ],
      "metadata": {
        "colab": {
          "base_uri": "https://localhost:8080/",
          "height": 34
        },
        "id": "mrpiiMXJmmro",
        "outputId": "cc16065c-632b-446f-d709-65bb3b4c4d0e"
      },
      "execution_count": 7,
      "outputs": [
        {
          "output_type": "display_data",
          "data": {
            "text/html": [
              "'numeric'"
            ],
            "text/markdown": "'numeric'",
            "text/latex": "'numeric'",
            "text/plain": [
              "[1] \"numeric\""
            ]
          },
          "metadata": {}
        }
      ]
    },
    {
      "cell_type": "code",
      "source": [
        "table(welfare$sex)"
      ],
      "metadata": {
        "colab": {
          "base_uri": "https://localhost:8080/",
          "height": 69
        },
        "id": "eWkUiE67nucO",
        "outputId": "86b9233e-f25e-4ec1-95d6-4c2bab3c2320"
      },
      "execution_count": 8,
      "outputs": [
        {
          "output_type": "display_data",
          "data": {
            "text/plain": [
              "\n",
              "   1    2 \n",
              "7578 9086 "
            ]
          },
          "metadata": {}
        }
      ]
    },
    {
      "cell_type": "code",
      "source": [
        "# 이상치 결측 처리\n",
        "welfare$sex <- ifelse(welfare$sex == 9, NA, welfare$sex)"
      ],
      "metadata": {
        "id": "vqrTaDaLnwoD"
      },
      "execution_count": 9,
      "outputs": []
    },
    {
      "cell_type": "code",
      "source": [
        "# 결측치 확인\n",
        "table(is.na(welfare$sex))"
      ],
      "metadata": {
        "colab": {
          "base_uri": "https://localhost:8080/",
          "height": 69
        },
        "id": "Z45P87utoLid",
        "outputId": "53e79ba7-aed9-427a-9805-dbaa49f361f4"
      },
      "execution_count": 10,
      "outputs": [
        {
          "output_type": "display_data",
          "data": {
            "text/plain": [
              "\n",
              "FALSE \n",
              "16664 "
            ]
          },
          "metadata": {}
        }
      ]
    },
    {
      "cell_type": "code",
      "source": [
        "# 성별 항목 이름 부여\n",
        "welfare$sex <- ifelse(welfare$sex == 1, \"male\", \"female\")\n",
        "\n",
        "table(welfare$sex)"
      ],
      "metadata": {
        "colab": {
          "base_uri": "https://localhost:8080/",
          "height": 69
        },
        "id": "Igald6PvoOy-",
        "outputId": "435723dc-332a-478a-d768-d01cdb70bb7c"
      },
      "execution_count": 11,
      "outputs": [
        {
          "output_type": "display_data",
          "data": {
            "text/plain": [
              "\n",
              "female   male \n",
              "  9086   7578 "
            ]
          },
          "metadata": {}
        }
      ]
    },
    {
      "cell_type": "code",
      "source": [
        "qplot(welfare$sex)"
      ],
      "metadata": {
        "colab": {
          "base_uri": "https://localhost:8080/",
          "height": 437
        },
        "id": "MciEsY1lolwl",
        "outputId": "e57b1dab-51ff-41de-cff4-ea8a33d4a510"
      },
      "execution_count": 12,
      "outputs": [
        {
          "output_type": "display_data",
          "data": {
            "text/plain": [
              "plot without title"
            ],
            "image/png": "[encoded data removed]"
          },
          "metadata": {
            "image/png": {
              "width": 420,
              "height": 420
            }
          }
        }
      ]
    },
    {
      "cell_type": "code",
      "source": [
        "# 변수 검토하기\n",
        "class(welfare$income)"
      ],
      "metadata": {
        "colab": {
          "base_uri": "https://localhost:8080/",
          "height": 34
        },
        "id": "OVWHocaUooGs",
        "outputId": "876f091a-64b9-46cf-b4c3-c68b8aac679b"
      },
      "execution_count": 13,
      "outputs": [
        {
          "output_type": "display_data",
          "data": {
            "text/html": [
              "'numeric'"
            ],
            "text/markdown": "'numeric'",
            "text/latex": "'numeric'",
            "text/plain": [
              "[1] \"numeric\""
            ]
          },
          "metadata": {}
        }
      ]
    },
    {
      "cell_type": "code",
      "source": [
        "summary(welfare$income)"
      ],
      "metadata": {
        "colab": {
          "base_uri": "https://localhost:8080/",
          "height": 52
        },
        "id": "hhZapNvKo6xP",
        "outputId": "5ee8f924-bf3a-4cfe-f99a-e71e333eee37"
      },
      "execution_count": 14,
      "outputs": [
        {
          "output_type": "display_data",
          "data": {
            "text/plain": [
              "   Min. 1st Qu.  Median    Mean 3rd Qu.    Max.    NA's \n",
              "    0.0   122.0   192.5   241.6   316.6  2400.0   12030 "
            ]
          },
          "metadata": {}
        }
      ]
    },
    {
      "cell_type": "code",
      "source": [
        "qplot(welfare$income)"
      ],
      "metadata": {
        "colab": {
          "base_uri": "https://localhost:8080/",
          "height": 506
        },
        "id": "in2ywoiho_AM",
        "outputId": "e1fd1022-752b-4b1a-f0ac-43383a869101"
      },
      "execution_count": 15,
      "outputs": [
        {
          "output_type": "stream",
          "name": "stderr",
          "text": [
            "`stat_bin()` using `bins = 30`. Pick better value with `binwidth`.\n",
            "\n",
            "Warning message:\n",
            "“Removed 12030 rows containing non-finite values (stat_bin).”\n"
          ]
        },
        {
          "output_type": "display_data",
          "data": {
            "text/plain": [
              "plot without title"
            ],
            "image/png": "[encoded data removed]"
          },
          "metadata": {
            "image/png": {
              "width": 420,
              "height": 420
            }
          }
        }
      ]
    },
    {
      "cell_type": "code",
      "source": [
        "# 0 ~ 1000 까지의 데이터가 잘 표현되지 않음\n",
        "qplot(welfare$income) + xlim(0, 1000)"
      ],
      "metadata": {
        "colab": {
          "base_uri": "https://localhost:8080/",
          "height": 541
        },
        "id": "wxt8YmgdpjCC",
        "outputId": "282d4e7f-7f00-40db-819d-7bd7017c06e1"
      },
      "execution_count": 16,
      "outputs": [
        {
          "output_type": "stream",
          "name": "stderr",
          "text": [
            "`stat_bin()` using `bins = 30`. Pick better value with `binwidth`.\n",
            "\n",
            "Warning message:\n",
            "“Removed 12051 rows containing non-finite values (stat_bin).”\n",
            "Warning message:\n",
            "“Removed 2 rows containing missing values (geom_bar).”\n"
          ]
        },
        {
          "output_type": "display_data",
          "data": {
            "text/plain": [
              "plot without title"
            ],
            "image/png": "[encoded data removed]"
          },
          "metadata": {
            "image/png": {
              "width": 420,
              "height": 420
            }
          }
        }
      ]
    },
    {
      "cell_type": "code",
      "source": [
        "# 이상치 확인(NA's)\n",
        "summary(welfare$income)"
      ],
      "metadata": {
        "colab": {
          "base_uri": "https://localhost:8080/",
          "height": 52
        },
        "id": "3QeZOuwVqBTn",
        "outputId": "d0d2a722-3d20-41c5-cdbe-6e8f6f175115"
      },
      "execution_count": 17,
      "outputs": [
        {
          "output_type": "display_data",
          "data": {
            "text/plain": [
              "   Min. 1st Qu.  Median    Mean 3rd Qu.    Max.    NA's \n",
              "    0.0   122.0   192.5   241.6   316.6  2400.0   12030 "
            ]
          },
          "metadata": {}
        }
      ]
    },
    {
      "cell_type": "code",
      "source": [
        "# 이상치 결측 처리\n",
        "welfare$income <- ifelse(welfare$income %in% c(0, 9999), NA, welfare$income)\n",
        "\n",
        "# 결측치 확인\n",
        "table(is.na(welfare$income))"
      ],
      "metadata": {
        "colab": {
          "base_uri": "https://localhost:8080/",
          "height": 69
        },
        "id": "aqzeoDihqUFp",
        "outputId": "d4b3f766-ed3e-40ea-e714-427657956ef5"
      },
      "execution_count": 18,
      "outputs": [
        {
          "output_type": "display_data",
          "data": {
            "text/plain": [
              "\n",
              "FALSE  TRUE \n",
              " 4620 12044 "
            ]
          },
          "metadata": {}
        }
      ]
    },
    {
      "cell_type": "code",
      "source": [
        "# 성별 월급 평균표 만들기\n",
        "sex_income <- welfare %>%\n",
        "  filter(!is.na(income)) %>%\n",
        "  group_by(sex) %>%\n",
        "  summarise(mean_income = mean(income))"
      ],
      "metadata": {
        "id": "DSYZ7pmtqqAI"
      },
      "execution_count": 19,
      "outputs": []
    },
    {
      "cell_type": "code",
      "source": [
        "sex_income"
      ],
      "metadata": {
        "colab": {
          "base_uri": "https://localhost:8080/",
          "height": 161
        },
        "id": "yd04EqYwq_fW",
        "outputId": "2e325031-110b-40da-c46a-2af3dfe6ac13"
      },
      "execution_count": 20,
      "outputs": [
        {
          "output_type": "display_data",
          "data": {
            "text/html": [
              "<table class=\"dataframe\">\n",
              "<caption>A tibble: 2 × 2</caption>\n",
              "<thead>\n",
              "\t<tr><th scope=col>sex</th><th scope=col>mean_income</th></tr>\n",
              "\t<tr><th scope=col>&lt;chr&gt;</th><th scope=col>&lt;dbl&gt;</th></tr>\n",
              "</thead>\n",
              "<tbody>\n",
              "\t<tr><td>female</td><td>163.2471</td></tr>\n",
              "\t<tr><td>male  </td><td>312.2932</td></tr>\n",
              "</tbody>\n",
              "</table>\n"
            ],
            "text/markdown": "\nA tibble: 2 × 2\n\n| sex &lt;chr&gt; | mean_income &lt;dbl&gt; |\n|---|---|\n| female | 163.2471 |\n| male   | 312.2932 |\n\n",
            "text/latex": "A tibble: 2 × 2\n\\begin{tabular}{ll}\n sex & mean\\_income\\\\\n <chr> & <dbl>\\\\\n\\hline\n\t female & 163.2471\\\\\n\t male   & 312.2932\\\\\n\\end{tabular}\n",
            "text/plain": [
              "  sex    mean_income\n",
              "1 female 163.2471   \n",
              "2 male   312.2932   "
            ]
          },
          "metadata": {}
        }
      ]
    },
    {
      "cell_type": "code",
      "source": [
        "# 그래프 그리기\n",
        "ggplot(data = sex_income, aes(x = sex, y = mean_income)) + geom_col()"
      ],
      "metadata": {
        "colab": {
          "base_uri": "https://localhost:8080/",
          "height": 437
        },
        "id": "H7KB6BhQrAQi",
        "outputId": "0433c0f3-6403-480e-c5c6-d933d7edb39f"
      },
      "execution_count": 21,
      "outputs": [
        {
          "output_type": "display_data",
          "data": {
            "text/plain": [
              "plot without title"
            ],
            "image/png": "[encoded data removed]"
          },
          "metadata": {
            "image/png": {
              "width": 420,
              "height": 420
            }
          }
        }
      ]
    },
    {
      "cell_type": "markdown",
      "source": [
        "# 나이와 월급의 관계"
      ],
      "metadata": {
        "id": "4MGuxrnUsl38"
      }
    },
    {
      "cell_type": "code",
      "source": [
        "class(welfare$birth)"
      ],
      "metadata": {
        "colab": {
          "base_uri": "https://localhost:8080/",
          "height": 34
        },
        "id": "096XOjmMrPGp",
        "outputId": "fbc3c280-9948-4f88-c807-457da423088f"
      },
      "execution_count": 22,
      "outputs": [
        {
          "output_type": "display_data",
          "data": {
            "text/html": [
              "'numeric'"
            ],
            "text/markdown": "'numeric'",
            "text/latex": "'numeric'",
            "text/plain": [
              "[1] \"numeric\""
            ]
          },
          "metadata": {}
        }
      ]
    },
    {
      "cell_type": "code",
      "source": [
        "summary(welfare$birth)"
      ],
      "metadata": {
        "colab": {
          "base_uri": "https://localhost:8080/",
          "height": 52
        },
        "id": "ObgQqRCywiZF",
        "outputId": "89ac4142-af7c-4d12-e087-5172aeb22ad5"
      },
      "execution_count": 23,
      "outputs": [
        {
          "output_type": "display_data",
          "data": {
            "text/plain": [
              "   Min. 1st Qu.  Median    Mean 3rd Qu.    Max. \n",
              "   1907    1946    1966    1968    1988    2014 "
            ]
          },
          "metadata": {}
        }
      ]
    },
    {
      "cell_type": "code",
      "source": [
        "welfare$age <- 2015 - welfare$birth + 1"
      ],
      "metadata": {
        "id": "1EEtEFZpwj7d"
      },
      "execution_count": 24,
      "outputs": []
    },
    {
      "cell_type": "code",
      "source": [
        "summary(welfare$age)"
      ],
      "metadata": {
        "colab": {
          "base_uri": "https://localhost:8080/",
          "height": 52
        },
        "id": "1Efd6RpCw0y6",
        "outputId": "3de531b8-7b39-4286-a406-af041f11074f"
      },
      "execution_count": 25,
      "outputs": [
        {
          "output_type": "display_data",
          "data": {
            "text/plain": [
              "   Min. 1st Qu.  Median    Mean 3rd Qu.    Max. \n",
              "   2.00   28.00   50.00   48.43   70.00  109.00 "
            ]
          },
          "metadata": {}
        }
      ]
    },
    {
      "cell_type": "code",
      "source": [
        "age_income <- welfare %>%\n",
        "  filter(!is.na(income)) %>%\n",
        "  group_by(age) %>%\n",
        "  summarise(mean_income = mean(income))"
      ],
      "metadata": {
        "id": "3u6J3Ebiw20Z"
      },
      "execution_count": 26,
      "outputs": []
    },
    {
      "cell_type": "code",
      "source": [
        "head(age_income)"
      ],
      "metadata": {
        "colab": {
          "base_uri": "https://localhost:8080/",
          "height": 286
        },
        "id": "0WQGRwTuxLS1",
        "outputId": "a06b4005-76f0-43c7-8383-df930823a4ce"
      },
      "execution_count": 27,
      "outputs": [
        {
          "output_type": "display_data",
          "data": {
            "text/html": [
              "<table class=\"dataframe\">\n",
              "<caption>A tibble: 6 × 2</caption>\n",
              "<thead>\n",
              "\t<tr><th scope=col>age</th><th scope=col>mean_income</th></tr>\n",
              "\t<tr><th scope=col>&lt;dbl&gt;</th><th scope=col>&lt;dbl&gt;</th></tr>\n",
              "</thead>\n",
              "<tbody>\n",
              "\t<tr><td>20</td><td>121.3000</td></tr>\n",
              "\t<tr><td>21</td><td>105.5185</td></tr>\n",
              "\t<tr><td>22</td><td>130.0923</td></tr>\n",
              "\t<tr><td>23</td><td>141.7157</td></tr>\n",
              "\t<tr><td>24</td><td>134.0877</td></tr>\n",
              "\t<tr><td>25</td><td>144.6559</td></tr>\n",
              "</tbody>\n",
              "</table>\n"
            ],
            "text/markdown": "\nA tibble: 6 × 2\n\n| age &lt;dbl&gt; | mean_income &lt;dbl&gt; |\n|---|---|\n| 20 | 121.3000 |\n| 21 | 105.5185 |\n| 22 | 130.0923 |\n| 23 | 141.7157 |\n| 24 | 134.0877 |\n| 25 | 144.6559 |\n\n",
            "text/latex": "A tibble: 6 × 2\n\\begin{tabular}{ll}\n age & mean\\_income\\\\\n <dbl> & <dbl>\\\\\n\\hline\n\t 20 & 121.3000\\\\\n\t 21 & 105.5185\\\\\n\t 22 & 130.0923\\\\\n\t 23 & 141.7157\\\\\n\t 24 & 134.0877\\\\\n\t 25 & 144.6559\\\\\n\\end{tabular}\n",
            "text/plain": [
              "  age mean_income\n",
              "1 20  121.3000   \n",
              "2 21  105.5185   \n",
              "3 22  130.0923   \n",
              "4 23  141.7157   \n",
              "5 24  134.0877   \n",
              "6 25  144.6559   "
            ]
          },
          "metadata": {}
        }
      ]
    },
    {
      "cell_type": "code",
      "source": [
        "ggplot(data = age_income, aes(x = age, y = mean_income)) + geom_line()"
      ],
      "metadata": {
        "colab": {
          "base_uri": "https://localhost:8080/",
          "height": 437
        },
        "id": "VQM3RnxaxNVD",
        "outputId": "a262fdef-f046-4f18-a9b9-9759d7019578"
      },
      "execution_count": 28,
      "outputs": [
        {
          "output_type": "display_data",
          "data": {
            "text/plain": [
              "plot without title"
            ],
            "image/png": "[encoded data removed]"
          },
          "metadata": {
            "image/png": {
              "width": 420,
              "height": 420
            }
          }
        }
      ]
    },
    {
      "cell_type": "code",
      "source": [
        ""
      ],
      "metadata": {
        "id": "Rzql5us0xVDK"
      },
      "execution_count": null,
      "outputs": []
    }
  ]
}