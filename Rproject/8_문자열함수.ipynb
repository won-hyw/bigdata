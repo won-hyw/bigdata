{
  "nbformat": 4,
  "nbformat_minor": 0,
  "metadata": {
    "colab": {
      "name": "8.문자열함수.ipynb",
      "provenance": []
    },
    "kernelspec": {
      "name": "ir",
      "display_name": "R"
    },
    "language_info": {
      "name": "R"
    }
  },
  "cells": [
    {
      "cell_type": "code",
      "execution_count": 1,
      "metadata": {
        "id": "mUeuWH7PKt4V"
      },
      "outputs": [],
      "source": [
        "library(stringr)"
      ]
    },
    {
      "cell_type": "markdown",
      "source": [
        "# str_detect()\n",
        "\n",
        "- 원소별 패턴 검사를 위해 사용\n",
        "- str_detect(데이터, 패턴)\n",
        "  - 논리값으로 리턴됨"
      ],
      "metadata": {
        "id": "PsmrV5NcLrhY"
      }
    },
    {
      "cell_type": "code",
      "source": [
        "v1 <- c(\"aa\", \"ba\", \"ccb\", \"Ab\", \"Bbc\")"
      ],
      "metadata": {
        "id": "WUySMzy5LlEx"
      },
      "execution_count": 2,
      "outputs": []
    },
    {
      "cell_type": "code",
      "source": [
        "str_detect(v1, \"a\")"
      ],
      "metadata": {
        "colab": {
          "base_uri": "https://localhost:8080/",
          "height": 34
        },
        "id": "-bFC_19hMF_0",
        "outputId": "51b1539e-150c-4b68-926c-38fcccc494a3"
      },
      "execution_count": 3,
      "outputs": [
        {
          "output_type": "display_data",
          "data": {
            "text/html": [
              "<style>\n",
              ".list-inline {list-style: none; margin:0; padding: 0}\n",
              ".list-inline>li {display: inline-block}\n",
              ".list-inline>li:not(:last-child)::after {content: \"\\00b7\"; padding: 0 .5ex}\n",
              "</style>\n",
              "<ol class=list-inline><li>TRUE</li><li>TRUE</li><li>FALSE</li><li>FALSE</li><li>FALSE</li></ol>\n"
            ],
            "text/markdown": "1. TRUE\n2. TRUE\n3. FALSE\n4. FALSE\n5. FALSE\n\n\n",
            "text/latex": "\\begin{enumerate*}\n\\item TRUE\n\\item TRUE\n\\item FALSE\n\\item FALSE\n\\item FALSE\n\\end{enumerate*}\n",
            "text/plain": [
              "[1]  TRUE  TRUE FALSE FALSE FALSE"
            ]
          },
          "metadata": {}
        }
      ]
    },
    {
      "cell_type": "code",
      "source": [
        "v1[1]"
      ],
      "metadata": {
        "colab": {
          "base_uri": "https://localhost:8080/",
          "height": 34
        },
        "id": "1xQZ22gCMJjs",
        "outputId": "2d89cca7-70a0-40e4-9ef2-7845e8f8f210"
      },
      "execution_count": 4,
      "outputs": [
        {
          "output_type": "display_data",
          "data": {
            "text/html": [
              "'aa'"
            ],
            "text/markdown": "'aa'",
            "text/latex": "'aa'",
            "text/plain": [
              "[1] \"aa\""
            ]
          },
          "metadata": {}
        }
      ]
    },
    {
      "cell_type": "code",
      "source": [
        "v1[1:3]"
      ],
      "metadata": {
        "colab": {
          "base_uri": "https://localhost:8080/",
          "height": 34
        },
        "id": "WTWlVC8jMRwy",
        "outputId": "23f0bb64-fc2c-4de5-a16a-27c938e1112d"
      },
      "execution_count": 5,
      "outputs": [
        {
          "output_type": "display_data",
          "data": {
            "text/html": [
              "<style>\n",
              ".list-inline {list-style: none; margin:0; padding: 0}\n",
              ".list-inline>li {display: inline-block}\n",
              ".list-inline>li:not(:last-child)::after {content: \"\\00b7\"; padding: 0 .5ex}\n",
              "</style>\n",
              "<ol class=list-inline><li>'aa'</li><li>'ba'</li><li>'ccb'</li></ol>\n"
            ],
            "text/markdown": "1. 'aa'\n2. 'ba'\n3. 'ccb'\n\n\n",
            "text/latex": "\\begin{enumerate*}\n\\item 'aa'\n\\item 'ba'\n\\item 'ccb'\n\\end{enumerate*}\n",
            "text/plain": [
              "[1] \"aa\"  \"ba\"  \"ccb\""
            ]
          },
          "metadata": {}
        }
      ]
    },
    {
      "cell_type": "code",
      "source": [
        "v1[c(1, 3)]"
      ],
      "metadata": {
        "colab": {
          "base_uri": "https://localhost:8080/",
          "height": 34
        },
        "id": "iEDWBNGOMUIK",
        "outputId": "4d91bcf2-4489-4ead-e051-bd3aeb656a97"
      },
      "execution_count": 6,
      "outputs": [
        {
          "output_type": "display_data",
          "data": {
            "text/html": [
              "<style>\n",
              ".list-inline {list-style: none; margin:0; padding: 0}\n",
              ".list-inline>li {display: inline-block}\n",
              ".list-inline>li:not(:last-child)::after {content: \"\\00b7\"; padding: 0 .5ex}\n",
              "</style>\n",
              "<ol class=list-inline><li>'aa'</li><li>'ccb'</li></ol>\n"
            ],
            "text/markdown": "1. 'aa'\n2. 'ccb'\n\n\n",
            "text/latex": "\\begin{enumerate*}\n\\item 'aa'\n\\item 'ccb'\n\\end{enumerate*}\n",
            "text/plain": [
              "[1] \"aa\"  \"ccb\""
            ]
          },
          "metadata": {}
        }
      ]
    },
    {
      "cell_type": "code",
      "source": [
        "v1[c(T, T, F, F, F)]"
      ],
      "metadata": {
        "colab": {
          "base_uri": "https://localhost:8080/",
          "height": 34
        },
        "id": "Yj8AMXFBMXKx",
        "outputId": "22c59b00-0fa3-4ea2-b906-466634c4300b"
      },
      "execution_count": 7,
      "outputs": [
        {
          "output_type": "display_data",
          "data": {
            "text/html": [
              "<style>\n",
              ".list-inline {list-style: none; margin:0; padding: 0}\n",
              ".list-inline>li {display: inline-block}\n",
              ".list-inline>li:not(:last-child)::after {content: \"\\00b7\"; padding: 0 .5ex}\n",
              "</style>\n",
              "<ol class=list-inline><li>'aa'</li><li>'ba'</li></ol>\n"
            ],
            "text/markdown": "1. 'aa'\n2. 'ba'\n\n\n",
            "text/latex": "\\begin{enumerate*}\n\\item 'aa'\n\\item 'ba'\n\\end{enumerate*}\n",
            "text/plain": [
              "[1] \"aa\" \"ba\""
            ]
          },
          "metadata": {}
        }
      ]
    },
    {
      "cell_type": "code",
      "source": [
        "v1[str_detect(v1, \"a\")] # \"a\"를 포함하는 원소 출력"
      ],
      "metadata": {
        "colab": {
          "base_uri": "https://localhost:8080/",
          "height": 34
        },
        "id": "TRDeVykDMcRi",
        "outputId": "441b54e8-07eb-4307-fb54-e50e26c612d4"
      },
      "execution_count": 8,
      "outputs": [
        {
          "output_type": "display_data",
          "data": {
            "text/html": [
              "<style>\n",
              ".list-inline {list-style: none; margin:0; padding: 0}\n",
              ".list-inline>li {display: inline-block}\n",
              ".list-inline>li:not(:last-child)::after {content: \"\\00b7\"; padding: 0 .5ex}\n",
              "</style>\n",
              "<ol class=list-inline><li>'aa'</li><li>'ba'</li></ol>\n"
            ],
            "text/markdown": "1. 'aa'\n2. 'ba'\n\n\n",
            "text/latex": "\\begin{enumerate*}\n\\item 'aa'\n\\item 'ba'\n\\end{enumerate*}\n",
            "text/plain": [
              "[1] \"aa\" \"ba\""
            ]
          },
          "metadata": {}
        }
      ]
    },
    {
      "cell_type": "code",
      "source": [
        "v1[str_detect(v1, \"^a\")] # a로 시작하는 원소(^는 시작의 의미)"
      ],
      "metadata": {
        "colab": {
          "base_uri": "https://localhost:8080/",
          "height": 34
        },
        "id": "dRe5hAWFMhJZ",
        "outputId": "10a25748-f607-44ff-c530-b60f8c66a276"
      },
      "execution_count": 9,
      "outputs": [
        {
          "output_type": "display_data",
          "data": {
            "text/html": [
              "'aa'"
            ],
            "text/markdown": "'aa'",
            "text/latex": "'aa'",
            "text/plain": [
              "[1] \"aa\""
            ]
          },
          "metadata": {}
        }
      ]
    },
    {
      "cell_type": "code",
      "source": [
        "v1[str_detect(v1, \"^[aA]\")] # a 또는 A로 시작하는 원소"
      ],
      "metadata": {
        "colab": {
          "base_uri": "https://localhost:8080/",
          "height": 34
        },
        "id": "Cpe32GJiMtYm",
        "outputId": "07159117-0cd7-4799-e1a1-39541d946eb3"
      },
      "execution_count": 10,
      "outputs": [
        {
          "output_type": "display_data",
          "data": {
            "text/html": [
              "<style>\n",
              ".list-inline {list-style: none; margin:0; padding: 0}\n",
              ".list-inline>li {display: inline-block}\n",
              ".list-inline>li:not(:last-child)::after {content: \"\\00b7\"; padding: 0 .5ex}\n",
              "</style>\n",
              "<ol class=list-inline><li>'aa'</li><li>'Ab'</li></ol>\n"
            ],
            "text/markdown": "1. 'aa'\n2. 'Ab'\n\n\n",
            "text/latex": "\\begin{enumerate*}\n\\item 'aa'\n\\item 'Ab'\n\\end{enumerate*}\n",
            "text/plain": [
              "[1] \"aa\" \"Ab\""
            ]
          },
          "metadata": {}
        }
      ]
    },
    {
      "cell_type": "code",
      "source": [
        "v1[str_detect(v1, \"^[aAbB]\")] # 대소문자 관계없이 a또는 b로 시작하는 원소"
      ],
      "metadata": {
        "colab": {
          "base_uri": "https://localhost:8080/",
          "height": 34
        },
        "id": "WfzqfcYmM5Bs",
        "outputId": "62aec746-a0b5-4d4a-be66-dc9513f98a7e"
      },
      "execution_count": 11,
      "outputs": [
        {
          "output_type": "display_data",
          "data": {
            "text/html": [
              "<style>\n",
              ".list-inline {list-style: none; margin:0; padding: 0}\n",
              ".list-inline>li {display: inline-block}\n",
              ".list-inline>li:not(:last-child)::after {content: \"\\00b7\"; padding: 0 .5ex}\n",
              "</style>\n",
              "<ol class=list-inline><li>'aa'</li><li>'ba'</li><li>'Ab'</li><li>'Bbc'</li></ol>\n"
            ],
            "text/markdown": "1. 'aa'\n2. 'ba'\n3. 'Ab'\n4. 'Bbc'\n\n\n",
            "text/latex": "\\begin{enumerate*}\n\\item 'aa'\n\\item 'ba'\n\\item 'Ab'\n\\item 'Bbc'\n\\end{enumerate*}\n",
            "text/plain": [
              "[1] \"aa\"  \"ba\"  \"Ab\"  \"Bbc\""
            ]
          },
          "metadata": {}
        }
      ]
    },
    {
      "cell_type": "code",
      "source": [
        "v1[str_detect(v1, \"^[aA][bB]\")] # 대소관계없이 a로 시작, b가 두번째"
      ],
      "metadata": {
        "colab": {
          "base_uri": "https://localhost:8080/",
          "height": 34
        },
        "id": "s5G8Bu9iNRzQ",
        "outputId": "e53fc037-f19f-45e9-9acd-1915214105d3"
      },
      "execution_count": 12,
      "outputs": [
        {
          "output_type": "display_data",
          "data": {
            "text/html": [
              "'Ab'"
            ],
            "text/markdown": "'Ab'",
            "text/latex": "'Ab'",
            "text/plain": [
              "[1] \"Ab\""
            ]
          },
          "metadata": {}
        }
      ]
    },
    {
      "cell_type": "code",
      "source": [
        "v1[str_detect(v1, \"a$\")] # a로 끝나는 원소"
      ],
      "metadata": {
        "colab": {
          "base_uri": "https://localhost:8080/",
          "height": 34
        },
        "id": "3Qm5OCOpNehj",
        "outputId": "c549aea3-b013-40bc-cf02-d570ce312b14"
      },
      "execution_count": 13,
      "outputs": [
        {
          "output_type": "display_data",
          "data": {
            "text/html": [
              "<style>\n",
              ".list-inline {list-style: none; margin:0; padding: 0}\n",
              ".list-inline>li {display: inline-block}\n",
              ".list-inline>li:not(:last-child)::after {content: \"\\00b7\"; padding: 0 .5ex}\n",
              "</style>\n",
              "<ol class=list-inline><li>'aa'</li><li>'ba'</li></ol>\n"
            ],
            "text/markdown": "1. 'aa'\n2. 'ba'\n\n\n",
            "text/latex": "\\begin{enumerate*}\n\\item 'aa'\n\\item 'ba'\n\\end{enumerate*}\n",
            "text/plain": [
              "[1] \"aa\" \"ba\""
            ]
          },
          "metadata": {}
        }
      ]
    },
    {
      "cell_type": "markdown",
      "source": [
        "# str_count()\n",
        "\n",
        "- 특정 문자의 출현 횟수를 세기 위해 사용"
      ],
      "metadata": {
        "id": "9qCRdI85OGge"
      }
    },
    {
      "cell_type": "code",
      "source": [
        "str_count(v1) # 글자 수"
      ],
      "metadata": {
        "colab": {
          "base_uri": "https://localhost:8080/",
          "height": 34
        },
        "id": "3DqCJJtlNo2S",
        "outputId": "f323c60c-87ec-428e-c5f1-0435c6859d74"
      },
      "execution_count": 14,
      "outputs": [
        {
          "output_type": "display_data",
          "data": {
            "text/html": [
              "<style>\n",
              ".list-inline {list-style: none; margin:0; padding: 0}\n",
              ".list-inline>li {display: inline-block}\n",
              ".list-inline>li:not(:last-child)::after {content: \"\\00b7\"; padding: 0 .5ex}\n",
              "</style>\n",
              "<ol class=list-inline><li>2</li><li>2</li><li>3</li><li>2</li><li>3</li></ol>\n"
            ],
            "text/markdown": "1. 2\n2. 2\n3. 3\n4. 2\n5. 3\n\n\n",
            "text/latex": "\\begin{enumerate*}\n\\item 2\n\\item 2\n\\item 3\n\\item 2\n\\item 3\n\\end{enumerate*}\n",
            "text/plain": [
              "[1] 2 2 3 2 3"
            ]
          },
          "metadata": {}
        }
      ]
    },
    {
      "cell_type": "code",
      "source": [
        "str_count(v1, \"a\")"
      ],
      "metadata": {
        "colab": {
          "base_uri": "https://localhost:8080/",
          "height": 34
        },
        "id": "RWVCNddpONW-",
        "outputId": "1ff5206b-c049-4ddb-ea40-1798e4509e5d"
      },
      "execution_count": 15,
      "outputs": [
        {
          "output_type": "display_data",
          "data": {
            "text/html": [
              "<style>\n",
              ".list-inline {list-style: none; margin:0; padding: 0}\n",
              ".list-inline>li {display: inline-block}\n",
              ".list-inline>li:not(:last-child)::after {content: \"\\00b7\"; padding: 0 .5ex}\n",
              "</style>\n",
              "<ol class=list-inline><li>2</li><li>1</li><li>0</li><li>0</li><li>0</li></ol>\n"
            ],
            "text/markdown": "1. 2\n2. 1\n3. 0\n4. 0\n5. 0\n\n\n",
            "text/latex": "\\begin{enumerate*}\n\\item 2\n\\item 1\n\\item 0\n\\item 0\n\\item 0\n\\end{enumerate*}\n",
            "text/plain": [
              "[1] 2 1 0 0 0"
            ]
          },
          "metadata": {}
        }
      ]
    },
    {
      "cell_type": "markdown",
      "source": [
        "# str_c()\n",
        "\n",
        "- 문자열 결합"
      ],
      "metadata": {
        "id": "sC7dnLiuOsGm"
      }
    },
    {
      "cell_type": "code",
      "source": [
        "str_c(\"cute\", \"dog\")"
      ],
      "metadata": {
        "colab": {
          "base_uri": "https://localhost:8080/",
          "height": 34
        },
        "id": "dpEmD665OVKc",
        "outputId": "f540d23d-ed21-4c4b-cca3-d704d4c82cd3"
      },
      "execution_count": 16,
      "outputs": [
        {
          "output_type": "display_data",
          "data": {
            "text/html": [
              "'cutedog'"
            ],
            "text/markdown": "'cutedog'",
            "text/latex": "'cutedog'",
            "text/plain": [
              "[1] \"cutedog\""
            ]
          },
          "metadata": {}
        }
      ]
    },
    {
      "cell_type": "code",
      "source": [
        "str_c(\"vector:\", v1)"
      ],
      "metadata": {
        "colab": {
          "base_uri": "https://localhost:8080/",
          "height": 34
        },
        "id": "UyWuKXEoOyRQ",
        "outputId": "7d297d7d-d1eb-48f0-9234-17effaf2d0e7"
      },
      "execution_count": 17,
      "outputs": [
        {
          "output_type": "display_data",
          "data": {
            "text/html": [
              "<style>\n",
              ".list-inline {list-style: none; margin:0; padding: 0}\n",
              ".list-inline>li {display: inline-block}\n",
              ".list-inline>li:not(:last-child)::after {content: \"\\00b7\"; padding: 0 .5ex}\n",
              "</style>\n",
              "<ol class=list-inline><li>'vector:aa'</li><li>'vector:ba'</li><li>'vector:ccb'</li><li>'vector:Ab'</li><li>'vector:Bbc'</li></ol>\n"
            ],
            "text/markdown": "1. 'vector:aa'\n2. 'vector:ba'\n3. 'vector:ccb'\n4. 'vector:Ab'\n5. 'vector:Bbc'\n\n\n",
            "text/latex": "\\begin{enumerate*}\n\\item 'vector:aa'\n\\item 'vector:ba'\n\\item 'vector:ccb'\n\\item 'vector:Ab'\n\\item 'vector:Bbc'\n\\end{enumerate*}\n",
            "text/plain": [
              "[1] \"vector:aa\"  \"vector:ba\"  \"vector:ccb\" \"vector:Ab\"  \"vector:Bbc\""
            ]
          },
          "metadata": {}
        }
      ]
    },
    {
      "cell_type": "code",
      "source": [
        "str_c(v1, \" name is \", v1)"
      ],
      "metadata": {
        "colab": {
          "base_uri": "https://localhost:8080/",
          "height": 34
        },
        "id": "oT-0_8b6PCuJ",
        "outputId": "f65e2b85-fe32-4b08-ad0c-797f8a8c5e3e"
      },
      "execution_count": 20,
      "outputs": [
        {
          "output_type": "display_data",
          "data": {
            "text/html": [
              "<style>\n",
              ".list-inline {list-style: none; margin:0; padding: 0}\n",
              ".list-inline>li {display: inline-block}\n",
              ".list-inline>li:not(:last-child)::after {content: \"\\00b7\"; padding: 0 .5ex}\n",
              "</style>\n",
              "<ol class=list-inline><li>'aa name is aa'</li><li>'ba name is ba'</li><li>'ccb name is ccb'</li><li>'Ab name is Ab'</li><li>'Bbc name is Bbc'</li></ol>\n"
            ],
            "text/markdown": "1. 'aa name is aa'\n2. 'ba name is ba'\n3. 'ccb name is ccb'\n4. 'Ab name is Ab'\n5. 'Bbc name is Bbc'\n\n\n",
            "text/latex": "\\begin{enumerate*}\n\\item 'aa name is aa'\n\\item 'ba name is ba'\n\\item 'ccb name is ccb'\n\\item 'Ab name is Ab'\n\\item 'Bbc name is Bbc'\n\\end{enumerate*}\n",
            "text/plain": [
              "[1] \"aa name is aa\"   \"ba name is ba\"   \"ccb name is ccb\" \"Ab name is Ab\"  \n",
              "[5] \"Bbc name is Bbc\""
            ]
          },
          "metadata": {}
        }
      ]
    },
    {
      "cell_type": "code",
      "source": [
        "str_c(v1, collapse = \"-\")"
      ],
      "metadata": {
        "colab": {
          "base_uri": "https://localhost:8080/",
          "height": 34
        },
        "id": "30nFSRsmPIb5",
        "outputId": "8eadaaea-f8d9-43b3-8b98-1a4c141ae4f3"
      },
      "execution_count": 21,
      "outputs": [
        {
          "output_type": "display_data",
          "data": {
            "text/html": [
              "'aa-ba-ccb-Ab-Bbc'"
            ],
            "text/markdown": "'aa-ba-ccb-Ab-Bbc'",
            "text/latex": "'aa-ba-ccb-Ab-Bbc'",
            "text/plain": [
              "[1] \"aa-ba-ccb-Ab-Bbc\""
            ]
          },
          "metadata": {}
        }
      ]
    },
    {
      "cell_type": "code",
      "source": [
        "str_c(\"a\", \"b\", \"c\")"
      ],
      "metadata": {
        "colab": {
          "base_uri": "https://localhost:8080/",
          "height": 34
        },
        "id": "Fjlmz-yePPiO",
        "outputId": "7e5358be-03b0-4a5b-fc93-19b6b02882aa"
      },
      "execution_count": 22,
      "outputs": [
        {
          "output_type": "display_data",
          "data": {
            "text/html": [
              "'abc'"
            ],
            "text/markdown": "'abc'",
            "text/latex": "'abc'",
            "text/plain": [
              "[1] \"abc\""
            ]
          },
          "metadata": {}
        }
      ]
    },
    {
      "cell_type": "code",
      "source": [
        "str_c(v1)"
      ],
      "metadata": {
        "colab": {
          "base_uri": "https://localhost:8080/",
          "height": 34
        },
        "id": "sj7XouEEPWl0",
        "outputId": "34e63282-d880-4df3-dd52-47daa47e6e8b"
      },
      "execution_count": 23,
      "outputs": [
        {
          "output_type": "display_data",
          "data": {
            "text/html": [
              "<style>\n",
              ".list-inline {list-style: none; margin:0; padding: 0}\n",
              ".list-inline>li {display: inline-block}\n",
              ".list-inline>li:not(:last-child)::after {content: \"\\00b7\"; padding: 0 .5ex}\n",
              "</style>\n",
              "<ol class=list-inline><li>'aa'</li><li>'ba'</li><li>'ccb'</li><li>'Ab'</li><li>'Bbc'</li></ol>\n"
            ],
            "text/markdown": "1. 'aa'\n2. 'ba'\n3. 'ccb'\n4. 'Ab'\n5. 'Bbc'\n\n\n",
            "text/latex": "\\begin{enumerate*}\n\\item 'aa'\n\\item 'ba'\n\\item 'ccb'\n\\item 'Ab'\n\\item 'Bbc'\n\\end{enumerate*}\n",
            "text/plain": [
              "[1] \"aa\"  \"ba\"  \"ccb\" \"Ab\"  \"Bbc\""
            ]
          },
          "metadata": {}
        }
      ]
    },
    {
      "cell_type": "code",
      "source": [
        "str_c(\"a\", \"b\", \"c\", sep = \",\")"
      ],
      "metadata": {
        "colab": {
          "base_uri": "https://localhost:8080/",
          "height": 34
        },
        "id": "QIKCDCbnPX2q",
        "outputId": "757951fd-e27a-4512-9536-3beff1e5267e"
      },
      "execution_count": 24,
      "outputs": [
        {
          "output_type": "display_data",
          "data": {
            "text/html": [
              "'a,b,c'"
            ],
            "text/markdown": "'a,b,c'",
            "text/latex": "'a,b,c'",
            "text/plain": [
              "[1] \"a,b,c\""
            ]
          },
          "metadata": {}
        }
      ]
    },
    {
      "cell_type": "code",
      "source": [
        "str_c(v1, collapse = \",\")"
      ],
      "metadata": {
        "colab": {
          "base_uri": "https://localhost:8080/",
          "height": 34
        },
        "id": "OcweahjHPfCQ",
        "outputId": "508b481d-0572-4995-fcd5-57ad4489eac2"
      },
      "execution_count": 25,
      "outputs": [
        {
          "output_type": "display_data",
          "data": {
            "text/html": [
              "'aa,ba,ccb,Ab,Bbc'"
            ],
            "text/markdown": "'aa,ba,ccb,Ab,Bbc'",
            "text/latex": "'aa,ba,ccb,Ab,Bbc'",
            "text/plain": [
              "[1] \"aa,ba,ccb,Ab,Bbc\""
            ]
          },
          "metadata": {}
        }
      ]
    },
    {
      "cell_type": "markdown",
      "source": [
        "# str_dup()\n",
        "\n",
        "- 원소마다 반복 출력"
      ],
      "metadata": {
        "id": "CtnnpQw8PnNV"
      }
    },
    {
      "cell_type": "code",
      "source": [
        "str_dup(v1, 3)"
      ],
      "metadata": {
        "colab": {
          "base_uri": "https://localhost:8080/",
          "height": 34
        },
        "id": "BDwGIuu9PiRn",
        "outputId": "ca8a27a9-c6f3-4235-ec6d-33b4c10b2856"
      },
      "execution_count": 26,
      "outputs": [
        {
          "output_type": "display_data",
          "data": {
            "text/html": [
              "<style>\n",
              ".list-inline {list-style: none; margin:0; padding: 0}\n",
              ".list-inline>li {display: inline-block}\n",
              ".list-inline>li:not(:last-child)::after {content: \"\\00b7\"; padding: 0 .5ex}\n",
              "</style>\n",
              "<ol class=list-inline><li>'aaaaaa'</li><li>'bababa'</li><li>'ccbccbccb'</li><li>'AbAbAb'</li><li>'BbcBbcBbc'</li></ol>\n"
            ],
            "text/markdown": "1. 'aaaaaa'\n2. 'bababa'\n3. 'ccbccbccb'\n4. 'AbAbAb'\n5. 'BbcBbcBbc'\n\n\n",
            "text/latex": "\\begin{enumerate*}\n\\item 'aaaaaa'\n\\item 'bababa'\n\\item 'ccbccbccb'\n\\item 'AbAbAb'\n\\item 'BbcBbcBbc'\n\\end{enumerate*}\n",
            "text/plain": [
              "[1] \"aaaaaa\"    \"bababa\"    \"ccbccbccb\" \"AbAbAb\"    \"BbcBbcBbc\""
            ]
          },
          "metadata": {}
        }
      ]
    },
    {
      "cell_type": "markdown",
      "source": [
        "# str_length()\n",
        "- 문자열의 길이, 벡터의 각 원소의 길이 확인"
      ],
      "metadata": {
        "id": "QasgdJq-QEfP"
      }
    },
    {
      "cell_type": "code",
      "source": [
        "str_length(\"hello\")"
      ],
      "metadata": {
        "colab": {
          "base_uri": "https://localhost:8080/",
          "height": 34
        },
        "id": "5zisa39eQARz",
        "outputId": "2c17b344-3bab-4145-c603-3317e5d4ad36"
      },
      "execution_count": 27,
      "outputs": [
        {
          "output_type": "display_data",
          "data": {
            "text/html": [
              "5"
            ],
            "text/markdown": "5",
            "text/latex": "5",
            "text/plain": [
              "[1] 5"
            ]
          },
          "metadata": {}
        }
      ]
    },
    {
      "cell_type": "code",
      "source": [
        "str_length(v1)"
      ],
      "metadata": {
        "colab": {
          "base_uri": "https://localhost:8080/",
          "height": 34
        },
        "id": "NYSpv6-FQMRr",
        "outputId": "b332fbca-4f06-41fc-aa77-ab08dfab0ee1"
      },
      "execution_count": 28,
      "outputs": [
        {
          "output_type": "display_data",
          "data": {
            "text/html": [
              "<style>\n",
              ".list-inline {list-style: none; margin:0; padding: 0}\n",
              ".list-inline>li {display: inline-block}\n",
              ".list-inline>li:not(:last-child)::after {content: \"\\00b7\"; padding: 0 .5ex}\n",
              "</style>\n",
              "<ol class=list-inline><li>2</li><li>2</li><li>3</li><li>2</li><li>3</li></ol>\n"
            ],
            "text/markdown": "1. 2\n2. 2\n3. 3\n4. 2\n5. 3\n\n\n",
            "text/latex": "\\begin{enumerate*}\n\\item 2\n\\item 2\n\\item 3\n\\item 2\n\\item 3\n\\end{enumerate*}\n",
            "text/plain": [
              "[1] 2 2 3 2 3"
            ]
          },
          "metadata": {}
        }
      ]
    },
    {
      "cell_type": "markdown",
      "source": [
        "# str_locate()\n",
        "- 특정 문자와 매칭하는 문자열의 시작, 끝 위치 확인"
      ],
      "metadata": {
        "id": "HTSp-BycQVR3"
      }
    },
    {
      "cell_type": "code",
      "source": [
        "str_locate(\"abab\", \"a\") # 처음 나오는 a의 위치"
      ],
      "metadata": {
        "colab": {
          "base_uri": "https://localhost:8080/",
          "height": 133
        },
        "id": "u1pIAumNQN6X",
        "outputId": "4438313f-a530-49f1-927e-647bf6e408b5"
      },
      "execution_count": 29,
      "outputs": [
        {
          "output_type": "display_data",
          "data": {
            "text/html": [
              "<table class=\"dataframe\">\n",
              "<caption>A matrix: 1 × 2 of type int</caption>\n",
              "<thead>\n",
              "\t<tr><th scope=col>start</th><th scope=col>end</th></tr>\n",
              "</thead>\n",
              "<tbody>\n",
              "\t<tr><td>1</td><td>1</td></tr>\n",
              "</tbody>\n",
              "</table>\n"
            ],
            "text/markdown": "\nA matrix: 1 × 2 of type int\n\n| start | end |\n|---|---|\n| 1 | 1 |\n\n",
            "text/latex": "A matrix: 1 × 2 of type int\n\\begin{tabular}{ll}\n start & end\\\\\n\\hline\n\t 1 & 1\\\\\n\\end{tabular}\n",
            "text/plain": [
              "     start end\n",
              "[1,] 1     1  "
            ]
          },
          "metadata": {}
        }
      ]
    },
    {
      "cell_type": "code",
      "source": [
        "str_locate(\"abaab\", \"aa\") # 처음 나오는 aa의 위치"
      ],
      "metadata": {
        "colab": {
          "base_uri": "https://localhost:8080/",
          "height": 133
        },
        "id": "AK7TseKtQc14",
        "outputId": "a3b01b27-079d-4a3a-c439-3af7f595a2e7"
      },
      "execution_count": 30,
      "outputs": [
        {
          "output_type": "display_data",
          "data": {
            "text/html": [
              "<table class=\"dataframe\">\n",
              "<caption>A matrix: 1 × 2 of type int</caption>\n",
              "<thead>\n",
              "\t<tr><th scope=col>start</th><th scope=col>end</th></tr>\n",
              "</thead>\n",
              "<tbody>\n",
              "\t<tr><td>3</td><td>4</td></tr>\n",
              "</tbody>\n",
              "</table>\n"
            ],
            "text/markdown": "\nA matrix: 1 × 2 of type int\n\n| start | end |\n|---|---|\n| 3 | 4 |\n\n",
            "text/latex": "A matrix: 1 × 2 of type int\n\\begin{tabular}{ll}\n start & end\\\\\n\\hline\n\t 3 & 4\\\\\n\\end{tabular}\n",
            "text/plain": [
              "     start end\n",
              "[1,] 3     4  "
            ]
          },
          "metadata": {}
        }
      ]
    },
    {
      "cell_type": "code",
      "source": [
        "str_locate(v1, \"a\") # 벡터의 각 원소별 위치 확인"
      ],
      "metadata": {
        "colab": {
          "base_uri": "https://localhost:8080/",
          "height": 258
        },
        "id": "10sQ6DZqRAUe",
        "outputId": "a9c4506e-1655-456f-c655-95caeb59a9fb"
      },
      "execution_count": 31,
      "outputs": [
        {
          "output_type": "display_data",
          "data": {
            "text/html": [
              "<table class=\"dataframe\">\n",
              "<caption>A matrix: 5 × 2 of type int</caption>\n",
              "<thead>\n",
              "\t<tr><th scope=col>start</th><th scope=col>end</th></tr>\n",
              "</thead>\n",
              "<tbody>\n",
              "\t<tr><td> 1</td><td> 1</td></tr>\n",
              "\t<tr><td> 2</td><td> 2</td></tr>\n",
              "\t<tr><td>NA</td><td>NA</td></tr>\n",
              "\t<tr><td>NA</td><td>NA</td></tr>\n",
              "\t<tr><td>NA</td><td>NA</td></tr>\n",
              "</tbody>\n",
              "</table>\n"
            ],
            "text/markdown": "\nA matrix: 5 × 2 of type int\n\n| start | end |\n|---|---|\n|  1 |  1 |\n|  2 |  2 |\n| NA | NA |\n| NA | NA |\n| NA | NA |\n\n",
            "text/latex": "A matrix: 5 × 2 of type int\n\\begin{tabular}{ll}\n start & end\\\\\n\\hline\n\t  1 &  1\\\\\n\t  2 &  2\\\\\n\t NA & NA\\\\\n\t NA & NA\\\\\n\t NA & NA\\\\\n\\end{tabular}\n",
            "text/plain": [
              "     start end\n",
              "[1,]  1     1 \n",
              "[2,]  2     2 \n",
              "[3,] NA    NA \n",
              "[4,] NA    NA \n",
              "[5,] NA    NA "
            ]
          },
          "metadata": {}
        }
      ]
    },
    {
      "cell_type": "markdown",
      "source": [
        "# str_locate_all()\n",
        "- 특정 문자와 매칭하는 문자열의 모든 위치 확인"
      ],
      "metadata": {
        "id": "PrQs-ujhRUj6"
      }
    },
    {
      "cell_type": "code",
      "source": [
        "v2 <- c(\"a\", \"aba\", \"ababab\")"
      ],
      "metadata": {
        "id": "bF8nm-abRIHX"
      },
      "execution_count": 32,
      "outputs": []
    },
    {
      "cell_type": "code",
      "source": [
        "str_locate_all(v2, \"a\")"
      ],
      "metadata": {
        "colab": {
          "base_uri": "https://localhost:8080/",
          "height": 486
        },
        "id": "CCa5ZPbnRkOl",
        "outputId": "fcc84388-c8ea-40fb-d2b6-07c158a1e1b4"
      },
      "execution_count": 33,
      "outputs": [
        {
          "output_type": "display_data",
          "data": {
            "text/html": [
              "<ol>\n",
              "\t<li><table class=\"dataframe\">\n",
              "<caption>A matrix: 1 × 2 of type int</caption>\n",
              "<thead>\n",
              "\t<tr><th scope=col>start</th><th scope=col>end</th></tr>\n",
              "</thead>\n",
              "<tbody>\n",
              "\t<tr><td>1</td><td>1</td></tr>\n",
              "</tbody>\n",
              "</table>\n",
              "</li>\n",
              "\t<li><table class=\"dataframe\">\n",
              "<caption>A matrix: 2 × 2 of type int</caption>\n",
              "<thead>\n",
              "\t<tr><th scope=col>start</th><th scope=col>end</th></tr>\n",
              "</thead>\n",
              "<tbody>\n",
              "\t<tr><td>1</td><td>1</td></tr>\n",
              "\t<tr><td>3</td><td>3</td></tr>\n",
              "</tbody>\n",
              "</table>\n",
              "</li>\n",
              "\t<li><table class=\"dataframe\">\n",
              "<caption>A matrix: 3 × 2 of type int</caption>\n",
              "<thead>\n",
              "\t<tr><th scope=col>start</th><th scope=col>end</th></tr>\n",
              "</thead>\n",
              "<tbody>\n",
              "\t<tr><td>1</td><td>1</td></tr>\n",
              "\t<tr><td>3</td><td>3</td></tr>\n",
              "\t<tr><td>5</td><td>5</td></tr>\n",
              "</tbody>\n",
              "</table>\n",
              "</li>\n",
              "</ol>\n"
            ],
            "text/markdown": "1. \nA matrix: 1 × 2 of type int\n\n| start | end |\n|---|---|\n| 1 | 1 |\n\n\n2. \nA matrix: 2 × 2 of type int\n\n| start | end |\n|---|---|\n| 1 | 1 |\n| 3 | 3 |\n\n\n3. \nA matrix: 3 × 2 of type int\n\n| start | end |\n|---|---|\n| 1 | 1 |\n| 3 | 3 |\n| 5 | 5 |\n\n\n\n\n",
            "text/latex": "\\begin{enumerate}\n\\item A matrix: 1 × 2 of type int\n\\begin{tabular}{ll}\n start & end\\\\\n\\hline\n\t 1 & 1\\\\\n\\end{tabular}\n\n\\item A matrix: 2 × 2 of type int\n\\begin{tabular}{ll}\n start & end\\\\\n\\hline\n\t 1 & 1\\\\\n\t 3 & 3\\\\\n\\end{tabular}\n\n\\item A matrix: 3 × 2 of type int\n\\begin{tabular}{ll}\n start & end\\\\\n\\hline\n\t 1 & 1\\\\\n\t 3 & 3\\\\\n\t 5 & 5\\\\\n\\end{tabular}\n\n\\end{enumerate}\n",
            "text/plain": [
              "[[1]]\n",
              "     start end\n",
              "[1,]     1   1\n",
              "\n",
              "[[2]]\n",
              "     start end\n",
              "[1,]     1   1\n",
              "[2,]     3   3\n",
              "\n",
              "[[3]]\n",
              "     start end\n",
              "[1,]     1   1\n",
              "[2,]     3   3\n",
              "[3,]     5   5\n"
            ]
          },
          "metadata": {}
        }
      ]
    },
    {
      "cell_type": "markdown",
      "source": [
        "# str_replace()\n",
        "\n",
        "- 처음으로 매칭되는 문자의 치환과 삭제\n",
        "\n",
        "- str_replace_all() : 모든 문자의 치환과 삭제"
      ],
      "metadata": {
        "id": "KP_llr9GRxM8"
      }
    },
    {
      "cell_type": "code",
      "source": [
        "str_replace(\"apple\", \"p\", \"*\")"
      ],
      "metadata": {
        "colab": {
          "base_uri": "https://localhost:8080/",
          "height": 34
        },
        "id": "vzfqkSVIRmCh",
        "outputId": "f9e6ddd6-ba93-4ac4-9e3e-cd0e4e8a1b21"
      },
      "execution_count": 34,
      "outputs": [
        {
          "output_type": "display_data",
          "data": {
            "text/html": [
              "'a*ple'"
            ],
            "text/markdown": "'a*ple'",
            "text/latex": "'a*ple'",
            "text/plain": [
              "[1] \"a*ple\""
            ]
          },
          "metadata": {}
        }
      ]
    },
    {
      "cell_type": "code",
      "source": [
        "str_replace(\"apple\", \"p\", \"**\")"
      ],
      "metadata": {
        "colab": {
          "base_uri": "https://localhost:8080/",
          "height": 34
        },
        "id": "kuLEBeB_TJks",
        "outputId": "8a6bb38b-746c-4654-e3cb-c6bf56aac10d"
      },
      "execution_count": 35,
      "outputs": [
        {
          "output_type": "display_data",
          "data": {
            "text/html": [
              "'a**ple'"
            ],
            "text/markdown": "'a**ple'",
            "text/latex": "'a**ple'",
            "text/plain": [
              "[1] \"a**ple\""
            ]
          },
          "metadata": {}
        }
      ]
    },
    {
      "cell_type": "code",
      "source": [
        "str_replace_all(\"apple\", \"p\", \"*\")"
      ],
      "metadata": {
        "colab": {
          "base_uri": "https://localhost:8080/",
          "height": 34
        },
        "id": "OlWEjAAfTTFX",
        "outputId": "3957a51d-ef3d-4a8a-9836-5239b09ef9bc"
      },
      "execution_count": 36,
      "outputs": [
        {
          "output_type": "display_data",
          "data": {
            "text/html": [
              "'a**le'"
            ],
            "text/markdown": "'a**le'",
            "text/latex": "'a**le'",
            "text/plain": [
              "[1] \"a**le\""
            ]
          },
          "metadata": {}
        }
      ]
    },
    {
      "cell_type": "code",
      "source": [
        "v3 <- c(\"1,000\", \"2,300\", \"3,900\")"
      ],
      "metadata": {
        "id": "MuGbEa_VTZvo"
      },
      "execution_count": 37,
      "outputs": []
    },
    {
      "cell_type": "code",
      "source": [
        "v3 <- str_replace(v3, \",\", \"\")"
      ],
      "metadata": {
        "id": "XUpsWJ7PTu8l"
      },
      "execution_count": 38,
      "outputs": []
    },
    {
      "cell_type": "code",
      "source": [
        "v3"
      ],
      "metadata": {
        "colab": {
          "base_uri": "https://localhost:8080/",
          "height": 34
        },
        "id": "RgN9-WK4T0By",
        "outputId": "0ea2ca28-a62c-41c6-bb72-9de0d2af9a24"
      },
      "execution_count": 39,
      "outputs": [
        {
          "output_type": "display_data",
          "data": {
            "text/html": [
              "<style>\n",
              ".list-inline {list-style: none; margin:0; padding: 0}\n",
              ".list-inline>li {display: inline-block}\n",
              ".list-inline>li:not(:last-child)::after {content: \"\\00b7\"; padding: 0 .5ex}\n",
              "</style>\n",
              "<ol class=list-inline><li>'1000'</li><li>'2300'</li><li>'3900'</li></ol>\n"
            ],
            "text/markdown": "1. '1000'\n2. '2300'\n3. '3900'\n\n\n",
            "text/latex": "\\begin{enumerate*}\n\\item '1000'\n\\item '2300'\n\\item '3900'\n\\end{enumerate*}\n",
            "text/plain": [
              "[1] \"1000\" \"2300\" \"3900\""
            ]
          },
          "metadata": {}
        }
      ]
    },
    {
      "cell_type": "code",
      "source": [
        "as.numeric(v3)"
      ],
      "metadata": {
        "colab": {
          "base_uri": "https://localhost:8080/",
          "height": 34
        },
        "id": "WVvGrmMST0aZ",
        "outputId": "1e083109-ec69-4a32-da9d-f8e9f9b37565"
      },
      "execution_count": 40,
      "outputs": [
        {
          "output_type": "display_data",
          "data": {
            "text/html": [
              "<style>\n",
              ".list-inline {list-style: none; margin:0; padding: 0}\n",
              ".list-inline>li {display: inline-block}\n",
              ".list-inline>li:not(:last-child)::after {content: \"\\00b7\"; padding: 0 .5ex}\n",
              "</style>\n",
              "<ol class=list-inline><li>1000</li><li>2300</li><li>3900</li></ol>\n"
            ],
            "text/markdown": "1. 1000\n2. 2300\n3. 3900\n\n\n",
            "text/latex": "\\begin{enumerate*}\n\\item 1000\n\\item 2300\n\\item 3900\n\\end{enumerate*}\n",
            "text/plain": [
              "[1] 1000 2300 3900"
            ]
          },
          "metadata": {}
        }
      ]
    },
    {
      "cell_type": "markdown",
      "source": [
        "# str_split()\n",
        "\n",
        "- 기호를 기준으로 문자열을 분리"
      ],
      "metadata": {
        "id": "-_NiQKyxT8XV"
      }
    },
    {
      "cell_type": "code",
      "source": [
        "animal <- str_c(\"pig\", \"/\", \"dog\", \"/\", \"cat\")\n",
        "animal"
      ],
      "metadata": {
        "colab": {
          "base_uri": "https://localhost:8080/",
          "height": 34
        },
        "id": "LlNCovZqT3-K",
        "outputId": "98f97517-df30-4dd1-aa6e-04bafcbbc229"
      },
      "execution_count": 41,
      "outputs": [
        {
          "output_type": "display_data",
          "data": {
            "text/html": [
              "'pig/dog/cat'"
            ],
            "text/markdown": "'pig/dog/cat'",
            "text/latex": "'pig/dog/cat'",
            "text/plain": [
              "[1] \"pig/dog/cat\""
            ]
          },
          "metadata": {}
        }
      ]
    },
    {
      "cell_type": "code",
      "source": [
        "str_split(animal, \"/\") # 결과물이 리스트 형식임"
      ],
      "metadata": {
        "colab": {
          "base_uri": "https://localhost:8080/",
          "height": 62
        },
        "id": "RzTFRd7HUOwu",
        "outputId": "8f74b3e2-e830-4cb4-8359-4d898abe32b3"
      },
      "execution_count": 42,
      "outputs": [
        {
          "output_type": "display_data",
          "data": {
            "text/html": [
              "<ol>\n",
              "\t<li><style>\n",
              ".list-inline {list-style: none; margin:0; padding: 0}\n",
              ".list-inline>li {display: inline-block}\n",
              ".list-inline>li:not(:last-child)::after {content: \"\\00b7\"; padding: 0 .5ex}\n",
              "</style>\n",
              "<ol class=list-inline><li>'pig'</li><li>'dog'</li><li>'cat'</li></ol>\n",
              "</li>\n",
              "</ol>\n"
            ],
            "text/markdown": "1. 1. 'pig'\n2. 'dog'\n3. 'cat'\n\n\n\n\n\n",
            "text/latex": "\\begin{enumerate}\n\\item \\begin{enumerate*}\n\\item 'pig'\n\\item 'dog'\n\\item 'cat'\n\\end{enumerate*}\n\n\\end{enumerate}\n",
            "text/plain": [
              "[[1]]\n",
              "[1] \"pig\" \"dog\" \"cat\"\n"
            ]
          },
          "metadata": {}
        }
      ]
    },
    {
      "cell_type": "markdown",
      "source": [
        "# str_trim()\n",
        "\n",
        "- 공백 제거 용도\n",
        "- 중간 공백 삭제 되지 않음\n",
        "  - 중간 공백 치환은 replace() 사용"
      ],
      "metadata": {
        "id": "VNuJDQp8UmO5"
      }
    },
    {
      "cell_type": "code",
      "source": [
        "str_trim(\" pig dog cat \") # 양쪽 공백 제거"
      ],
      "metadata": {
        "colab": {
          "base_uri": "https://localhost:8080/",
          "height": 34
        },
        "id": "660cjr7FUTHj",
        "outputId": "be23da8b-12d6-42a8-87df-6eff9abe9fe0"
      },
      "execution_count": 43,
      "outputs": [
        {
          "output_type": "display_data",
          "data": {
            "text/html": [
              "'pig dog cat'"
            ],
            "text/markdown": "'pig dog cat'",
            "text/latex": "'pig dog cat'",
            "text/plain": [
              "[1] \"pig dog cat\""
            ]
          },
          "metadata": {}
        }
      ]
    },
    {
      "cell_type": "code",
      "source": [
        "str_trim(\" pig dog cat \", side = \"left\") # 왼쪽 공백 제거"
      ],
      "metadata": {
        "colab": {
          "base_uri": "https://localhost:8080/",
          "height": 34
        },
        "id": "KakyDe0JVDUR",
        "outputId": "e4603ffa-8f1a-492c-fcc9-be55b6e5ff52"
      },
      "execution_count": 44,
      "outputs": [
        {
          "output_type": "display_data",
          "data": {
            "text/html": [
              "'pig dog cat '"
            ],
            "text/markdown": "'pig dog cat '",
            "text/latex": "'pig dog cat '",
            "text/plain": [
              "[1] \"pig dog cat \""
            ]
          },
          "metadata": {}
        }
      ]
    },
    {
      "cell_type": "code",
      "source": [
        "str_trim(\" pig dog cat \", side = \"right\")"
      ],
      "metadata": {
        "colab": {
          "base_uri": "https://localhost:8080/",
          "height": 34
        },
        "id": "w0LYyr50VJxs",
        "outputId": "4eda4c37-92e5-47ec-9302-6fce925c7b96"
      },
      "execution_count": 45,
      "outputs": [
        {
          "output_type": "display_data",
          "data": {
            "text/html": [
              "' pig dog cat'"
            ],
            "text/markdown": "' pig dog cat'",
            "text/latex": "' pig dog cat'",
            "text/plain": [
              "[1] \" pig dog cat\""
            ]
          },
          "metadata": {}
        }
      ]
    },
    {
      "cell_type": "code",
      "source": [
        ""
      ],
      "metadata": {
        "id": "AgmzX4LwVNRo"
      },
      "execution_count": null,
      "outputs": []
    }
  ]
}