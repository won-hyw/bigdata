{
  "nbformat": 4,
  "nbformat_minor": 0,
  "metadata": {
    "colab": {
      "name": "4.데이터전처리.ipynb",
      "provenance": [],
      "collapsed_sections": []
    },
    "kernelspec": {
      "name": "ir",
      "display_name": "R"
    },
    "language_info": {
      "name": "R"
    }
  },
  "cells": [
    {
      "cell_type": "markdown",
      "source": [
        "- dplyr 함수\n",
        "    - filter : 행 추출\n",
        "    - select : 열 추출\n",
        "    - arrange : 정렬\n",
        "    - mutate : 변수 추가\n",
        "    - summarise : 통계치 산출\n",
        "    - group_by : 집단별로 나누기\n",
        "    - left_join : 데이터 합치기(열)\n",
        "    - bind_rows : 데이터 합치기(행)"
      ],
      "metadata": {
        "id": "-rTW1eh58Q5C"
      }
    },
    {
      "cell_type": "markdown",
      "source": [
        "# 조건에 맞는 데이터 추출"
      ],
      "metadata": {
        "id": "q02uMSWA82sL"
      }
    },
    {
      "cell_type": "code",
      "execution_count": 1,
      "metadata": {
        "colab": {
          "base_uri": "https://localhost:8080/"
        },
        "id": "OaAE-zb28HJ9",
        "outputId": "466d84ee-77c6-4537-9bd8-d26dd63d8e12"
      },
      "outputs": [
        {
          "output_type": "stream",
          "name": "stderr",
          "text": [
            "\n",
            "Attaching package: ‘dplyr’\n",
            "\n",
            "\n",
            "The following objects are masked from ‘package:stats’:\n",
            "\n",
            "    filter, lag\n",
            "\n",
            "\n",
            "The following objects are masked from ‘package:base’:\n",
            "\n",
            "    intersect, setdiff, setequal, union\n",
            "\n",
            "\n"
          ]
        }
      ],
      "source": [
        "library(dplyr)"
      ]
    },
    {
      "cell_type": "code",
      "source": [
        "exam <- read.csv(\"/content/csv_exam.csv\")\n",
        "head(exam)"
      ],
      "metadata": {
        "colab": {
          "base_uri": "https://localhost:8080/",
          "height": 286
        },
        "id": "5bB_vnoT87Jm",
        "outputId": "bf9e448b-8ba1-4e8f-d1a6-52c8e2a36c39"
      },
      "execution_count": 2,
      "outputs": [
        {
          "output_type": "display_data",
          "data": {
            "text/html": [
              "<table class=\"dataframe\">\n",
              "<caption>A data.frame: 6 × 5</caption>\n",
              "<thead>\n",
              "\t<tr><th></th><th scope=col>id</th><th scope=col>class</th><th scope=col>math</th><th scope=col>english</th><th scope=col>science</th></tr>\n",
              "\t<tr><th></th><th scope=col>&lt;int&gt;</th><th scope=col>&lt;int&gt;</th><th scope=col>&lt;int&gt;</th><th scope=col>&lt;int&gt;</th><th scope=col>&lt;int&gt;</th></tr>\n",
              "</thead>\n",
              "<tbody>\n",
              "\t<tr><th scope=row>1</th><td>1</td><td>1</td><td>50</td><td>98</td><td>50</td></tr>\n",
              "\t<tr><th scope=row>2</th><td>2</td><td>1</td><td>60</td><td>97</td><td>60</td></tr>\n",
              "\t<tr><th scope=row>3</th><td>3</td><td>1</td><td>45</td><td>86</td><td>78</td></tr>\n",
              "\t<tr><th scope=row>4</th><td>4</td><td>1</td><td>30</td><td>98</td><td>58</td></tr>\n",
              "\t<tr><th scope=row>5</th><td>5</td><td>2</td><td>25</td><td>80</td><td>65</td></tr>\n",
              "\t<tr><th scope=row>6</th><td>6</td><td>2</td><td>50</td><td>89</td><td>98</td></tr>\n",
              "</tbody>\n",
              "</table>\n"
            ],
            "text/markdown": "\nA data.frame: 6 × 5\n\n| <!--/--> | id &lt;int&gt; | class &lt;int&gt; | math &lt;int&gt; | english &lt;int&gt; | science &lt;int&gt; |\n|---|---|---|---|---|---|\n| 1 | 1 | 1 | 50 | 98 | 50 |\n| 2 | 2 | 1 | 60 | 97 | 60 |\n| 3 | 3 | 1 | 45 | 86 | 78 |\n| 4 | 4 | 1 | 30 | 98 | 58 |\n| 5 | 5 | 2 | 25 | 80 | 65 |\n| 6 | 6 | 2 | 50 | 89 | 98 |\n\n",
            "text/latex": "A data.frame: 6 × 5\n\\begin{tabular}{r|lllll}\n  & id & class & math & english & science\\\\\n  & <int> & <int> & <int> & <int> & <int>\\\\\n\\hline\n\t1 & 1 & 1 & 50 & 98 & 50\\\\\n\t2 & 2 & 1 & 60 & 97 & 60\\\\\n\t3 & 3 & 1 & 45 & 86 & 78\\\\\n\t4 & 4 & 1 & 30 & 98 & 58\\\\\n\t5 & 5 & 2 & 25 & 80 & 65\\\\\n\t6 & 6 & 2 & 50 & 89 & 98\\\\\n\\end{tabular}\n",
            "text/plain": [
              "  id class math english science\n",
              "1 1  1     50   98      50     \n",
              "2 2  1     60   97      60     \n",
              "3 3  1     45   86      78     \n",
              "4 4  1     30   98      58     \n",
              "5 5  2     25   80      65     \n",
              "6 6  2     50   89      98     "
            ]
          },
          "metadata": {}
        }
      ]
    },
    {
      "cell_type": "code",
      "source": [
        "# class가 1인 경우만 추출\n",
        "exam %>% filter(class == 1)"
      ],
      "metadata": {
        "colab": {
          "base_uri": "https://localhost:8080/",
          "height": 223
        },
        "id": "Hswq71EJ9OiL",
        "outputId": "fe8ec40d-aaa6-428d-bad7-1c949cc2860f"
      },
      "execution_count": null,
      "outputs": [
        {
          "output_type": "display_data",
          "data": {
            "text/html": [
              "<table class=\"dataframe\">\n",
              "<caption>A data.frame: 4 × 5</caption>\n",
              "<thead>\n",
              "\t<tr><th scope=col>id</th><th scope=col>class</th><th scope=col>math</th><th scope=col>english</th><th scope=col>science</th></tr>\n",
              "\t<tr><th scope=col>&lt;int&gt;</th><th scope=col>&lt;int&gt;</th><th scope=col>&lt;int&gt;</th><th scope=col>&lt;int&gt;</th><th scope=col>&lt;int&gt;</th></tr>\n",
              "</thead>\n",
              "<tbody>\n",
              "\t<tr><td>1</td><td>1</td><td>50</td><td>98</td><td>50</td></tr>\n",
              "\t<tr><td>2</td><td>1</td><td>60</td><td>97</td><td>60</td></tr>\n",
              "\t<tr><td>3</td><td>1</td><td>45</td><td>86</td><td>78</td></tr>\n",
              "\t<tr><td>4</td><td>1</td><td>30</td><td>98</td><td>58</td></tr>\n",
              "</tbody>\n",
              "</table>\n"
            ],
            "text/markdown": "\nA data.frame: 4 × 5\n\n| id &lt;int&gt; | class &lt;int&gt; | math &lt;int&gt; | english &lt;int&gt; | science &lt;int&gt; |\n|---|---|---|---|---|\n| 1 | 1 | 50 | 98 | 50 |\n| 2 | 1 | 60 | 97 | 60 |\n| 3 | 1 | 45 | 86 | 78 |\n| 4 | 1 | 30 | 98 | 58 |\n\n",
            "text/latex": "A data.frame: 4 × 5\n\\begin{tabular}{lllll}\n id & class & math & english & science\\\\\n <int> & <int> & <int> & <int> & <int>\\\\\n\\hline\n\t 1 & 1 & 50 & 98 & 50\\\\\n\t 2 & 1 & 60 & 97 & 60\\\\\n\t 3 & 1 & 45 & 86 & 78\\\\\n\t 4 & 1 & 30 & 98 & 58\\\\\n\\end{tabular}\n",
            "text/plain": [
              "  id class math english science\n",
              "1 1  1     50   98      50     \n",
              "2 2  1     60   97      60     \n",
              "3 3  1     45   86      78     \n",
              "4 4  1     30   98      58     "
            ]
          },
          "metadata": {}
        }
      ]
    },
    {
      "cell_type": "code",
      "source": [
        "# %>% : 파이프 연산자(pipe operator). 함수들을 연결하는 기능\n",
        "\n",
        "# class가 1이 아닌 경우만 추출\n",
        "exam %>% filter(class != 1)"
      ],
      "metadata": {
        "colab": {
          "base_uri": "https://localhost:8080/",
          "height": 600
        },
        "id": "COOpIjB19eIf",
        "outputId": "c3dbd8a8-2a10-4fec-9f39-861f144bd830"
      },
      "execution_count": null,
      "outputs": [
        {
          "output_type": "display_data",
          "data": {
            "text/html": [
              "<table class=\"dataframe\">\n",
              "<caption>A data.frame: 16 × 5</caption>\n",
              "<thead>\n",
              "\t<tr><th scope=col>id</th><th scope=col>class</th><th scope=col>math</th><th scope=col>english</th><th scope=col>science</th></tr>\n",
              "\t<tr><th scope=col>&lt;int&gt;</th><th scope=col>&lt;int&gt;</th><th scope=col>&lt;int&gt;</th><th scope=col>&lt;int&gt;</th><th scope=col>&lt;int&gt;</th></tr>\n",
              "</thead>\n",
              "<tbody>\n",
              "\t<tr><td> 5</td><td>2</td><td>25</td><td>80</td><td>65</td></tr>\n",
              "\t<tr><td> 6</td><td>2</td><td>50</td><td>89</td><td>98</td></tr>\n",
              "\t<tr><td> 7</td><td>2</td><td>80</td><td>90</td><td>45</td></tr>\n",
              "\t<tr><td> 8</td><td>2</td><td>90</td><td>78</td><td>25</td></tr>\n",
              "\t<tr><td> 9</td><td>3</td><td>20</td><td>98</td><td>15</td></tr>\n",
              "\t<tr><td>10</td><td>3</td><td>50</td><td>98</td><td>45</td></tr>\n",
              "\t<tr><td>11</td><td>3</td><td>65</td><td>65</td><td>65</td></tr>\n",
              "\t<tr><td>12</td><td>3</td><td>45</td><td>85</td><td>32</td></tr>\n",
              "\t<tr><td>13</td><td>4</td><td>46</td><td>98</td><td>65</td></tr>\n",
              "\t<tr><td>14</td><td>4</td><td>48</td><td>87</td><td>12</td></tr>\n",
              "\t<tr><td>15</td><td>4</td><td>75</td><td>56</td><td>78</td></tr>\n",
              "\t<tr><td>16</td><td>4</td><td>58</td><td>98</td><td>65</td></tr>\n",
              "\t<tr><td>17</td><td>5</td><td>65</td><td>68</td><td>98</td></tr>\n",
              "\t<tr><td>18</td><td>5</td><td>80</td><td>78</td><td>90</td></tr>\n",
              "\t<tr><td>19</td><td>5</td><td>89</td><td>68</td><td>87</td></tr>\n",
              "\t<tr><td>20</td><td>5</td><td>78</td><td>83</td><td>58</td></tr>\n",
              "</tbody>\n",
              "</table>\n"
            ],
            "text/markdown": "\nA data.frame: 16 × 5\n\n| id &lt;int&gt; | class &lt;int&gt; | math &lt;int&gt; | english &lt;int&gt; | science &lt;int&gt; |\n|---|---|---|---|---|\n|  5 | 2 | 25 | 80 | 65 |\n|  6 | 2 | 50 | 89 | 98 |\n|  7 | 2 | 80 | 90 | 45 |\n|  8 | 2 | 90 | 78 | 25 |\n|  9 | 3 | 20 | 98 | 15 |\n| 10 | 3 | 50 | 98 | 45 |\n| 11 | 3 | 65 | 65 | 65 |\n| 12 | 3 | 45 | 85 | 32 |\n| 13 | 4 | 46 | 98 | 65 |\n| 14 | 4 | 48 | 87 | 12 |\n| 15 | 4 | 75 | 56 | 78 |\n| 16 | 4 | 58 | 98 | 65 |\n| 17 | 5 | 65 | 68 | 98 |\n| 18 | 5 | 80 | 78 | 90 |\n| 19 | 5 | 89 | 68 | 87 |\n| 20 | 5 | 78 | 83 | 58 |\n\n",
            "text/latex": "A data.frame: 16 × 5\n\\begin{tabular}{lllll}\n id & class & math & english & science\\\\\n <int> & <int> & <int> & <int> & <int>\\\\\n\\hline\n\t  5 & 2 & 25 & 80 & 65\\\\\n\t  6 & 2 & 50 & 89 & 98\\\\\n\t  7 & 2 & 80 & 90 & 45\\\\\n\t  8 & 2 & 90 & 78 & 25\\\\\n\t  9 & 3 & 20 & 98 & 15\\\\\n\t 10 & 3 & 50 & 98 & 45\\\\\n\t 11 & 3 & 65 & 65 & 65\\\\\n\t 12 & 3 & 45 & 85 & 32\\\\\n\t 13 & 4 & 46 & 98 & 65\\\\\n\t 14 & 4 & 48 & 87 & 12\\\\\n\t 15 & 4 & 75 & 56 & 78\\\\\n\t 16 & 4 & 58 & 98 & 65\\\\\n\t 17 & 5 & 65 & 68 & 98\\\\\n\t 18 & 5 & 80 & 78 & 90\\\\\n\t 19 & 5 & 89 & 68 & 87\\\\\n\t 20 & 5 & 78 & 83 & 58\\\\\n\\end{tabular}\n",
            "text/plain": [
              "   id class math english science\n",
              "1   5 2     25   80      65     \n",
              "2   6 2     50   89      98     \n",
              "3   7 2     80   90      45     \n",
              "4   8 2     90   78      25     \n",
              "5   9 3     20   98      15     \n",
              "6  10 3     50   98      45     \n",
              "7  11 3     65   65      65     \n",
              "8  12 3     45   85      32     \n",
              "9  13 4     46   98      65     \n",
              "10 14 4     48   87      12     \n",
              "11 15 4     75   56      78     \n",
              "12 16 4     58   98      65     \n",
              "13 17 5     65   68      98     \n",
              "14 18 5     80   78      90     \n",
              "15 19 5     89   68      87     \n",
              "16 20 5     78   83      58     "
            ]
          },
          "metadata": {}
        }
      ]
    },
    {
      "cell_type": "code",
      "source": [
        "# math가 50을 초과한 경우만 추출\n",
        "exam %>% filter(math > 50)"
      ],
      "metadata": {
        "colab": {
          "base_uri": "https://localhost:8080/",
          "height": 411
        },
        "id": "5vhNsf1N-Bm-",
        "outputId": "08da6d18-9bed-4994-e4e9-abc77f54470a"
      },
      "execution_count": null,
      "outputs": [
        {
          "output_type": "display_data",
          "data": {
            "text/html": [
              "<table class=\"dataframe\">\n",
              "<caption>A data.frame: 10 × 5</caption>\n",
              "<thead>\n",
              "\t<tr><th scope=col>id</th><th scope=col>class</th><th scope=col>math</th><th scope=col>english</th><th scope=col>science</th></tr>\n",
              "\t<tr><th scope=col>&lt;int&gt;</th><th scope=col>&lt;int&gt;</th><th scope=col>&lt;int&gt;</th><th scope=col>&lt;int&gt;</th><th scope=col>&lt;int&gt;</th></tr>\n",
              "</thead>\n",
              "<tbody>\n",
              "\t<tr><td> 2</td><td>1</td><td>60</td><td>97</td><td>60</td></tr>\n",
              "\t<tr><td> 7</td><td>2</td><td>80</td><td>90</td><td>45</td></tr>\n",
              "\t<tr><td> 8</td><td>2</td><td>90</td><td>78</td><td>25</td></tr>\n",
              "\t<tr><td>11</td><td>3</td><td>65</td><td>65</td><td>65</td></tr>\n",
              "\t<tr><td>15</td><td>4</td><td>75</td><td>56</td><td>78</td></tr>\n",
              "\t<tr><td>16</td><td>4</td><td>58</td><td>98</td><td>65</td></tr>\n",
              "\t<tr><td>17</td><td>5</td><td>65</td><td>68</td><td>98</td></tr>\n",
              "\t<tr><td>18</td><td>5</td><td>80</td><td>78</td><td>90</td></tr>\n",
              "\t<tr><td>19</td><td>5</td><td>89</td><td>68</td><td>87</td></tr>\n",
              "\t<tr><td>20</td><td>5</td><td>78</td><td>83</td><td>58</td></tr>\n",
              "</tbody>\n",
              "</table>\n"
            ],
            "text/markdown": "\nA data.frame: 10 × 5\n\n| id &lt;int&gt; | class &lt;int&gt; | math &lt;int&gt; | english &lt;int&gt; | science &lt;int&gt; |\n|---|---|---|---|---|\n|  2 | 1 | 60 | 97 | 60 |\n|  7 | 2 | 80 | 90 | 45 |\n|  8 | 2 | 90 | 78 | 25 |\n| 11 | 3 | 65 | 65 | 65 |\n| 15 | 4 | 75 | 56 | 78 |\n| 16 | 4 | 58 | 98 | 65 |\n| 17 | 5 | 65 | 68 | 98 |\n| 18 | 5 | 80 | 78 | 90 |\n| 19 | 5 | 89 | 68 | 87 |\n| 20 | 5 | 78 | 83 | 58 |\n\n",
            "text/latex": "A data.frame: 10 × 5\n\\begin{tabular}{lllll}\n id & class & math & english & science\\\\\n <int> & <int> & <int> & <int> & <int>\\\\\n\\hline\n\t  2 & 1 & 60 & 97 & 60\\\\\n\t  7 & 2 & 80 & 90 & 45\\\\\n\t  8 & 2 & 90 & 78 & 25\\\\\n\t 11 & 3 & 65 & 65 & 65\\\\\n\t 15 & 4 & 75 & 56 & 78\\\\\n\t 16 & 4 & 58 & 98 & 65\\\\\n\t 17 & 5 & 65 & 68 & 98\\\\\n\t 18 & 5 & 80 & 78 & 90\\\\\n\t 19 & 5 & 89 & 68 & 87\\\\\n\t 20 & 5 & 78 & 83 & 58\\\\\n\\end{tabular}\n",
            "text/plain": [
              "   id class math english science\n",
              "1   2 1     60   97      60     \n",
              "2   7 2     80   90      45     \n",
              "3   8 2     90   78      25     \n",
              "4  11 3     65   65      65     \n",
              "5  15 4     75   56      78     \n",
              "6  16 4     58   98      65     \n",
              "7  17 5     65   68      98     \n",
              "8  18 5     80   78      90     \n",
              "9  19 5     89   68      87     \n",
              "10 20 5     78   83      58     "
            ]
          },
          "metadata": {}
        }
      ]
    },
    {
      "cell_type": "code",
      "source": [
        "# math가 50미만인 경우만 추출\n",
        "exam %>% filter(math < 50)"
      ],
      "metadata": {
        "colab": {
          "base_uri": "https://localhost:8080/",
          "height": 318
        },
        "id": "DMh3Gh3J-P6G",
        "outputId": "4690d01d-d2d6-4fc4-a431-45096ac2eb47"
      },
      "execution_count": null,
      "outputs": [
        {
          "output_type": "display_data",
          "data": {
            "text/html": [
              "<table class=\"dataframe\">\n",
              "<caption>A data.frame: 7 × 5</caption>\n",
              "<thead>\n",
              "\t<tr><th scope=col>id</th><th scope=col>class</th><th scope=col>math</th><th scope=col>english</th><th scope=col>science</th></tr>\n",
              "\t<tr><th scope=col>&lt;int&gt;</th><th scope=col>&lt;int&gt;</th><th scope=col>&lt;int&gt;</th><th scope=col>&lt;int&gt;</th><th scope=col>&lt;int&gt;</th></tr>\n",
              "</thead>\n",
              "<tbody>\n",
              "\t<tr><td> 3</td><td>1</td><td>45</td><td>86</td><td>78</td></tr>\n",
              "\t<tr><td> 4</td><td>1</td><td>30</td><td>98</td><td>58</td></tr>\n",
              "\t<tr><td> 5</td><td>2</td><td>25</td><td>80</td><td>65</td></tr>\n",
              "\t<tr><td> 9</td><td>3</td><td>20</td><td>98</td><td>15</td></tr>\n",
              "\t<tr><td>12</td><td>3</td><td>45</td><td>85</td><td>32</td></tr>\n",
              "\t<tr><td>13</td><td>4</td><td>46</td><td>98</td><td>65</td></tr>\n",
              "\t<tr><td>14</td><td>4</td><td>48</td><td>87</td><td>12</td></tr>\n",
              "</tbody>\n",
              "</table>\n"
            ],
            "text/markdown": "\nA data.frame: 7 × 5\n\n| id &lt;int&gt; | class &lt;int&gt; | math &lt;int&gt; | english &lt;int&gt; | science &lt;int&gt; |\n|---|---|---|---|---|\n|  3 | 1 | 45 | 86 | 78 |\n|  4 | 1 | 30 | 98 | 58 |\n|  5 | 2 | 25 | 80 | 65 |\n|  9 | 3 | 20 | 98 | 15 |\n| 12 | 3 | 45 | 85 | 32 |\n| 13 | 4 | 46 | 98 | 65 |\n| 14 | 4 | 48 | 87 | 12 |\n\n",
            "text/latex": "A data.frame: 7 × 5\n\\begin{tabular}{lllll}\n id & class & math & english & science\\\\\n <int> & <int> & <int> & <int> & <int>\\\\\n\\hline\n\t  3 & 1 & 45 & 86 & 78\\\\\n\t  4 & 1 & 30 & 98 & 58\\\\\n\t  5 & 2 & 25 & 80 & 65\\\\\n\t  9 & 3 & 20 & 98 & 15\\\\\n\t 12 & 3 & 45 & 85 & 32\\\\\n\t 13 & 4 & 46 & 98 & 65\\\\\n\t 14 & 4 & 48 & 87 & 12\\\\\n\\end{tabular}\n",
            "text/plain": [
              "  id class math english science\n",
              "1  3 1     45   86      78     \n",
              "2  4 1     30   98      58     \n",
              "3  5 2     25   80      65     \n",
              "4  9 3     20   98      15     \n",
              "5 12 3     45   85      32     \n",
              "6 13 4     46   98      65     \n",
              "7 14 4     48   87      12     "
            ]
          },
          "metadata": {}
        }
      ]
    },
    {
      "cell_type": "code",
      "source": [
        "# english가 80 이하인 경우만 추출\n",
        "exam %>% filter(english <= 80)"
      ],
      "metadata": {
        "colab": {
          "base_uri": "https://localhost:8080/",
          "height": 318
        },
        "id": "MP0D3SUV-Vg5",
        "outputId": "9e1979e9-a32d-44e1-e841-4b5b7a4563fe"
      },
      "execution_count": null,
      "outputs": [
        {
          "output_type": "display_data",
          "data": {
            "text/html": [
              "<table class=\"dataframe\">\n",
              "<caption>A data.frame: 7 × 5</caption>\n",
              "<thead>\n",
              "\t<tr><th scope=col>id</th><th scope=col>class</th><th scope=col>math</th><th scope=col>english</th><th scope=col>science</th></tr>\n",
              "\t<tr><th scope=col>&lt;int&gt;</th><th scope=col>&lt;int&gt;</th><th scope=col>&lt;int&gt;</th><th scope=col>&lt;int&gt;</th><th scope=col>&lt;int&gt;</th></tr>\n",
              "</thead>\n",
              "<tbody>\n",
              "\t<tr><td> 5</td><td>2</td><td>25</td><td>80</td><td>65</td></tr>\n",
              "\t<tr><td> 8</td><td>2</td><td>90</td><td>78</td><td>25</td></tr>\n",
              "\t<tr><td>11</td><td>3</td><td>65</td><td>65</td><td>65</td></tr>\n",
              "\t<tr><td>15</td><td>4</td><td>75</td><td>56</td><td>78</td></tr>\n",
              "\t<tr><td>17</td><td>5</td><td>65</td><td>68</td><td>98</td></tr>\n",
              "\t<tr><td>18</td><td>5</td><td>80</td><td>78</td><td>90</td></tr>\n",
              "\t<tr><td>19</td><td>5</td><td>89</td><td>68</td><td>87</td></tr>\n",
              "</tbody>\n",
              "</table>\n"
            ],
            "text/markdown": "\nA data.frame: 7 × 5\n\n| id &lt;int&gt; | class &lt;int&gt; | math &lt;int&gt; | english &lt;int&gt; | science &lt;int&gt; |\n|---|---|---|---|---|\n|  5 | 2 | 25 | 80 | 65 |\n|  8 | 2 | 90 | 78 | 25 |\n| 11 | 3 | 65 | 65 | 65 |\n| 15 | 4 | 75 | 56 | 78 |\n| 17 | 5 | 65 | 68 | 98 |\n| 18 | 5 | 80 | 78 | 90 |\n| 19 | 5 | 89 | 68 | 87 |\n\n",
            "text/latex": "A data.frame: 7 × 5\n\\begin{tabular}{lllll}\n id & class & math & english & science\\\\\n <int> & <int> & <int> & <int> & <int>\\\\\n\\hline\n\t  5 & 2 & 25 & 80 & 65\\\\\n\t  8 & 2 & 90 & 78 & 25\\\\\n\t 11 & 3 & 65 & 65 & 65\\\\\n\t 15 & 4 & 75 & 56 & 78\\\\\n\t 17 & 5 & 65 & 68 & 98\\\\\n\t 18 & 5 & 80 & 78 & 90\\\\\n\t 19 & 5 & 89 & 68 & 87\\\\\n\\end{tabular}\n",
            "text/plain": [
              "  id class math english science\n",
              "1  5 2     25   80      65     \n",
              "2  8 2     90   78      25     \n",
              "3 11 3     65   65      65     \n",
              "4 15 4     75   56      78     \n",
              "5 17 5     65   68      98     \n",
              "6 18 5     80   78      90     \n",
              "7 19 5     89   68      87     "
            ]
          },
          "metadata": {}
        }
      ]
    },
    {
      "cell_type": "code",
      "source": [
        "# english가 80 이상인 경우만 추출\n",
        "exam %>% filter(english >= 80)"
      ],
      "metadata": {
        "colab": {
          "base_uri": "https://localhost:8080/",
          "height": 537
        },
        "id": "y6GJwXuV-dNl",
        "outputId": "02b5084e-d734-44f8-ea89-6c835e2f4570"
      },
      "execution_count": null,
      "outputs": [
        {
          "output_type": "display_data",
          "data": {
            "text/html": [
              "<table class=\"dataframe\">\n",
              "<caption>A data.frame: 14 × 5</caption>\n",
              "<thead>\n",
              "\t<tr><th scope=col>id</th><th scope=col>class</th><th scope=col>math</th><th scope=col>english</th><th scope=col>science</th></tr>\n",
              "\t<tr><th scope=col>&lt;int&gt;</th><th scope=col>&lt;int&gt;</th><th scope=col>&lt;int&gt;</th><th scope=col>&lt;int&gt;</th><th scope=col>&lt;int&gt;</th></tr>\n",
              "</thead>\n",
              "<tbody>\n",
              "\t<tr><td> 1</td><td>1</td><td>50</td><td>98</td><td>50</td></tr>\n",
              "\t<tr><td> 2</td><td>1</td><td>60</td><td>97</td><td>60</td></tr>\n",
              "\t<tr><td> 3</td><td>1</td><td>45</td><td>86</td><td>78</td></tr>\n",
              "\t<tr><td> 4</td><td>1</td><td>30</td><td>98</td><td>58</td></tr>\n",
              "\t<tr><td> 5</td><td>2</td><td>25</td><td>80</td><td>65</td></tr>\n",
              "\t<tr><td> 6</td><td>2</td><td>50</td><td>89</td><td>98</td></tr>\n",
              "\t<tr><td> 7</td><td>2</td><td>80</td><td>90</td><td>45</td></tr>\n",
              "\t<tr><td> 9</td><td>3</td><td>20</td><td>98</td><td>15</td></tr>\n",
              "\t<tr><td>10</td><td>3</td><td>50</td><td>98</td><td>45</td></tr>\n",
              "\t<tr><td>12</td><td>3</td><td>45</td><td>85</td><td>32</td></tr>\n",
              "\t<tr><td>13</td><td>4</td><td>46</td><td>98</td><td>65</td></tr>\n",
              "\t<tr><td>14</td><td>4</td><td>48</td><td>87</td><td>12</td></tr>\n",
              "\t<tr><td>16</td><td>4</td><td>58</td><td>98</td><td>65</td></tr>\n",
              "\t<tr><td>20</td><td>5</td><td>78</td><td>83</td><td>58</td></tr>\n",
              "</tbody>\n",
              "</table>\n"
            ],
            "text/markdown": "\nA data.frame: 14 × 5\n\n| id &lt;int&gt; | class &lt;int&gt; | math &lt;int&gt; | english &lt;int&gt; | science &lt;int&gt; |\n|---|---|---|---|---|\n|  1 | 1 | 50 | 98 | 50 |\n|  2 | 1 | 60 | 97 | 60 |\n|  3 | 1 | 45 | 86 | 78 |\n|  4 | 1 | 30 | 98 | 58 |\n|  5 | 2 | 25 | 80 | 65 |\n|  6 | 2 | 50 | 89 | 98 |\n|  7 | 2 | 80 | 90 | 45 |\n|  9 | 3 | 20 | 98 | 15 |\n| 10 | 3 | 50 | 98 | 45 |\n| 12 | 3 | 45 | 85 | 32 |\n| 13 | 4 | 46 | 98 | 65 |\n| 14 | 4 | 48 | 87 | 12 |\n| 16 | 4 | 58 | 98 | 65 |\n| 20 | 5 | 78 | 83 | 58 |\n\n",
            "text/latex": "A data.frame: 14 × 5\n\\begin{tabular}{lllll}\n id & class & math & english & science\\\\\n <int> & <int> & <int> & <int> & <int>\\\\\n\\hline\n\t  1 & 1 & 50 & 98 & 50\\\\\n\t  2 & 1 & 60 & 97 & 60\\\\\n\t  3 & 1 & 45 & 86 & 78\\\\\n\t  4 & 1 & 30 & 98 & 58\\\\\n\t  5 & 2 & 25 & 80 & 65\\\\\n\t  6 & 2 & 50 & 89 & 98\\\\\n\t  7 & 2 & 80 & 90 & 45\\\\\n\t  9 & 3 & 20 & 98 & 15\\\\\n\t 10 & 3 & 50 & 98 & 45\\\\\n\t 12 & 3 & 45 & 85 & 32\\\\\n\t 13 & 4 & 46 & 98 & 65\\\\\n\t 14 & 4 & 48 & 87 & 12\\\\\n\t 16 & 4 & 58 & 98 & 65\\\\\n\t 20 & 5 & 78 & 83 & 58\\\\\n\\end{tabular}\n",
            "text/plain": [
              "   id class math english science\n",
              "1   1 1     50   98      50     \n",
              "2   2 1     60   97      60     \n",
              "3   3 1     45   86      78     \n",
              "4   4 1     30   98      58     \n",
              "5   5 2     25   80      65     \n",
              "6   6 2     50   89      98     \n",
              "7   7 2     80   90      45     \n",
              "8   9 3     20   98      15     \n",
              "9  10 3     50   98      45     \n",
              "10 12 3     45   85      32     \n",
              "11 13 4     46   98      65     \n",
              "12 14 4     48   87      12     \n",
              "13 16 4     58   98      65     \n",
              "14 20 5     78   83      58     "
            ]
          },
          "metadata": {}
        }
      ]
    },
    {
      "cell_type": "markdown",
      "source": [
        "## 여러 조건을 충족하는 행 추출"
      ],
      "metadata": {
        "id": "CDOawjTH-8tv"
      }
    },
    {
      "cell_type": "code",
      "source": [
        "# class가 1이면서 math가 50이상인 경우\n",
        "exam %>% filter(class == 1 & math >= 50)"
      ],
      "metadata": {
        "colab": {
          "base_uri": "https://localhost:8080/",
          "height": 161
        },
        "id": "73qbE9lm-j5H",
        "outputId": "4de92075-659f-45ed-b2cb-b566fbf918f8"
      },
      "execution_count": null,
      "outputs": [
        {
          "output_type": "display_data",
          "data": {
            "text/html": [
              "<table class=\"dataframe\">\n",
              "<caption>A data.frame: 2 × 5</caption>\n",
              "<thead>\n",
              "\t<tr><th scope=col>id</th><th scope=col>class</th><th scope=col>math</th><th scope=col>english</th><th scope=col>science</th></tr>\n",
              "\t<tr><th scope=col>&lt;int&gt;</th><th scope=col>&lt;int&gt;</th><th scope=col>&lt;int&gt;</th><th scope=col>&lt;int&gt;</th><th scope=col>&lt;int&gt;</th></tr>\n",
              "</thead>\n",
              "<tbody>\n",
              "\t<tr><td>1</td><td>1</td><td>50</td><td>98</td><td>50</td></tr>\n",
              "\t<tr><td>2</td><td>1</td><td>60</td><td>97</td><td>60</td></tr>\n",
              "</tbody>\n",
              "</table>\n"
            ],
            "text/markdown": "\nA data.frame: 2 × 5\n\n| id &lt;int&gt; | class &lt;int&gt; | math &lt;int&gt; | english &lt;int&gt; | science &lt;int&gt; |\n|---|---|---|---|---|\n| 1 | 1 | 50 | 98 | 50 |\n| 2 | 1 | 60 | 97 | 60 |\n\n",
            "text/latex": "A data.frame: 2 × 5\n\\begin{tabular}{lllll}\n id & class & math & english & science\\\\\n <int> & <int> & <int> & <int> & <int>\\\\\n\\hline\n\t 1 & 1 & 50 & 98 & 50\\\\\n\t 2 & 1 & 60 & 97 & 60\\\\\n\\end{tabular}\n",
            "text/plain": [
              "  id class math english science\n",
              "1 1  1     50   98      50     \n",
              "2 2  1     60   97      60     "
            ]
          },
          "metadata": {}
        }
      ]
    },
    {
      "cell_type": "markdown",
      "source": [
        "## 여러 조건 중 하나 이상 충족하는 행 추출"
      ],
      "metadata": {
        "id": "90x7Mg_1_GqW"
      }
    },
    {
      "cell_type": "code",
      "source": [
        "# math가 90이상이거나 english가 90이상인 경우\n",
        "exam %>% filter(math >= 90 | english >= 90)"
      ],
      "metadata": {
        "colab": {
          "base_uri": "https://localhost:8080/",
          "height": 380
        },
        "id": "jHQKI556-1_K",
        "outputId": "5f6f8fbb-cf5a-48cc-f63f-95b17f26418d"
      },
      "execution_count": null,
      "outputs": [
        {
          "output_type": "display_data",
          "data": {
            "text/html": [
              "<table class=\"dataframe\">\n",
              "<caption>A data.frame: 9 × 5</caption>\n",
              "<thead>\n",
              "\t<tr><th scope=col>id</th><th scope=col>class</th><th scope=col>math</th><th scope=col>english</th><th scope=col>science</th></tr>\n",
              "\t<tr><th scope=col>&lt;int&gt;</th><th scope=col>&lt;int&gt;</th><th scope=col>&lt;int&gt;</th><th scope=col>&lt;int&gt;</th><th scope=col>&lt;int&gt;</th></tr>\n",
              "</thead>\n",
              "<tbody>\n",
              "\t<tr><td> 1</td><td>1</td><td>50</td><td>98</td><td>50</td></tr>\n",
              "\t<tr><td> 2</td><td>1</td><td>60</td><td>97</td><td>60</td></tr>\n",
              "\t<tr><td> 4</td><td>1</td><td>30</td><td>98</td><td>58</td></tr>\n",
              "\t<tr><td> 7</td><td>2</td><td>80</td><td>90</td><td>45</td></tr>\n",
              "\t<tr><td> 8</td><td>2</td><td>90</td><td>78</td><td>25</td></tr>\n",
              "\t<tr><td> 9</td><td>3</td><td>20</td><td>98</td><td>15</td></tr>\n",
              "\t<tr><td>10</td><td>3</td><td>50</td><td>98</td><td>45</td></tr>\n",
              "\t<tr><td>13</td><td>4</td><td>46</td><td>98</td><td>65</td></tr>\n",
              "\t<tr><td>16</td><td>4</td><td>58</td><td>98</td><td>65</td></tr>\n",
              "</tbody>\n",
              "</table>\n"
            ],
            "text/markdown": "\nA data.frame: 9 × 5\n\n| id &lt;int&gt; | class &lt;int&gt; | math &lt;int&gt; | english &lt;int&gt; | science &lt;int&gt; |\n|---|---|---|---|---|\n|  1 | 1 | 50 | 98 | 50 |\n|  2 | 1 | 60 | 97 | 60 |\n|  4 | 1 | 30 | 98 | 58 |\n|  7 | 2 | 80 | 90 | 45 |\n|  8 | 2 | 90 | 78 | 25 |\n|  9 | 3 | 20 | 98 | 15 |\n| 10 | 3 | 50 | 98 | 45 |\n| 13 | 4 | 46 | 98 | 65 |\n| 16 | 4 | 58 | 98 | 65 |\n\n",
            "text/latex": "A data.frame: 9 × 5\n\\begin{tabular}{lllll}\n id & class & math & english & science\\\\\n <int> & <int> & <int> & <int> & <int>\\\\\n\\hline\n\t  1 & 1 & 50 & 98 & 50\\\\\n\t  2 & 1 & 60 & 97 & 60\\\\\n\t  4 & 1 & 30 & 98 & 58\\\\\n\t  7 & 2 & 80 & 90 & 45\\\\\n\t  8 & 2 & 90 & 78 & 25\\\\\n\t  9 & 3 & 20 & 98 & 15\\\\\n\t 10 & 3 & 50 & 98 & 45\\\\\n\t 13 & 4 & 46 & 98 & 65\\\\\n\t 16 & 4 & 58 & 98 & 65\\\\\n\\end{tabular}\n",
            "text/plain": [
              "  id class math english science\n",
              "1  1 1     50   98      50     \n",
              "2  2 1     60   97      60     \n",
              "3  4 1     30   98      58     \n",
              "4  7 2     80   90      45     \n",
              "5  8 2     90   78      25     \n",
              "6  9 3     20   98      15     \n",
              "7 10 3     50   98      45     \n",
              "8 13 4     46   98      65     \n",
              "9 16 4     58   98      65     "
            ]
          },
          "metadata": {}
        }
      ]
    },
    {
      "cell_type": "markdown",
      "source": [
        "## 목록에 해당되는 행 추출"
      ],
      "metadata": {
        "id": "Cpol9pEW_fMl"
      }
    },
    {
      "cell_type": "code",
      "source": [
        "# class가 1, 3, 5에 해당하면 추출\n",
        "exam %>% filter(class == 1 | class == 3 | class == 5)"
      ],
      "metadata": {
        "colab": {
          "base_uri": "https://localhost:8080/",
          "height": 474
        },
        "id": "fBeYHJ2j_RBs",
        "outputId": "c761b921-8721-4ca4-a975-3dd01ee13bd3"
      },
      "execution_count": null,
      "outputs": [
        {
          "output_type": "display_data",
          "data": {
            "text/html": [
              "<table class=\"dataframe\">\n",
              "<caption>A data.frame: 12 × 5</caption>\n",
              "<thead>\n",
              "\t<tr><th scope=col>id</th><th scope=col>class</th><th scope=col>math</th><th scope=col>english</th><th scope=col>science</th></tr>\n",
              "\t<tr><th scope=col>&lt;int&gt;</th><th scope=col>&lt;int&gt;</th><th scope=col>&lt;int&gt;</th><th scope=col>&lt;int&gt;</th><th scope=col>&lt;int&gt;</th></tr>\n",
              "</thead>\n",
              "<tbody>\n",
              "\t<tr><td> 1</td><td>1</td><td>50</td><td>98</td><td>50</td></tr>\n",
              "\t<tr><td> 2</td><td>1</td><td>60</td><td>97</td><td>60</td></tr>\n",
              "\t<tr><td> 3</td><td>1</td><td>45</td><td>86</td><td>78</td></tr>\n",
              "\t<tr><td> 4</td><td>1</td><td>30</td><td>98</td><td>58</td></tr>\n",
              "\t<tr><td> 9</td><td>3</td><td>20</td><td>98</td><td>15</td></tr>\n",
              "\t<tr><td>10</td><td>3</td><td>50</td><td>98</td><td>45</td></tr>\n",
              "\t<tr><td>11</td><td>3</td><td>65</td><td>65</td><td>65</td></tr>\n",
              "\t<tr><td>12</td><td>3</td><td>45</td><td>85</td><td>32</td></tr>\n",
              "\t<tr><td>17</td><td>5</td><td>65</td><td>68</td><td>98</td></tr>\n",
              "\t<tr><td>18</td><td>5</td><td>80</td><td>78</td><td>90</td></tr>\n",
              "\t<tr><td>19</td><td>5</td><td>89</td><td>68</td><td>87</td></tr>\n",
              "\t<tr><td>20</td><td>5</td><td>78</td><td>83</td><td>58</td></tr>\n",
              "</tbody>\n",
              "</table>\n"
            ],
            "text/markdown": "\nA data.frame: 12 × 5\n\n| id &lt;int&gt; | class &lt;int&gt; | math &lt;int&gt; | english &lt;int&gt; | science &lt;int&gt; |\n|---|---|---|---|---|\n|  1 | 1 | 50 | 98 | 50 |\n|  2 | 1 | 60 | 97 | 60 |\n|  3 | 1 | 45 | 86 | 78 |\n|  4 | 1 | 30 | 98 | 58 |\n|  9 | 3 | 20 | 98 | 15 |\n| 10 | 3 | 50 | 98 | 45 |\n| 11 | 3 | 65 | 65 | 65 |\n| 12 | 3 | 45 | 85 | 32 |\n| 17 | 5 | 65 | 68 | 98 |\n| 18 | 5 | 80 | 78 | 90 |\n| 19 | 5 | 89 | 68 | 87 |\n| 20 | 5 | 78 | 83 | 58 |\n\n",
            "text/latex": "A data.frame: 12 × 5\n\\begin{tabular}{lllll}\n id & class & math & english & science\\\\\n <int> & <int> & <int> & <int> & <int>\\\\\n\\hline\n\t  1 & 1 & 50 & 98 & 50\\\\\n\t  2 & 1 & 60 & 97 & 60\\\\\n\t  3 & 1 & 45 & 86 & 78\\\\\n\t  4 & 1 & 30 & 98 & 58\\\\\n\t  9 & 3 & 20 & 98 & 15\\\\\n\t 10 & 3 & 50 & 98 & 45\\\\\n\t 11 & 3 & 65 & 65 & 65\\\\\n\t 12 & 3 & 45 & 85 & 32\\\\\n\t 17 & 5 & 65 & 68 & 98\\\\\n\t 18 & 5 & 80 & 78 & 90\\\\\n\t 19 & 5 & 89 & 68 & 87\\\\\n\t 20 & 5 & 78 & 83 & 58\\\\\n\\end{tabular}\n",
            "text/plain": [
              "   id class math english science\n",
              "1   1 1     50   98      50     \n",
              "2   2 1     60   97      60     \n",
              "3   3 1     45   86      78     \n",
              "4   4 1     30   98      58     \n",
              "5   9 3     20   98      15     \n",
              "6  10 3     50   98      45     \n",
              "7  11 3     65   65      65     \n",
              "8  12 3     45   85      32     \n",
              "9  17 5     65   68      98     \n",
              "10 18 5     80   78      90     \n",
              "11 19 5     89   68      87     \n",
              "12 20 5     78   83      58     "
            ]
          },
          "metadata": {}
        }
      ]
    },
    {
      "cell_type": "code",
      "source": [
        "# %in% 이용하기\n",
        "# %in% : 매치 연산자(Matching Operator). 변수의 값이 지정한 조건 목록에 해당되는지 확인하는 기능\n",
        "exam %>% filter(class %in% c(1, 3, 5))"
      ],
      "metadata": {
        "colab": {
          "base_uri": "https://localhost:8080/",
          "height": 474
        },
        "id": "v-3sQNiQ_veP",
        "outputId": "e4744baa-98f6-45d6-d631-bdbf3765ca74"
      },
      "execution_count": null,
      "outputs": [
        {
          "output_type": "display_data",
          "data": {
            "text/html": [
              "<table class=\"dataframe\">\n",
              "<caption>A data.frame: 12 × 5</caption>\n",
              "<thead>\n",
              "\t<tr><th scope=col>id</th><th scope=col>class</th><th scope=col>math</th><th scope=col>english</th><th scope=col>science</th></tr>\n",
              "\t<tr><th scope=col>&lt;int&gt;</th><th scope=col>&lt;int&gt;</th><th scope=col>&lt;int&gt;</th><th scope=col>&lt;int&gt;</th><th scope=col>&lt;int&gt;</th></tr>\n",
              "</thead>\n",
              "<tbody>\n",
              "\t<tr><td> 1</td><td>1</td><td>50</td><td>98</td><td>50</td></tr>\n",
              "\t<tr><td> 2</td><td>1</td><td>60</td><td>97</td><td>60</td></tr>\n",
              "\t<tr><td> 3</td><td>1</td><td>45</td><td>86</td><td>78</td></tr>\n",
              "\t<tr><td> 4</td><td>1</td><td>30</td><td>98</td><td>58</td></tr>\n",
              "\t<tr><td> 9</td><td>3</td><td>20</td><td>98</td><td>15</td></tr>\n",
              "\t<tr><td>10</td><td>3</td><td>50</td><td>98</td><td>45</td></tr>\n",
              "\t<tr><td>11</td><td>3</td><td>65</td><td>65</td><td>65</td></tr>\n",
              "\t<tr><td>12</td><td>3</td><td>45</td><td>85</td><td>32</td></tr>\n",
              "\t<tr><td>17</td><td>5</td><td>65</td><td>68</td><td>98</td></tr>\n",
              "\t<tr><td>18</td><td>5</td><td>80</td><td>78</td><td>90</td></tr>\n",
              "\t<tr><td>19</td><td>5</td><td>89</td><td>68</td><td>87</td></tr>\n",
              "\t<tr><td>20</td><td>5</td><td>78</td><td>83</td><td>58</td></tr>\n",
              "</tbody>\n",
              "</table>\n"
            ],
            "text/markdown": "\nA data.frame: 12 × 5\n\n| id &lt;int&gt; | class &lt;int&gt; | math &lt;int&gt; | english &lt;int&gt; | science &lt;int&gt; |\n|---|---|---|---|---|\n|  1 | 1 | 50 | 98 | 50 |\n|  2 | 1 | 60 | 97 | 60 |\n|  3 | 1 | 45 | 86 | 78 |\n|  4 | 1 | 30 | 98 | 58 |\n|  9 | 3 | 20 | 98 | 15 |\n| 10 | 3 | 50 | 98 | 45 |\n| 11 | 3 | 65 | 65 | 65 |\n| 12 | 3 | 45 | 85 | 32 |\n| 17 | 5 | 65 | 68 | 98 |\n| 18 | 5 | 80 | 78 | 90 |\n| 19 | 5 | 89 | 68 | 87 |\n| 20 | 5 | 78 | 83 | 58 |\n\n",
            "text/latex": "A data.frame: 12 × 5\n\\begin{tabular}{lllll}\n id & class & math & english & science\\\\\n <int> & <int> & <int> & <int> & <int>\\\\\n\\hline\n\t  1 & 1 & 50 & 98 & 50\\\\\n\t  2 & 1 & 60 & 97 & 60\\\\\n\t  3 & 1 & 45 & 86 & 78\\\\\n\t  4 & 1 & 30 & 98 & 58\\\\\n\t  9 & 3 & 20 & 98 & 15\\\\\n\t 10 & 3 & 50 & 98 & 45\\\\\n\t 11 & 3 & 65 & 65 & 65\\\\\n\t 12 & 3 & 45 & 85 & 32\\\\\n\t 17 & 5 & 65 & 68 & 98\\\\\n\t 18 & 5 & 80 & 78 & 90\\\\\n\t 19 & 5 & 89 & 68 & 87\\\\\n\t 20 & 5 & 78 & 83 & 58\\\\\n\\end{tabular}\n",
            "text/plain": [
              "   id class math english science\n",
              "1   1 1     50   98      50     \n",
              "2   2 1     60   97      60     \n",
              "3   3 1     45   86      78     \n",
              "4   4 1     30   98      58     \n",
              "5   9 3     20   98      15     \n",
              "6  10 3     50   98      45     \n",
              "7  11 3     65   65      65     \n",
              "8  12 3     45   85      32     \n",
              "9  17 5     65   68      98     \n",
              "10 18 5     80   78      90     \n",
              "11 19 5     89   68      87     \n",
              "12 20 5     78   83      58     "
            ]
          },
          "metadata": {}
        }
      ]
    },
    {
      "cell_type": "markdown",
      "source": [
        "## 추출한 행으로 데이터 만들기"
      ],
      "metadata": {
        "id": "CJ8yXvmeAPj2"
      }
    },
    {
      "cell_type": "code",
      "source": [
        "# class가 1인 행 추출, class1에 할당\n",
        "class1 <- exam %>% filter(class == 1)\n",
        "print(class1)"
      ],
      "metadata": {
        "colab": {
          "base_uri": "https://localhost:8080/"
        },
        "id": "BHnIB-iKAHd0",
        "outputId": "b0ed3b30-6c07-41ee-cb03-bd83611a5740"
      },
      "execution_count": null,
      "outputs": [
        {
          "output_type": "stream",
          "name": "stdout",
          "text": [
            "  id class math english science\n",
            "1  1     1   50      98      50\n",
            "2  2     1   60      97      60\n",
            "3  3     1   45      86      78\n",
            "4  4     1   30      98      58\n"
          ]
        }
      ]
    },
    {
      "cell_type": "code",
      "source": [
        "# class가 1인 행의 math 평균 구하기\n",
        "mean(class1$math)"
      ],
      "metadata": {
        "colab": {
          "base_uri": "https://localhost:8080/",
          "height": 34
        },
        "id": "guvrYysiAVVw",
        "outputId": "c7bc79b6-b00c-4ec9-caf1-81664c45daf9"
      },
      "execution_count": null,
      "outputs": [
        {
          "output_type": "display_data",
          "data": {
            "text/html": [
              "46.25"
            ],
            "text/markdown": "46.25",
            "text/latex": "46.25",
            "text/plain": [
              "[1] 46.25"
            ]
          },
          "metadata": {}
        }
      ]
    },
    {
      "cell_type": "markdown",
      "source": [
        "## mpg 데이터 분석 연습\n",
        "\n",
        "*분석계획* : <br>\n",
        "1. 자동차 배기량에 따라 고속도로 연비가 다른지 알아보려고 함. displ(배기량)이 4이하인 자동차와 5이상인 자동차 중 어떤 자동차의 hwy(고속도로 연비)까 평균적으로 더 높은지 분석<br>\n",
        "2. 자동차 제조사 별로 도시 연비가 다른지 알아보려고 함. audi와 toyota 중 어느 manufacturer(제조사)의 cty(도시 연비)가 평균적으로 더 높은지 분석 <br>\n",
        "3. chevrolet, ford, honda 자동차의 고속도로 연비 평균을 알아보려고 함. 이 회사들의 데이터를 추출한 후 hwy 전체 평균을 분석 "
      ],
      "metadata": {
        "id": "R8TZPkAgAiFQ"
      }
    },
    {
      "cell_type": "code",
      "source": [
        "# mpg 데이터 불러오기\n",
        "mpg <- as.data.frame(ggplot2::mpg)"
      ],
      "metadata": {
        "id": "yVEKOq1SAd47"
      },
      "execution_count": null,
      "outputs": []
    },
    {
      "cell_type": "code",
      "source": [
        "head(mpg)"
      ],
      "metadata": {
        "colab": {
          "base_uri": "https://localhost:8080/",
          "height": 286
        },
        "id": "QcXVDzHZBDSw",
        "outputId": "45aee407-e202-4815-9282-ec556db22d29"
      },
      "execution_count": null,
      "outputs": [
        {
          "output_type": "display_data",
          "data": {
            "text/html": [
              "<table class=\"dataframe\">\n",
              "<caption>A data.frame: 6 × 11</caption>\n",
              "<thead>\n",
              "\t<tr><th></th><th scope=col>manufacturer</th><th scope=col>model</th><th scope=col>displ</th><th scope=col>year</th><th scope=col>cyl</th><th scope=col>trans</th><th scope=col>drv</th><th scope=col>cty</th><th scope=col>hwy</th><th scope=col>fl</th><th scope=col>class</th></tr>\n",
              "\t<tr><th></th><th scope=col>&lt;chr&gt;</th><th scope=col>&lt;chr&gt;</th><th scope=col>&lt;dbl&gt;</th><th scope=col>&lt;int&gt;</th><th scope=col>&lt;int&gt;</th><th scope=col>&lt;chr&gt;</th><th scope=col>&lt;chr&gt;</th><th scope=col>&lt;int&gt;</th><th scope=col>&lt;int&gt;</th><th scope=col>&lt;chr&gt;</th><th scope=col>&lt;chr&gt;</th></tr>\n",
              "</thead>\n",
              "<tbody>\n",
              "\t<tr><th scope=row>1</th><td>audi</td><td>a4</td><td>1.8</td><td>1999</td><td>4</td><td>auto(l5)  </td><td>f</td><td>18</td><td>29</td><td>p</td><td>compact</td></tr>\n",
              "\t<tr><th scope=row>2</th><td>audi</td><td>a4</td><td>1.8</td><td>1999</td><td>4</td><td>manual(m5)</td><td>f</td><td>21</td><td>29</td><td>p</td><td>compact</td></tr>\n",
              "\t<tr><th scope=row>3</th><td>audi</td><td>a4</td><td>2.0</td><td>2008</td><td>4</td><td>manual(m6)</td><td>f</td><td>20</td><td>31</td><td>p</td><td>compact</td></tr>\n",
              "\t<tr><th scope=row>4</th><td>audi</td><td>a4</td><td>2.0</td><td>2008</td><td>4</td><td>auto(av)  </td><td>f</td><td>21</td><td>30</td><td>p</td><td>compact</td></tr>\n",
              "\t<tr><th scope=row>5</th><td>audi</td><td>a4</td><td>2.8</td><td>1999</td><td>6</td><td>auto(l5)  </td><td>f</td><td>16</td><td>26</td><td>p</td><td>compact</td></tr>\n",
              "\t<tr><th scope=row>6</th><td>audi</td><td>a4</td><td>2.8</td><td>1999</td><td>6</td><td>manual(m5)</td><td>f</td><td>18</td><td>26</td><td>p</td><td>compact</td></tr>\n",
              "</tbody>\n",
              "</table>\n"
            ],
            "text/markdown": "\nA data.frame: 6 × 11\n\n| <!--/--> | manufacturer &lt;chr&gt; | model &lt;chr&gt; | displ &lt;dbl&gt; | year &lt;int&gt; | cyl &lt;int&gt; | trans &lt;chr&gt; | drv &lt;chr&gt; | cty &lt;int&gt; | hwy &lt;int&gt; | fl &lt;chr&gt; | class &lt;chr&gt; |\n|---|---|---|---|---|---|---|---|---|---|---|---|\n| 1 | audi | a4 | 1.8 | 1999 | 4 | auto(l5)   | f | 18 | 29 | p | compact |\n| 2 | audi | a4 | 1.8 | 1999 | 4 | manual(m5) | f | 21 | 29 | p | compact |\n| 3 | audi | a4 | 2.0 | 2008 | 4 | manual(m6) | f | 20 | 31 | p | compact |\n| 4 | audi | a4 | 2.0 | 2008 | 4 | auto(av)   | f | 21 | 30 | p | compact |\n| 5 | audi | a4 | 2.8 | 1999 | 6 | auto(l5)   | f | 16 | 26 | p | compact |\n| 6 | audi | a4 | 2.8 | 1999 | 6 | manual(m5) | f | 18 | 26 | p | compact |\n\n",
            "text/latex": "A data.frame: 6 × 11\n\\begin{tabular}{r|lllllllllll}\n  & manufacturer & model & displ & year & cyl & trans & drv & cty & hwy & fl & class\\\\\n  & <chr> & <chr> & <dbl> & <int> & <int> & <chr> & <chr> & <int> & <int> & <chr> & <chr>\\\\\n\\hline\n\t1 & audi & a4 & 1.8 & 1999 & 4 & auto(l5)   & f & 18 & 29 & p & compact\\\\\n\t2 & audi & a4 & 1.8 & 1999 & 4 & manual(m5) & f & 21 & 29 & p & compact\\\\\n\t3 & audi & a4 & 2.0 & 2008 & 4 & manual(m6) & f & 20 & 31 & p & compact\\\\\n\t4 & audi & a4 & 2.0 & 2008 & 4 & auto(av)   & f & 21 & 30 & p & compact\\\\\n\t5 & audi & a4 & 2.8 & 1999 & 6 & auto(l5)   & f & 16 & 26 & p & compact\\\\\n\t6 & audi & a4 & 2.8 & 1999 & 6 & manual(m5) & f & 18 & 26 & p & compact\\\\\n\\end{tabular}\n",
            "text/plain": [
              "  manufacturer model displ year cyl trans      drv cty hwy fl class  \n",
              "1 audi         a4    1.8   1999 4   auto(l5)   f   18  29  p  compact\n",
              "2 audi         a4    1.8   1999 4   manual(m5) f   21  29  p  compact\n",
              "3 audi         a4    2.0   2008 4   manual(m6) f   20  31  p  compact\n",
              "4 audi         a4    2.0   2008 4   auto(av)   f   21  30  p  compact\n",
              "5 audi         a4    2.8   1999 6   auto(l5)   f   16  26  p  compact\n",
              "6 audi         a4    2.8   1999 6   manual(m5) f   18  26  p  compact"
            ]
          },
          "metadata": {}
        }
      ]
    },
    {
      "cell_type": "code",
      "source": [
        "# 1. 자동차 배기량에 따라 고속도로 연비가 다른지 알아보려고 함. displ(배기량)이 4이하인 자동차와 5이상인 자동차 중 어떤 자동차의 hwy(고속도로 연비)까 평균적으로 더 높은지 분석\n",
        "mpg1 <- mpg %>% filter(displ <= 4)\n",
        "mpg2 <- mpg %>% filter(displ >= 5)"
      ],
      "metadata": {
        "id": "mGZ2aj0PBECN"
      },
      "execution_count": null,
      "outputs": []
    },
    {
      "cell_type": "code",
      "source": [
        "# displ 4이하인 hwy 평균\n",
        "mean(mpg1$hwy)\n",
        "\n",
        "# displ 5이상 hwy 평균\n",
        "mean(mpg2$hwy)"
      ],
      "metadata": {
        "colab": {
          "base_uri": "https://localhost:8080/",
          "height": 52
        },
        "id": "ogn10S57B65V",
        "outputId": "b66e35a3-2de9-49ae-8c22-442a19bf66d2"
      },
      "execution_count": null,
      "outputs": [
        {
          "output_type": "display_data",
          "data": {
            "text/html": [
              "25.9631901840491"
            ],
            "text/markdown": "25.9631901840491",
            "text/latex": "25.9631901840491",
            "text/plain": [
              "[1] 25.96319"
            ]
          },
          "metadata": {}
        },
        {
          "output_type": "display_data",
          "data": {
            "text/html": [
              "18.0789473684211"
            ],
            "text/markdown": "18.0789473684211",
            "text/latex": "18.0789473684211",
            "text/plain": [
              "[1] 18.07895"
            ]
          },
          "metadata": {}
        }
      ]
    },
    {
      "cell_type": "code",
      "source": [
        "# 2. 자동차 제조사 별로 도시 연비가 다른지 알아보려고 함. audi와 toyota 중 어느 manufacturer(제조사)의 cty(도시 연비)가 평균적으로 더 높은지 분석\n",
        "mpg_audi <- mpg %>% filter(manufacturer == \"audi\")\n",
        "mpg_toyota <- mpg %>% filter(manufacturer == \"toyota\")\n",
        "\n",
        "# audi의 평균 cty\n",
        "mean(mpg_audi$cty)\n",
        "\n",
        "# toyota의 평균 cty\n",
        "mean(mpg_toyota$cty)"
      ],
      "metadata": {
        "colab": {
          "base_uri": "https://localhost:8080/",
          "height": 52
        },
        "id": "-UjdP1HXBHjV",
        "outputId": "12182aa9-bf0e-43de-e5a9-c0b5e05f5b49"
      },
      "execution_count": null,
      "outputs": [
        {
          "output_type": "display_data",
          "data": {
            "text/html": [
              "17.6111111111111"
            ],
            "text/markdown": "17.6111111111111",
            "text/latex": "17.6111111111111",
            "text/plain": [
              "[1] 17.61111"
            ]
          },
          "metadata": {}
        },
        {
          "output_type": "display_data",
          "data": {
            "text/html": [
              "18.5294117647059"
            ],
            "text/markdown": "18.5294117647059",
            "text/latex": "18.5294117647059",
            "text/plain": [
              "[1] 18.52941"
            ]
          },
          "metadata": {}
        }
      ]
    },
    {
      "cell_type": "code",
      "source": [
        "# 3. chevrolet, ford, honda 자동차의 고속도로 연비 평균을 알아보려고 함. 이 회사들의 데이터를 추출한 후 hwy 전체 평균을 분석\n",
        "mpg_cfh <- mpg %>% filter(manufacturer %in% c(\"chevrolet\", \"ford\", \"honda\"))\n",
        "\n",
        "mean(mpg_cfh$hwy)"
      ],
      "metadata": {
        "colab": {
          "base_uri": "https://localhost:8080/",
          "height": 34
        },
        "id": "7SGgTATZBKVP",
        "outputId": "f94e1aa8-0758-46e8-ce5f-3d31f9dfb76b"
      },
      "execution_count": null,
      "outputs": [
        {
          "output_type": "display_data",
          "data": {
            "text/html": [
              "22.5094339622642"
            ],
            "text/markdown": "22.5094339622642",
            "text/latex": "22.5094339622642",
            "text/plain": [
              "[1] 22.50943"
            ]
          },
          "metadata": {}
        }
      ]
    },
    {
      "cell_type": "markdown",
      "source": [
        "# 필요한 변수만 추출하기"
      ],
      "metadata": {
        "id": "2_SiX-a1efYp"
      }
    },
    {
      "cell_type": "code",
      "source": [
        "# exam 데이터에서 math 추출\n",
        "exam %>% select(math)"
      ],
      "metadata": {
        "id": "_V5eAGe2C1yw",
        "colab": {
          "base_uri": "https://localhost:8080/",
          "height": 760
        },
        "outputId": "15368487-9641-4bcd-8d9b-302ee8de5c95"
      },
      "execution_count": 4,
      "outputs": [
        {
          "output_type": "display_data",
          "data": {
            "text/html": [
              "<table class=\"dataframe\">\n",
              "<caption>A data.frame: 20 × 1</caption>\n",
              "<thead>\n",
              "\t<tr><th scope=col>math</th></tr>\n",
              "\t<tr><th scope=col>&lt;int&gt;</th></tr>\n",
              "</thead>\n",
              "<tbody>\n",
              "\t<tr><td>50</td></tr>\n",
              "\t<tr><td>60</td></tr>\n",
              "\t<tr><td>45</td></tr>\n",
              "\t<tr><td>30</td></tr>\n",
              "\t<tr><td>25</td></tr>\n",
              "\t<tr><td>50</td></tr>\n",
              "\t<tr><td>80</td></tr>\n",
              "\t<tr><td>90</td></tr>\n",
              "\t<tr><td>20</td></tr>\n",
              "\t<tr><td>50</td></tr>\n",
              "\t<tr><td>65</td></tr>\n",
              "\t<tr><td>45</td></tr>\n",
              "\t<tr><td>46</td></tr>\n",
              "\t<tr><td>48</td></tr>\n",
              "\t<tr><td>75</td></tr>\n",
              "\t<tr><td>58</td></tr>\n",
              "\t<tr><td>65</td></tr>\n",
              "\t<tr><td>80</td></tr>\n",
              "\t<tr><td>89</td></tr>\n",
              "\t<tr><td>78</td></tr>\n",
              "</tbody>\n",
              "</table>\n"
            ],
            "text/markdown": "\nA data.frame: 20 × 1\n\n| math &lt;int&gt; |\n|---|\n| 50 |\n| 60 |\n| 45 |\n| 30 |\n| 25 |\n| 50 |\n| 80 |\n| 90 |\n| 20 |\n| 50 |\n| 65 |\n| 45 |\n| 46 |\n| 48 |\n| 75 |\n| 58 |\n| 65 |\n| 80 |\n| 89 |\n| 78 |\n\n",
            "text/latex": "A data.frame: 20 × 1\n\\begin{tabular}{l}\n math\\\\\n <int>\\\\\n\\hline\n\t 50\\\\\n\t 60\\\\\n\t 45\\\\\n\t 30\\\\\n\t 25\\\\\n\t 50\\\\\n\t 80\\\\\n\t 90\\\\\n\t 20\\\\\n\t 50\\\\\n\t 65\\\\\n\t 45\\\\\n\t 46\\\\\n\t 48\\\\\n\t 75\\\\\n\t 58\\\\\n\t 65\\\\\n\t 80\\\\\n\t 89\\\\\n\t 78\\\\\n\\end{tabular}\n",
            "text/plain": [
              "   math\n",
              "1  50  \n",
              "2  60  \n",
              "3  45  \n",
              "4  30  \n",
              "5  25  \n",
              "6  50  \n",
              "7  80  \n",
              "8  90  \n",
              "9  20  \n",
              "10 50  \n",
              "11 65  \n",
              "12 45  \n",
              "13 46  \n",
              "14 48  \n",
              "15 75  \n",
              "16 58  \n",
              "17 65  \n",
              "18 80  \n",
              "19 89  \n",
              "20 78  "
            ]
          },
          "metadata": {}
        }
      ]
    },
    {
      "cell_type": "markdown",
      "source": [
        "## 여러 변수 추출"
      ],
      "metadata": {
        "id": "gAQpz_izfEvN"
      }
    },
    {
      "cell_type": "code",
      "source": [
        "# class, math, english 변수 추출\n",
        "exam %>% select(class, math, english)"
      ],
      "metadata": {
        "colab": {
          "base_uri": "https://localhost:8080/",
          "height": 725
        },
        "id": "OhdX6gfte0uc",
        "outputId": "3a816450-5b4f-43cc-e27d-cce7575b4f1d"
      },
      "execution_count": 5,
      "outputs": [
        {
          "output_type": "display_data",
          "data": {
            "text/html": [
              "<table class=\"dataframe\">\n",
              "<caption>A data.frame: 20 × 3</caption>\n",
              "<thead>\n",
              "\t<tr><th scope=col>class</th><th scope=col>math</th><th scope=col>english</th></tr>\n",
              "\t<tr><th scope=col>&lt;int&gt;</th><th scope=col>&lt;int&gt;</th><th scope=col>&lt;int&gt;</th></tr>\n",
              "</thead>\n",
              "<tbody>\n",
              "\t<tr><td>1</td><td>50</td><td>98</td></tr>\n",
              "\t<tr><td>1</td><td>60</td><td>97</td></tr>\n",
              "\t<tr><td>1</td><td>45</td><td>86</td></tr>\n",
              "\t<tr><td>1</td><td>30</td><td>98</td></tr>\n",
              "\t<tr><td>2</td><td>25</td><td>80</td></tr>\n",
              "\t<tr><td>2</td><td>50</td><td>89</td></tr>\n",
              "\t<tr><td>2</td><td>80</td><td>90</td></tr>\n",
              "\t<tr><td>2</td><td>90</td><td>78</td></tr>\n",
              "\t<tr><td>3</td><td>20</td><td>98</td></tr>\n",
              "\t<tr><td>3</td><td>50</td><td>98</td></tr>\n",
              "\t<tr><td>3</td><td>65</td><td>65</td></tr>\n",
              "\t<tr><td>3</td><td>45</td><td>85</td></tr>\n",
              "\t<tr><td>4</td><td>46</td><td>98</td></tr>\n",
              "\t<tr><td>4</td><td>48</td><td>87</td></tr>\n",
              "\t<tr><td>4</td><td>75</td><td>56</td></tr>\n",
              "\t<tr><td>4</td><td>58</td><td>98</td></tr>\n",
              "\t<tr><td>5</td><td>65</td><td>68</td></tr>\n",
              "\t<tr><td>5</td><td>80</td><td>78</td></tr>\n",
              "\t<tr><td>5</td><td>89</td><td>68</td></tr>\n",
              "\t<tr><td>5</td><td>78</td><td>83</td></tr>\n",
              "</tbody>\n",
              "</table>\n"
            ],
            "text/markdown": "\nA data.frame: 20 × 3\n\n| class &lt;int&gt; | math &lt;int&gt; | english &lt;int&gt; |\n|---|---|---|\n| 1 | 50 | 98 |\n| 1 | 60 | 97 |\n| 1 | 45 | 86 |\n| 1 | 30 | 98 |\n| 2 | 25 | 80 |\n| 2 | 50 | 89 |\n| 2 | 80 | 90 |\n| 2 | 90 | 78 |\n| 3 | 20 | 98 |\n| 3 | 50 | 98 |\n| 3 | 65 | 65 |\n| 3 | 45 | 85 |\n| 4 | 46 | 98 |\n| 4 | 48 | 87 |\n| 4 | 75 | 56 |\n| 4 | 58 | 98 |\n| 5 | 65 | 68 |\n| 5 | 80 | 78 |\n| 5 | 89 | 68 |\n| 5 | 78 | 83 |\n\n",
            "text/latex": "A data.frame: 20 × 3\n\\begin{tabular}{lll}\n class & math & english\\\\\n <int> & <int> & <int>\\\\\n\\hline\n\t 1 & 50 & 98\\\\\n\t 1 & 60 & 97\\\\\n\t 1 & 45 & 86\\\\\n\t 1 & 30 & 98\\\\\n\t 2 & 25 & 80\\\\\n\t 2 & 50 & 89\\\\\n\t 2 & 80 & 90\\\\\n\t 2 & 90 & 78\\\\\n\t 3 & 20 & 98\\\\\n\t 3 & 50 & 98\\\\\n\t 3 & 65 & 65\\\\\n\t 3 & 45 & 85\\\\\n\t 4 & 46 & 98\\\\\n\t 4 & 48 & 87\\\\\n\t 4 & 75 & 56\\\\\n\t 4 & 58 & 98\\\\\n\t 5 & 65 & 68\\\\\n\t 5 & 80 & 78\\\\\n\t 5 & 89 & 68\\\\\n\t 5 & 78 & 83\\\\\n\\end{tabular}\n",
            "text/plain": [
              "   class math english\n",
              "1  1     50   98     \n",
              "2  1     60   97     \n",
              "3  1     45   86     \n",
              "4  1     30   98     \n",
              "5  2     25   80     \n",
              "6  2     50   89     \n",
              "7  2     80   90     \n",
              "8  2     90   78     \n",
              "9  3     20   98     \n",
              "10 3     50   98     \n",
              "11 3     65   65     \n",
              "12 3     45   85     \n",
              "13 4     46   98     \n",
              "14 4     48   87     \n",
              "15 4     75   56     \n",
              "16 4     58   98     \n",
              "17 5     65   68     \n",
              "18 5     80   78     \n",
              "19 5     89   68     \n",
              "20 5     78   83     "
            ]
          },
          "metadata": {}
        }
      ]
    },
    {
      "cell_type": "markdown",
      "source": [
        "## 변수 제외하기"
      ],
      "metadata": {
        "id": "jz4urvp8fYHI"
      }
    },
    {
      "cell_type": "code",
      "source": [
        "# math, english 제외\n",
        "exam %>% select(-math, -english)"
      ],
      "metadata": {
        "colab": {
          "base_uri": "https://localhost:8080/",
          "height": 725
        },
        "id": "hRaAXTJjfLGs",
        "outputId": "21aea768-c239-4fe4-ee21-08544e3de0ab"
      },
      "execution_count": 6,
      "outputs": [
        {
          "output_type": "display_data",
          "data": {
            "text/html": [
              "<table class=\"dataframe\">\n",
              "<caption>A data.frame: 20 × 3</caption>\n",
              "<thead>\n",
              "\t<tr><th scope=col>id</th><th scope=col>class</th><th scope=col>science</th></tr>\n",
              "\t<tr><th scope=col>&lt;int&gt;</th><th scope=col>&lt;int&gt;</th><th scope=col>&lt;int&gt;</th></tr>\n",
              "</thead>\n",
              "<tbody>\n",
              "\t<tr><td> 1</td><td>1</td><td>50</td></tr>\n",
              "\t<tr><td> 2</td><td>1</td><td>60</td></tr>\n",
              "\t<tr><td> 3</td><td>1</td><td>78</td></tr>\n",
              "\t<tr><td> 4</td><td>1</td><td>58</td></tr>\n",
              "\t<tr><td> 5</td><td>2</td><td>65</td></tr>\n",
              "\t<tr><td> 6</td><td>2</td><td>98</td></tr>\n",
              "\t<tr><td> 7</td><td>2</td><td>45</td></tr>\n",
              "\t<tr><td> 8</td><td>2</td><td>25</td></tr>\n",
              "\t<tr><td> 9</td><td>3</td><td>15</td></tr>\n",
              "\t<tr><td>10</td><td>3</td><td>45</td></tr>\n",
              "\t<tr><td>11</td><td>3</td><td>65</td></tr>\n",
              "\t<tr><td>12</td><td>3</td><td>32</td></tr>\n",
              "\t<tr><td>13</td><td>4</td><td>65</td></tr>\n",
              "\t<tr><td>14</td><td>4</td><td>12</td></tr>\n",
              "\t<tr><td>15</td><td>4</td><td>78</td></tr>\n",
              "\t<tr><td>16</td><td>4</td><td>65</td></tr>\n",
              "\t<tr><td>17</td><td>5</td><td>98</td></tr>\n",
              "\t<tr><td>18</td><td>5</td><td>90</td></tr>\n",
              "\t<tr><td>19</td><td>5</td><td>87</td></tr>\n",
              "\t<tr><td>20</td><td>5</td><td>58</td></tr>\n",
              "</tbody>\n",
              "</table>\n"
            ],
            "text/markdown": "\nA data.frame: 20 × 3\n\n| id &lt;int&gt; | class &lt;int&gt; | science &lt;int&gt; |\n|---|---|---|\n|  1 | 1 | 50 |\n|  2 | 1 | 60 |\n|  3 | 1 | 78 |\n|  4 | 1 | 58 |\n|  5 | 2 | 65 |\n|  6 | 2 | 98 |\n|  7 | 2 | 45 |\n|  8 | 2 | 25 |\n|  9 | 3 | 15 |\n| 10 | 3 | 45 |\n| 11 | 3 | 65 |\n| 12 | 3 | 32 |\n| 13 | 4 | 65 |\n| 14 | 4 | 12 |\n| 15 | 4 | 78 |\n| 16 | 4 | 65 |\n| 17 | 5 | 98 |\n| 18 | 5 | 90 |\n| 19 | 5 | 87 |\n| 20 | 5 | 58 |\n\n",
            "text/latex": "A data.frame: 20 × 3\n\\begin{tabular}{lll}\n id & class & science\\\\\n <int> & <int> & <int>\\\\\n\\hline\n\t  1 & 1 & 50\\\\\n\t  2 & 1 & 60\\\\\n\t  3 & 1 & 78\\\\\n\t  4 & 1 & 58\\\\\n\t  5 & 2 & 65\\\\\n\t  6 & 2 & 98\\\\\n\t  7 & 2 & 45\\\\\n\t  8 & 2 & 25\\\\\n\t  9 & 3 & 15\\\\\n\t 10 & 3 & 45\\\\\n\t 11 & 3 & 65\\\\\n\t 12 & 3 & 32\\\\\n\t 13 & 4 & 65\\\\\n\t 14 & 4 & 12\\\\\n\t 15 & 4 & 78\\\\\n\t 16 & 4 & 65\\\\\n\t 17 & 5 & 98\\\\\n\t 18 & 5 & 90\\\\\n\t 19 & 5 & 87\\\\\n\t 20 & 5 & 58\\\\\n\\end{tabular}\n",
            "text/plain": [
              "   id class science\n",
              "1   1 1     50     \n",
              "2   2 1     60     \n",
              "3   3 1     78     \n",
              "4   4 1     58     \n",
              "5   5 2     65     \n",
              "6   6 2     98     \n",
              "7   7 2     45     \n",
              "8   8 2     25     \n",
              "9   9 3     15     \n",
              "10 10 3     45     \n",
              "11 11 3     65     \n",
              "12 12 3     32     \n",
              "13 13 4     65     \n",
              "14 14 4     12     \n",
              "15 15 4     78     \n",
              "16 16 4     65     \n",
              "17 17 5     98     \n",
              "18 18 5     90     \n",
              "19 19 5     87     \n",
              "20 20 5     58     "
            ]
          },
          "metadata": {}
        }
      ]
    },
    {
      "cell_type": "markdown",
      "source": [
        "# dplyr 함수 조합"
      ],
      "metadata": {
        "id": "ZztMUxZrfsBK"
      }
    },
    {
      "cell_type": "code",
      "source": [
        "# class가 1인 행에서 english 추출\n",
        "exam %>% filter(class == 1) %>% select(english)"
      ],
      "metadata": {
        "colab": {
          "base_uri": "https://localhost:8080/",
          "height": 258
        },
        "id": "RZTg7ooBfejV",
        "outputId": "970311e4-4121-4c03-cca1-183695ad107f"
      },
      "execution_count": 8,
      "outputs": [
        {
          "output_type": "display_data",
          "data": {
            "text/html": [
              "<table class=\"dataframe\">\n",
              "<caption>A data.frame: 4 × 1</caption>\n",
              "<thead>\n",
              "\t<tr><th scope=col>english</th></tr>\n",
              "\t<tr><th scope=col>&lt;int&gt;</th></tr>\n",
              "</thead>\n",
              "<tbody>\n",
              "\t<tr><td>98</td></tr>\n",
              "\t<tr><td>97</td></tr>\n",
              "\t<tr><td>86</td></tr>\n",
              "\t<tr><td>98</td></tr>\n",
              "</tbody>\n",
              "</table>\n"
            ],
            "text/markdown": "\nA data.frame: 4 × 1\n\n| english &lt;int&gt; |\n|---|\n| 98 |\n| 97 |\n| 86 |\n| 98 |\n\n",
            "text/latex": "A data.frame: 4 × 1\n\\begin{tabular}{l}\n english\\\\\n <int>\\\\\n\\hline\n\t 98\\\\\n\t 97\\\\\n\t 86\\\\\n\t 98\\\\\n\\end{tabular}\n",
            "text/plain": [
              "  english\n",
              "1 98     \n",
              "2 97     \n",
              "3 86     \n",
              "4 98     "
            ]
          },
          "metadata": {}
        }
      ]
    },
    {
      "cell_type": "code",
      "source": [
        "# 가독성 있는 코드\n",
        "exam %>%\n",
        "  filter(class == 1) %>%\n",
        "  select(english)"
      ],
      "metadata": {
        "colab": {
          "base_uri": "https://localhost:8080/",
          "height": 258
        },
        "id": "yA5pRxy0f0dE",
        "outputId": "e2d209c3-5f46-451a-affc-a41420b8b406"
      },
      "execution_count": 11,
      "outputs": [
        {
          "output_type": "display_data",
          "data": {
            "text/html": [
              "<table class=\"dataframe\">\n",
              "<caption>A data.frame: 4 × 1</caption>\n",
              "<thead>\n",
              "\t<tr><th scope=col>english</th></tr>\n",
              "\t<tr><th scope=col>&lt;int&gt;</th></tr>\n",
              "</thead>\n",
              "<tbody>\n",
              "\t<tr><td>98</td></tr>\n",
              "\t<tr><td>97</td></tr>\n",
              "\t<tr><td>86</td></tr>\n",
              "\t<tr><td>98</td></tr>\n",
              "</tbody>\n",
              "</table>\n"
            ],
            "text/markdown": "\nA data.frame: 4 × 1\n\n| english &lt;int&gt; |\n|---|\n| 98 |\n| 97 |\n| 86 |\n| 98 |\n\n",
            "text/latex": "A data.frame: 4 × 1\n\\begin{tabular}{l}\n english\\\\\n <int>\\\\\n\\hline\n\t 98\\\\\n\t 97\\\\\n\t 86\\\\\n\t 98\\\\\n\\end{tabular}\n",
            "text/plain": [
              "  english\n",
              "1 98     \n",
              "2 97     \n",
              "3 86     \n",
              "4 98     "
            ]
          },
          "metadata": {}
        }
      ]
    },
    {
      "cell_type": "code",
      "source": [
        "# 일부만 출력\n",
        "exam %>%\n",
        "  select(id, math) %>%\n",
        "  head()"
      ],
      "metadata": {
        "colab": {
          "base_uri": "https://localhost:8080/",
          "height": 286
        },
        "id": "dv8dVOvCgahd",
        "outputId": "a6280dde-c61c-431f-f335-38db523a1678"
      },
      "execution_count": 13,
      "outputs": [
        {
          "output_type": "display_data",
          "data": {
            "text/html": [
              "<table class=\"dataframe\">\n",
              "<caption>A data.frame: 6 × 2</caption>\n",
              "<thead>\n",
              "\t<tr><th></th><th scope=col>id</th><th scope=col>math</th></tr>\n",
              "\t<tr><th></th><th scope=col>&lt;int&gt;</th><th scope=col>&lt;int&gt;</th></tr>\n",
              "</thead>\n",
              "<tbody>\n",
              "\t<tr><th scope=row>1</th><td>1</td><td>50</td></tr>\n",
              "\t<tr><th scope=row>2</th><td>2</td><td>60</td></tr>\n",
              "\t<tr><th scope=row>3</th><td>3</td><td>45</td></tr>\n",
              "\t<tr><th scope=row>4</th><td>4</td><td>30</td></tr>\n",
              "\t<tr><th scope=row>5</th><td>5</td><td>25</td></tr>\n",
              "\t<tr><th scope=row>6</th><td>6</td><td>50</td></tr>\n",
              "</tbody>\n",
              "</table>\n"
            ],
            "text/markdown": "\nA data.frame: 6 × 2\n\n| <!--/--> | id &lt;int&gt; | math &lt;int&gt; |\n|---|---|---|\n| 1 | 1 | 50 |\n| 2 | 2 | 60 |\n| 3 | 3 | 45 |\n| 4 | 4 | 30 |\n| 5 | 5 | 25 |\n| 6 | 6 | 50 |\n\n",
            "text/latex": "A data.frame: 6 × 2\n\\begin{tabular}{r|ll}\n  & id & math\\\\\n  & <int> & <int>\\\\\n\\hline\n\t1 & 1 & 50\\\\\n\t2 & 2 & 60\\\\\n\t3 & 3 & 45\\\\\n\t4 & 4 & 30\\\\\n\t5 & 5 & 25\\\\\n\t6 & 6 & 50\\\\\n\\end{tabular}\n",
            "text/plain": [
              "  id math\n",
              "1 1  50  \n",
              "2 2  60  \n",
              "3 3  45  \n",
              "4 4  30  \n",
              "5 5  25  \n",
              "6 6  50  "
            ]
          },
          "metadata": {}
        }
      ]
    },
    {
      "cell_type": "markdown",
      "source": [
        "### mpg 데이터 분석 연습\n",
        "\n",
        "*분석계획* : <br>\n",
        "1. mpg 데이터에서 class(자동차 종류), cty(도시연비) 변수만 추출해 새로운 데이터 생성\n",
        "2. 자동차 종류에 따라 도시 연비가 다른지 알아보려고 함. class(자동차 종류)가 \"suv\"인 자동차와 \"compact\"인 자동차 중 어떤 자동차의 cty 평균이 더 높은지 분석"
      ],
      "metadata": {
        "id": "2Wst8LQzhG8s"
      }
    },
    {
      "cell_type": "code",
      "source": [
        "# 데이터 불러오기\n",
        "mpg <- as.data.frame(ggplot2::mpg)"
      ],
      "metadata": {
        "id": "hu05Nlr7g4LK"
      },
      "execution_count": 15,
      "outputs": []
    },
    {
      "cell_type": "code",
      "source": [
        "# class, cty 변수 추출\n",
        "df <- mpg %>% select(class, cty)\n",
        "head(df)"
      ],
      "metadata": {
        "colab": {
          "base_uri": "https://localhost:8080/",
          "height": 286
        },
        "id": "GF_4Jfy8hgiR",
        "outputId": "9bc2a242-acb2-4362-dbe6-dbea3cf415a7"
      },
      "execution_count": 23,
      "outputs": [
        {
          "output_type": "display_data",
          "data": {
            "text/html": [
              "<table class=\"dataframe\">\n",
              "<caption>A data.frame: 6 × 2</caption>\n",
              "<thead>\n",
              "\t<tr><th></th><th scope=col>class</th><th scope=col>cty</th></tr>\n",
              "\t<tr><th></th><th scope=col>&lt;chr&gt;</th><th scope=col>&lt;int&gt;</th></tr>\n",
              "</thead>\n",
              "<tbody>\n",
              "\t<tr><th scope=row>1</th><td>compact</td><td>18</td></tr>\n",
              "\t<tr><th scope=row>2</th><td>compact</td><td>21</td></tr>\n",
              "\t<tr><th scope=row>3</th><td>compact</td><td>20</td></tr>\n",
              "\t<tr><th scope=row>4</th><td>compact</td><td>21</td></tr>\n",
              "\t<tr><th scope=row>5</th><td>compact</td><td>16</td></tr>\n",
              "\t<tr><th scope=row>6</th><td>compact</td><td>18</td></tr>\n",
              "</tbody>\n",
              "</table>\n"
            ],
            "text/markdown": "\nA data.frame: 6 × 2\n\n| <!--/--> | class &lt;chr&gt; | cty &lt;int&gt; |\n|---|---|---|\n| 1 | compact | 18 |\n| 2 | compact | 21 |\n| 3 | compact | 20 |\n| 4 | compact | 21 |\n| 5 | compact | 16 |\n| 6 | compact | 18 |\n\n",
            "text/latex": "A data.frame: 6 × 2\n\\begin{tabular}{r|ll}\n  & class & cty\\\\\n  & <chr> & <int>\\\\\n\\hline\n\t1 & compact & 18\\\\\n\t2 & compact & 21\\\\\n\t3 & compact & 20\\\\\n\t4 & compact & 21\\\\\n\t5 & compact & 16\\\\\n\t6 & compact & 18\\\\\n\\end{tabular}\n",
            "text/plain": [
              "  class   cty\n",
              "1 compact 18 \n",
              "2 compact 21 \n",
              "3 compact 20 \n",
              "4 compact 21 \n",
              "5 compact 16 \n",
              "6 compact 18 "
            ]
          },
          "metadata": {}
        }
      ]
    },
    {
      "cell_type": "code",
      "source": [
        "# class가 suv인 행 추출 후 평균 cty 분석\n",
        "df_suv <- df %>% filter(class == \"suv\")\n",
        "mean(df_suv$cty)"
      ],
      "metadata": {
        "colab": {
          "base_uri": "https://localhost:8080/",
          "height": 34
        },
        "id": "VdAB5f0qh3l6",
        "outputId": "d29a95d8-b424-44cc-dae3-d5a5eb0a4306"
      },
      "execution_count": 25,
      "outputs": [
        {
          "output_type": "display_data",
          "data": {
            "text/html": [
              "13.5"
            ],
            "text/markdown": "13.5",
            "text/latex": "13.5",
            "text/plain": [
              "[1] 13.5"
            ]
          },
          "metadata": {}
        }
      ]
    },
    {
      "cell_type": "code",
      "source": [
        "# class가 compact인 행 추출 후 평균 cty 분석\n",
        "df_compact <- df %>% filter(class == \"compact\")\n",
        "mean(df_compact$cty)"
      ],
      "metadata": {
        "colab": {
          "base_uri": "https://localhost:8080/",
          "height": 34
        },
        "id": "e4mV4CzQiDBE",
        "outputId": "2d954932-997e-4436-e1d5-244805961be1"
      },
      "execution_count": 26,
      "outputs": [
        {
          "output_type": "display_data",
          "data": {
            "text/html": [
              "20.1276595744681"
            ],
            "text/markdown": "20.1276595744681",
            "text/latex": "20.1276595744681",
            "text/plain": [
              "[1] 20.12766"
            ]
          },
          "metadata": {}
        }
      ]
    },
    {
      "cell_type": "markdown",
      "source": [
        "# 정렬"
      ],
      "metadata": {
        "id": "e1_234PIj4ZI"
      }
    },
    {
      "cell_type": "code",
      "source": [
        "# exam 데이터 math 오름차순 정렬\n",
        "exam %>% arrange(math)"
      ],
      "metadata": {
        "colab": {
          "base_uri": "https://localhost:8080/",
          "height": 725
        },
        "id": "hAGKgjOBiW5k",
        "outputId": "735e6e2d-462a-4bb6-9df4-caebe4cf27e2"
      },
      "execution_count": 29,
      "outputs": [
        {
          "output_type": "display_data",
          "data": {
            "text/html": [
              "<table class=\"dataframe\">\n",
              "<caption>A data.frame: 20 × 5</caption>\n",
              "<thead>\n",
              "\t<tr><th scope=col>id</th><th scope=col>class</th><th scope=col>math</th><th scope=col>english</th><th scope=col>science</th></tr>\n",
              "\t<tr><th scope=col>&lt;int&gt;</th><th scope=col>&lt;int&gt;</th><th scope=col>&lt;int&gt;</th><th scope=col>&lt;int&gt;</th><th scope=col>&lt;int&gt;</th></tr>\n",
              "</thead>\n",
              "<tbody>\n",
              "\t<tr><td> 9</td><td>3</td><td>20</td><td>98</td><td>15</td></tr>\n",
              "\t<tr><td> 5</td><td>2</td><td>25</td><td>80</td><td>65</td></tr>\n",
              "\t<tr><td> 4</td><td>1</td><td>30</td><td>98</td><td>58</td></tr>\n",
              "\t<tr><td> 3</td><td>1</td><td>45</td><td>86</td><td>78</td></tr>\n",
              "\t<tr><td>12</td><td>3</td><td>45</td><td>85</td><td>32</td></tr>\n",
              "\t<tr><td>13</td><td>4</td><td>46</td><td>98</td><td>65</td></tr>\n",
              "\t<tr><td>14</td><td>4</td><td>48</td><td>87</td><td>12</td></tr>\n",
              "\t<tr><td> 1</td><td>1</td><td>50</td><td>98</td><td>50</td></tr>\n",
              "\t<tr><td> 6</td><td>2</td><td>50</td><td>89</td><td>98</td></tr>\n",
              "\t<tr><td>10</td><td>3</td><td>50</td><td>98</td><td>45</td></tr>\n",
              "\t<tr><td>16</td><td>4</td><td>58</td><td>98</td><td>65</td></tr>\n",
              "\t<tr><td> 2</td><td>1</td><td>60</td><td>97</td><td>60</td></tr>\n",
              "\t<tr><td>11</td><td>3</td><td>65</td><td>65</td><td>65</td></tr>\n",
              "\t<tr><td>17</td><td>5</td><td>65</td><td>68</td><td>98</td></tr>\n",
              "\t<tr><td>15</td><td>4</td><td>75</td><td>56</td><td>78</td></tr>\n",
              "\t<tr><td>20</td><td>5</td><td>78</td><td>83</td><td>58</td></tr>\n",
              "\t<tr><td> 7</td><td>2</td><td>80</td><td>90</td><td>45</td></tr>\n",
              "\t<tr><td>18</td><td>5</td><td>80</td><td>78</td><td>90</td></tr>\n",
              "\t<tr><td>19</td><td>5</td><td>89</td><td>68</td><td>87</td></tr>\n",
              "\t<tr><td> 8</td><td>2</td><td>90</td><td>78</td><td>25</td></tr>\n",
              "</tbody>\n",
              "</table>\n"
            ],
            "text/markdown": "\nA data.frame: 20 × 5\n\n| id &lt;int&gt; | class &lt;int&gt; | math &lt;int&gt; | english &lt;int&gt; | science &lt;int&gt; |\n|---|---|---|---|---|\n|  9 | 3 | 20 | 98 | 15 |\n|  5 | 2 | 25 | 80 | 65 |\n|  4 | 1 | 30 | 98 | 58 |\n|  3 | 1 | 45 | 86 | 78 |\n| 12 | 3 | 45 | 85 | 32 |\n| 13 | 4 | 46 | 98 | 65 |\n| 14 | 4 | 48 | 87 | 12 |\n|  1 | 1 | 50 | 98 | 50 |\n|  6 | 2 | 50 | 89 | 98 |\n| 10 | 3 | 50 | 98 | 45 |\n| 16 | 4 | 58 | 98 | 65 |\n|  2 | 1 | 60 | 97 | 60 |\n| 11 | 3 | 65 | 65 | 65 |\n| 17 | 5 | 65 | 68 | 98 |\n| 15 | 4 | 75 | 56 | 78 |\n| 20 | 5 | 78 | 83 | 58 |\n|  7 | 2 | 80 | 90 | 45 |\n| 18 | 5 | 80 | 78 | 90 |\n| 19 | 5 | 89 | 68 | 87 |\n|  8 | 2 | 90 | 78 | 25 |\n\n",
            "text/latex": "A data.frame: 20 × 5\n\\begin{tabular}{lllll}\n id & class & math & english & science\\\\\n <int> & <int> & <int> & <int> & <int>\\\\\n\\hline\n\t  9 & 3 & 20 & 98 & 15\\\\\n\t  5 & 2 & 25 & 80 & 65\\\\\n\t  4 & 1 & 30 & 98 & 58\\\\\n\t  3 & 1 & 45 & 86 & 78\\\\\n\t 12 & 3 & 45 & 85 & 32\\\\\n\t 13 & 4 & 46 & 98 & 65\\\\\n\t 14 & 4 & 48 & 87 & 12\\\\\n\t  1 & 1 & 50 & 98 & 50\\\\\n\t  6 & 2 & 50 & 89 & 98\\\\\n\t 10 & 3 & 50 & 98 & 45\\\\\n\t 16 & 4 & 58 & 98 & 65\\\\\n\t  2 & 1 & 60 & 97 & 60\\\\\n\t 11 & 3 & 65 & 65 & 65\\\\\n\t 17 & 5 & 65 & 68 & 98\\\\\n\t 15 & 4 & 75 & 56 & 78\\\\\n\t 20 & 5 & 78 & 83 & 58\\\\\n\t  7 & 2 & 80 & 90 & 45\\\\\n\t 18 & 5 & 80 & 78 & 90\\\\\n\t 19 & 5 & 89 & 68 & 87\\\\\n\t  8 & 2 & 90 & 78 & 25\\\\\n\\end{tabular}\n",
            "text/plain": [
              "   id class math english science\n",
              "1   9 3     20   98      15     \n",
              "2   5 2     25   80      65     \n",
              "3   4 1     30   98      58     \n",
              "4   3 1     45   86      78     \n",
              "5  12 3     45   85      32     \n",
              "6  13 4     46   98      65     \n",
              "7  14 4     48   87      12     \n",
              "8   1 1     50   98      50     \n",
              "9   6 2     50   89      98     \n",
              "10 10 3     50   98      45     \n",
              "11 16 4     58   98      65     \n",
              "12  2 1     60   97      60     \n",
              "13 11 3     65   65      65     \n",
              "14 17 5     65   68      98     \n",
              "15 15 4     75   56      78     \n",
              "16 20 5     78   83      58     \n",
              "17  7 2     80   90      45     \n",
              "18 18 5     80   78      90     \n",
              "19 19 5     89   68      87     \n",
              "20  8 2     90   78      25     "
            ]
          },
          "metadata": {}
        }
      ]
    },
    {
      "cell_type": "code",
      "source": [
        "# math 내림차순 정렬\n",
        "exam %>% arrange(desc(math))"
      ],
      "metadata": {
        "colab": {
          "base_uri": "https://localhost:8080/",
          "height": 725
        },
        "id": "_Ss-QoSLkBoU",
        "outputId": "11b32cd5-3bd6-451e-fd4e-9850e940e530"
      },
      "execution_count": 30,
      "outputs": [
        {
          "output_type": "display_data",
          "data": {
            "text/html": [
              "<table class=\"dataframe\">\n",
              "<caption>A data.frame: 20 × 5</caption>\n",
              "<thead>\n",
              "\t<tr><th scope=col>id</th><th scope=col>class</th><th scope=col>math</th><th scope=col>english</th><th scope=col>science</th></tr>\n",
              "\t<tr><th scope=col>&lt;int&gt;</th><th scope=col>&lt;int&gt;</th><th scope=col>&lt;int&gt;</th><th scope=col>&lt;int&gt;</th><th scope=col>&lt;int&gt;</th></tr>\n",
              "</thead>\n",
              "<tbody>\n",
              "\t<tr><td> 8</td><td>2</td><td>90</td><td>78</td><td>25</td></tr>\n",
              "\t<tr><td>19</td><td>5</td><td>89</td><td>68</td><td>87</td></tr>\n",
              "\t<tr><td> 7</td><td>2</td><td>80</td><td>90</td><td>45</td></tr>\n",
              "\t<tr><td>18</td><td>5</td><td>80</td><td>78</td><td>90</td></tr>\n",
              "\t<tr><td>20</td><td>5</td><td>78</td><td>83</td><td>58</td></tr>\n",
              "\t<tr><td>15</td><td>4</td><td>75</td><td>56</td><td>78</td></tr>\n",
              "\t<tr><td>11</td><td>3</td><td>65</td><td>65</td><td>65</td></tr>\n",
              "\t<tr><td>17</td><td>5</td><td>65</td><td>68</td><td>98</td></tr>\n",
              "\t<tr><td> 2</td><td>1</td><td>60</td><td>97</td><td>60</td></tr>\n",
              "\t<tr><td>16</td><td>4</td><td>58</td><td>98</td><td>65</td></tr>\n",
              "\t<tr><td> 1</td><td>1</td><td>50</td><td>98</td><td>50</td></tr>\n",
              "\t<tr><td> 6</td><td>2</td><td>50</td><td>89</td><td>98</td></tr>\n",
              "\t<tr><td>10</td><td>3</td><td>50</td><td>98</td><td>45</td></tr>\n",
              "\t<tr><td>14</td><td>4</td><td>48</td><td>87</td><td>12</td></tr>\n",
              "\t<tr><td>13</td><td>4</td><td>46</td><td>98</td><td>65</td></tr>\n",
              "\t<tr><td> 3</td><td>1</td><td>45</td><td>86</td><td>78</td></tr>\n",
              "\t<tr><td>12</td><td>3</td><td>45</td><td>85</td><td>32</td></tr>\n",
              "\t<tr><td> 4</td><td>1</td><td>30</td><td>98</td><td>58</td></tr>\n",
              "\t<tr><td> 5</td><td>2</td><td>25</td><td>80</td><td>65</td></tr>\n",
              "\t<tr><td> 9</td><td>3</td><td>20</td><td>98</td><td>15</td></tr>\n",
              "</tbody>\n",
              "</table>\n"
            ],
            "text/markdown": "\nA data.frame: 20 × 5\n\n| id &lt;int&gt; | class &lt;int&gt; | math &lt;int&gt; | english &lt;int&gt; | science &lt;int&gt; |\n|---|---|---|---|---|\n|  8 | 2 | 90 | 78 | 25 |\n| 19 | 5 | 89 | 68 | 87 |\n|  7 | 2 | 80 | 90 | 45 |\n| 18 | 5 | 80 | 78 | 90 |\n| 20 | 5 | 78 | 83 | 58 |\n| 15 | 4 | 75 | 56 | 78 |\n| 11 | 3 | 65 | 65 | 65 |\n| 17 | 5 | 65 | 68 | 98 |\n|  2 | 1 | 60 | 97 | 60 |\n| 16 | 4 | 58 | 98 | 65 |\n|  1 | 1 | 50 | 98 | 50 |\n|  6 | 2 | 50 | 89 | 98 |\n| 10 | 3 | 50 | 98 | 45 |\n| 14 | 4 | 48 | 87 | 12 |\n| 13 | 4 | 46 | 98 | 65 |\n|  3 | 1 | 45 | 86 | 78 |\n| 12 | 3 | 45 | 85 | 32 |\n|  4 | 1 | 30 | 98 | 58 |\n|  5 | 2 | 25 | 80 | 65 |\n|  9 | 3 | 20 | 98 | 15 |\n\n",
            "text/latex": "A data.frame: 20 × 5\n\\begin{tabular}{lllll}\n id & class & math & english & science\\\\\n <int> & <int> & <int> & <int> & <int>\\\\\n\\hline\n\t  8 & 2 & 90 & 78 & 25\\\\\n\t 19 & 5 & 89 & 68 & 87\\\\\n\t  7 & 2 & 80 & 90 & 45\\\\\n\t 18 & 5 & 80 & 78 & 90\\\\\n\t 20 & 5 & 78 & 83 & 58\\\\\n\t 15 & 4 & 75 & 56 & 78\\\\\n\t 11 & 3 & 65 & 65 & 65\\\\\n\t 17 & 5 & 65 & 68 & 98\\\\\n\t  2 & 1 & 60 & 97 & 60\\\\\n\t 16 & 4 & 58 & 98 & 65\\\\\n\t  1 & 1 & 50 & 98 & 50\\\\\n\t  6 & 2 & 50 & 89 & 98\\\\\n\t 10 & 3 & 50 & 98 & 45\\\\\n\t 14 & 4 & 48 & 87 & 12\\\\\n\t 13 & 4 & 46 & 98 & 65\\\\\n\t  3 & 1 & 45 & 86 & 78\\\\\n\t 12 & 3 & 45 & 85 & 32\\\\\n\t  4 & 1 & 30 & 98 & 58\\\\\n\t  5 & 2 & 25 & 80 & 65\\\\\n\t  9 & 3 & 20 & 98 & 15\\\\\n\\end{tabular}\n",
            "text/plain": [
              "   id class math english science\n",
              "1   8 2     90   78      25     \n",
              "2  19 5     89   68      87     \n",
              "3   7 2     80   90      45     \n",
              "4  18 5     80   78      90     \n",
              "5  20 5     78   83      58     \n",
              "6  15 4     75   56      78     \n",
              "7  11 3     65   65      65     \n",
              "8  17 5     65   68      98     \n",
              "9   2 1     60   97      60     \n",
              "10 16 4     58   98      65     \n",
              "11  1 1     50   98      50     \n",
              "12  6 2     50   89      98     \n",
              "13 10 3     50   98      45     \n",
              "14 14 4     48   87      12     \n",
              "15 13 4     46   98      65     \n",
              "16  3 1     45   86      78     \n",
              "17 12 3     45   85      32     \n",
              "18  4 1     30   98      58     \n",
              "19  5 2     25   80      65     \n",
              "20  9 3     20   98      15     "
            ]
          },
          "metadata": {}
        }
      ]
    },
    {
      "cell_type": "code",
      "source": [
        "# 정렬 기준 변수 여러 개 지정\n",
        "# class 및 math 오름차순 정렬\n",
        "exam %>% arrange(class, math) # class 순으로 정렬 후 math를 정렬"
      ],
      "metadata": {
        "colab": {
          "base_uri": "https://localhost:8080/",
          "height": 725
        },
        "id": "BSp6KYtDkOm7",
        "outputId": "870f9733-e883-4d14-f45c-418001d87cbc"
      },
      "execution_count": 31,
      "outputs": [
        {
          "output_type": "display_data",
          "data": {
            "text/html": [
              "<table class=\"dataframe\">\n",
              "<caption>A data.frame: 20 × 5</caption>\n",
              "<thead>\n",
              "\t<tr><th scope=col>id</th><th scope=col>class</th><th scope=col>math</th><th scope=col>english</th><th scope=col>science</th></tr>\n",
              "\t<tr><th scope=col>&lt;int&gt;</th><th scope=col>&lt;int&gt;</th><th scope=col>&lt;int&gt;</th><th scope=col>&lt;int&gt;</th><th scope=col>&lt;int&gt;</th></tr>\n",
              "</thead>\n",
              "<tbody>\n",
              "\t<tr><td> 4</td><td>1</td><td>30</td><td>98</td><td>58</td></tr>\n",
              "\t<tr><td> 3</td><td>1</td><td>45</td><td>86</td><td>78</td></tr>\n",
              "\t<tr><td> 1</td><td>1</td><td>50</td><td>98</td><td>50</td></tr>\n",
              "\t<tr><td> 2</td><td>1</td><td>60</td><td>97</td><td>60</td></tr>\n",
              "\t<tr><td> 5</td><td>2</td><td>25</td><td>80</td><td>65</td></tr>\n",
              "\t<tr><td> 6</td><td>2</td><td>50</td><td>89</td><td>98</td></tr>\n",
              "\t<tr><td> 7</td><td>2</td><td>80</td><td>90</td><td>45</td></tr>\n",
              "\t<tr><td> 8</td><td>2</td><td>90</td><td>78</td><td>25</td></tr>\n",
              "\t<tr><td> 9</td><td>3</td><td>20</td><td>98</td><td>15</td></tr>\n",
              "\t<tr><td>12</td><td>3</td><td>45</td><td>85</td><td>32</td></tr>\n",
              "\t<tr><td>10</td><td>3</td><td>50</td><td>98</td><td>45</td></tr>\n",
              "\t<tr><td>11</td><td>3</td><td>65</td><td>65</td><td>65</td></tr>\n",
              "\t<tr><td>13</td><td>4</td><td>46</td><td>98</td><td>65</td></tr>\n",
              "\t<tr><td>14</td><td>4</td><td>48</td><td>87</td><td>12</td></tr>\n",
              "\t<tr><td>16</td><td>4</td><td>58</td><td>98</td><td>65</td></tr>\n",
              "\t<tr><td>15</td><td>4</td><td>75</td><td>56</td><td>78</td></tr>\n",
              "\t<tr><td>17</td><td>5</td><td>65</td><td>68</td><td>98</td></tr>\n",
              "\t<tr><td>20</td><td>5</td><td>78</td><td>83</td><td>58</td></tr>\n",
              "\t<tr><td>18</td><td>5</td><td>80</td><td>78</td><td>90</td></tr>\n",
              "\t<tr><td>19</td><td>5</td><td>89</td><td>68</td><td>87</td></tr>\n",
              "</tbody>\n",
              "</table>\n"
            ],
            "text/markdown": "\nA data.frame: 20 × 5\n\n| id &lt;int&gt; | class &lt;int&gt; | math &lt;int&gt; | english &lt;int&gt; | science &lt;int&gt; |\n|---|---|---|---|---|\n|  4 | 1 | 30 | 98 | 58 |\n|  3 | 1 | 45 | 86 | 78 |\n|  1 | 1 | 50 | 98 | 50 |\n|  2 | 1 | 60 | 97 | 60 |\n|  5 | 2 | 25 | 80 | 65 |\n|  6 | 2 | 50 | 89 | 98 |\n|  7 | 2 | 80 | 90 | 45 |\n|  8 | 2 | 90 | 78 | 25 |\n|  9 | 3 | 20 | 98 | 15 |\n| 12 | 3 | 45 | 85 | 32 |\n| 10 | 3 | 50 | 98 | 45 |\n| 11 | 3 | 65 | 65 | 65 |\n| 13 | 4 | 46 | 98 | 65 |\n| 14 | 4 | 48 | 87 | 12 |\n| 16 | 4 | 58 | 98 | 65 |\n| 15 | 4 | 75 | 56 | 78 |\n| 17 | 5 | 65 | 68 | 98 |\n| 20 | 5 | 78 | 83 | 58 |\n| 18 | 5 | 80 | 78 | 90 |\n| 19 | 5 | 89 | 68 | 87 |\n\n",
            "text/latex": "A data.frame: 20 × 5\n\\begin{tabular}{lllll}\n id & class & math & english & science\\\\\n <int> & <int> & <int> & <int> & <int>\\\\\n\\hline\n\t  4 & 1 & 30 & 98 & 58\\\\\n\t  3 & 1 & 45 & 86 & 78\\\\\n\t  1 & 1 & 50 & 98 & 50\\\\\n\t  2 & 1 & 60 & 97 & 60\\\\\n\t  5 & 2 & 25 & 80 & 65\\\\\n\t  6 & 2 & 50 & 89 & 98\\\\\n\t  7 & 2 & 80 & 90 & 45\\\\\n\t  8 & 2 & 90 & 78 & 25\\\\\n\t  9 & 3 & 20 & 98 & 15\\\\\n\t 12 & 3 & 45 & 85 & 32\\\\\n\t 10 & 3 & 50 & 98 & 45\\\\\n\t 11 & 3 & 65 & 65 & 65\\\\\n\t 13 & 4 & 46 & 98 & 65\\\\\n\t 14 & 4 & 48 & 87 & 12\\\\\n\t 16 & 4 & 58 & 98 & 65\\\\\n\t 15 & 4 & 75 & 56 & 78\\\\\n\t 17 & 5 & 65 & 68 & 98\\\\\n\t 20 & 5 & 78 & 83 & 58\\\\\n\t 18 & 5 & 80 & 78 & 90\\\\\n\t 19 & 5 & 89 & 68 & 87\\\\\n\\end{tabular}\n",
            "text/plain": [
              "   id class math english science\n",
              "1   4 1     30   98      58     \n",
              "2   3 1     45   86      78     \n",
              "3   1 1     50   98      50     \n",
              "4   2 1     60   97      60     \n",
              "5   5 2     25   80      65     \n",
              "6   6 2     50   89      98     \n",
              "7   7 2     80   90      45     \n",
              "8   8 2     90   78      25     \n",
              "9   9 3     20   98      15     \n",
              "10 12 3     45   85      32     \n",
              "11 10 3     50   98      45     \n",
              "12 11 3     65   65      65     \n",
              "13 13 4     46   98      65     \n",
              "14 14 4     48   87      12     \n",
              "15 16 4     58   98      65     \n",
              "16 15 4     75   56      78     \n",
              "17 17 5     65   68      98     \n",
              "18 20 5     78   83      58     \n",
              "19 18 5     80   78      90     \n",
              "20 19 5     89   68      87     "
            ]
          },
          "metadata": {}
        }
      ]
    },
    {
      "cell_type": "markdown",
      "source": [
        "### mpg 데이터 분석 연습\n",
        "\n",
        "*분석계획* : <br>\n",
        "1. audi에서 생산한 자동차 중에서 어떤 자동차 모델의 hwy가 가장 높은지 알아보려고 함. \"audi\"에서 생산한 자동차 중 hwy top5를 출력"
      ],
      "metadata": {
        "id": "RcZ8RDkBk0jo"
      }
    },
    {
      "cell_type": "code",
      "source": [
        "mpg <- as.data.frame(ggplot2::mpg)"
      ],
      "metadata": {
        "id": "6JyXqTZulIC0"
      },
      "execution_count": 32,
      "outputs": []
    },
    {
      "cell_type": "code",
      "source": [
        "mpg %>% \n",
        "  filter(manufacturer == \"audi\") %>% \n",
        "  arrange(desc(hwy)) %>% \n",
        "  head(5)"
      ],
      "metadata": {
        "colab": {
          "base_uri": "https://localhost:8080/",
          "height": 255
        },
        "id": "IlwPh_AhkgYu",
        "outputId": "1ed8c59b-6fb9-48a7-86ee-88681d80fe94"
      },
      "execution_count": 38,
      "outputs": [
        {
          "output_type": "display_data",
          "data": {
            "text/html": [
              "<table class=\"dataframe\">\n",
              "<caption>A data.frame: 5 × 11</caption>\n",
              "<thead>\n",
              "\t<tr><th></th><th scope=col>manufacturer</th><th scope=col>model</th><th scope=col>displ</th><th scope=col>year</th><th scope=col>cyl</th><th scope=col>trans</th><th scope=col>drv</th><th scope=col>cty</th><th scope=col>hwy</th><th scope=col>fl</th><th scope=col>class</th></tr>\n",
              "\t<tr><th></th><th scope=col>&lt;chr&gt;</th><th scope=col>&lt;chr&gt;</th><th scope=col>&lt;dbl&gt;</th><th scope=col>&lt;int&gt;</th><th scope=col>&lt;int&gt;</th><th scope=col>&lt;chr&gt;</th><th scope=col>&lt;chr&gt;</th><th scope=col>&lt;int&gt;</th><th scope=col>&lt;int&gt;</th><th scope=col>&lt;chr&gt;</th><th scope=col>&lt;chr&gt;</th></tr>\n",
              "</thead>\n",
              "<tbody>\n",
              "\t<tr><th scope=row>1</th><td>audi</td><td>a4        </td><td>2.0</td><td>2008</td><td>4</td><td>manual(m6)</td><td>f</td><td>20</td><td>31</td><td>p</td><td>compact</td></tr>\n",
              "\t<tr><th scope=row>2</th><td>audi</td><td>a4        </td><td>2.0</td><td>2008</td><td>4</td><td>auto(av)  </td><td>f</td><td>21</td><td>30</td><td>p</td><td>compact</td></tr>\n",
              "\t<tr><th scope=row>3</th><td>audi</td><td>a4        </td><td>1.8</td><td>1999</td><td>4</td><td>auto(l5)  </td><td>f</td><td>18</td><td>29</td><td>p</td><td>compact</td></tr>\n",
              "\t<tr><th scope=row>4</th><td>audi</td><td>a4        </td><td>1.8</td><td>1999</td><td>4</td><td>manual(m5)</td><td>f</td><td>21</td><td>29</td><td>p</td><td>compact</td></tr>\n",
              "\t<tr><th scope=row>5</th><td>audi</td><td>a4 quattro</td><td>2.0</td><td>2008</td><td>4</td><td>manual(m6)</td><td>4</td><td>20</td><td>28</td><td>p</td><td>compact</td></tr>\n",
              "</tbody>\n",
              "</table>\n"
            ],
            "text/markdown": "\nA data.frame: 5 × 11\n\n| <!--/--> | manufacturer &lt;chr&gt; | model &lt;chr&gt; | displ &lt;dbl&gt; | year &lt;int&gt; | cyl &lt;int&gt; | trans &lt;chr&gt; | drv &lt;chr&gt; | cty &lt;int&gt; | hwy &lt;int&gt; | fl &lt;chr&gt; | class &lt;chr&gt; |\n|---|---|---|---|---|---|---|---|---|---|---|---|\n| 1 | audi | a4         | 2.0 | 2008 | 4 | manual(m6) | f | 20 | 31 | p | compact |\n| 2 | audi | a4         | 2.0 | 2008 | 4 | auto(av)   | f | 21 | 30 | p | compact |\n| 3 | audi | a4         | 1.8 | 1999 | 4 | auto(l5)   | f | 18 | 29 | p | compact |\n| 4 | audi | a4         | 1.8 | 1999 | 4 | manual(m5) | f | 21 | 29 | p | compact |\n| 5 | audi | a4 quattro | 2.0 | 2008 | 4 | manual(m6) | 4 | 20 | 28 | p | compact |\n\n",
            "text/latex": "A data.frame: 5 × 11\n\\begin{tabular}{r|lllllllllll}\n  & manufacturer & model & displ & year & cyl & trans & drv & cty & hwy & fl & class\\\\\n  & <chr> & <chr> & <dbl> & <int> & <int> & <chr> & <chr> & <int> & <int> & <chr> & <chr>\\\\\n\\hline\n\t1 & audi & a4         & 2.0 & 2008 & 4 & manual(m6) & f & 20 & 31 & p & compact\\\\\n\t2 & audi & a4         & 2.0 & 2008 & 4 & auto(av)   & f & 21 & 30 & p & compact\\\\\n\t3 & audi & a4         & 1.8 & 1999 & 4 & auto(l5)   & f & 18 & 29 & p & compact\\\\\n\t4 & audi & a4         & 1.8 & 1999 & 4 & manual(m5) & f & 21 & 29 & p & compact\\\\\n\t5 & audi & a4 quattro & 2.0 & 2008 & 4 & manual(m6) & 4 & 20 & 28 & p & compact\\\\\n\\end{tabular}\n",
            "text/plain": [
              "  manufacturer model      displ year cyl trans      drv cty hwy fl class  \n",
              "1 audi         a4         2.0   2008 4   manual(m6) f   20  31  p  compact\n",
              "2 audi         a4         2.0   2008 4   auto(av)   f   21  30  p  compact\n",
              "3 audi         a4         1.8   1999 4   auto(l5)   f   18  29  p  compact\n",
              "4 audi         a4         1.8   1999 4   manual(m5) f   21  29  p  compact\n",
              "5 audi         a4 quattro 2.0   2008 4   manual(m6) 4   20  28  p  compact"
            ]
          },
          "metadata": {}
        }
      ]
    },
    {
      "cell_type": "markdown",
      "source": [
        "# 파생변수 추가"
      ],
      "metadata": {
        "id": "_yf0NOSuom-X"
      }
    },
    {
      "cell_type": "code",
      "source": [
        "# mutate() : 기존 데이터에 파생변수 추가\n",
        "# mutate(변수명 = 계산식)\n",
        "\n",
        "# 총합 변수 추가\n",
        "exam %>%\n",
        "  mutate(total = math + english + science) %>%\n",
        "  head"
      ],
      "metadata": {
        "colab": {
          "base_uri": "https://localhost:8080/",
          "height": 286
        },
        "id": "-nWajL7zlTGj",
        "outputId": "06788daf-3b7b-44e4-e65d-002a4317e81f"
      },
      "execution_count": 39,
      "outputs": [
        {
          "output_type": "display_data",
          "data": {
            "text/html": [
              "<table class=\"dataframe\">\n",
              "<caption>A data.frame: 6 × 6</caption>\n",
              "<thead>\n",
              "\t<tr><th></th><th scope=col>id</th><th scope=col>class</th><th scope=col>math</th><th scope=col>english</th><th scope=col>science</th><th scope=col>total</th></tr>\n",
              "\t<tr><th></th><th scope=col>&lt;int&gt;</th><th scope=col>&lt;int&gt;</th><th scope=col>&lt;int&gt;</th><th scope=col>&lt;int&gt;</th><th scope=col>&lt;int&gt;</th><th scope=col>&lt;int&gt;</th></tr>\n",
              "</thead>\n",
              "<tbody>\n",
              "\t<tr><th scope=row>1</th><td>1</td><td>1</td><td>50</td><td>98</td><td>50</td><td>198</td></tr>\n",
              "\t<tr><th scope=row>2</th><td>2</td><td>1</td><td>60</td><td>97</td><td>60</td><td>217</td></tr>\n",
              "\t<tr><th scope=row>3</th><td>3</td><td>1</td><td>45</td><td>86</td><td>78</td><td>209</td></tr>\n",
              "\t<tr><th scope=row>4</th><td>4</td><td>1</td><td>30</td><td>98</td><td>58</td><td>186</td></tr>\n",
              "\t<tr><th scope=row>5</th><td>5</td><td>2</td><td>25</td><td>80</td><td>65</td><td>170</td></tr>\n",
              "\t<tr><th scope=row>6</th><td>6</td><td>2</td><td>50</td><td>89</td><td>98</td><td>237</td></tr>\n",
              "</tbody>\n",
              "</table>\n"
            ],
            "text/markdown": "\nA data.frame: 6 × 6\n\n| <!--/--> | id &lt;int&gt; | class &lt;int&gt; | math &lt;int&gt; | english &lt;int&gt; | science &lt;int&gt; | total &lt;int&gt; |\n|---|---|---|---|---|---|---|\n| 1 | 1 | 1 | 50 | 98 | 50 | 198 |\n| 2 | 2 | 1 | 60 | 97 | 60 | 217 |\n| 3 | 3 | 1 | 45 | 86 | 78 | 209 |\n| 4 | 4 | 1 | 30 | 98 | 58 | 186 |\n| 5 | 5 | 2 | 25 | 80 | 65 | 170 |\n| 6 | 6 | 2 | 50 | 89 | 98 | 237 |\n\n",
            "text/latex": "A data.frame: 6 × 6\n\\begin{tabular}{r|llllll}\n  & id & class & math & english & science & total\\\\\n  & <int> & <int> & <int> & <int> & <int> & <int>\\\\\n\\hline\n\t1 & 1 & 1 & 50 & 98 & 50 & 198\\\\\n\t2 & 2 & 1 & 60 & 97 & 60 & 217\\\\\n\t3 & 3 & 1 & 45 & 86 & 78 & 209\\\\\n\t4 & 4 & 1 & 30 & 98 & 58 & 186\\\\\n\t5 & 5 & 2 & 25 & 80 & 65 & 170\\\\\n\t6 & 6 & 2 & 50 & 89 & 98 & 237\\\\\n\\end{tabular}\n",
            "text/plain": [
              "  id class math english science total\n",
              "1 1  1     50   98      50      198  \n",
              "2 2  1     60   97      60      217  \n",
              "3 3  1     45   86      78      209  \n",
              "4 4  1     30   98      58      186  \n",
              "5 5  2     25   80      65      170  \n",
              "6 6  2     50   89      98      237  "
            ]
          },
          "metadata": {}
        }
      ]
    },
    {
      "cell_type": "code",
      "source": [
        "# 여러 파생변수 한 번에 추가하기\n",
        "exam %>%\n",
        "  mutate(total = math + english + science,\n",
        "         mean = (math + english + science) / 3) %>%\n",
        "  head()"
      ],
      "metadata": {
        "colab": {
          "base_uri": "https://localhost:8080/",
          "height": 286
        },
        "id": "1jfp6bDBpD4G",
        "outputId": "e36cc1c0-39e1-4fa3-94fe-c6ea9b1f6751"
      },
      "execution_count": 42,
      "outputs": [
        {
          "output_type": "display_data",
          "data": {
            "text/html": [
              "<table class=\"dataframe\">\n",
              "<caption>A data.frame: 6 × 7</caption>\n",
              "<thead>\n",
              "\t<tr><th></th><th scope=col>id</th><th scope=col>class</th><th scope=col>math</th><th scope=col>english</th><th scope=col>science</th><th scope=col>total</th><th scope=col>mean</th></tr>\n",
              "\t<tr><th></th><th scope=col>&lt;int&gt;</th><th scope=col>&lt;int&gt;</th><th scope=col>&lt;int&gt;</th><th scope=col>&lt;int&gt;</th><th scope=col>&lt;int&gt;</th><th scope=col>&lt;int&gt;</th><th scope=col>&lt;dbl&gt;</th></tr>\n",
              "</thead>\n",
              "<tbody>\n",
              "\t<tr><th scope=row>1</th><td>1</td><td>1</td><td>50</td><td>98</td><td>50</td><td>198</td><td>66.00000</td></tr>\n",
              "\t<tr><th scope=row>2</th><td>2</td><td>1</td><td>60</td><td>97</td><td>60</td><td>217</td><td>72.33333</td></tr>\n",
              "\t<tr><th scope=row>3</th><td>3</td><td>1</td><td>45</td><td>86</td><td>78</td><td>209</td><td>69.66667</td></tr>\n",
              "\t<tr><th scope=row>4</th><td>4</td><td>1</td><td>30</td><td>98</td><td>58</td><td>186</td><td>62.00000</td></tr>\n",
              "\t<tr><th scope=row>5</th><td>5</td><td>2</td><td>25</td><td>80</td><td>65</td><td>170</td><td>56.66667</td></tr>\n",
              "\t<tr><th scope=row>6</th><td>6</td><td>2</td><td>50</td><td>89</td><td>98</td><td>237</td><td>79.00000</td></tr>\n",
              "</tbody>\n",
              "</table>\n"
            ],
            "text/markdown": "\nA data.frame: 6 × 7\n\n| <!--/--> | id &lt;int&gt; | class &lt;int&gt; | math &lt;int&gt; | english &lt;int&gt; | science &lt;int&gt; | total &lt;int&gt; | mean &lt;dbl&gt; |\n|---|---|---|---|---|---|---|---|\n| 1 | 1 | 1 | 50 | 98 | 50 | 198 | 66.00000 |\n| 2 | 2 | 1 | 60 | 97 | 60 | 217 | 72.33333 |\n| 3 | 3 | 1 | 45 | 86 | 78 | 209 | 69.66667 |\n| 4 | 4 | 1 | 30 | 98 | 58 | 186 | 62.00000 |\n| 5 | 5 | 2 | 25 | 80 | 65 | 170 | 56.66667 |\n| 6 | 6 | 2 | 50 | 89 | 98 | 237 | 79.00000 |\n\n",
            "text/latex": "A data.frame: 6 × 7\n\\begin{tabular}{r|lllllll}\n  & id & class & math & english & science & total & mean\\\\\n  & <int> & <int> & <int> & <int> & <int> & <int> & <dbl>\\\\\n\\hline\n\t1 & 1 & 1 & 50 & 98 & 50 & 198 & 66.00000\\\\\n\t2 & 2 & 1 & 60 & 97 & 60 & 217 & 72.33333\\\\\n\t3 & 3 & 1 & 45 & 86 & 78 & 209 & 69.66667\\\\\n\t4 & 4 & 1 & 30 & 98 & 58 & 186 & 62.00000\\\\\n\t5 & 5 & 2 & 25 & 80 & 65 & 170 & 56.66667\\\\\n\t6 & 6 & 2 & 50 & 89 & 98 & 237 & 79.00000\\\\\n\\end{tabular}\n",
            "text/plain": [
              "  id class math english science total mean    \n",
              "1 1  1     50   98      50      198   66.00000\n",
              "2 2  1     60   97      60      217   72.33333\n",
              "3 3  1     45   86      78      209   69.66667\n",
              "4 4  1     30   98      58      186   62.00000\n",
              "5 5  2     25   80      65      170   56.66667\n",
              "6 6  2     50   89      98      237   79.00000"
            ]
          },
          "metadata": {}
        }
      ]
    },
    {
      "cell_type": "code",
      "source": [
        "# mutate()에 ifelse() 적용하기\n",
        "exam %>%\n",
        "  mutate(test = ifelse(science >= 60, \"pass\", \"fail\")) %>%\n",
        "  head()"
      ],
      "metadata": {
        "colab": {
          "base_uri": "https://localhost:8080/",
          "height": 286
        },
        "id": "KsgVtb8vpnAP",
        "outputId": "a098f792-894b-4302-c5a7-78d4672b8d11"
      },
      "execution_count": 41,
      "outputs": [
        {
          "output_type": "display_data",
          "data": {
            "text/html": [
              "<table class=\"dataframe\">\n",
              "<caption>A data.frame: 6 × 6</caption>\n",
              "<thead>\n",
              "\t<tr><th></th><th scope=col>id</th><th scope=col>class</th><th scope=col>math</th><th scope=col>english</th><th scope=col>science</th><th scope=col>test</th></tr>\n",
              "\t<tr><th></th><th scope=col>&lt;int&gt;</th><th scope=col>&lt;int&gt;</th><th scope=col>&lt;int&gt;</th><th scope=col>&lt;int&gt;</th><th scope=col>&lt;int&gt;</th><th scope=col>&lt;chr&gt;</th></tr>\n",
              "</thead>\n",
              "<tbody>\n",
              "\t<tr><th scope=row>1</th><td>1</td><td>1</td><td>50</td><td>98</td><td>50</td><td>fail</td></tr>\n",
              "\t<tr><th scope=row>2</th><td>2</td><td>1</td><td>60</td><td>97</td><td>60</td><td>pass</td></tr>\n",
              "\t<tr><th scope=row>3</th><td>3</td><td>1</td><td>45</td><td>86</td><td>78</td><td>pass</td></tr>\n",
              "\t<tr><th scope=row>4</th><td>4</td><td>1</td><td>30</td><td>98</td><td>58</td><td>fail</td></tr>\n",
              "\t<tr><th scope=row>5</th><td>5</td><td>2</td><td>25</td><td>80</td><td>65</td><td>pass</td></tr>\n",
              "\t<tr><th scope=row>6</th><td>6</td><td>2</td><td>50</td><td>89</td><td>98</td><td>pass</td></tr>\n",
              "</tbody>\n",
              "</table>\n"
            ],
            "text/markdown": "\nA data.frame: 6 × 6\n\n| <!--/--> | id &lt;int&gt; | class &lt;int&gt; | math &lt;int&gt; | english &lt;int&gt; | science &lt;int&gt; | test &lt;chr&gt; |\n|---|---|---|---|---|---|---|\n| 1 | 1 | 1 | 50 | 98 | 50 | fail |\n| 2 | 2 | 1 | 60 | 97 | 60 | pass |\n| 3 | 3 | 1 | 45 | 86 | 78 | pass |\n| 4 | 4 | 1 | 30 | 98 | 58 | fail |\n| 5 | 5 | 2 | 25 | 80 | 65 | pass |\n| 6 | 6 | 2 | 50 | 89 | 98 | pass |\n\n",
            "text/latex": "A data.frame: 6 × 6\n\\begin{tabular}{r|llllll}\n  & id & class & math & english & science & test\\\\\n  & <int> & <int> & <int> & <int> & <int> & <chr>\\\\\n\\hline\n\t1 & 1 & 1 & 50 & 98 & 50 & fail\\\\\n\t2 & 2 & 1 & 60 & 97 & 60 & pass\\\\\n\t3 & 3 & 1 & 45 & 86 & 78 & pass\\\\\n\t4 & 4 & 1 & 30 & 98 & 58 & fail\\\\\n\t5 & 5 & 2 & 25 & 80 & 65 & pass\\\\\n\t6 & 6 & 2 & 50 & 89 & 98 & pass\\\\\n\\end{tabular}\n",
            "text/plain": [
              "  id class math english science test\n",
              "1 1  1     50   98      50      fail\n",
              "2 2  1     60   97      60      pass\n",
              "3 3  1     45   86      78      pass\n",
              "4 4  1     30   98      58      fail\n",
              "5 5  2     25   80      65      pass\n",
              "6 6  2     50   89      98      pass"
            ]
          },
          "metadata": {}
        }
      ]
    },
    {
      "cell_type": "code",
      "source": [
        "# 추가한 변수를 dplyr 코드에 바로 활용하기\n",
        "exam %>%\n",
        "  mutate(total = math + english + science) %>%\n",
        "  arrange(total) %>%\n",
        "  head()"
      ],
      "metadata": {
        "colab": {
          "base_uri": "https://localhost:8080/",
          "height": 286
        },
        "id": "Vq09OAuBqNE7",
        "outputId": "8156b0cf-2d5e-4d97-a277-3c344a73108f"
      },
      "execution_count": 43,
      "outputs": [
        {
          "output_type": "display_data",
          "data": {
            "text/html": [
              "<table class=\"dataframe\">\n",
              "<caption>A data.frame: 6 × 6</caption>\n",
              "<thead>\n",
              "\t<tr><th></th><th scope=col>id</th><th scope=col>class</th><th scope=col>math</th><th scope=col>english</th><th scope=col>science</th><th scope=col>total</th></tr>\n",
              "\t<tr><th></th><th scope=col>&lt;int&gt;</th><th scope=col>&lt;int&gt;</th><th scope=col>&lt;int&gt;</th><th scope=col>&lt;int&gt;</th><th scope=col>&lt;int&gt;</th><th scope=col>&lt;int&gt;</th></tr>\n",
              "</thead>\n",
              "<tbody>\n",
              "\t<tr><th scope=row>1</th><td> 9</td><td>3</td><td>20</td><td>98</td><td>15</td><td>133</td></tr>\n",
              "\t<tr><th scope=row>2</th><td>14</td><td>4</td><td>48</td><td>87</td><td>12</td><td>147</td></tr>\n",
              "\t<tr><th scope=row>3</th><td>12</td><td>3</td><td>45</td><td>85</td><td>32</td><td>162</td></tr>\n",
              "\t<tr><th scope=row>4</th><td> 5</td><td>2</td><td>25</td><td>80</td><td>65</td><td>170</td></tr>\n",
              "\t<tr><th scope=row>5</th><td> 4</td><td>1</td><td>30</td><td>98</td><td>58</td><td>186</td></tr>\n",
              "\t<tr><th scope=row>6</th><td> 8</td><td>2</td><td>90</td><td>78</td><td>25</td><td>193</td></tr>\n",
              "</tbody>\n",
              "</table>\n"
            ],
            "text/markdown": "\nA data.frame: 6 × 6\n\n| <!--/--> | id &lt;int&gt; | class &lt;int&gt; | math &lt;int&gt; | english &lt;int&gt; | science &lt;int&gt; | total &lt;int&gt; |\n|---|---|---|---|---|---|---|\n| 1 |  9 | 3 | 20 | 98 | 15 | 133 |\n| 2 | 14 | 4 | 48 | 87 | 12 | 147 |\n| 3 | 12 | 3 | 45 | 85 | 32 | 162 |\n| 4 |  5 | 2 | 25 | 80 | 65 | 170 |\n| 5 |  4 | 1 | 30 | 98 | 58 | 186 |\n| 6 |  8 | 2 | 90 | 78 | 25 | 193 |\n\n",
            "text/latex": "A data.frame: 6 × 6\n\\begin{tabular}{r|llllll}\n  & id & class & math & english & science & total\\\\\n  & <int> & <int> & <int> & <int> & <int> & <int>\\\\\n\\hline\n\t1 &  9 & 3 & 20 & 98 & 15 & 133\\\\\n\t2 & 14 & 4 & 48 & 87 & 12 & 147\\\\\n\t3 & 12 & 3 & 45 & 85 & 32 & 162\\\\\n\t4 &  5 & 2 & 25 & 80 & 65 & 170\\\\\n\t5 &  4 & 1 & 30 & 98 & 58 & 186\\\\\n\t6 &  8 & 2 & 90 & 78 & 25 & 193\\\\\n\\end{tabular}\n",
            "text/plain": [
              "  id class math english science total\n",
              "1  9 3     20   98      15      133  \n",
              "2 14 4     48   87      12      147  \n",
              "3 12 3     45   85      32      162  \n",
              "4  5 2     25   80      65      170  \n",
              "5  4 1     30   98      58      186  \n",
              "6  8 2     90   78      25      193  "
            ]
          },
          "metadata": {}
        }
      ]
    },
    {
      "cell_type": "markdown",
      "source": [
        "## mpg 데이터 분석 연습\n",
        "\n",
        "*분석계획* : <br>\n",
        "1. mpg 데이터에서 cty와 hwy를 합한 \"합산 연비 변수\"를 추가\n",
        "2. 앞서 만든 \"합산 연비 변수\"를 2로 나눠 \"평균 연비 변수\"를 추가\n",
        "3. \"평균 연비 변수\"가 가장 높은 자동차 3종의 데이터를 출력"
      ],
      "metadata": {
        "id": "FPcdpxELqzX0"
      }
    },
    {
      "cell_type": "code",
      "source": [
        "mpg <- as.data.frame(ggplot2::mpg)"
      ],
      "metadata": {
        "id": "LMovj8ZGrHf-"
      },
      "execution_count": 44,
      "outputs": []
    },
    {
      "cell_type": "code",
      "source": [
        "mpg %>%\n",
        "  mutate(total = cty + hwy,\n",
        "         mean = total / 2) %>%\n",
        "  arrange(desc(mean)) %>%\n",
        "  head(3)"
      ],
      "metadata": {
        "colab": {
          "base_uri": "https://localhost:8080/",
          "height": 192
        },
        "id": "cS82wVIbqjwK",
        "outputId": "e321f123-c012-4336-868b-63db6804670b"
      },
      "execution_count": 45,
      "outputs": [
        {
          "output_type": "display_data",
          "data": {
            "text/html": [
              "<table class=\"dataframe\">\n",
              "<caption>A data.frame: 3 × 13</caption>\n",
              "<thead>\n",
              "\t<tr><th></th><th scope=col>manufacturer</th><th scope=col>model</th><th scope=col>displ</th><th scope=col>year</th><th scope=col>cyl</th><th scope=col>trans</th><th scope=col>drv</th><th scope=col>cty</th><th scope=col>hwy</th><th scope=col>fl</th><th scope=col>class</th><th scope=col>total</th><th scope=col>mean</th></tr>\n",
              "\t<tr><th></th><th scope=col>&lt;chr&gt;</th><th scope=col>&lt;chr&gt;</th><th scope=col>&lt;dbl&gt;</th><th scope=col>&lt;int&gt;</th><th scope=col>&lt;int&gt;</th><th scope=col>&lt;chr&gt;</th><th scope=col>&lt;chr&gt;</th><th scope=col>&lt;int&gt;</th><th scope=col>&lt;int&gt;</th><th scope=col>&lt;chr&gt;</th><th scope=col>&lt;chr&gt;</th><th scope=col>&lt;int&gt;</th><th scope=col>&lt;dbl&gt;</th></tr>\n",
              "</thead>\n",
              "<tbody>\n",
              "\t<tr><th scope=row>1</th><td>volkswagen</td><td>new beetle</td><td>1.9</td><td>1999</td><td>4</td><td>manual(m5)</td><td>f</td><td>35</td><td>44</td><td>d</td><td>subcompact</td><td>79</td><td>39.5</td></tr>\n",
              "\t<tr><th scope=row>2</th><td>volkswagen</td><td>jetta     </td><td>1.9</td><td>1999</td><td>4</td><td>manual(m5)</td><td>f</td><td>33</td><td>44</td><td>d</td><td>compact   </td><td>77</td><td>38.5</td></tr>\n",
              "\t<tr><th scope=row>3</th><td>volkswagen</td><td>new beetle</td><td>1.9</td><td>1999</td><td>4</td><td>auto(l4)  </td><td>f</td><td>29</td><td>41</td><td>d</td><td>subcompact</td><td>70</td><td>35.0</td></tr>\n",
              "</tbody>\n",
              "</table>\n"
            ],
            "text/markdown": "\nA data.frame: 3 × 13\n\n| <!--/--> | manufacturer &lt;chr&gt; | model &lt;chr&gt; | displ &lt;dbl&gt; | year &lt;int&gt; | cyl &lt;int&gt; | trans &lt;chr&gt; | drv &lt;chr&gt; | cty &lt;int&gt; | hwy &lt;int&gt; | fl &lt;chr&gt; | class &lt;chr&gt; | total &lt;int&gt; | mean &lt;dbl&gt; |\n|---|---|---|---|---|---|---|---|---|---|---|---|---|---|\n| 1 | volkswagen | new beetle | 1.9 | 1999 | 4 | manual(m5) | f | 35 | 44 | d | subcompact | 79 | 39.5 |\n| 2 | volkswagen | jetta      | 1.9 | 1999 | 4 | manual(m5) | f | 33 | 44 | d | compact    | 77 | 38.5 |\n| 3 | volkswagen | new beetle | 1.9 | 1999 | 4 | auto(l4)   | f | 29 | 41 | d | subcompact | 70 | 35.0 |\n\n",
            "text/latex": "A data.frame: 3 × 13\n\\begin{tabular}{r|lllllllllllll}\n  & manufacturer & model & displ & year & cyl & trans & drv & cty & hwy & fl & class & total & mean\\\\\n  & <chr> & <chr> & <dbl> & <int> & <int> & <chr> & <chr> & <int> & <int> & <chr> & <chr> & <int> & <dbl>\\\\\n\\hline\n\t1 & volkswagen & new beetle & 1.9 & 1999 & 4 & manual(m5) & f & 35 & 44 & d & subcompact & 79 & 39.5\\\\\n\t2 & volkswagen & jetta      & 1.9 & 1999 & 4 & manual(m5) & f & 33 & 44 & d & compact    & 77 & 38.5\\\\\n\t3 & volkswagen & new beetle & 1.9 & 1999 & 4 & auto(l4)   & f & 29 & 41 & d & subcompact & 70 & 35.0\\\\\n\\end{tabular}\n",
            "text/plain": [
              "  manufacturer model      displ year cyl trans      drv cty hwy fl class     \n",
              "1 volkswagen   new beetle 1.9   1999 4   manual(m5) f   35  44  d  subcompact\n",
              "2 volkswagen   jetta      1.9   1999 4   manual(m5) f   33  44  d  compact   \n",
              "3 volkswagen   new beetle 1.9   1999 4   auto(l4)   f   29  41  d  subcompact\n",
              "  total mean\n",
              "1 79    39.5\n",
              "2 77    38.5\n",
              "3 70    35.0"
            ]
          },
          "metadata": {}
        }
      ]
    },
    {
      "cell_type": "markdown",
      "source": [
        "# 집단별로 요약하기"
      ],
      "metadata": {
        "id": "ObfzoaeLskhc"
      }
    },
    {
      "cell_type": "code",
      "source": [
        "# exam 데이터에서 math 평균 산출\n",
        "exam %>%\n",
        "  summarise(mean_math = mean(math))"
      ],
      "metadata": {
        "colab": {
          "base_uri": "https://localhost:8080/",
          "height": 146
        },
        "id": "WwMYxTmmrVbk",
        "outputId": "fa994726-3454-4db6-f14b-b1dfb7618536"
      },
      "execution_count": 47,
      "outputs": [
        {
          "output_type": "display_data",
          "data": {
            "text/html": [
              "<table class=\"dataframe\">\n",
              "<caption>A data.frame: 1 × 1</caption>\n",
              "<thead>\n",
              "\t<tr><th scope=col>mean_math</th></tr>\n",
              "\t<tr><th scope=col>&lt;dbl&gt;</th></tr>\n",
              "</thead>\n",
              "<tbody>\n",
              "\t<tr><td>57.45</td></tr>\n",
              "</tbody>\n",
              "</table>\n"
            ],
            "text/markdown": "\nA data.frame: 1 × 1\n\n| mean_math &lt;dbl&gt; |\n|---|\n| 57.45 |\n\n",
            "text/latex": "A data.frame: 1 × 1\n\\begin{tabular}{l}\n mean\\_math\\\\\n <dbl>\\\\\n\\hline\n\t 57.45\\\\\n\\end{tabular}\n",
            "text/plain": [
              "  mean_math\n",
              "1 57.45    "
            ]
          },
          "metadata": {}
        }
      ]
    },
    {
      "cell_type": "code",
      "source": [
        "# 집단별로 요약하기\n",
        "exam %>%\n",
        "  group_by(class) %>% # class 별로 분리\n",
        "  summarise(mean_math = mean(math))"
      ],
      "metadata": {
        "colab": {
          "base_uri": "https://localhost:8080/",
          "height": 255
        },
        "id": "-YySqkjGs2tC",
        "outputId": "59649aab-2014-48c0-f106-a6097048df42"
      },
      "execution_count": 48,
      "outputs": [
        {
          "output_type": "display_data",
          "data": {
            "text/html": [
              "<table class=\"dataframe\">\n",
              "<caption>A tibble: 5 × 2</caption>\n",
              "<thead>\n",
              "\t<tr><th scope=col>class</th><th scope=col>mean_math</th></tr>\n",
              "\t<tr><th scope=col>&lt;int&gt;</th><th scope=col>&lt;dbl&gt;</th></tr>\n",
              "</thead>\n",
              "<tbody>\n",
              "\t<tr><td>1</td><td>46.25</td></tr>\n",
              "\t<tr><td>2</td><td>61.25</td></tr>\n",
              "\t<tr><td>3</td><td>45.00</td></tr>\n",
              "\t<tr><td>4</td><td>56.75</td></tr>\n",
              "\t<tr><td>5</td><td>78.00</td></tr>\n",
              "</tbody>\n",
              "</table>\n"
            ],
            "text/markdown": "\nA tibble: 5 × 2\n\n| class &lt;int&gt; | mean_math &lt;dbl&gt; |\n|---|---|\n| 1 | 46.25 |\n| 2 | 61.25 |\n| 3 | 45.00 |\n| 4 | 56.75 |\n| 5 | 78.00 |\n\n",
            "text/latex": "A tibble: 5 × 2\n\\begin{tabular}{ll}\n class & mean\\_math\\\\\n <int> & <dbl>\\\\\n\\hline\n\t 1 & 46.25\\\\\n\t 2 & 61.25\\\\\n\t 3 & 45.00\\\\\n\t 4 & 56.75\\\\\n\t 5 & 78.00\\\\\n\\end{tabular}\n",
            "text/plain": [
              "  class mean_math\n",
              "1 1     46.25    \n",
              "2 2     61.25    \n",
              "3 3     45.00    \n",
              "4 4     56.75    \n",
              "5 5     78.00    "
            ]
          },
          "metadata": {}
        }
      ]
    },
    {
      "cell_type": "code",
      "source": [
        "# 여러 요약 통계량 한 번에 산출하기\n",
        "exam %>%\n",
        "  group_by(class) %>% # class 별로 분리\n",
        "  summarise(mean_math = mean(math), # math 평균\n",
        "            sum_math = sum(math), # math 합계\n",
        "            median_math = median(math), # math 중앙값\n",
        "            n = n()) # 학생 수"
      ],
      "metadata": {
        "colab": {
          "base_uri": "https://localhost:8080/",
          "height": 255
        },
        "id": "q8D1qLWXtaon",
        "outputId": "475f1dd9-0ea5-4287-837c-5e5779203aba"
      },
      "execution_count": 50,
      "outputs": [
        {
          "output_type": "display_data",
          "data": {
            "text/html": [
              "<table class=\"dataframe\">\n",
              "<caption>A tibble: 5 × 5</caption>\n",
              "<thead>\n",
              "\t<tr><th scope=col>class</th><th scope=col>mean_math</th><th scope=col>sum_math</th><th scope=col>median_math</th><th scope=col>n</th></tr>\n",
              "\t<tr><th scope=col>&lt;int&gt;</th><th scope=col>&lt;dbl&gt;</th><th scope=col>&lt;int&gt;</th><th scope=col>&lt;dbl&gt;</th><th scope=col>&lt;int&gt;</th></tr>\n",
              "</thead>\n",
              "<tbody>\n",
              "\t<tr><td>1</td><td>46.25</td><td>185</td><td>47.5</td><td>4</td></tr>\n",
              "\t<tr><td>2</td><td>61.25</td><td>245</td><td>65.0</td><td>4</td></tr>\n",
              "\t<tr><td>3</td><td>45.00</td><td>180</td><td>47.5</td><td>4</td></tr>\n",
              "\t<tr><td>4</td><td>56.75</td><td>227</td><td>53.0</td><td>4</td></tr>\n",
              "\t<tr><td>5</td><td>78.00</td><td>312</td><td>79.0</td><td>4</td></tr>\n",
              "</tbody>\n",
              "</table>\n"
            ],
            "text/markdown": "\nA tibble: 5 × 5\n\n| class &lt;int&gt; | mean_math &lt;dbl&gt; | sum_math &lt;int&gt; | median_math &lt;dbl&gt; | n &lt;int&gt; |\n|---|---|---|---|---|\n| 1 | 46.25 | 185 | 47.5 | 4 |\n| 2 | 61.25 | 245 | 65.0 | 4 |\n| 3 | 45.00 | 180 | 47.5 | 4 |\n| 4 | 56.75 | 227 | 53.0 | 4 |\n| 5 | 78.00 | 312 | 79.0 | 4 |\n\n",
            "text/latex": "A tibble: 5 × 5\n\\begin{tabular}{lllll}\n class & mean\\_math & sum\\_math & median\\_math & n\\\\\n <int> & <dbl> & <int> & <dbl> & <int>\\\\\n\\hline\n\t 1 & 46.25 & 185 & 47.5 & 4\\\\\n\t 2 & 61.25 & 245 & 65.0 & 4\\\\\n\t 3 & 45.00 & 180 & 47.5 & 4\\\\\n\t 4 & 56.75 & 227 & 53.0 & 4\\\\\n\t 5 & 78.00 & 312 & 79.0 & 4\\\\\n\\end{tabular}\n",
            "text/plain": [
              "  class mean_math sum_math median_math n\n",
              "1 1     46.25     185      47.5        4\n",
              "2 2     61.25     245      65.0        4\n",
              "3 3     45.00     180      47.5        4\n",
              "4 4     56.75     227      53.0        4\n",
              "5 5     78.00     312      79.0        4"
            ]
          },
          "metadata": {}
        }
      ]
    },
    {
      "cell_type": "markdown",
      "source": [
        "## summarise()와 함께 사용할 수 있는 함수\n",
        "- mean() : 평균\n",
        "- sd() : 표준편차\n",
        "- sum() : 합계\n",
        "- median() : 중앙값\n",
        "- min() : 최솟값\n",
        "- max() : 최댓값\n",
        "- n() : 빈도수"
      ],
      "metadata": {
        "id": "1ej3IK-ouYK6"
      }
    },
    {
      "cell_type": "code",
      "source": [
        "# 각 집단별로 다시 집단 나누기\n",
        "mpg %>%\n",
        "  group_by(manufacturer, drv) %>% # 제조사 별로 분리 후, 구동 방식별로 분리\n",
        "  summarise(mean_cty = mean(cty)) %>%\n",
        "  head()"
      ],
      "metadata": {
        "colab": {
          "base_uri": "https://localhost:8080/",
          "height": 322
        },
        "id": "LDT58XhOuEXg",
        "outputId": "572bff8d-99cc-42ca-ee33-53fe495d61d0"
      },
      "execution_count": 51,
      "outputs": [
        {
          "output_type": "stream",
          "name": "stderr",
          "text": [
            "\u001b[1m\u001b[22m`summarise()` has grouped output by 'manufacturer'. You can override using the\n",
            "`.groups` argument.\n"
          ]
        },
        {
          "output_type": "display_data",
          "data": {
            "text/html": [
              "<table class=\"dataframe\">\n",
              "<caption>A grouped_df: 6 × 3</caption>\n",
              "<thead>\n",
              "\t<tr><th scope=col>manufacturer</th><th scope=col>drv</th><th scope=col>mean_cty</th></tr>\n",
              "\t<tr><th scope=col>&lt;chr&gt;</th><th scope=col>&lt;chr&gt;</th><th scope=col>&lt;dbl&gt;</th></tr>\n",
              "</thead>\n",
              "<tbody>\n",
              "\t<tr><td>audi     </td><td>4</td><td>16.81818</td></tr>\n",
              "\t<tr><td>audi     </td><td>f</td><td>18.85714</td></tr>\n",
              "\t<tr><td>chevrolet</td><td>4</td><td>12.50000</td></tr>\n",
              "\t<tr><td>chevrolet</td><td>f</td><td>18.80000</td></tr>\n",
              "\t<tr><td>chevrolet</td><td>r</td><td>14.10000</td></tr>\n",
              "\t<tr><td>dodge    </td><td>4</td><td>12.00000</td></tr>\n",
              "</tbody>\n",
              "</table>\n"
            ],
            "text/markdown": "\nA grouped_df: 6 × 3\n\n| manufacturer &lt;chr&gt; | drv &lt;chr&gt; | mean_cty &lt;dbl&gt; |\n|---|---|---|\n| audi      | 4 | 16.81818 |\n| audi      | f | 18.85714 |\n| chevrolet | 4 | 12.50000 |\n| chevrolet | f | 18.80000 |\n| chevrolet | r | 14.10000 |\n| dodge     | 4 | 12.00000 |\n\n",
            "text/latex": "A grouped\\_df: 6 × 3\n\\begin{tabular}{lll}\n manufacturer & drv & mean\\_cty\\\\\n <chr> & <chr> & <dbl>\\\\\n\\hline\n\t audi      & 4 & 16.81818\\\\\n\t audi      & f & 18.85714\\\\\n\t chevrolet & 4 & 12.50000\\\\\n\t chevrolet & f & 18.80000\\\\\n\t chevrolet & r & 14.10000\\\\\n\t dodge     & 4 & 12.00000\\\\\n\\end{tabular}\n",
            "text/plain": [
              "  manufacturer drv mean_cty\n",
              "1 audi         4   16.81818\n",
              "2 audi         f   18.85714\n",
              "3 chevrolet    4   12.50000\n",
              "4 chevrolet    f   18.80000\n",
              "5 chevrolet    r   14.10000\n",
              "6 dodge        4   12.00000"
            ]
          },
          "metadata": {}
        }
      ]
    },
    {
      "cell_type": "markdown",
      "source": [
        "## mpg 데이터로 dplyr 조합 연습\n",
        "\n",
        "*회사별로 \"suv\" 자동차의 도시 및 고속도로 통합 연비(합계) 평균을 구해 내림차순으로 정렬하고, 상위 5개 출력하기*\n",
        "\n",
        "1. 회사별로 분리 : group_by()\n",
        "2. suv 추출 : filter()\n",
        "3. 통합 연비 변수 생성 : mutate()\n",
        "4. 통합 연비 평균 산출 : summarise()\n",
        "5. 내림차순 정렬 : arrange()\n",
        "6. 상위 5개 출력 : head()"
      ],
      "metadata": {
        "id": "S0LHwDnMvjCE"
      }
    },
    {
      "cell_type": "code",
      "source": [
        "mpg %>%\n",
        "  group_by(manufacturer) %>% # 회사별로 분리\n",
        "  filter(class == \"suv\") %>% # suv 추출\n",
        "  mutate(tot = cty + hwy) %>% # 통합 연비 변수 생성\n",
        "  summarise(mean_tot = mean(tot)) %>% # 통합 연비 평균 산출\n",
        "  arrange(desc(mean_tot)) %>% # 내림차순 정렬\n",
        "  head(5) # 상위 5개 출력"
      ],
      "metadata": {
        "colab": {
          "base_uri": "https://localhost:8080/",
          "height": 255
        },
        "id": "TVJjSTDivCuk",
        "outputId": "e797e9ea-38ca-4290-8135-fc4427773325"
      },
      "execution_count": 54,
      "outputs": [
        {
          "output_type": "display_data",
          "data": {
            "text/html": [
              "<table class=\"dataframe\">\n",
              "<caption>A tibble: 5 × 2</caption>\n",
              "<thead>\n",
              "\t<tr><th scope=col>manufacturer</th><th scope=col>mean_tot</th></tr>\n",
              "\t<tr><th scope=col>&lt;chr&gt;</th><th scope=col>&lt;dbl&gt;</th></tr>\n",
              "</thead>\n",
              "<tbody>\n",
              "\t<tr><td>subaru </td><td>43.83333</td></tr>\n",
              "\t<tr><td>toyota </td><td>32.62500</td></tr>\n",
              "\t<tr><td>nissan </td><td>31.75000</td></tr>\n",
              "\t<tr><td>mercury</td><td>31.25000</td></tr>\n",
              "\t<tr><td>jeep   </td><td>31.12500</td></tr>\n",
              "</tbody>\n",
              "</table>\n"
            ],
            "text/markdown": "\nA tibble: 5 × 2\n\n| manufacturer &lt;chr&gt; | mean_tot &lt;dbl&gt; |\n|---|---|\n| subaru  | 43.83333 |\n| toyota  | 32.62500 |\n| nissan  | 31.75000 |\n| mercury | 31.25000 |\n| jeep    | 31.12500 |\n\n",
            "text/latex": "A tibble: 5 × 2\n\\begin{tabular}{ll}\n manufacturer & mean\\_tot\\\\\n <chr> & <dbl>\\\\\n\\hline\n\t subaru  & 43.83333\\\\\n\t toyota  & 32.62500\\\\\n\t nissan  & 31.75000\\\\\n\t mercury & 31.25000\\\\\n\t jeep    & 31.12500\\\\\n\\end{tabular}\n",
            "text/plain": [
              "  manufacturer mean_tot\n",
              "1 subaru       43.83333\n",
              "2 toyota       32.62500\n",
              "3 nissan       31.75000\n",
              "4 mercury      31.25000\n",
              "5 jeep         31.12500"
            ]
          },
          "metadata": {}
        }
      ]
    },
    {
      "cell_type": "markdown",
      "source": [
        "*분석계획* : <br>\n",
        "1. 어떤 차종의 도시 연비가 높은지 비교하려고 함. class별 cty 평균을 구한 뒤 내림차순으로 정렬\n",
        "2. 어떤 회사 자동차의 hwy가 가장 높은지 알아보려고 함. hwy 평균이 가장 높은 회사 세 곳을 출력\n",
        "3. 어떤 회사에서 \"compact\" 차종을 가장 많이 생산하는지 알아보려고 함. 각 회사별 \"compact\" 차종 수를 내림차순으로 정렬"
      ],
      "metadata": {
        "id": "7daQQbsty62N"
      }
    },
    {
      "cell_type": "code",
      "source": [
        "# 1. 어떤 차종의 도시 연비가 높은지 비교하려고 함. class별 cty 평균을 구한 뒤 내림차순으로 정렬\n",
        "mpg %>%\n",
        "  group_by(class) %>% # class별 분리\n",
        "  summarise(mean_cty = mean(cty)) %>% # cty 평균 구하기\n",
        "  arrange(desc(mean_cty)) %>% # 내림차순 정렬\n",
        "  head()"
      ],
      "metadata": {
        "colab": {
          "base_uri": "https://localhost:8080/",
          "height": 286
        },
        "id": "scIJuigGwwxy",
        "outputId": "7a59a6e2-5d1b-4b6b-ee26-971b520a3bee"
      },
      "execution_count": 63,
      "outputs": [
        {
          "output_type": "display_data",
          "data": {
            "text/html": [
              "<table class=\"dataframe\">\n",
              "<caption>A tibble: 6 × 2</caption>\n",
              "<thead>\n",
              "\t<tr><th scope=col>class</th><th scope=col>mean_cty</th></tr>\n",
              "\t<tr><th scope=col>&lt;chr&gt;</th><th scope=col>&lt;dbl&gt;</th></tr>\n",
              "</thead>\n",
              "<tbody>\n",
              "\t<tr><td>subcompact</td><td>20.37143</td></tr>\n",
              "\t<tr><td>compact   </td><td>20.12766</td></tr>\n",
              "\t<tr><td>midsize   </td><td>18.75610</td></tr>\n",
              "\t<tr><td>minivan   </td><td>15.81818</td></tr>\n",
              "\t<tr><td>2seater   </td><td>15.40000</td></tr>\n",
              "\t<tr><td>suv       </td><td>13.50000</td></tr>\n",
              "</tbody>\n",
              "</table>\n"
            ],
            "text/markdown": "\nA tibble: 6 × 2\n\n| class &lt;chr&gt; | mean_cty &lt;dbl&gt; |\n|---|---|\n| subcompact | 20.37143 |\n| compact    | 20.12766 |\n| midsize    | 18.75610 |\n| minivan    | 15.81818 |\n| 2seater    | 15.40000 |\n| suv        | 13.50000 |\n\n",
            "text/latex": "A tibble: 6 × 2\n\\begin{tabular}{ll}\n class & mean\\_cty\\\\\n <chr> & <dbl>\\\\\n\\hline\n\t subcompact & 20.37143\\\\\n\t compact    & 20.12766\\\\\n\t midsize    & 18.75610\\\\\n\t minivan    & 15.81818\\\\\n\t 2seater    & 15.40000\\\\\n\t suv        & 13.50000\\\\\n\\end{tabular}\n",
            "text/plain": [
              "  class      mean_cty\n",
              "1 subcompact 20.37143\n",
              "2 compact    20.12766\n",
              "3 midsize    18.75610\n",
              "4 minivan    15.81818\n",
              "5 2seater    15.40000\n",
              "6 suv        13.50000"
            ]
          },
          "metadata": {}
        }
      ]
    },
    {
      "cell_type": "code",
      "source": [
        "# 2. 어떤 회사 자동차의 hwy가 가장 높은지 알아보려고 함. hwy 평균이 가장 높은 회사 세 곳을 출력\n",
        "mpg %>%\n",
        "  group_by(manufacturer) %>% # 회사별 분리 \n",
        "  summarise(mean_hwy = mean(hwy)) %>% # hwy 평균 구하기\n",
        "  arrange(desc(mean_hwy)) %>% # 내림차순 정렬\n",
        "  head(3) # 상위 3개 출력"
      ],
      "metadata": {
        "colab": {
          "base_uri": "https://localhost:8080/",
          "height": 192
        },
        "id": "FWhHptfVzjLR",
        "outputId": "5170a206-bde0-4df3-f4dc-a2bc2cd4892a"
      },
      "execution_count": 59,
      "outputs": [
        {
          "output_type": "display_data",
          "data": {
            "text/html": [
              "<table class=\"dataframe\">\n",
              "<caption>A tibble: 3 × 2</caption>\n",
              "<thead>\n",
              "\t<tr><th scope=col>manufacturer</th><th scope=col>mean_hwy</th></tr>\n",
              "\t<tr><th scope=col>&lt;chr&gt;</th><th scope=col>&lt;dbl&gt;</th></tr>\n",
              "</thead>\n",
              "<tbody>\n",
              "\t<tr><td>honda     </td><td>32.55556</td></tr>\n",
              "\t<tr><td>volkswagen</td><td>29.22222</td></tr>\n",
              "\t<tr><td>hyundai   </td><td>26.85714</td></tr>\n",
              "</tbody>\n",
              "</table>\n"
            ],
            "text/markdown": "\nA tibble: 3 × 2\n\n| manufacturer &lt;chr&gt; | mean_hwy &lt;dbl&gt; |\n|---|---|\n| honda      | 32.55556 |\n| volkswagen | 29.22222 |\n| hyundai    | 26.85714 |\n\n",
            "text/latex": "A tibble: 3 × 2\n\\begin{tabular}{ll}\n manufacturer & mean\\_hwy\\\\\n <chr> & <dbl>\\\\\n\\hline\n\t honda      & 32.55556\\\\\n\t volkswagen & 29.22222\\\\\n\t hyundai    & 26.85714\\\\\n\\end{tabular}\n",
            "text/plain": [
              "  manufacturer mean_hwy\n",
              "1 honda        32.55556\n",
              "2 volkswagen   29.22222\n",
              "3 hyundai      26.85714"
            ]
          },
          "metadata": {}
        }
      ]
    },
    {
      "cell_type": "code",
      "source": [
        "# 3. 어떤 회사에서 \"compact\" 차종을 가장 많이 생산하는지 알아보려고 함. 각 회사별 \"compact\" 차종 수를 내림차순으로 정렬\n",
        "mpg %>%\n",
        "  filter(class == \"compact\") %>% # compact 추출\n",
        "  group_by(manufacturer) %>% # 회사별 분리\n",
        "  summarise(count = n()) %>% # 빈도 구하기 \n",
        "  arrange(desc(count)) %>% # 내림차순 정렬\n",
        "  head()"
      ],
      "metadata": {
        "colab": {
          "base_uri": "https://localhost:8080/",
          "height": 255
        },
        "id": "0xHOvmyZ0CC9",
        "outputId": "6409bcba-40b6-4747-d804-012f6f095b85"
      },
      "execution_count": 61,
      "outputs": [
        {
          "output_type": "display_data",
          "data": {
            "text/html": [
              "<table class=\"dataframe\">\n",
              "<caption>A tibble: 5 × 2</caption>\n",
              "<thead>\n",
              "\t<tr><th scope=col>manufacturer</th><th scope=col>cnt</th></tr>\n",
              "\t<tr><th scope=col>&lt;chr&gt;</th><th scope=col>&lt;int&gt;</th></tr>\n",
              "</thead>\n",
              "<tbody>\n",
              "\t<tr><td>audi      </td><td>15</td></tr>\n",
              "\t<tr><td>volkswagen</td><td>14</td></tr>\n",
              "\t<tr><td>toyota    </td><td>12</td></tr>\n",
              "\t<tr><td>subaru    </td><td> 4</td></tr>\n",
              "\t<tr><td>nissan    </td><td> 2</td></tr>\n",
              "</tbody>\n",
              "</table>\n"
            ],
            "text/markdown": "\nA tibble: 5 × 2\n\n| manufacturer &lt;chr&gt; | cnt &lt;int&gt; |\n|---|---|\n| audi       | 15 |\n| volkswagen | 14 |\n| toyota     | 12 |\n| subaru     |  4 |\n| nissan     |  2 |\n\n",
            "text/latex": "A tibble: 5 × 2\n\\begin{tabular}{ll}\n manufacturer & cnt\\\\\n <chr> & <int>\\\\\n\\hline\n\t audi       & 15\\\\\n\t volkswagen & 14\\\\\n\t toyota     & 12\\\\\n\t subaru     &  4\\\\\n\t nissan     &  2\\\\\n\\end{tabular}\n",
            "text/plain": [
              "  manufacturer cnt\n",
              "1 audi         15 \n",
              "2 volkswagen   14 \n",
              "3 toyota       12 \n",
              "4 subaru        4 \n",
              "5 nissan        2 "
            ]
          },
          "metadata": {}
        }
      ]
    },
    {
      "cell_type": "markdown",
      "source": [
        "# 데이터 합치기"
      ],
      "metadata": {
        "id": "CwabBxe36cKr"
      }
    },
    {
      "cell_type": "code",
      "source": [
        "test1 <- data.frame(id = c(1, 2, 3, 4, 5), midterm = c(60, 80, 70, 90, 85))\n",
        "\n",
        "test2 <- data.frame(id = c(1, 2, 3, 4, 5), final = c(70, 83, 65, 95, 80))"
      ],
      "metadata": {
        "id": "KmMPNeIM0txb"
      },
      "execution_count": 64,
      "outputs": []
    },
    {
      "cell_type": "code",
      "source": [
        "print(test1)"
      ],
      "metadata": {
        "colab": {
          "base_uri": "https://localhost:8080/"
        },
        "id": "0_QJqY7p6pbb",
        "outputId": "3eade60f-0ac2-4c3b-807d-85c302692975"
      },
      "execution_count": 65,
      "outputs": [
        {
          "output_type": "stream",
          "name": "stdout",
          "text": [
            "  id midterm\n",
            "1  1      60\n",
            "2  2      80\n",
            "3  3      70\n",
            "4  4      90\n",
            "5  5      85\n"
          ]
        }
      ]
    },
    {
      "cell_type": "code",
      "source": [
        "print(test2)"
      ],
      "metadata": {
        "colab": {
          "base_uri": "https://localhost:8080/"
        },
        "id": "8fjPK81Q6vg-",
        "outputId": "24e0aded-1c1a-4e20-8f34-c7852a01ffcf"
      },
      "execution_count": 66,
      "outputs": [
        {
          "output_type": "stream",
          "name": "stdout",
          "text": [
            "  id final\n",
            "1  1    70\n",
            "2  2    83\n",
            "3  3    65\n",
            "4  4    95\n",
            "5  5    80\n"
          ]
        }
      ]
    },
    {
      "cell_type": "code",
      "source": [
        "# id 기준으로 합쳐서 df_tota에 할당\n",
        "df_total <- left_join(test1, test2, by = \"id\")\n",
        "df_total"
      ],
      "metadata": {
        "colab": {
          "base_uri": "https://localhost:8080/",
          "height": 255
        },
        "id": "p1thbKnH6zlA",
        "outputId": "167045f2-e4dc-4a48-80be-4b2b4e4bf9ad"
      },
      "execution_count": 68,
      "outputs": [
        {
          "output_type": "display_data",
          "data": {
            "text/html": [
              "<table class=\"dataframe\">\n",
              "<caption>A data.frame: 5 × 3</caption>\n",
              "<thead>\n",
              "\t<tr><th scope=col>id</th><th scope=col>midterm</th><th scope=col>final</th></tr>\n",
              "\t<tr><th scope=col>&lt;dbl&gt;</th><th scope=col>&lt;dbl&gt;</th><th scope=col>&lt;dbl&gt;</th></tr>\n",
              "</thead>\n",
              "<tbody>\n",
              "\t<tr><td>1</td><td>60</td><td>70</td></tr>\n",
              "\t<tr><td>2</td><td>80</td><td>83</td></tr>\n",
              "\t<tr><td>3</td><td>70</td><td>65</td></tr>\n",
              "\t<tr><td>4</td><td>90</td><td>95</td></tr>\n",
              "\t<tr><td>5</td><td>85</td><td>80</td></tr>\n",
              "</tbody>\n",
              "</table>\n"
            ],
            "text/markdown": "\nA data.frame: 5 × 3\n\n| id &lt;dbl&gt; | midterm &lt;dbl&gt; | final &lt;dbl&gt; |\n|---|---|---|\n| 1 | 60 | 70 |\n| 2 | 80 | 83 |\n| 3 | 70 | 65 |\n| 4 | 90 | 95 |\n| 5 | 85 | 80 |\n\n",
            "text/latex": "A data.frame: 5 × 3\n\\begin{tabular}{lll}\n id & midterm & final\\\\\n <dbl> & <dbl> & <dbl>\\\\\n\\hline\n\t 1 & 60 & 70\\\\\n\t 2 & 80 & 83\\\\\n\t 3 & 70 & 65\\\\\n\t 4 & 90 & 95\\\\\n\t 5 & 85 & 80\\\\\n\\end{tabular}\n",
            "text/plain": [
              "  id midterm final\n",
              "1 1  60      70   \n",
              "2 2  80      83   \n",
              "3 3  70      65   \n",
              "4 4  90      95   \n",
              "5 5  85      80   "
            ]
          },
          "metadata": {}
        }
      ]
    },
    {
      "cell_type": "code",
      "source": [
        "# 다른 데이터 활용해서 변수 추가하기\n",
        "df_name <- data.frame(class = c(1, 2, 3, 4, 5), teacher = c(\"kim\", \"lee\", \"park\", \"choi\", \"jung\"))\n",
        "df_name"
      ],
      "metadata": {
        "colab": {
          "base_uri": "https://localhost:8080/",
          "height": 272
        },
        "id": "EMjyGj0M7SHc",
        "outputId": "fccc6703-478b-41d6-cc77-7d35f1e330d8"
      },
      "execution_count": 70,
      "outputs": [
        {
          "output_type": "display_data",
          "data": {
            "text/html": [
              "<table class=\"dataframe\">\n",
              "<caption>A data.frame: 5 × 2</caption>\n",
              "<thead>\n",
              "\t<tr><th scope=col>class</th><th scope=col>teacher</th></tr>\n",
              "\t<tr><th scope=col>&lt;dbl&gt;</th><th scope=col>&lt;chr&gt;</th></tr>\n",
              "</thead>\n",
              "<tbody>\n",
              "\t<tr><td>1</td><td>kim </td></tr>\n",
              "\t<tr><td>2</td><td>lee </td></tr>\n",
              "\t<tr><td>3</td><td>park</td></tr>\n",
              "\t<tr><td>4</td><td>choi</td></tr>\n",
              "\t<tr><td>5</td><td>jung</td></tr>\n",
              "</tbody>\n",
              "</table>\n"
            ],
            "text/markdown": "\nA data.frame: 5 × 2\n\n| class &lt;dbl&gt; | teacher &lt;chr&gt; |\n|---|---|\n| 1 | kim  |\n| 2 | lee  |\n| 3 | park |\n| 4 | choi |\n| 5 | jung |\n\n",
            "text/latex": "A data.frame: 5 × 2\n\\begin{tabular}{ll}\n class & teacher\\\\\n <dbl> & <chr>\\\\\n\\hline\n\t 1 & kim \\\\\n\t 2 & lee \\\\\n\t 3 & park\\\\\n\t 4 & choi\\\\\n\t 5 & jung\\\\\n\\end{tabular}\n",
            "text/plain": [
              "  class teacher\n",
              "1 1     kim    \n",
              "2 2     lee    \n",
              "3 3     park   \n",
              "4 4     choi   \n",
              "5 5     jung   "
            ]
          },
          "metadata": {}
        }
      ]
    },
    {
      "cell_type": "code",
      "source": [
        "# class 기준으로 합치기\n",
        "exam_new <- left_join(exam, df_name, by = \"class\")\n",
        "exam_new"
      ],
      "metadata": {
        "colab": {
          "base_uri": "https://localhost:8080/",
          "height": 725
        },
        "id": "0qxl5p0G7qXZ",
        "outputId": "cfff56c5-73a7-4f17-e769-7d05a5dc339b"
      },
      "execution_count": 71,
      "outputs": [
        {
          "output_type": "display_data",
          "data": {
            "text/html": [
              "<table class=\"dataframe\">\n",
              "<caption>A data.frame: 20 × 6</caption>\n",
              "<thead>\n",
              "\t<tr><th scope=col>id</th><th scope=col>class</th><th scope=col>math</th><th scope=col>english</th><th scope=col>science</th><th scope=col>teacher</th></tr>\n",
              "\t<tr><th scope=col>&lt;int&gt;</th><th scope=col>&lt;dbl&gt;</th><th scope=col>&lt;int&gt;</th><th scope=col>&lt;int&gt;</th><th scope=col>&lt;int&gt;</th><th scope=col>&lt;chr&gt;</th></tr>\n",
              "</thead>\n",
              "<tbody>\n",
              "\t<tr><td> 1</td><td>1</td><td>50</td><td>98</td><td>50</td><td>kim </td></tr>\n",
              "\t<tr><td> 2</td><td>1</td><td>60</td><td>97</td><td>60</td><td>kim </td></tr>\n",
              "\t<tr><td> 3</td><td>1</td><td>45</td><td>86</td><td>78</td><td>kim </td></tr>\n",
              "\t<tr><td> 4</td><td>1</td><td>30</td><td>98</td><td>58</td><td>kim </td></tr>\n",
              "\t<tr><td> 5</td><td>2</td><td>25</td><td>80</td><td>65</td><td>lee </td></tr>\n",
              "\t<tr><td> 6</td><td>2</td><td>50</td><td>89</td><td>98</td><td>lee </td></tr>\n",
              "\t<tr><td> 7</td><td>2</td><td>80</td><td>90</td><td>45</td><td>lee </td></tr>\n",
              "\t<tr><td> 8</td><td>2</td><td>90</td><td>78</td><td>25</td><td>lee </td></tr>\n",
              "\t<tr><td> 9</td><td>3</td><td>20</td><td>98</td><td>15</td><td>park</td></tr>\n",
              "\t<tr><td>10</td><td>3</td><td>50</td><td>98</td><td>45</td><td>park</td></tr>\n",
              "\t<tr><td>11</td><td>3</td><td>65</td><td>65</td><td>65</td><td>park</td></tr>\n",
              "\t<tr><td>12</td><td>3</td><td>45</td><td>85</td><td>32</td><td>park</td></tr>\n",
              "\t<tr><td>13</td><td>4</td><td>46</td><td>98</td><td>65</td><td>choi</td></tr>\n",
              "\t<tr><td>14</td><td>4</td><td>48</td><td>87</td><td>12</td><td>choi</td></tr>\n",
              "\t<tr><td>15</td><td>4</td><td>75</td><td>56</td><td>78</td><td>choi</td></tr>\n",
              "\t<tr><td>16</td><td>4</td><td>58</td><td>98</td><td>65</td><td>choi</td></tr>\n",
              "\t<tr><td>17</td><td>5</td><td>65</td><td>68</td><td>98</td><td>jung</td></tr>\n",
              "\t<tr><td>18</td><td>5</td><td>80</td><td>78</td><td>90</td><td>jung</td></tr>\n",
              "\t<tr><td>19</td><td>5</td><td>89</td><td>68</td><td>87</td><td>jung</td></tr>\n",
              "\t<tr><td>20</td><td>5</td><td>78</td><td>83</td><td>58</td><td>jung</td></tr>\n",
              "</tbody>\n",
              "</table>\n"
            ],
            "text/markdown": "\nA data.frame: 20 × 6\n\n| id &lt;int&gt; | class &lt;dbl&gt; | math &lt;int&gt; | english &lt;int&gt; | science &lt;int&gt; | teacher &lt;chr&gt; |\n|---|---|---|---|---|---|\n|  1 | 1 | 50 | 98 | 50 | kim  |\n|  2 | 1 | 60 | 97 | 60 | kim  |\n|  3 | 1 | 45 | 86 | 78 | kim  |\n|  4 | 1 | 30 | 98 | 58 | kim  |\n|  5 | 2 | 25 | 80 | 65 | lee  |\n|  6 | 2 | 50 | 89 | 98 | lee  |\n|  7 | 2 | 80 | 90 | 45 | lee  |\n|  8 | 2 | 90 | 78 | 25 | lee  |\n|  9 | 3 | 20 | 98 | 15 | park |\n| 10 | 3 | 50 | 98 | 45 | park |\n| 11 | 3 | 65 | 65 | 65 | park |\n| 12 | 3 | 45 | 85 | 32 | park |\n| 13 | 4 | 46 | 98 | 65 | choi |\n| 14 | 4 | 48 | 87 | 12 | choi |\n| 15 | 4 | 75 | 56 | 78 | choi |\n| 16 | 4 | 58 | 98 | 65 | choi |\n| 17 | 5 | 65 | 68 | 98 | jung |\n| 18 | 5 | 80 | 78 | 90 | jung |\n| 19 | 5 | 89 | 68 | 87 | jung |\n| 20 | 5 | 78 | 83 | 58 | jung |\n\n",
            "text/latex": "A data.frame: 20 × 6\n\\begin{tabular}{llllll}\n id & class & math & english & science & teacher\\\\\n <int> & <dbl> & <int> & <int> & <int> & <chr>\\\\\n\\hline\n\t  1 & 1 & 50 & 98 & 50 & kim \\\\\n\t  2 & 1 & 60 & 97 & 60 & kim \\\\\n\t  3 & 1 & 45 & 86 & 78 & kim \\\\\n\t  4 & 1 & 30 & 98 & 58 & kim \\\\\n\t  5 & 2 & 25 & 80 & 65 & lee \\\\\n\t  6 & 2 & 50 & 89 & 98 & lee \\\\\n\t  7 & 2 & 80 & 90 & 45 & lee \\\\\n\t  8 & 2 & 90 & 78 & 25 & lee \\\\\n\t  9 & 3 & 20 & 98 & 15 & park\\\\\n\t 10 & 3 & 50 & 98 & 45 & park\\\\\n\t 11 & 3 & 65 & 65 & 65 & park\\\\\n\t 12 & 3 & 45 & 85 & 32 & park\\\\\n\t 13 & 4 & 46 & 98 & 65 & choi\\\\\n\t 14 & 4 & 48 & 87 & 12 & choi\\\\\n\t 15 & 4 & 75 & 56 & 78 & choi\\\\\n\t 16 & 4 & 58 & 98 & 65 & choi\\\\\n\t 17 & 5 & 65 & 68 & 98 & jung\\\\\n\t 18 & 5 & 80 & 78 & 90 & jung\\\\\n\t 19 & 5 & 89 & 68 & 87 & jung\\\\\n\t 20 & 5 & 78 & 83 & 58 & jung\\\\\n\\end{tabular}\n",
            "text/plain": [
              "   id class math english science teacher\n",
              "1   1 1     50   98      50      kim    \n",
              "2   2 1     60   97      60      kim    \n",
              "3   3 1     45   86      78      kim    \n",
              "4   4 1     30   98      58      kim    \n",
              "5   5 2     25   80      65      lee    \n",
              "6   6 2     50   89      98      lee    \n",
              "7   7 2     80   90      45      lee    \n",
              "8   8 2     90   78      25      lee    \n",
              "9   9 3     20   98      15      park   \n",
              "10 10 3     50   98      45      park   \n",
              "11 11 3     65   65      65      park   \n",
              "12 12 3     45   85      32      park   \n",
              "13 13 4     46   98      65      choi   \n",
              "14 14 4     48   87      12      choi   \n",
              "15 15 4     75   56      78      choi   \n",
              "16 16 4     58   98      65      choi   \n",
              "17 17 5     65   68      98      jung   \n",
              "18 18 5     80   78      90      jung   \n",
              "19 19 5     89   68      87      jung   \n",
              "20 20 5     78   83      58      jung   "
            ]
          },
          "metadata": {}
        }
      ]
    },
    {
      "cell_type": "code",
      "source": [
        "# 세로로 합치기\n",
        "group_a <- data.frame(id = c(1:5), test = c(60, 80, 70, 90, 85))\n",
        "group_b <- data.frame(id = c(6:10), test = c(70, 83, 65, 95, 80))"
      ],
      "metadata": {
        "id": "-eCT7H5C75BX"
      },
      "execution_count": 77,
      "outputs": []
    },
    {
      "cell_type": "code",
      "source": [
        "group_a"
      ],
      "metadata": {
        "colab": {
          "base_uri": "https://localhost:8080/",
          "height": 272
        },
        "id": "yF_CnG4l8taJ",
        "outputId": "f50b9257-6926-4138-9a1d-f1878d021aed"
      },
      "execution_count": 73,
      "outputs": [
        {
          "output_type": "display_data",
          "data": {
            "text/html": [
              "<table class=\"dataframe\">\n",
              "<caption>A data.frame: 5 × 2</caption>\n",
              "<thead>\n",
              "\t<tr><th scope=col>id</th><th scope=col>test</th></tr>\n",
              "\t<tr><th scope=col>&lt;int&gt;</th><th scope=col>&lt;dbl&gt;</th></tr>\n",
              "</thead>\n",
              "<tbody>\n",
              "\t<tr><td>1</td><td>60</td></tr>\n",
              "\t<tr><td>2</td><td>80</td></tr>\n",
              "\t<tr><td>3</td><td>70</td></tr>\n",
              "\t<tr><td>4</td><td>90</td></tr>\n",
              "\t<tr><td>5</td><td>85</td></tr>\n",
              "</tbody>\n",
              "</table>\n"
            ],
            "text/markdown": "\nA data.frame: 5 × 2\n\n| id &lt;int&gt; | test &lt;dbl&gt; |\n|---|---|\n| 1 | 60 |\n| 2 | 80 |\n| 3 | 70 |\n| 4 | 90 |\n| 5 | 85 |\n\n",
            "text/latex": "A data.frame: 5 × 2\n\\begin{tabular}{ll}\n id & test\\\\\n <int> & <dbl>\\\\\n\\hline\n\t 1 & 60\\\\\n\t 2 & 80\\\\\n\t 3 & 70\\\\\n\t 4 & 90\\\\\n\t 5 & 85\\\\\n\\end{tabular}\n",
            "text/plain": [
              "  id test\n",
              "1 1  60  \n",
              "2 2  80  \n",
              "3 3  70  \n",
              "4 4  90  \n",
              "5 5  85  "
            ]
          },
          "metadata": {}
        }
      ]
    },
    {
      "cell_type": "code",
      "source": [
        "# 데이터를 세로로 합쳐서 group_all에 할당\n",
        "group_all <- bind_rows(group_a, group_b)\n",
        "group_all"
      ],
      "metadata": {
        "colab": {
          "base_uri": "https://localhost:8080/",
          "height": 429
        },
        "id": "pB9DCsc38uV3",
        "outputId": "b47bcca8-be05-4228-bbcf-10cc4ee160a1"
      },
      "execution_count": 78,
      "outputs": [
        {
          "output_type": "display_data",
          "data": {
            "text/html": [
              "<table class=\"dataframe\">\n",
              "<caption>A data.frame: 10 × 2</caption>\n",
              "<thead>\n",
              "\t<tr><th scope=col>id</th><th scope=col>test</th></tr>\n",
              "\t<tr><th scope=col>&lt;int&gt;</th><th scope=col>&lt;dbl&gt;</th></tr>\n",
              "</thead>\n",
              "<tbody>\n",
              "\t<tr><td> 1</td><td>60</td></tr>\n",
              "\t<tr><td> 2</td><td>80</td></tr>\n",
              "\t<tr><td> 3</td><td>70</td></tr>\n",
              "\t<tr><td> 4</td><td>90</td></tr>\n",
              "\t<tr><td> 5</td><td>85</td></tr>\n",
              "\t<tr><td> 6</td><td>70</td></tr>\n",
              "\t<tr><td> 7</td><td>83</td></tr>\n",
              "\t<tr><td> 8</td><td>65</td></tr>\n",
              "\t<tr><td> 9</td><td>95</td></tr>\n",
              "\t<tr><td>10</td><td>80</td></tr>\n",
              "</tbody>\n",
              "</table>\n"
            ],
            "text/markdown": "\nA data.frame: 10 × 2\n\n| id &lt;int&gt; | test &lt;dbl&gt; |\n|---|---|\n|  1 | 60 |\n|  2 | 80 |\n|  3 | 70 |\n|  4 | 90 |\n|  5 | 85 |\n|  6 | 70 |\n|  7 | 83 |\n|  8 | 65 |\n|  9 | 95 |\n| 10 | 80 |\n\n",
            "text/latex": "A data.frame: 10 × 2\n\\begin{tabular}{ll}\n id & test\\\\\n <int> & <dbl>\\\\\n\\hline\n\t  1 & 60\\\\\n\t  2 & 80\\\\\n\t  3 & 70\\\\\n\t  4 & 90\\\\\n\t  5 & 85\\\\\n\t  6 & 70\\\\\n\t  7 & 83\\\\\n\t  8 & 65\\\\\n\t  9 & 95\\\\\n\t 10 & 80\\\\\n\\end{tabular}\n",
            "text/plain": [
              "   id test\n",
              "1   1 60  \n",
              "2   2 80  \n",
              "3   3 70  \n",
              "4   4 90  \n",
              "5   5 85  \n",
              "6   6 70  \n",
              "7   7 83  \n",
              "8   8 65  \n",
              "9   9 95  \n",
              "10 10 80  "
            ]
          },
          "metadata": {}
        }
      ]
    },
    {
      "cell_type": "markdown",
      "source": [
        "## mpg 데이터 분석 연습\n",
        "\n",
        "*분석계획* : <br>\n",
        "1. fuel 데이터를 이용해서 mpg 데이터에 price_fl(연료가격) 변수를 추가\n",
        "2. model, fl, price_fl 변수를 추출해 앞부분 5개행을 출력"
      ],
      "metadata": {
        "id": "W_EY2P3R9QHn"
      }
    },
    {
      "cell_type": "code",
      "source": [
        "# mpg 데이터\n",
        "mpg <- as.data.frame(ggplot2::mpg)"
      ],
      "metadata": {
        "id": "PRIMDnN59EAv"
      },
      "execution_count": 87,
      "outputs": []
    },
    {
      "cell_type": "code",
      "source": [
        "# fuel 데이터\n",
        "fuel <- data.frame(fl = c(\"c\" , \"d\", \"e\", \"p\", \"r\"),\n",
        "                   price_fl = c(2.35, 2.38, 2.11, 2.76, 2.22),\n",
        "                   stringAsFactors = F) # 문자를 factor 타입으로 변환하지 않음\n",
        "\n",
        "fuel"
      ],
      "metadata": {
        "colab": {
          "base_uri": "https://localhost:8080/",
          "height": 255
        },
        "id": "F0tmCKIc9e6k",
        "outputId": "cae978fb-0e22-4a65-e873-26d30244a133"
      },
      "execution_count": 82,
      "outputs": [
        {
          "output_type": "display_data",
          "data": {
            "text/html": [
              "<table class=\"dataframe\">\n",
              "<caption>A data.frame: 5 × 3</caption>\n",
              "<thead>\n",
              "\t<tr><th scope=col>fl</th><th scope=col>price_fl</th><th scope=col>stringAsFactors</th></tr>\n",
              "\t<tr><th scope=col>&lt;chr&gt;</th><th scope=col>&lt;dbl&gt;</th><th scope=col>&lt;lgl&gt;</th></tr>\n",
              "</thead>\n",
              "<tbody>\n",
              "\t<tr><td>c</td><td>2.35</td><td>FALSE</td></tr>\n",
              "\t<tr><td>d</td><td>2.38</td><td>FALSE</td></tr>\n",
              "\t<tr><td>e</td><td>2.11</td><td>FALSE</td></tr>\n",
              "\t<tr><td>p</td><td>2.76</td><td>FALSE</td></tr>\n",
              "\t<tr><td>r</td><td>2.22</td><td>FALSE</td></tr>\n",
              "</tbody>\n",
              "</table>\n"
            ],
            "text/markdown": "\nA data.frame: 5 × 3\n\n| fl &lt;chr&gt; | price_fl &lt;dbl&gt; | stringAsFactors &lt;lgl&gt; |\n|---|---|---|\n| c | 2.35 | FALSE |\n| d | 2.38 | FALSE |\n| e | 2.11 | FALSE |\n| p | 2.76 | FALSE |\n| r | 2.22 | FALSE |\n\n",
            "text/latex": "A data.frame: 5 × 3\n\\begin{tabular}{lll}\n fl & price\\_fl & stringAsFactors\\\\\n <chr> & <dbl> & <lgl>\\\\\n\\hline\n\t c & 2.35 & FALSE\\\\\n\t d & 2.38 & FALSE\\\\\n\t e & 2.11 & FALSE\\\\\n\t p & 2.76 & FALSE\\\\\n\t r & 2.22 & FALSE\\\\\n\\end{tabular}\n",
            "text/plain": [
              "  fl price_fl stringAsFactors\n",
              "1 c  2.35     FALSE          \n",
              "2 d  2.38     FALSE          \n",
              "3 e  2.11     FALSE          \n",
              "4 p  2.76     FALSE          \n",
              "5 r  2.22     FALSE          "
            ]
          },
          "metadata": {}
        }
      ]
    },
    {
      "cell_type": "code",
      "source": [
        "left_join(mpg, fuel, by = \"fl\") %>%\n",
        "  select(model, fl, price_fl) %>%\n",
        "  head(5)"
      ],
      "metadata": {
        "colab": {
          "base_uri": "https://localhost:8080/",
          "height": 255
        },
        "id": "bBjRiahA9zOP",
        "outputId": "e6c5357b-7f33-46ec-ce97-a9947470ad04"
      },
      "execution_count": 88,
      "outputs": [
        {
          "output_type": "display_data",
          "data": {
            "text/html": [
              "<table class=\"dataframe\">\n",
              "<caption>A data.frame: 5 × 3</caption>\n",
              "<thead>\n",
              "\t<tr><th></th><th scope=col>model</th><th scope=col>fl</th><th scope=col>price_fl</th></tr>\n",
              "\t<tr><th></th><th scope=col>&lt;chr&gt;</th><th scope=col>&lt;chr&gt;</th><th scope=col>&lt;dbl&gt;</th></tr>\n",
              "</thead>\n",
              "<tbody>\n",
              "\t<tr><th scope=row>1</th><td>a4</td><td>p</td><td>2.76</td></tr>\n",
              "\t<tr><th scope=row>2</th><td>a4</td><td>p</td><td>2.76</td></tr>\n",
              "\t<tr><th scope=row>3</th><td>a4</td><td>p</td><td>2.76</td></tr>\n",
              "\t<tr><th scope=row>4</th><td>a4</td><td>p</td><td>2.76</td></tr>\n",
              "\t<tr><th scope=row>5</th><td>a4</td><td>p</td><td>2.76</td></tr>\n",
              "</tbody>\n",
              "</table>\n"
            ],
            "text/markdown": "\nA data.frame: 5 × 3\n\n| <!--/--> | model &lt;chr&gt; | fl &lt;chr&gt; | price_fl &lt;dbl&gt; |\n|---|---|---|---|\n| 1 | a4 | p | 2.76 |\n| 2 | a4 | p | 2.76 |\n| 3 | a4 | p | 2.76 |\n| 4 | a4 | p | 2.76 |\n| 5 | a4 | p | 2.76 |\n\n",
            "text/latex": "A data.frame: 5 × 3\n\\begin{tabular}{r|lll}\n  & model & fl & price\\_fl\\\\\n  & <chr> & <chr> & <dbl>\\\\\n\\hline\n\t1 & a4 & p & 2.76\\\\\n\t2 & a4 & p & 2.76\\\\\n\t3 & a4 & p & 2.76\\\\\n\t4 & a4 & p & 2.76\\\\\n\t5 & a4 & p & 2.76\\\\\n\\end{tabular}\n",
            "text/plain": [
              "  model fl price_fl\n",
              "1 a4    p  2.76    \n",
              "2 a4    p  2.76    \n",
              "3 a4    p  2.76    \n",
              "4 a4    p  2.76    \n",
              "5 a4    p  2.76    "
            ]
          },
          "metadata": {}
        }
      ]
    },
    {
      "cell_type": "code",
      "source": [
        ""
      ],
      "metadata": {
        "id": "dmhWNs-L-bTm"
      },
      "execution_count": null,
      "outputs": []
    }
  ]
}