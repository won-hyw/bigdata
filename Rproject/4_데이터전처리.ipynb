{
  "nbformat": 4,
  "nbformat_minor": 0,
  "metadata": {
    "colab": {
      "name": "4.데이터전처리.ipynb",
      "provenance": []
    },
    "kernelspec": {
      "name": "ir",
      "display_name": "R"
    },
    "language_info": {
      "name": "R"
    }
  },
  "cells": [
    {
      "cell_type": "markdown",
      "source": [
        "- dplyr 함수\n",
        "    - filter : 행 추출\n",
        "    - select : 열 추출\n",
        "    - arrange : 정렬\n",
        "    - mutate : 변수 추가\n",
        "    - summarise : 통계치 산출\n",
        "    - group_by : 집단별로 나누기\n",
        "    - left_join : 데이터 합치기(열)\n",
        "    - bind_rows : 데이터 합치기(행)"
      ],
      "metadata": {
        "id": "-rTW1eh58Q5C"
      }
    },
    {
      "cell_type": "markdown",
      "source": [
        "# 조건에 맞는 데이터 추출"
      ],
      "metadata": {
        "id": "q02uMSWA82sL"
      }
    },
    {
      "cell_type": "code",
      "execution_count": 1,
      "metadata": {
        "colab": {
          "base_uri": "https://localhost:8080/"
        },
        "id": "OaAE-zb28HJ9",
        "outputId": "2bb7bcf4-77ec-4176-e3f0-78c3468376cd"
      },
      "outputs": [
        {
          "output_type": "stream",
          "name": "stderr",
          "text": [
            "\n",
            "Attaching package: ‘dplyr’\n",
            "\n",
            "\n",
            "The following objects are masked from ‘package:stats’:\n",
            "\n",
            "    filter, lag\n",
            "\n",
            "\n",
            "The following objects are masked from ‘package:base’:\n",
            "\n",
            "    intersect, setdiff, setequal, union\n",
            "\n",
            "\n"
          ]
        }
      ],
      "source": [
        "library(dplyr)"
      ]
    },
    {
      "cell_type": "code",
      "source": [
        "exam <- read.csv(\"/content/csv_exam.csv\")\n",
        "head(exam)"
      ],
      "metadata": {
        "colab": {
          "base_uri": "https://localhost:8080/",
          "height": 286
        },
        "id": "5bB_vnoT87Jm",
        "outputId": "7bf7a31c-d379-4c88-dc39-898a2e680cc2"
      },
      "execution_count": 2,
      "outputs": [
        {
          "output_type": "display_data",
          "data": {
            "text/html": [
              "<table class=\"dataframe\">\n",
              "<caption>A data.frame: 6 × 5</caption>\n",
              "<thead>\n",
              "\t<tr><th></th><th scope=col>id</th><th scope=col>class</th><th scope=col>math</th><th scope=col>english</th><th scope=col>science</th></tr>\n",
              "\t<tr><th></th><th scope=col>&lt;int&gt;</th><th scope=col>&lt;int&gt;</th><th scope=col>&lt;int&gt;</th><th scope=col>&lt;int&gt;</th><th scope=col>&lt;int&gt;</th></tr>\n",
              "</thead>\n",
              "<tbody>\n",
              "\t<tr><th scope=row>1</th><td>1</td><td>1</td><td>50</td><td>98</td><td>50</td></tr>\n",
              "\t<tr><th scope=row>2</th><td>2</td><td>1</td><td>60</td><td>97</td><td>60</td></tr>\n",
              "\t<tr><th scope=row>3</th><td>3</td><td>1</td><td>45</td><td>86</td><td>78</td></tr>\n",
              "\t<tr><th scope=row>4</th><td>4</td><td>1</td><td>30</td><td>98</td><td>58</td></tr>\n",
              "\t<tr><th scope=row>5</th><td>5</td><td>2</td><td>25</td><td>80</td><td>65</td></tr>\n",
              "\t<tr><th scope=row>6</th><td>6</td><td>2</td><td>50</td><td>89</td><td>98</td></tr>\n",
              "</tbody>\n",
              "</table>\n"
            ],
            "text/markdown": "\nA data.frame: 6 × 5\n\n| <!--/--> | id &lt;int&gt; | class &lt;int&gt; | math &lt;int&gt; | english &lt;int&gt; | science &lt;int&gt; |\n|---|---|---|---|---|---|\n| 1 | 1 | 1 | 50 | 98 | 50 |\n| 2 | 2 | 1 | 60 | 97 | 60 |\n| 3 | 3 | 1 | 45 | 86 | 78 |\n| 4 | 4 | 1 | 30 | 98 | 58 |\n| 5 | 5 | 2 | 25 | 80 | 65 |\n| 6 | 6 | 2 | 50 | 89 | 98 |\n\n",
            "text/latex": "A data.frame: 6 × 5\n\\begin{tabular}{r|lllll}\n  & id & class & math & english & science\\\\\n  & <int> & <int> & <int> & <int> & <int>\\\\\n\\hline\n\t1 & 1 & 1 & 50 & 98 & 50\\\\\n\t2 & 2 & 1 & 60 & 97 & 60\\\\\n\t3 & 3 & 1 & 45 & 86 & 78\\\\\n\t4 & 4 & 1 & 30 & 98 & 58\\\\\n\t5 & 5 & 2 & 25 & 80 & 65\\\\\n\t6 & 6 & 2 & 50 & 89 & 98\\\\\n\\end{tabular}\n",
            "text/plain": [
              "  id class math english science\n",
              "1 1  1     50   98      50     \n",
              "2 2  1     60   97      60     \n",
              "3 3  1     45   86      78     \n",
              "4 4  1     30   98      58     \n",
              "5 5  2     25   80      65     \n",
              "6 6  2     50   89      98     "
            ]
          },
          "metadata": {}
        }
      ]
    },
    {
      "cell_type": "code",
      "source": [
        "# class가 1인 경우만 추출\n",
        "exam %>% filter(class == 1)"
      ],
      "metadata": {
        "colab": {
          "base_uri": "https://localhost:8080/",
          "height": 223
        },
        "id": "Hswq71EJ9OiL",
        "outputId": "fe8ec40d-aaa6-428d-bad7-1c949cc2860f"
      },
      "execution_count": 4,
      "outputs": [
        {
          "output_type": "display_data",
          "data": {
            "text/html": [
              "<table class=\"dataframe\">\n",
              "<caption>A data.frame: 4 × 5</caption>\n",
              "<thead>\n",
              "\t<tr><th scope=col>id</th><th scope=col>class</th><th scope=col>math</th><th scope=col>english</th><th scope=col>science</th></tr>\n",
              "\t<tr><th scope=col>&lt;int&gt;</th><th scope=col>&lt;int&gt;</th><th scope=col>&lt;int&gt;</th><th scope=col>&lt;int&gt;</th><th scope=col>&lt;int&gt;</th></tr>\n",
              "</thead>\n",
              "<tbody>\n",
              "\t<tr><td>1</td><td>1</td><td>50</td><td>98</td><td>50</td></tr>\n",
              "\t<tr><td>2</td><td>1</td><td>60</td><td>97</td><td>60</td></tr>\n",
              "\t<tr><td>3</td><td>1</td><td>45</td><td>86</td><td>78</td></tr>\n",
              "\t<tr><td>4</td><td>1</td><td>30</td><td>98</td><td>58</td></tr>\n",
              "</tbody>\n",
              "</table>\n"
            ],
            "text/markdown": "\nA data.frame: 4 × 5\n\n| id &lt;int&gt; | class &lt;int&gt; | math &lt;int&gt; | english &lt;int&gt; | science &lt;int&gt; |\n|---|---|---|---|---|\n| 1 | 1 | 50 | 98 | 50 |\n| 2 | 1 | 60 | 97 | 60 |\n| 3 | 1 | 45 | 86 | 78 |\n| 4 | 1 | 30 | 98 | 58 |\n\n",
            "text/latex": "A data.frame: 4 × 5\n\\begin{tabular}{lllll}\n id & class & math & english & science\\\\\n <int> & <int> & <int> & <int> & <int>\\\\\n\\hline\n\t 1 & 1 & 50 & 98 & 50\\\\\n\t 2 & 1 & 60 & 97 & 60\\\\\n\t 3 & 1 & 45 & 86 & 78\\\\\n\t 4 & 1 & 30 & 98 & 58\\\\\n\\end{tabular}\n",
            "text/plain": [
              "  id class math english science\n",
              "1 1  1     50   98      50     \n",
              "2 2  1     60   97      60     \n",
              "3 3  1     45   86      78     \n",
              "4 4  1     30   98      58     "
            ]
          },
          "metadata": {}
        }
      ]
    },
    {
      "cell_type": "code",
      "source": [
        "# %>% : 파이프 연산자(pipe operator). 함수들을 연결하는 기능\n",
        "\n",
        "# class가 1이 아닌 경우만 추출\n",
        "exam %>% filter(class != 1)"
      ],
      "metadata": {
        "colab": {
          "base_uri": "https://localhost:8080/",
          "height": 600
        },
        "id": "COOpIjB19eIf",
        "outputId": "c3dbd8a8-2a10-4fec-9f39-861f144bd830"
      },
      "execution_count": 5,
      "outputs": [
        {
          "output_type": "display_data",
          "data": {
            "text/html": [
              "<table class=\"dataframe\">\n",
              "<caption>A data.frame: 16 × 5</caption>\n",
              "<thead>\n",
              "\t<tr><th scope=col>id</th><th scope=col>class</th><th scope=col>math</th><th scope=col>english</th><th scope=col>science</th></tr>\n",
              "\t<tr><th scope=col>&lt;int&gt;</th><th scope=col>&lt;int&gt;</th><th scope=col>&lt;int&gt;</th><th scope=col>&lt;int&gt;</th><th scope=col>&lt;int&gt;</th></tr>\n",
              "</thead>\n",
              "<tbody>\n",
              "\t<tr><td> 5</td><td>2</td><td>25</td><td>80</td><td>65</td></tr>\n",
              "\t<tr><td> 6</td><td>2</td><td>50</td><td>89</td><td>98</td></tr>\n",
              "\t<tr><td> 7</td><td>2</td><td>80</td><td>90</td><td>45</td></tr>\n",
              "\t<tr><td> 8</td><td>2</td><td>90</td><td>78</td><td>25</td></tr>\n",
              "\t<tr><td> 9</td><td>3</td><td>20</td><td>98</td><td>15</td></tr>\n",
              "\t<tr><td>10</td><td>3</td><td>50</td><td>98</td><td>45</td></tr>\n",
              "\t<tr><td>11</td><td>3</td><td>65</td><td>65</td><td>65</td></tr>\n",
              "\t<tr><td>12</td><td>3</td><td>45</td><td>85</td><td>32</td></tr>\n",
              "\t<tr><td>13</td><td>4</td><td>46</td><td>98</td><td>65</td></tr>\n",
              "\t<tr><td>14</td><td>4</td><td>48</td><td>87</td><td>12</td></tr>\n",
              "\t<tr><td>15</td><td>4</td><td>75</td><td>56</td><td>78</td></tr>\n",
              "\t<tr><td>16</td><td>4</td><td>58</td><td>98</td><td>65</td></tr>\n",
              "\t<tr><td>17</td><td>5</td><td>65</td><td>68</td><td>98</td></tr>\n",
              "\t<tr><td>18</td><td>5</td><td>80</td><td>78</td><td>90</td></tr>\n",
              "\t<tr><td>19</td><td>5</td><td>89</td><td>68</td><td>87</td></tr>\n",
              "\t<tr><td>20</td><td>5</td><td>78</td><td>83</td><td>58</td></tr>\n",
              "</tbody>\n",
              "</table>\n"
            ],
            "text/markdown": "\nA data.frame: 16 × 5\n\n| id &lt;int&gt; | class &lt;int&gt; | math &lt;int&gt; | english &lt;int&gt; | science &lt;int&gt; |\n|---|---|---|---|---|\n|  5 | 2 | 25 | 80 | 65 |\n|  6 | 2 | 50 | 89 | 98 |\n|  7 | 2 | 80 | 90 | 45 |\n|  8 | 2 | 90 | 78 | 25 |\n|  9 | 3 | 20 | 98 | 15 |\n| 10 | 3 | 50 | 98 | 45 |\n| 11 | 3 | 65 | 65 | 65 |\n| 12 | 3 | 45 | 85 | 32 |\n| 13 | 4 | 46 | 98 | 65 |\n| 14 | 4 | 48 | 87 | 12 |\n| 15 | 4 | 75 | 56 | 78 |\n| 16 | 4 | 58 | 98 | 65 |\n| 17 | 5 | 65 | 68 | 98 |\n| 18 | 5 | 80 | 78 | 90 |\n| 19 | 5 | 89 | 68 | 87 |\n| 20 | 5 | 78 | 83 | 58 |\n\n",
            "text/latex": "A data.frame: 16 × 5\n\\begin{tabular}{lllll}\n id & class & math & english & science\\\\\n <int> & <int> & <int> & <int> & <int>\\\\\n\\hline\n\t  5 & 2 & 25 & 80 & 65\\\\\n\t  6 & 2 & 50 & 89 & 98\\\\\n\t  7 & 2 & 80 & 90 & 45\\\\\n\t  8 & 2 & 90 & 78 & 25\\\\\n\t  9 & 3 & 20 & 98 & 15\\\\\n\t 10 & 3 & 50 & 98 & 45\\\\\n\t 11 & 3 & 65 & 65 & 65\\\\\n\t 12 & 3 & 45 & 85 & 32\\\\\n\t 13 & 4 & 46 & 98 & 65\\\\\n\t 14 & 4 & 48 & 87 & 12\\\\\n\t 15 & 4 & 75 & 56 & 78\\\\\n\t 16 & 4 & 58 & 98 & 65\\\\\n\t 17 & 5 & 65 & 68 & 98\\\\\n\t 18 & 5 & 80 & 78 & 90\\\\\n\t 19 & 5 & 89 & 68 & 87\\\\\n\t 20 & 5 & 78 & 83 & 58\\\\\n\\end{tabular}\n",
            "text/plain": [
              "   id class math english science\n",
              "1   5 2     25   80      65     \n",
              "2   6 2     50   89      98     \n",
              "3   7 2     80   90      45     \n",
              "4   8 2     90   78      25     \n",
              "5   9 3     20   98      15     \n",
              "6  10 3     50   98      45     \n",
              "7  11 3     65   65      65     \n",
              "8  12 3     45   85      32     \n",
              "9  13 4     46   98      65     \n",
              "10 14 4     48   87      12     \n",
              "11 15 4     75   56      78     \n",
              "12 16 4     58   98      65     \n",
              "13 17 5     65   68      98     \n",
              "14 18 5     80   78      90     \n",
              "15 19 5     89   68      87     \n",
              "16 20 5     78   83      58     "
            ]
          },
          "metadata": {}
        }
      ]
    },
    {
      "cell_type": "code",
      "source": [
        "# math가 50을 초과한 경우만 추출\n",
        "exam %>% filter(math > 50)"
      ],
      "metadata": {
        "colab": {
          "base_uri": "https://localhost:8080/",
          "height": 411
        },
        "id": "5vhNsf1N-Bm-",
        "outputId": "08da6d18-9bed-4994-e4e9-abc77f54470a"
      },
      "execution_count": 6,
      "outputs": [
        {
          "output_type": "display_data",
          "data": {
            "text/html": [
              "<table class=\"dataframe\">\n",
              "<caption>A data.frame: 10 × 5</caption>\n",
              "<thead>\n",
              "\t<tr><th scope=col>id</th><th scope=col>class</th><th scope=col>math</th><th scope=col>english</th><th scope=col>science</th></tr>\n",
              "\t<tr><th scope=col>&lt;int&gt;</th><th scope=col>&lt;int&gt;</th><th scope=col>&lt;int&gt;</th><th scope=col>&lt;int&gt;</th><th scope=col>&lt;int&gt;</th></tr>\n",
              "</thead>\n",
              "<tbody>\n",
              "\t<tr><td> 2</td><td>1</td><td>60</td><td>97</td><td>60</td></tr>\n",
              "\t<tr><td> 7</td><td>2</td><td>80</td><td>90</td><td>45</td></tr>\n",
              "\t<tr><td> 8</td><td>2</td><td>90</td><td>78</td><td>25</td></tr>\n",
              "\t<tr><td>11</td><td>3</td><td>65</td><td>65</td><td>65</td></tr>\n",
              "\t<tr><td>15</td><td>4</td><td>75</td><td>56</td><td>78</td></tr>\n",
              "\t<tr><td>16</td><td>4</td><td>58</td><td>98</td><td>65</td></tr>\n",
              "\t<tr><td>17</td><td>5</td><td>65</td><td>68</td><td>98</td></tr>\n",
              "\t<tr><td>18</td><td>5</td><td>80</td><td>78</td><td>90</td></tr>\n",
              "\t<tr><td>19</td><td>5</td><td>89</td><td>68</td><td>87</td></tr>\n",
              "\t<tr><td>20</td><td>5</td><td>78</td><td>83</td><td>58</td></tr>\n",
              "</tbody>\n",
              "</table>\n"
            ],
            "text/markdown": "\nA data.frame: 10 × 5\n\n| id &lt;int&gt; | class &lt;int&gt; | math &lt;int&gt; | english &lt;int&gt; | science &lt;int&gt; |\n|---|---|---|---|---|\n|  2 | 1 | 60 | 97 | 60 |\n|  7 | 2 | 80 | 90 | 45 |\n|  8 | 2 | 90 | 78 | 25 |\n| 11 | 3 | 65 | 65 | 65 |\n| 15 | 4 | 75 | 56 | 78 |\n| 16 | 4 | 58 | 98 | 65 |\n| 17 | 5 | 65 | 68 | 98 |\n| 18 | 5 | 80 | 78 | 90 |\n| 19 | 5 | 89 | 68 | 87 |\n| 20 | 5 | 78 | 83 | 58 |\n\n",
            "text/latex": "A data.frame: 10 × 5\n\\begin{tabular}{lllll}\n id & class & math & english & science\\\\\n <int> & <int> & <int> & <int> & <int>\\\\\n\\hline\n\t  2 & 1 & 60 & 97 & 60\\\\\n\t  7 & 2 & 80 & 90 & 45\\\\\n\t  8 & 2 & 90 & 78 & 25\\\\\n\t 11 & 3 & 65 & 65 & 65\\\\\n\t 15 & 4 & 75 & 56 & 78\\\\\n\t 16 & 4 & 58 & 98 & 65\\\\\n\t 17 & 5 & 65 & 68 & 98\\\\\n\t 18 & 5 & 80 & 78 & 90\\\\\n\t 19 & 5 & 89 & 68 & 87\\\\\n\t 20 & 5 & 78 & 83 & 58\\\\\n\\end{tabular}\n",
            "text/plain": [
              "   id class math english science\n",
              "1   2 1     60   97      60     \n",
              "2   7 2     80   90      45     \n",
              "3   8 2     90   78      25     \n",
              "4  11 3     65   65      65     \n",
              "5  15 4     75   56      78     \n",
              "6  16 4     58   98      65     \n",
              "7  17 5     65   68      98     \n",
              "8  18 5     80   78      90     \n",
              "9  19 5     89   68      87     \n",
              "10 20 5     78   83      58     "
            ]
          },
          "metadata": {}
        }
      ]
    },
    {
      "cell_type": "code",
      "source": [
        "# math가 50미만인 경우만 추출\n",
        "exam %>% filter(math < 50)"
      ],
      "metadata": {
        "colab": {
          "base_uri": "https://localhost:8080/",
          "height": 318
        },
        "id": "DMh3Gh3J-P6G",
        "outputId": "4690d01d-d2d6-4fc4-a431-45096ac2eb47"
      },
      "execution_count": 7,
      "outputs": [
        {
          "output_type": "display_data",
          "data": {
            "text/html": [
              "<table class=\"dataframe\">\n",
              "<caption>A data.frame: 7 × 5</caption>\n",
              "<thead>\n",
              "\t<tr><th scope=col>id</th><th scope=col>class</th><th scope=col>math</th><th scope=col>english</th><th scope=col>science</th></tr>\n",
              "\t<tr><th scope=col>&lt;int&gt;</th><th scope=col>&lt;int&gt;</th><th scope=col>&lt;int&gt;</th><th scope=col>&lt;int&gt;</th><th scope=col>&lt;int&gt;</th></tr>\n",
              "</thead>\n",
              "<tbody>\n",
              "\t<tr><td> 3</td><td>1</td><td>45</td><td>86</td><td>78</td></tr>\n",
              "\t<tr><td> 4</td><td>1</td><td>30</td><td>98</td><td>58</td></tr>\n",
              "\t<tr><td> 5</td><td>2</td><td>25</td><td>80</td><td>65</td></tr>\n",
              "\t<tr><td> 9</td><td>3</td><td>20</td><td>98</td><td>15</td></tr>\n",
              "\t<tr><td>12</td><td>3</td><td>45</td><td>85</td><td>32</td></tr>\n",
              "\t<tr><td>13</td><td>4</td><td>46</td><td>98</td><td>65</td></tr>\n",
              "\t<tr><td>14</td><td>4</td><td>48</td><td>87</td><td>12</td></tr>\n",
              "</tbody>\n",
              "</table>\n"
            ],
            "text/markdown": "\nA data.frame: 7 × 5\n\n| id &lt;int&gt; | class &lt;int&gt; | math &lt;int&gt; | english &lt;int&gt; | science &lt;int&gt; |\n|---|---|---|---|---|\n|  3 | 1 | 45 | 86 | 78 |\n|  4 | 1 | 30 | 98 | 58 |\n|  5 | 2 | 25 | 80 | 65 |\n|  9 | 3 | 20 | 98 | 15 |\n| 12 | 3 | 45 | 85 | 32 |\n| 13 | 4 | 46 | 98 | 65 |\n| 14 | 4 | 48 | 87 | 12 |\n\n",
            "text/latex": "A data.frame: 7 × 5\n\\begin{tabular}{lllll}\n id & class & math & english & science\\\\\n <int> & <int> & <int> & <int> & <int>\\\\\n\\hline\n\t  3 & 1 & 45 & 86 & 78\\\\\n\t  4 & 1 & 30 & 98 & 58\\\\\n\t  5 & 2 & 25 & 80 & 65\\\\\n\t  9 & 3 & 20 & 98 & 15\\\\\n\t 12 & 3 & 45 & 85 & 32\\\\\n\t 13 & 4 & 46 & 98 & 65\\\\\n\t 14 & 4 & 48 & 87 & 12\\\\\n\\end{tabular}\n",
            "text/plain": [
              "  id class math english science\n",
              "1  3 1     45   86      78     \n",
              "2  4 1     30   98      58     \n",
              "3  5 2     25   80      65     \n",
              "4  9 3     20   98      15     \n",
              "5 12 3     45   85      32     \n",
              "6 13 4     46   98      65     \n",
              "7 14 4     48   87      12     "
            ]
          },
          "metadata": {}
        }
      ]
    },
    {
      "cell_type": "code",
      "source": [
        "# english가 80 이하인 경우만 추출\n",
        "exam %>% filter(english <= 80)"
      ],
      "metadata": {
        "colab": {
          "base_uri": "https://localhost:8080/",
          "height": 318
        },
        "id": "MP0D3SUV-Vg5",
        "outputId": "9e1979e9-a32d-44e1-e841-4b5b7a4563fe"
      },
      "execution_count": 8,
      "outputs": [
        {
          "output_type": "display_data",
          "data": {
            "text/html": [
              "<table class=\"dataframe\">\n",
              "<caption>A data.frame: 7 × 5</caption>\n",
              "<thead>\n",
              "\t<tr><th scope=col>id</th><th scope=col>class</th><th scope=col>math</th><th scope=col>english</th><th scope=col>science</th></tr>\n",
              "\t<tr><th scope=col>&lt;int&gt;</th><th scope=col>&lt;int&gt;</th><th scope=col>&lt;int&gt;</th><th scope=col>&lt;int&gt;</th><th scope=col>&lt;int&gt;</th></tr>\n",
              "</thead>\n",
              "<tbody>\n",
              "\t<tr><td> 5</td><td>2</td><td>25</td><td>80</td><td>65</td></tr>\n",
              "\t<tr><td> 8</td><td>2</td><td>90</td><td>78</td><td>25</td></tr>\n",
              "\t<tr><td>11</td><td>3</td><td>65</td><td>65</td><td>65</td></tr>\n",
              "\t<tr><td>15</td><td>4</td><td>75</td><td>56</td><td>78</td></tr>\n",
              "\t<tr><td>17</td><td>5</td><td>65</td><td>68</td><td>98</td></tr>\n",
              "\t<tr><td>18</td><td>5</td><td>80</td><td>78</td><td>90</td></tr>\n",
              "\t<tr><td>19</td><td>5</td><td>89</td><td>68</td><td>87</td></tr>\n",
              "</tbody>\n",
              "</table>\n"
            ],
            "text/markdown": "\nA data.frame: 7 × 5\n\n| id &lt;int&gt; | class &lt;int&gt; | math &lt;int&gt; | english &lt;int&gt; | science &lt;int&gt; |\n|---|---|---|---|---|\n|  5 | 2 | 25 | 80 | 65 |\n|  8 | 2 | 90 | 78 | 25 |\n| 11 | 3 | 65 | 65 | 65 |\n| 15 | 4 | 75 | 56 | 78 |\n| 17 | 5 | 65 | 68 | 98 |\n| 18 | 5 | 80 | 78 | 90 |\n| 19 | 5 | 89 | 68 | 87 |\n\n",
            "text/latex": "A data.frame: 7 × 5\n\\begin{tabular}{lllll}\n id & class & math & english & science\\\\\n <int> & <int> & <int> & <int> & <int>\\\\\n\\hline\n\t  5 & 2 & 25 & 80 & 65\\\\\n\t  8 & 2 & 90 & 78 & 25\\\\\n\t 11 & 3 & 65 & 65 & 65\\\\\n\t 15 & 4 & 75 & 56 & 78\\\\\n\t 17 & 5 & 65 & 68 & 98\\\\\n\t 18 & 5 & 80 & 78 & 90\\\\\n\t 19 & 5 & 89 & 68 & 87\\\\\n\\end{tabular}\n",
            "text/plain": [
              "  id class math english science\n",
              "1  5 2     25   80      65     \n",
              "2  8 2     90   78      25     \n",
              "3 11 3     65   65      65     \n",
              "4 15 4     75   56      78     \n",
              "5 17 5     65   68      98     \n",
              "6 18 5     80   78      90     \n",
              "7 19 5     89   68      87     "
            ]
          },
          "metadata": {}
        }
      ]
    },
    {
      "cell_type": "code",
      "source": [
        "# english가 80 이상인 경우만 추출\n",
        "exam %>% filter(english >= 80)"
      ],
      "metadata": {
        "colab": {
          "base_uri": "https://localhost:8080/",
          "height": 537
        },
        "id": "y6GJwXuV-dNl",
        "outputId": "02b5084e-d734-44f8-ea89-6c835e2f4570"
      },
      "execution_count": 9,
      "outputs": [
        {
          "output_type": "display_data",
          "data": {
            "text/html": [
              "<table class=\"dataframe\">\n",
              "<caption>A data.frame: 14 × 5</caption>\n",
              "<thead>\n",
              "\t<tr><th scope=col>id</th><th scope=col>class</th><th scope=col>math</th><th scope=col>english</th><th scope=col>science</th></tr>\n",
              "\t<tr><th scope=col>&lt;int&gt;</th><th scope=col>&lt;int&gt;</th><th scope=col>&lt;int&gt;</th><th scope=col>&lt;int&gt;</th><th scope=col>&lt;int&gt;</th></tr>\n",
              "</thead>\n",
              "<tbody>\n",
              "\t<tr><td> 1</td><td>1</td><td>50</td><td>98</td><td>50</td></tr>\n",
              "\t<tr><td> 2</td><td>1</td><td>60</td><td>97</td><td>60</td></tr>\n",
              "\t<tr><td> 3</td><td>1</td><td>45</td><td>86</td><td>78</td></tr>\n",
              "\t<tr><td> 4</td><td>1</td><td>30</td><td>98</td><td>58</td></tr>\n",
              "\t<tr><td> 5</td><td>2</td><td>25</td><td>80</td><td>65</td></tr>\n",
              "\t<tr><td> 6</td><td>2</td><td>50</td><td>89</td><td>98</td></tr>\n",
              "\t<tr><td> 7</td><td>2</td><td>80</td><td>90</td><td>45</td></tr>\n",
              "\t<tr><td> 9</td><td>3</td><td>20</td><td>98</td><td>15</td></tr>\n",
              "\t<tr><td>10</td><td>3</td><td>50</td><td>98</td><td>45</td></tr>\n",
              "\t<tr><td>12</td><td>3</td><td>45</td><td>85</td><td>32</td></tr>\n",
              "\t<tr><td>13</td><td>4</td><td>46</td><td>98</td><td>65</td></tr>\n",
              "\t<tr><td>14</td><td>4</td><td>48</td><td>87</td><td>12</td></tr>\n",
              "\t<tr><td>16</td><td>4</td><td>58</td><td>98</td><td>65</td></tr>\n",
              "\t<tr><td>20</td><td>5</td><td>78</td><td>83</td><td>58</td></tr>\n",
              "</tbody>\n",
              "</table>\n"
            ],
            "text/markdown": "\nA data.frame: 14 × 5\n\n| id &lt;int&gt; | class &lt;int&gt; | math &lt;int&gt; | english &lt;int&gt; | science &lt;int&gt; |\n|---|---|---|---|---|\n|  1 | 1 | 50 | 98 | 50 |\n|  2 | 1 | 60 | 97 | 60 |\n|  3 | 1 | 45 | 86 | 78 |\n|  4 | 1 | 30 | 98 | 58 |\n|  5 | 2 | 25 | 80 | 65 |\n|  6 | 2 | 50 | 89 | 98 |\n|  7 | 2 | 80 | 90 | 45 |\n|  9 | 3 | 20 | 98 | 15 |\n| 10 | 3 | 50 | 98 | 45 |\n| 12 | 3 | 45 | 85 | 32 |\n| 13 | 4 | 46 | 98 | 65 |\n| 14 | 4 | 48 | 87 | 12 |\n| 16 | 4 | 58 | 98 | 65 |\n| 20 | 5 | 78 | 83 | 58 |\n\n",
            "text/latex": "A data.frame: 14 × 5\n\\begin{tabular}{lllll}\n id & class & math & english & science\\\\\n <int> & <int> & <int> & <int> & <int>\\\\\n\\hline\n\t  1 & 1 & 50 & 98 & 50\\\\\n\t  2 & 1 & 60 & 97 & 60\\\\\n\t  3 & 1 & 45 & 86 & 78\\\\\n\t  4 & 1 & 30 & 98 & 58\\\\\n\t  5 & 2 & 25 & 80 & 65\\\\\n\t  6 & 2 & 50 & 89 & 98\\\\\n\t  7 & 2 & 80 & 90 & 45\\\\\n\t  9 & 3 & 20 & 98 & 15\\\\\n\t 10 & 3 & 50 & 98 & 45\\\\\n\t 12 & 3 & 45 & 85 & 32\\\\\n\t 13 & 4 & 46 & 98 & 65\\\\\n\t 14 & 4 & 48 & 87 & 12\\\\\n\t 16 & 4 & 58 & 98 & 65\\\\\n\t 20 & 5 & 78 & 83 & 58\\\\\n\\end{tabular}\n",
            "text/plain": [
              "   id class math english science\n",
              "1   1 1     50   98      50     \n",
              "2   2 1     60   97      60     \n",
              "3   3 1     45   86      78     \n",
              "4   4 1     30   98      58     \n",
              "5   5 2     25   80      65     \n",
              "6   6 2     50   89      98     \n",
              "7   7 2     80   90      45     \n",
              "8   9 3     20   98      15     \n",
              "9  10 3     50   98      45     \n",
              "10 12 3     45   85      32     \n",
              "11 13 4     46   98      65     \n",
              "12 14 4     48   87      12     \n",
              "13 16 4     58   98      65     \n",
              "14 20 5     78   83      58     "
            ]
          },
          "metadata": {}
        }
      ]
    },
    {
      "cell_type": "markdown",
      "source": [
        "## 여러 조건을 충족하는 행 추출"
      ],
      "metadata": {
        "id": "CDOawjTH-8tv"
      }
    },
    {
      "cell_type": "code",
      "source": [
        "# class가 1이면서 math가 50이상인 경우\n",
        "exam %>% filter(class == 1 & math >= 50)"
      ],
      "metadata": {
        "colab": {
          "base_uri": "https://localhost:8080/",
          "height": 161
        },
        "id": "73qbE9lm-j5H",
        "outputId": "4de92075-659f-45ed-b2cb-b566fbf918f8"
      },
      "execution_count": 10,
      "outputs": [
        {
          "output_type": "display_data",
          "data": {
            "text/html": [
              "<table class=\"dataframe\">\n",
              "<caption>A data.frame: 2 × 5</caption>\n",
              "<thead>\n",
              "\t<tr><th scope=col>id</th><th scope=col>class</th><th scope=col>math</th><th scope=col>english</th><th scope=col>science</th></tr>\n",
              "\t<tr><th scope=col>&lt;int&gt;</th><th scope=col>&lt;int&gt;</th><th scope=col>&lt;int&gt;</th><th scope=col>&lt;int&gt;</th><th scope=col>&lt;int&gt;</th></tr>\n",
              "</thead>\n",
              "<tbody>\n",
              "\t<tr><td>1</td><td>1</td><td>50</td><td>98</td><td>50</td></tr>\n",
              "\t<tr><td>2</td><td>1</td><td>60</td><td>97</td><td>60</td></tr>\n",
              "</tbody>\n",
              "</table>\n"
            ],
            "text/markdown": "\nA data.frame: 2 × 5\n\n| id &lt;int&gt; | class &lt;int&gt; | math &lt;int&gt; | english &lt;int&gt; | science &lt;int&gt; |\n|---|---|---|---|---|\n| 1 | 1 | 50 | 98 | 50 |\n| 2 | 1 | 60 | 97 | 60 |\n\n",
            "text/latex": "A data.frame: 2 × 5\n\\begin{tabular}{lllll}\n id & class & math & english & science\\\\\n <int> & <int> & <int> & <int> & <int>\\\\\n\\hline\n\t 1 & 1 & 50 & 98 & 50\\\\\n\t 2 & 1 & 60 & 97 & 60\\\\\n\\end{tabular}\n",
            "text/plain": [
              "  id class math english science\n",
              "1 1  1     50   98      50     \n",
              "2 2  1     60   97      60     "
            ]
          },
          "metadata": {}
        }
      ]
    },
    {
      "cell_type": "markdown",
      "source": [
        "## 여러 조건 중 하나 이상 충족하는 행 추출"
      ],
      "metadata": {
        "id": "90x7Mg_1_GqW"
      }
    },
    {
      "cell_type": "code",
      "source": [
        "# math가 90이상이거나 english가 90이상인 경우\n",
        "exam %>% filter(math >= 90 | english >= 90)"
      ],
      "metadata": {
        "colab": {
          "base_uri": "https://localhost:8080/",
          "height": 380
        },
        "id": "jHQKI556-1_K",
        "outputId": "5f6f8fbb-cf5a-48cc-f63f-95b17f26418d"
      },
      "execution_count": 11,
      "outputs": [
        {
          "output_type": "display_data",
          "data": {
            "text/html": [
              "<table class=\"dataframe\">\n",
              "<caption>A data.frame: 9 × 5</caption>\n",
              "<thead>\n",
              "\t<tr><th scope=col>id</th><th scope=col>class</th><th scope=col>math</th><th scope=col>english</th><th scope=col>science</th></tr>\n",
              "\t<tr><th scope=col>&lt;int&gt;</th><th scope=col>&lt;int&gt;</th><th scope=col>&lt;int&gt;</th><th scope=col>&lt;int&gt;</th><th scope=col>&lt;int&gt;</th></tr>\n",
              "</thead>\n",
              "<tbody>\n",
              "\t<tr><td> 1</td><td>1</td><td>50</td><td>98</td><td>50</td></tr>\n",
              "\t<tr><td> 2</td><td>1</td><td>60</td><td>97</td><td>60</td></tr>\n",
              "\t<tr><td> 4</td><td>1</td><td>30</td><td>98</td><td>58</td></tr>\n",
              "\t<tr><td> 7</td><td>2</td><td>80</td><td>90</td><td>45</td></tr>\n",
              "\t<tr><td> 8</td><td>2</td><td>90</td><td>78</td><td>25</td></tr>\n",
              "\t<tr><td> 9</td><td>3</td><td>20</td><td>98</td><td>15</td></tr>\n",
              "\t<tr><td>10</td><td>3</td><td>50</td><td>98</td><td>45</td></tr>\n",
              "\t<tr><td>13</td><td>4</td><td>46</td><td>98</td><td>65</td></tr>\n",
              "\t<tr><td>16</td><td>4</td><td>58</td><td>98</td><td>65</td></tr>\n",
              "</tbody>\n",
              "</table>\n"
            ],
            "text/markdown": "\nA data.frame: 9 × 5\n\n| id &lt;int&gt; | class &lt;int&gt; | math &lt;int&gt; | english &lt;int&gt; | science &lt;int&gt; |\n|---|---|---|---|---|\n|  1 | 1 | 50 | 98 | 50 |\n|  2 | 1 | 60 | 97 | 60 |\n|  4 | 1 | 30 | 98 | 58 |\n|  7 | 2 | 80 | 90 | 45 |\n|  8 | 2 | 90 | 78 | 25 |\n|  9 | 3 | 20 | 98 | 15 |\n| 10 | 3 | 50 | 98 | 45 |\n| 13 | 4 | 46 | 98 | 65 |\n| 16 | 4 | 58 | 98 | 65 |\n\n",
            "text/latex": "A data.frame: 9 × 5\n\\begin{tabular}{lllll}\n id & class & math & english & science\\\\\n <int> & <int> & <int> & <int> & <int>\\\\\n\\hline\n\t  1 & 1 & 50 & 98 & 50\\\\\n\t  2 & 1 & 60 & 97 & 60\\\\\n\t  4 & 1 & 30 & 98 & 58\\\\\n\t  7 & 2 & 80 & 90 & 45\\\\\n\t  8 & 2 & 90 & 78 & 25\\\\\n\t  9 & 3 & 20 & 98 & 15\\\\\n\t 10 & 3 & 50 & 98 & 45\\\\\n\t 13 & 4 & 46 & 98 & 65\\\\\n\t 16 & 4 & 58 & 98 & 65\\\\\n\\end{tabular}\n",
            "text/plain": [
              "  id class math english science\n",
              "1  1 1     50   98      50     \n",
              "2  2 1     60   97      60     \n",
              "3  4 1     30   98      58     \n",
              "4  7 2     80   90      45     \n",
              "5  8 2     90   78      25     \n",
              "6  9 3     20   98      15     \n",
              "7 10 3     50   98      45     \n",
              "8 13 4     46   98      65     \n",
              "9 16 4     58   98      65     "
            ]
          },
          "metadata": {}
        }
      ]
    },
    {
      "cell_type": "markdown",
      "source": [
        "## 목록에 해당되는 행 추출"
      ],
      "metadata": {
        "id": "Cpol9pEW_fMl"
      }
    },
    {
      "cell_type": "code",
      "source": [
        "# class가 1, 3, 5에 해당하면 추출\n",
        "exam %>% filter(class == 1 | class == 3 | class == 5)"
      ],
      "metadata": {
        "colab": {
          "base_uri": "https://localhost:8080/",
          "height": 474
        },
        "id": "fBeYHJ2j_RBs",
        "outputId": "c761b921-8721-4ca4-a975-3dd01ee13bd3"
      },
      "execution_count": 13,
      "outputs": [
        {
          "output_type": "display_data",
          "data": {
            "text/html": [
              "<table class=\"dataframe\">\n",
              "<caption>A data.frame: 12 × 5</caption>\n",
              "<thead>\n",
              "\t<tr><th scope=col>id</th><th scope=col>class</th><th scope=col>math</th><th scope=col>english</th><th scope=col>science</th></tr>\n",
              "\t<tr><th scope=col>&lt;int&gt;</th><th scope=col>&lt;int&gt;</th><th scope=col>&lt;int&gt;</th><th scope=col>&lt;int&gt;</th><th scope=col>&lt;int&gt;</th></tr>\n",
              "</thead>\n",
              "<tbody>\n",
              "\t<tr><td> 1</td><td>1</td><td>50</td><td>98</td><td>50</td></tr>\n",
              "\t<tr><td> 2</td><td>1</td><td>60</td><td>97</td><td>60</td></tr>\n",
              "\t<tr><td> 3</td><td>1</td><td>45</td><td>86</td><td>78</td></tr>\n",
              "\t<tr><td> 4</td><td>1</td><td>30</td><td>98</td><td>58</td></tr>\n",
              "\t<tr><td> 9</td><td>3</td><td>20</td><td>98</td><td>15</td></tr>\n",
              "\t<tr><td>10</td><td>3</td><td>50</td><td>98</td><td>45</td></tr>\n",
              "\t<tr><td>11</td><td>3</td><td>65</td><td>65</td><td>65</td></tr>\n",
              "\t<tr><td>12</td><td>3</td><td>45</td><td>85</td><td>32</td></tr>\n",
              "\t<tr><td>17</td><td>5</td><td>65</td><td>68</td><td>98</td></tr>\n",
              "\t<tr><td>18</td><td>5</td><td>80</td><td>78</td><td>90</td></tr>\n",
              "\t<tr><td>19</td><td>5</td><td>89</td><td>68</td><td>87</td></tr>\n",
              "\t<tr><td>20</td><td>5</td><td>78</td><td>83</td><td>58</td></tr>\n",
              "</tbody>\n",
              "</table>\n"
            ],
            "text/markdown": "\nA data.frame: 12 × 5\n\n| id &lt;int&gt; | class &lt;int&gt; | math &lt;int&gt; | english &lt;int&gt; | science &lt;int&gt; |\n|---|---|---|---|---|\n|  1 | 1 | 50 | 98 | 50 |\n|  2 | 1 | 60 | 97 | 60 |\n|  3 | 1 | 45 | 86 | 78 |\n|  4 | 1 | 30 | 98 | 58 |\n|  9 | 3 | 20 | 98 | 15 |\n| 10 | 3 | 50 | 98 | 45 |\n| 11 | 3 | 65 | 65 | 65 |\n| 12 | 3 | 45 | 85 | 32 |\n| 17 | 5 | 65 | 68 | 98 |\n| 18 | 5 | 80 | 78 | 90 |\n| 19 | 5 | 89 | 68 | 87 |\n| 20 | 5 | 78 | 83 | 58 |\n\n",
            "text/latex": "A data.frame: 12 × 5\n\\begin{tabular}{lllll}\n id & class & math & english & science\\\\\n <int> & <int> & <int> & <int> & <int>\\\\\n\\hline\n\t  1 & 1 & 50 & 98 & 50\\\\\n\t  2 & 1 & 60 & 97 & 60\\\\\n\t  3 & 1 & 45 & 86 & 78\\\\\n\t  4 & 1 & 30 & 98 & 58\\\\\n\t  9 & 3 & 20 & 98 & 15\\\\\n\t 10 & 3 & 50 & 98 & 45\\\\\n\t 11 & 3 & 65 & 65 & 65\\\\\n\t 12 & 3 & 45 & 85 & 32\\\\\n\t 17 & 5 & 65 & 68 & 98\\\\\n\t 18 & 5 & 80 & 78 & 90\\\\\n\t 19 & 5 & 89 & 68 & 87\\\\\n\t 20 & 5 & 78 & 83 & 58\\\\\n\\end{tabular}\n",
            "text/plain": [
              "   id class math english science\n",
              "1   1 1     50   98      50     \n",
              "2   2 1     60   97      60     \n",
              "3   3 1     45   86      78     \n",
              "4   4 1     30   98      58     \n",
              "5   9 3     20   98      15     \n",
              "6  10 3     50   98      45     \n",
              "7  11 3     65   65      65     \n",
              "8  12 3     45   85      32     \n",
              "9  17 5     65   68      98     \n",
              "10 18 5     80   78      90     \n",
              "11 19 5     89   68      87     \n",
              "12 20 5     78   83      58     "
            ]
          },
          "metadata": {}
        }
      ]
    },
    {
      "cell_type": "code",
      "source": [
        "# %in% 이용하기\n",
        "# %in% : 매치 연산자(Matching Operator). 변수의 값이 지정한 조건 목록에 해당되는지 확인하는 기능\n",
        "exam %>% filter(class %in% c(1, 3, 5))"
      ],
      "metadata": {
        "colab": {
          "base_uri": "https://localhost:8080/",
          "height": 474
        },
        "id": "v-3sQNiQ_veP",
        "outputId": "e4744baa-98f6-45d6-d631-bdbf3765ca74"
      },
      "execution_count": 15,
      "outputs": [
        {
          "output_type": "display_data",
          "data": {
            "text/html": [
              "<table class=\"dataframe\">\n",
              "<caption>A data.frame: 12 × 5</caption>\n",
              "<thead>\n",
              "\t<tr><th scope=col>id</th><th scope=col>class</th><th scope=col>math</th><th scope=col>english</th><th scope=col>science</th></tr>\n",
              "\t<tr><th scope=col>&lt;int&gt;</th><th scope=col>&lt;int&gt;</th><th scope=col>&lt;int&gt;</th><th scope=col>&lt;int&gt;</th><th scope=col>&lt;int&gt;</th></tr>\n",
              "</thead>\n",
              "<tbody>\n",
              "\t<tr><td> 1</td><td>1</td><td>50</td><td>98</td><td>50</td></tr>\n",
              "\t<tr><td> 2</td><td>1</td><td>60</td><td>97</td><td>60</td></tr>\n",
              "\t<tr><td> 3</td><td>1</td><td>45</td><td>86</td><td>78</td></tr>\n",
              "\t<tr><td> 4</td><td>1</td><td>30</td><td>98</td><td>58</td></tr>\n",
              "\t<tr><td> 9</td><td>3</td><td>20</td><td>98</td><td>15</td></tr>\n",
              "\t<tr><td>10</td><td>3</td><td>50</td><td>98</td><td>45</td></tr>\n",
              "\t<tr><td>11</td><td>3</td><td>65</td><td>65</td><td>65</td></tr>\n",
              "\t<tr><td>12</td><td>3</td><td>45</td><td>85</td><td>32</td></tr>\n",
              "\t<tr><td>17</td><td>5</td><td>65</td><td>68</td><td>98</td></tr>\n",
              "\t<tr><td>18</td><td>5</td><td>80</td><td>78</td><td>90</td></tr>\n",
              "\t<tr><td>19</td><td>5</td><td>89</td><td>68</td><td>87</td></tr>\n",
              "\t<tr><td>20</td><td>5</td><td>78</td><td>83</td><td>58</td></tr>\n",
              "</tbody>\n",
              "</table>\n"
            ],
            "text/markdown": "\nA data.frame: 12 × 5\n\n| id &lt;int&gt; | class &lt;int&gt; | math &lt;int&gt; | english &lt;int&gt; | science &lt;int&gt; |\n|---|---|---|---|---|\n|  1 | 1 | 50 | 98 | 50 |\n|  2 | 1 | 60 | 97 | 60 |\n|  3 | 1 | 45 | 86 | 78 |\n|  4 | 1 | 30 | 98 | 58 |\n|  9 | 3 | 20 | 98 | 15 |\n| 10 | 3 | 50 | 98 | 45 |\n| 11 | 3 | 65 | 65 | 65 |\n| 12 | 3 | 45 | 85 | 32 |\n| 17 | 5 | 65 | 68 | 98 |\n| 18 | 5 | 80 | 78 | 90 |\n| 19 | 5 | 89 | 68 | 87 |\n| 20 | 5 | 78 | 83 | 58 |\n\n",
            "text/latex": "A data.frame: 12 × 5\n\\begin{tabular}{lllll}\n id & class & math & english & science\\\\\n <int> & <int> & <int> & <int> & <int>\\\\\n\\hline\n\t  1 & 1 & 50 & 98 & 50\\\\\n\t  2 & 1 & 60 & 97 & 60\\\\\n\t  3 & 1 & 45 & 86 & 78\\\\\n\t  4 & 1 & 30 & 98 & 58\\\\\n\t  9 & 3 & 20 & 98 & 15\\\\\n\t 10 & 3 & 50 & 98 & 45\\\\\n\t 11 & 3 & 65 & 65 & 65\\\\\n\t 12 & 3 & 45 & 85 & 32\\\\\n\t 17 & 5 & 65 & 68 & 98\\\\\n\t 18 & 5 & 80 & 78 & 90\\\\\n\t 19 & 5 & 89 & 68 & 87\\\\\n\t 20 & 5 & 78 & 83 & 58\\\\\n\\end{tabular}\n",
            "text/plain": [
              "   id class math english science\n",
              "1   1 1     50   98      50     \n",
              "2   2 1     60   97      60     \n",
              "3   3 1     45   86      78     \n",
              "4   4 1     30   98      58     \n",
              "5   9 3     20   98      15     \n",
              "6  10 3     50   98      45     \n",
              "7  11 3     65   65      65     \n",
              "8  12 3     45   85      32     \n",
              "9  17 5     65   68      98     \n",
              "10 18 5     80   78      90     \n",
              "11 19 5     89   68      87     \n",
              "12 20 5     78   83      58     "
            ]
          },
          "metadata": {}
        }
      ]
    },
    {
      "cell_type": "markdown",
      "source": [
        "## 추출한 행으로 데이터 만들기"
      ],
      "metadata": {
        "id": "CJ8yXvmeAPj2"
      }
    },
    {
      "cell_type": "code",
      "source": [
        "# class가 1인 행 추출, class1에 할당\n",
        "class1 <- exam %>% filter(class == 1)\n",
        "print(class1)"
      ],
      "metadata": {
        "colab": {
          "base_uri": "https://localhost:8080/"
        },
        "id": "BHnIB-iKAHd0",
        "outputId": "b0ed3b30-6c07-41ee-cb03-bd83611a5740"
      },
      "execution_count": 17,
      "outputs": [
        {
          "output_type": "stream",
          "name": "stdout",
          "text": [
            "  id class math english science\n",
            "1  1     1   50      98      50\n",
            "2  2     1   60      97      60\n",
            "3  3     1   45      86      78\n",
            "4  4     1   30      98      58\n"
          ]
        }
      ]
    },
    {
      "cell_type": "code",
      "source": [
        "# class가 1인 행의 math 평균 구하기\n",
        "mean(class1$math)"
      ],
      "metadata": {
        "colab": {
          "base_uri": "https://localhost:8080/",
          "height": 34
        },
        "id": "guvrYysiAVVw",
        "outputId": "c7bc79b6-b00c-4ec9-caf1-81664c45daf9"
      },
      "execution_count": 18,
      "outputs": [
        {
          "output_type": "display_data",
          "data": {
            "text/html": [
              "46.25"
            ],
            "text/markdown": "46.25",
            "text/latex": "46.25",
            "text/plain": [
              "[1] 46.25"
            ]
          },
          "metadata": {}
        }
      ]
    },
    {
      "cell_type": "markdown",
      "source": [
        "## mpg 데이터 분석 연습\n",
        "\n",
        "*분석계획* : <br>\n",
        "1. 자동차 배기량에 따라 고속도로 연비가 다른지 알아보려고 함. displ(배기량)이 4이하인 자동차와 5이상인 자동차 중 어떤 자동차의 hwy(고속도로 연비)까 평균적으로 더 높은지 분석<br>\n",
        "2. 자동차 제조사 별로 도시 연비가 다른지 알아보려고 함. audi와 toyota 중 어느 manufacturer(제조사)의 cty(도시 연비)가 평균적으로 더 높은지 분석 <br>\n",
        "3. chevrolet, ford, honda 자동차의 고속도로 연비 평균을 알아보려고 함. 이 회사들의 데이터를 추출한 후 hwy 전체 평균을 분석 "
      ],
      "metadata": {
        "id": "R8TZPkAgAiFQ"
      }
    },
    {
      "cell_type": "code",
      "source": [
        "# mpg 데이터 불러오기\n",
        "mpg <- as.data.frame(ggplot2::mpg)"
      ],
      "metadata": {
        "id": "yVEKOq1SAd47"
      },
      "execution_count": 22,
      "outputs": []
    },
    {
      "cell_type": "code",
      "source": [
        "head(mpg)"
      ],
      "metadata": {
        "colab": {
          "base_uri": "https://localhost:8080/",
          "height": 286
        },
        "id": "QcXVDzHZBDSw",
        "outputId": "45aee407-e202-4815-9282-ec556db22d29"
      },
      "execution_count": 23,
      "outputs": [
        {
          "output_type": "display_data",
          "data": {
            "text/html": [
              "<table class=\"dataframe\">\n",
              "<caption>A data.frame: 6 × 11</caption>\n",
              "<thead>\n",
              "\t<tr><th></th><th scope=col>manufacturer</th><th scope=col>model</th><th scope=col>displ</th><th scope=col>year</th><th scope=col>cyl</th><th scope=col>trans</th><th scope=col>drv</th><th scope=col>cty</th><th scope=col>hwy</th><th scope=col>fl</th><th scope=col>class</th></tr>\n",
              "\t<tr><th></th><th scope=col>&lt;chr&gt;</th><th scope=col>&lt;chr&gt;</th><th scope=col>&lt;dbl&gt;</th><th scope=col>&lt;int&gt;</th><th scope=col>&lt;int&gt;</th><th scope=col>&lt;chr&gt;</th><th scope=col>&lt;chr&gt;</th><th scope=col>&lt;int&gt;</th><th scope=col>&lt;int&gt;</th><th scope=col>&lt;chr&gt;</th><th scope=col>&lt;chr&gt;</th></tr>\n",
              "</thead>\n",
              "<tbody>\n",
              "\t<tr><th scope=row>1</th><td>audi</td><td>a4</td><td>1.8</td><td>1999</td><td>4</td><td>auto(l5)  </td><td>f</td><td>18</td><td>29</td><td>p</td><td>compact</td></tr>\n",
              "\t<tr><th scope=row>2</th><td>audi</td><td>a4</td><td>1.8</td><td>1999</td><td>4</td><td>manual(m5)</td><td>f</td><td>21</td><td>29</td><td>p</td><td>compact</td></tr>\n",
              "\t<tr><th scope=row>3</th><td>audi</td><td>a4</td><td>2.0</td><td>2008</td><td>4</td><td>manual(m6)</td><td>f</td><td>20</td><td>31</td><td>p</td><td>compact</td></tr>\n",
              "\t<tr><th scope=row>4</th><td>audi</td><td>a4</td><td>2.0</td><td>2008</td><td>4</td><td>auto(av)  </td><td>f</td><td>21</td><td>30</td><td>p</td><td>compact</td></tr>\n",
              "\t<tr><th scope=row>5</th><td>audi</td><td>a4</td><td>2.8</td><td>1999</td><td>6</td><td>auto(l5)  </td><td>f</td><td>16</td><td>26</td><td>p</td><td>compact</td></tr>\n",
              "\t<tr><th scope=row>6</th><td>audi</td><td>a4</td><td>2.8</td><td>1999</td><td>6</td><td>manual(m5)</td><td>f</td><td>18</td><td>26</td><td>p</td><td>compact</td></tr>\n",
              "</tbody>\n",
              "</table>\n"
            ],
            "text/markdown": "\nA data.frame: 6 × 11\n\n| <!--/--> | manufacturer &lt;chr&gt; | model &lt;chr&gt; | displ &lt;dbl&gt; | year &lt;int&gt; | cyl &lt;int&gt; | trans &lt;chr&gt; | drv &lt;chr&gt; | cty &lt;int&gt; | hwy &lt;int&gt; | fl &lt;chr&gt; | class &lt;chr&gt; |\n|---|---|---|---|---|---|---|---|---|---|---|---|\n| 1 | audi | a4 | 1.8 | 1999 | 4 | auto(l5)   | f | 18 | 29 | p | compact |\n| 2 | audi | a4 | 1.8 | 1999 | 4 | manual(m5) | f | 21 | 29 | p | compact |\n| 3 | audi | a4 | 2.0 | 2008 | 4 | manual(m6) | f | 20 | 31 | p | compact |\n| 4 | audi | a4 | 2.0 | 2008 | 4 | auto(av)   | f | 21 | 30 | p | compact |\n| 5 | audi | a4 | 2.8 | 1999 | 6 | auto(l5)   | f | 16 | 26 | p | compact |\n| 6 | audi | a4 | 2.8 | 1999 | 6 | manual(m5) | f | 18 | 26 | p | compact |\n\n",
            "text/latex": "A data.frame: 6 × 11\n\\begin{tabular}{r|lllllllllll}\n  & manufacturer & model & displ & year & cyl & trans & drv & cty & hwy & fl & class\\\\\n  & <chr> & <chr> & <dbl> & <int> & <int> & <chr> & <chr> & <int> & <int> & <chr> & <chr>\\\\\n\\hline\n\t1 & audi & a4 & 1.8 & 1999 & 4 & auto(l5)   & f & 18 & 29 & p & compact\\\\\n\t2 & audi & a4 & 1.8 & 1999 & 4 & manual(m5) & f & 21 & 29 & p & compact\\\\\n\t3 & audi & a4 & 2.0 & 2008 & 4 & manual(m6) & f & 20 & 31 & p & compact\\\\\n\t4 & audi & a4 & 2.0 & 2008 & 4 & auto(av)   & f & 21 & 30 & p & compact\\\\\n\t5 & audi & a4 & 2.8 & 1999 & 6 & auto(l5)   & f & 16 & 26 & p & compact\\\\\n\t6 & audi & a4 & 2.8 & 1999 & 6 & manual(m5) & f & 18 & 26 & p & compact\\\\\n\\end{tabular}\n",
            "text/plain": [
              "  manufacturer model displ year cyl trans      drv cty hwy fl class  \n",
              "1 audi         a4    1.8   1999 4   auto(l5)   f   18  29  p  compact\n",
              "2 audi         a4    1.8   1999 4   manual(m5) f   21  29  p  compact\n",
              "3 audi         a4    2.0   2008 4   manual(m6) f   20  31  p  compact\n",
              "4 audi         a4    2.0   2008 4   auto(av)   f   21  30  p  compact\n",
              "5 audi         a4    2.8   1999 6   auto(l5)   f   16  26  p  compact\n",
              "6 audi         a4    2.8   1999 6   manual(m5) f   18  26  p  compact"
            ]
          },
          "metadata": {}
        }
      ]
    },
    {
      "cell_type": "code",
      "source": [
        "# 1. 자동차 배기량에 따라 고속도로 연비가 다른지 알아보려고 함. displ(배기량)이 4이하인 자동차와 5이상인 자동차 중 어떤 자동차의 hwy(고속도로 연비)까 평균적으로 더 높은지 분석\n",
        "mpg1 <- mpg %>% filter(displ <= 4)\n",
        "mpg2 <- mpg %>% filter(displ >= 5)"
      ],
      "metadata": {
        "id": "mGZ2aj0PBECN"
      },
      "execution_count": 25,
      "outputs": []
    },
    {
      "cell_type": "code",
      "source": [
        "# displ 4이하인 hwy 평균\n",
        "mean(mpg1$hwy)\n",
        "\n",
        "# displ 5이상 hwy 평균\n",
        "mean(mpg2$hwy)"
      ],
      "metadata": {
        "colab": {
          "base_uri": "https://localhost:8080/",
          "height": 52
        },
        "id": "ogn10S57B65V",
        "outputId": "b66e35a3-2de9-49ae-8c22-442a19bf66d2"
      },
      "execution_count": 26,
      "outputs": [
        {
          "output_type": "display_data",
          "data": {
            "text/html": [
              "25.9631901840491"
            ],
            "text/markdown": "25.9631901840491",
            "text/latex": "25.9631901840491",
            "text/plain": [
              "[1] 25.96319"
            ]
          },
          "metadata": {}
        },
        {
          "output_type": "display_data",
          "data": {
            "text/html": [
              "18.0789473684211"
            ],
            "text/markdown": "18.0789473684211",
            "text/latex": "18.0789473684211",
            "text/plain": [
              "[1] 18.07895"
            ]
          },
          "metadata": {}
        }
      ]
    },
    {
      "cell_type": "code",
      "source": [
        "# 2. 자동차 제조사 별로 도시 연비가 다른지 알아보려고 함. audi와 toyota 중 어느 manufacturer(제조사)의 cty(도시 연비)가 평균적으로 더 높은지 분석\n",
        "mpg_audi <- mpg %>% filter(manufacturer == \"audi\")\n",
        "mpg_toyota <- mpg %>% filter(manufacturer == \"toyota\")\n",
        "\n",
        "# audi의 평균 cty\n",
        "mean(mpg_audi$cty)\n",
        "\n",
        "# toyota의 평균 cty\n",
        "mean(mpg_toyota$cty)"
      ],
      "metadata": {
        "colab": {
          "base_uri": "https://localhost:8080/",
          "height": 52
        },
        "id": "-UjdP1HXBHjV",
        "outputId": "12182aa9-bf0e-43de-e5a9-c0b5e05f5b49"
      },
      "execution_count": 27,
      "outputs": [
        {
          "output_type": "display_data",
          "data": {
            "text/html": [
              "17.6111111111111"
            ],
            "text/markdown": "17.6111111111111",
            "text/latex": "17.6111111111111",
            "text/plain": [
              "[1] 17.61111"
            ]
          },
          "metadata": {}
        },
        {
          "output_type": "display_data",
          "data": {
            "text/html": [
              "18.5294117647059"
            ],
            "text/markdown": "18.5294117647059",
            "text/latex": "18.5294117647059",
            "text/plain": [
              "[1] 18.52941"
            ]
          },
          "metadata": {}
        }
      ]
    },
    {
      "cell_type": "code",
      "source": [
        "# 3. chevrolet, ford, honda 자동차의 고속도로 연비 평균을 알아보려고 함. 이 회사들의 데이터를 추출한 후 hwy 전체 평균을 분석\n",
        "mpg_cfh <- mpg %>% filter(manufacturer %in% c(\"chevrolet\", \"ford\", \"honda\"))\n",
        "\n",
        "mean(mpg_cfh$hwy)"
      ],
      "metadata": {
        "colab": {
          "base_uri": "https://localhost:8080/",
          "height": 34
        },
        "id": "7SGgTATZBKVP",
        "outputId": "f94e1aa8-0758-46e8-ce5f-3d31f9dfb76b"
      },
      "execution_count": 28,
      "outputs": [
        {
          "output_type": "display_data",
          "data": {
            "text/html": [
              "22.5094339622642"
            ],
            "text/markdown": "22.5094339622642",
            "text/latex": "22.5094339622642",
            "text/plain": [
              "[1] 22.50943"
            ]
          },
          "metadata": {}
        }
      ]
    },
    {
      "cell_type": "code",
      "source": [
        ""
      ],
      "metadata": {
        "id": "_V5eAGe2C1yw"
      },
      "execution_count": null,
      "outputs": []
    }
  ]
}