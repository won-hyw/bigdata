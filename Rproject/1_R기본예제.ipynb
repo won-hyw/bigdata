{
  "cells": [
    {
      "cell_type": "markdown",
      "id": "1c525558",
      "metadata": {
        "id": "1c525558"
      },
      "source": [
        "## 변수 만들기\n",
        "\n",
        "- <- 또는 = 을 이용하여 변수 생성\n",
        "- = 는 R에서 추천하는 방식이 아님"
      ]
    },
    {
      "cell_type": "code",
      "execution_count": null,
      "id": "a6faf7f3",
      "metadata": {
        "id": "a6faf7f3",
        "outputId": "f158ba41-e67f-46fd-d104-feb63fae99fc"
      },
      "outputs": [
        {
          "name": "stdout",
          "output_type": "stream",
          "text": [
            "[1] 1\n",
            "[1] 3\n"
          ]
        }
      ],
      "source": [
        "# 변수 생성 방법\n",
        "\n",
        "a <- 1\n",
        "b = 3\n",
        "c <- 1.5\n",
        "\n",
        "# 변수 출력\n",
        "\n",
        "print(a)\n",
        "print(b)"
      ]
    },
    {
      "cell_type": "markdown",
      "id": "222b101c",
      "metadata": {
        "id": "222b101c"
      },
      "source": [
        "### <- 와 = 의 차이"
      ]
    },
    {
      "cell_type": "code",
      "execution_count": null,
      "id": "f51d425e",
      "metadata": {
        "id": "f51d425e",
        "outputId": "55642c67-c1a5-42bf-f785-ecf8062eee2b"
      },
      "outputs": [
        {
          "data": {
            "text/html": [
              "3"
            ],
            "text/latex": [
              "3"
            ],
            "text/markdown": [
              "3"
            ],
            "text/plain": [
              "[1] 3"
            ]
          },
          "metadata": {},
          "output_type": "display_data"
        },
        {
          "data": {
            "text/html": [
              "<ol class=list-inline>\n",
              "\t<li>1</li>\n",
              "\t<li>2</li>\n",
              "</ol>\n"
            ],
            "text/latex": [
              "\\begin{enumerate*}\n",
              "\\item 1\n",
              "\\item 2\n",
              "\\end{enumerate*}\n"
            ],
            "text/markdown": [
              "1. 1\n",
              "2. 2\n",
              "\n",
              "\n"
            ],
            "text/plain": [
              "[1] 1 2"
            ]
          },
          "metadata": {},
          "output_type": "display_data"
        }
      ],
      "source": [
        "sum(x <- c(1, 2))\n",
        "x"
      ]
    },
    {
      "cell_type": "code",
      "execution_count": null,
      "id": "7e700a21",
      "metadata": {
        "id": "7e700a21",
        "outputId": "86ab6f3b-cc35-433c-fa47-b8b4bb52756e"
      },
      "outputs": [
        {
          "data": {
            "text/html": [
              "1"
            ],
            "text/latex": [
              "1"
            ],
            "text/markdown": [
              "1"
            ],
            "text/plain": [
              "[1] 1"
            ]
          },
          "metadata": {},
          "output_type": "display_data"
        }
      ],
      "source": [
        "sum(y = 1)\n",
        "# y 에러 발생, = 는 변수 생성도 하지만 파라미터 값으로도 인식되기 때문"
      ]
    },
    {
      "cell_type": "markdown",
      "id": "aae8361c",
      "metadata": {
        "id": "aae8361c"
      },
      "source": [
        "### 기본 연산"
      ]
    },
    {
      "cell_type": "code",
      "execution_count": null,
      "id": "6532cd76",
      "metadata": {
        "id": "6532cd76",
        "outputId": "8574c9c7-8758-4596-ca37-32df91523196"
      },
      "outputs": [
        {
          "data": {
            "text/html": [
              "4"
            ],
            "text/latex": [
              "4"
            ],
            "text/markdown": [
              "4"
            ],
            "text/plain": [
              "[1] 4"
            ]
          },
          "metadata": {},
          "output_type": "display_data"
        }
      ],
      "source": [
        "a + b"
      ]
    },
    {
      "cell_type": "code",
      "execution_count": null,
      "id": "9434ce22",
      "metadata": {
        "id": "9434ce22",
        "outputId": "f15849b0-b598-415e-9c5e-ee9993aee140"
      },
      "outputs": [
        {
          "data": {
            "text/html": [
              "2"
            ],
            "text/latex": [
              "2"
            ],
            "text/markdown": [
              "2"
            ],
            "text/plain": [
              "[1] 2"
            ]
          },
          "metadata": {},
          "output_type": "display_data"
        }
      ],
      "source": [
        "6 / b"
      ]
    },
    {
      "cell_type": "code",
      "execution_count": null,
      "id": "02ec4f69",
      "metadata": {
        "id": "02ec4f69",
        "outputId": "d1667ee4-9825-4d62-9a12-8f7168fb68c2"
      },
      "outputs": [
        {
          "data": {
            "text/html": [
              "3"
            ],
            "text/latex": [
              "3"
            ],
            "text/markdown": [
              "3"
            ],
            "text/plain": [
              "[1] 3"
            ]
          },
          "metadata": {},
          "output_type": "display_data"
        }
      ],
      "source": [
        "2 * c"
      ]
    },
    {
      "cell_type": "markdown",
      "id": "8a7ba18d",
      "metadata": {
        "id": "8a7ba18d"
      },
      "source": [
        "## 여러 값으로 구성된 변수\n",
        "\n",
        "- c() 함수 : 변수에 여러 값을 넣는 함수"
      ]
    },
    {
      "cell_type": "code",
      "execution_count": null,
      "id": "53852c7d",
      "metadata": {
        "id": "53852c7d",
        "outputId": "0598937c-1532-4cdb-f8c1-388f75f09301"
      },
      "outputs": [
        {
          "data": {
            "text/html": [
              "<ol class=list-inline>\n",
              "\t<li>1</li>\n",
              "\t<li>3</li>\n",
              "\t<li>5</li>\n",
              "\t<li>7</li>\n",
              "\t<li>9</li>\n",
              "</ol>\n"
            ],
            "text/latex": [
              "\\begin{enumerate*}\n",
              "\\item 1\n",
              "\\item 3\n",
              "\\item 5\n",
              "\\item 7\n",
              "\\item 9\n",
              "\\end{enumerate*}\n"
            ],
            "text/markdown": [
              "1. 1\n",
              "2. 3\n",
              "3. 5\n",
              "4. 7\n",
              "5. 9\n",
              "\n",
              "\n"
            ],
            "text/plain": [
              "[1] 1 3 5 7 9"
            ]
          },
          "metadata": {},
          "output_type": "display_data"
        }
      ],
      "source": [
        "# 숫자 5개로 이루어진 변수\n",
        "\n",
        "var1 <- c(1, 3, 5, 7, 9)\n",
        "var1"
      ]
    },
    {
      "cell_type": "code",
      "execution_count": null,
      "id": "0580ab1a",
      "metadata": {
        "id": "0580ab1a",
        "outputId": "ee0f3dc4-8f73-4b92-86e1-2f7b989ff968"
      },
      "outputs": [
        {
          "data": {
            "text/html": [
              "<ol class=list-inline>\n",
              "\t<li>1</li>\n",
              "\t<li>2</li>\n",
              "\t<li>3</li>\n",
              "\t<li>4</li>\n",
              "\t<li>5</li>\n",
              "</ol>\n"
            ],
            "text/latex": [
              "\\begin{enumerate*}\n",
              "\\item 1\n",
              "\\item 2\n",
              "\\item 3\n",
              "\\item 4\n",
              "\\item 5\n",
              "\\end{enumerate*}\n"
            ],
            "text/markdown": [
              "1. 1\n",
              "2. 2\n",
              "3. 3\n",
              "4. 4\n",
              "5. 5\n",
              "\n",
              "\n"
            ],
            "text/plain": [
              "[1] 1 2 3 4 5"
            ]
          },
          "metadata": {},
          "output_type": "display_data"
        }
      ],
      "source": [
        "# 콜론 : 1씩 증가하는 연속된 수 (마지막 수 포함)\n",
        "\n",
        "var2 <- c(1:5)\n",
        "var2"
      ]
    },
    {
      "cell_type": "code",
      "execution_count": null,
      "id": "959d47b1",
      "metadata": {
        "id": "959d47b1",
        "outputId": "31b6f7fe-dae7-4a0b-d89e-4ffdea21bbef"
      },
      "outputs": [
        {
          "data": {
            "text/html": [
              "<ol class=list-inline>\n",
              "\t<li>1</li>\n",
              "\t<li>2</li>\n",
              "\t<li>3</li>\n",
              "\t<li>4</li>\n",
              "\t<li>5</li>\n",
              "</ol>\n"
            ],
            "text/latex": [
              "\\begin{enumerate*}\n",
              "\\item 1\n",
              "\\item 2\n",
              "\\item 3\n",
              "\\item 4\n",
              "\\item 5\n",
              "\\end{enumerate*}\n"
            ],
            "text/markdown": [
              "1. 1\n",
              "2. 2\n",
              "3. 3\n",
              "4. 4\n",
              "5. 5\n",
              "\n",
              "\n"
            ],
            "text/plain": [
              "[1] 1 2 3 4 5"
            ]
          },
          "metadata": {},
          "output_type": "display_data"
        }
      ],
      "source": [
        "# seq() : 연속된 값을 지닌 변수 생성 (sequence)\n",
        "\n",
        "var3 <- seq(from = 1, to = 5)\n",
        "var3"
      ]
    },
    {
      "cell_type": "code",
      "execution_count": null,
      "id": "fb62c4c3",
      "metadata": {
        "id": "fb62c4c3",
        "outputId": "5b70fee8-b158-4871-d8fe-85a9bfa758fd"
      },
      "outputs": [
        {
          "data": {
            "text/html": [
              "<ol class=list-inline>\n",
              "\t<li>1</li>\n",
              "\t<li>3</li>\n",
              "\t<li>5</li>\n",
              "\t<li>7</li>\n",
              "\t<li>9</li>\n",
              "</ol>\n"
            ],
            "text/latex": [
              "\\begin{enumerate*}\n",
              "\\item 1\n",
              "\\item 3\n",
              "\\item 5\n",
              "\\item 7\n",
              "\\item 9\n",
              "\\end{enumerate*}\n"
            ],
            "text/markdown": [
              "1. 1\n",
              "2. 3\n",
              "3. 5\n",
              "4. 7\n",
              "5. 9\n",
              "\n",
              "\n"
            ],
            "text/plain": [
              "[1] 1 3 5 7 9"
            ]
          },
          "metadata": {},
          "output_type": "display_data"
        }
      ],
      "source": [
        "# seq 함수의 간격 조절\n",
        "\n",
        "var4 <- seq(1, 10, by = 2)\n",
        "var4"
      ]
    },
    {
      "cell_type": "code",
      "execution_count": null,
      "id": "d22d34cc",
      "metadata": {
        "id": "d22d34cc",
        "outputId": "ab268f4c-bf96-45f8-ebc0-2f41739f7b18"
      },
      "outputs": [
        {
          "data": {
            "text/html": [
              "<ol class=list-inline>\n",
              "\t<li>1</li>\n",
              "\t<li>3.25</li>\n",
              "\t<li>5.5</li>\n",
              "\t<li>7.75</li>\n",
              "\t<li>10</li>\n",
              "</ol>\n"
            ],
            "text/latex": [
              "\\begin{enumerate*}\n",
              "\\item 1\n",
              "\\item 3.25\n",
              "\\item 5.5\n",
              "\\item 7.75\n",
              "\\item 10\n",
              "\\end{enumerate*}\n"
            ],
            "text/markdown": [
              "1. 1\n",
              "2. 3.25\n",
              "3. 5.5\n",
              "4. 7.75\n",
              "5. 10\n",
              "\n",
              "\n"
            ],
            "text/plain": [
              "[1]  1.00  3.25  5.50  7.75 10.00"
            ]
          },
          "metadata": {},
          "output_type": "display_data"
        }
      ],
      "source": [
        "# 등차수열\n",
        "\n",
        "var5 <- seq(1, 10, length = 5)\n",
        "var5"
      ]
    },
    {
      "cell_type": "code",
      "execution_count": null,
      "id": "a88daed3",
      "metadata": {
        "id": "a88daed3",
        "outputId": "e94d2e49-84a9-437a-c973-80495f433d30"
      },
      "outputs": [
        {
          "data": {
            "text/html": [
              "<ol class=list-inline>\n",
              "\t<li>1</li>\n",
              "\t<li>4</li>\n",
              "\t<li>7</li>\n",
              "\t<li>10</li>\n",
              "</ol>\n"
            ],
            "text/latex": [
              "\\begin{enumerate*}\n",
              "\\item 1\n",
              "\\item 4\n",
              "\\item 7\n",
              "\\item 10\n",
              "\\end{enumerate*}\n"
            ],
            "text/markdown": [
              "1. 1\n",
              "2. 4\n",
              "3. 7\n",
              "4. 10\n",
              "\n",
              "\n"
            ],
            "text/plain": [
              "[1]  1  4  7 10"
            ]
          },
          "metadata": {},
          "output_type": "display_data"
        }
      ],
      "source": [
        "# 수열 개수 지정\n",
        "\n",
        "var6 <- seq(1, by = 3, length.out = 4)\n",
        "var6"
      ]
    },
    {
      "cell_type": "markdown",
      "id": "117ad6fc",
      "metadata": {
        "id": "117ad6fc"
      },
      "source": [
        "## 수열 연산\n",
        "\n",
        "- 변수 + 변수\n",
        "- 변수 + 숫자"
      ]
    },
    {
      "cell_type": "code",
      "execution_count": null,
      "id": "966607ce",
      "metadata": {
        "id": "966607ce",
        "outputId": "430e69ef-53c8-4224-d7d1-2cf417bd1d7e"
      },
      "outputs": [
        {
          "data": {
            "text/html": [
              "<ol class=list-inline>\n",
              "\t<li>3</li>\n",
              "\t<li>5</li>\n",
              "\t<li>7</li>\n",
              "\t<li>9</li>\n",
              "\t<li>11</li>\n",
              "</ol>\n"
            ],
            "text/latex": [
              "\\begin{enumerate*}\n",
              "\\item 3\n",
              "\\item 5\n",
              "\\item 7\n",
              "\\item 9\n",
              "\\item 11\n",
              "\\end{enumerate*}\n"
            ],
            "text/markdown": [
              "1. 3\n",
              "2. 5\n",
              "3. 7\n",
              "4. 9\n",
              "5. 11\n",
              "\n",
              "\n"
            ],
            "text/plain": [
              "[1]  3  5  7  9 11"
            ]
          },
          "metadata": {},
          "output_type": "display_data"
        }
      ],
      "source": [
        "# 변수 + 숫자 : 각 변수의 각 값에 2가 더해진 값이 출력\n",
        "\n",
        "var1 + 2"
      ]
    },
    {
      "cell_type": "code",
      "execution_count": null,
      "id": "155fa70f",
      "metadata": {
        "id": "155fa70f",
        "outputId": "cab6a992-8f06-43f1-ed06-2bd00415ffcc"
      },
      "outputs": [
        {
          "data": {
            "text/html": [
              "<ol class=list-inline>\n",
              "\t<li>2</li>\n",
              "\t<li>5</li>\n",
              "\t<li>8</li>\n",
              "\t<li>11</li>\n",
              "\t<li>14</li>\n",
              "</ol>\n"
            ],
            "text/latex": [
              "\\begin{enumerate*}\n",
              "\\item 2\n",
              "\\item 5\n",
              "\\item 8\n",
              "\\item 11\n",
              "\\item 14\n",
              "\\end{enumerate*}\n"
            ],
            "text/markdown": [
              "1. 2\n",
              "2. 5\n",
              "3. 8\n",
              "4. 11\n",
              "5. 14\n",
              "\n",
              "\n"
            ],
            "text/plain": [
              "[1]  2  5  8 11 14"
            ]
          },
          "metadata": {},
          "output_type": "display_data"
        }
      ],
      "source": [
        "# 변수 + 변수 : 같은 순서에 위치한 값끼리 연산\n",
        "\n",
        "var1 + var2"
      ]
    },
    {
      "cell_type": "code",
      "execution_count": null,
      "id": "b3e8ca15",
      "metadata": {
        "id": "b3e8ca15",
        "outputId": "14469a0c-864a-4383-b26d-661a6bdd0208"
      },
      "outputs": [
        {
          "name": "stderr",
          "output_type": "stream",
          "text": [
            "Warning message in var1 + var6:\n",
            "\"두 객체의 길이가 서로 배수관계에 있지 않습니다\""
          ]
        },
        {
          "data": {
            "text/html": [
              "<ol class=list-inline>\n",
              "\t<li>2</li>\n",
              "\t<li>7</li>\n",
              "\t<li>12</li>\n",
              "\t<li>17</li>\n",
              "\t<li>10</li>\n",
              "</ol>\n"
            ],
            "text/latex": [
              "\\begin{enumerate*}\n",
              "\\item 2\n",
              "\\item 7\n",
              "\\item 12\n",
              "\\item 17\n",
              "\\item 10\n",
              "\\end{enumerate*}\n"
            ],
            "text/markdown": [
              "1. 2\n",
              "2. 7\n",
              "3. 12\n",
              "4. 17\n",
              "5. 10\n",
              "\n",
              "\n"
            ],
            "text/plain": [
              "[1]  2  7 12 17 10"
            ]
          },
          "metadata": {},
          "output_type": "display_data"
        }
      ],
      "source": [
        "# 변수 + 변수 연산에서 데이터의 길이가 다를 경우\n",
        "# 경고 메시지가 출력되지만 결과값도 함께 출력됨\n",
        "\n",
        "var1 + var6"
      ]
    },
    {
      "cell_type": "markdown",
      "id": "85a8f3e2",
      "metadata": {
        "id": "85a8f3e2"
      },
      "source": [
        "### 문자로 된 변수"
      ]
    },
    {
      "cell_type": "code",
      "execution_count": null,
      "id": "8acb3782",
      "metadata": {
        "id": "8acb3782",
        "outputId": "5f43ca8b-ee6b-42a6-ce85-ceaacda14ffa"
      },
      "outputs": [
        {
          "data": {
            "text/html": [
              "'Hello, World!'"
            ],
            "text/latex": [
              "'Hello, World!'"
            ],
            "text/markdown": [
              "'Hello, World!'"
            ],
            "text/plain": [
              "[1] \"Hello, World!\""
            ]
          },
          "metadata": {},
          "output_type": "display_data"
        }
      ],
      "source": [
        "str1 <- \"Hello, World!\"\n",
        "str1"
      ]
    },
    {
      "cell_type": "code",
      "execution_count": null,
      "id": "1879ee88",
      "metadata": {
        "id": "1879ee88",
        "outputId": "33807df6-f99d-4d23-b907-a9406abd167c"
      },
      "outputs": [
        {
          "data": {
            "text/html": [
              "<ol class=list-inline>\n",
              "\t<li>'Hello'</li>\n",
              "\t<li>'world'</li>\n",
              "\t<li>'is'</li>\n",
              "\t<li>'good!'</li>\n",
              "</ol>\n"
            ],
            "text/latex": [
              "\\begin{enumerate*}\n",
              "\\item 'Hello'\n",
              "\\item 'world'\n",
              "\\item 'is'\n",
              "\\item 'good!'\n",
              "\\end{enumerate*}\n"
            ],
            "text/markdown": [
              "1. 'Hello'\n",
              "2. 'world'\n",
              "3. 'is'\n",
              "4. 'good!'\n",
              "\n",
              "\n"
            ],
            "text/plain": [
              "[1] \"Hello\" \"world\" \"is\"    \"good!\""
            ]
          },
          "metadata": {},
          "output_type": "display_data"
        }
      ],
      "source": [
        "# 연속 문자 변수\n",
        "\n",
        "str2 <- c(\"Hello\", \"world\", \"is\", \"good!\")\n",
        "str2"
      ]
    },
    {
      "cell_type": "markdown",
      "id": "4e97f787",
      "metadata": {
        "id": "4e97f787"
      },
      "source": [
        "- 문자형 변수는 연산 불가능"
      ]
    },
    {
      "cell_type": "code",
      "execution_count": null,
      "id": "05b588c9",
      "metadata": {
        "id": "05b588c9"
      },
      "outputs": [],
      "source": [
        "# str1 * 2"
      ]
    },
    {
      "cell_type": "markdown",
      "id": "d3ad7e4f",
      "metadata": {
        "id": "d3ad7e4f"
      },
      "source": [
        "## 숫자를 다루는 함수"
      ]
    },
    {
      "cell_type": "code",
      "execution_count": null,
      "id": "4be4d886",
      "metadata": {
        "id": "4be4d886",
        "outputId": "74689ab5-4644-4534-ab57-6fcec0dfd39b"
      },
      "outputs": [
        {
          "data": {
            "text/html": [
              "2"
            ],
            "text/latex": [
              "2"
            ],
            "text/markdown": [
              "2"
            ],
            "text/plain": [
              "[1] 2"
            ]
          },
          "metadata": {},
          "output_type": "display_data"
        },
        {
          "data": {
            "text/html": [
              "3"
            ],
            "text/latex": [
              "3"
            ],
            "text/markdown": [
              "3"
            ],
            "text/plain": [
              "[1] 3"
            ]
          },
          "metadata": {},
          "output_type": "display_data"
        },
        {
          "data": {
            "text/html": [
              "1"
            ],
            "text/latex": [
              "1"
            ],
            "text/markdown": [
              "1"
            ],
            "text/plain": [
              "[1] 1"
            ]
          },
          "metadata": {},
          "output_type": "display_data"
        }
      ],
      "source": [
        "x <- c(1, 2, 3)\n",
        "\n",
        "# 평균\n",
        "mean(x)\n",
        "\n",
        "# 최댓값\n",
        "max(x)\n",
        "\n",
        "# 최솟값\n",
        "min(x)"
      ]
    },
    {
      "cell_type": "markdown",
      "id": "caa16f1f",
      "metadata": {
        "id": "caa16f1f"
      },
      "source": [
        "## 문자를 다루는 함수\n",
        "### paste() : 여러 문자를 합치는 함수"
      ]
    },
    {
      "cell_type": "code",
      "execution_count": null,
      "id": "73f85094",
      "metadata": {
        "id": "73f85094",
        "outputId": "7afcd286-414e-45d0-f415-7a54f01cef93"
      },
      "outputs": [
        {
          "data": {
            "text/html": [
              "'Hello World'"
            ],
            "text/latex": [
              "'Hello World'"
            ],
            "text/markdown": [
              "'Hello World'"
            ],
            "text/plain": [
              "[1] \"Hello World\""
            ]
          },
          "metadata": {},
          "output_type": "display_data"
        }
      ],
      "source": [
        "paste(\"Hello\", \"World\")"
      ]
    },
    {
      "cell_type": "code",
      "execution_count": null,
      "id": "b7677c53",
      "metadata": {
        "id": "b7677c53",
        "outputId": "e40afea3-efb1-4c38-c745-63062ae8aa39"
      },
      "outputs": [
        {
          "data": {
            "text/html": [
              "'Hello world is good!'"
            ],
            "text/latex": [
              "'Hello world is good!'"
            ],
            "text/markdown": [
              "'Hello world is good!'"
            ],
            "text/plain": [
              "[1] \"Hello world is good!\""
            ]
          },
          "metadata": {},
          "output_type": "display_data"
        }
      ],
      "source": [
        "paste(str2, collapse = \" \")"
      ]
    },
    {
      "cell_type": "code",
      "execution_count": null,
      "id": "db840880",
      "metadata": {
        "id": "db840880",
        "outputId": "4e93c008-6f14-4d64-c37d-5a3784e48240"
      },
      "outputs": [
        {
          "data": {
            "text/html": [
              "<ol class=list-inline>\n",
              "\t<li>'Hello'</li>\n",
              "\t<li>'World'</li>\n",
              "</ol>\n"
            ],
            "text/latex": [
              "\\begin{enumerate*}\n",
              "\\item 'Hello'\n",
              "\\item 'World'\n",
              "\\end{enumerate*}\n"
            ],
            "text/markdown": [
              "1. 'Hello'\n",
              "2. 'World'\n",
              "\n",
              "\n"
            ],
            "text/plain": [
              "[1] \"Hello\" \"World\""
            ]
          },
          "metadata": {},
          "output_type": "display_data"
        },
        {
          "data": {
            "text/html": [
              "<ol class=list-inline>\n",
              "\t<li>'1 st'</li>\n",
              "\t<li>'2 nd'</li>\n",
              "\t<li>'3 rd'</li>\n",
              "\t<li>'4 th'</li>\n",
              "\t<li>'5 th'</li>\n",
              "\t<li>'6 th'</li>\n",
              "\t<li>'7 th'</li>\n",
              "\t<li>'8 th'</li>\n",
              "\t<li>'9 th'</li>\n",
              "\t<li>'10 th'</li>\n",
              "</ol>\n"
            ],
            "text/latex": [
              "\\begin{enumerate*}\n",
              "\\item '1 st'\n",
              "\\item '2 nd'\n",
              "\\item '3 rd'\n",
              "\\item '4 th'\n",
              "\\item '5 th'\n",
              "\\item '6 th'\n",
              "\\item '7 th'\n",
              "\\item '8 th'\n",
              "\\item '9 th'\n",
              "\\item '10 th'\n",
              "\\end{enumerate*}\n"
            ],
            "text/markdown": [
              "1. '1 st'\n",
              "2. '2 nd'\n",
              "3. '3 rd'\n",
              "4. '4 th'\n",
              "5. '5 th'\n",
              "6. '6 th'\n",
              "7. '7 th'\n",
              "8. '8 th'\n",
              "9. '9 th'\n",
              "10. '10 th'\n",
              "\n",
              "\n"
            ],
            "text/plain": [
              " [1] \"1 st\"  \"2 nd\"  \"3 rd\"  \"4 th\"  \"5 th\"  \"6 th\"  \"7 th\"  \"8 th\"  \"9 th\" \n",
              "[10] \"10 th\""
            ]
          },
          "metadata": {},
          "output_type": "display_data"
        }
      ],
      "source": [
        "# 묶인 원소는 개별로 인식\n",
        "\n",
        "paste(c(\"Hello\", \"World\"))\n",
        "paste(1:10, c(\"st\", \"nd\", \"rd\", rep(\"th\", 7)))"
      ]
    },
    {
      "cell_type": "markdown",
      "source": [
        "# 패키지"
      ],
      "metadata": {
        "id": "59ZZZWL45K-Q"
      },
      "id": "59ZZZWL45K-Q"
    },
    {
      "cell_type": "code",
      "execution_count": null,
      "id": "2d12321c",
      "metadata": {
        "colab": {
          "base_uri": "https://localhost:8080/"
        },
        "id": "2d12321c",
        "outputId": "39d2a5cd-8f9e-4d13-9f62-dfc8b39a06b4"
      },
      "outputs": [
        {
          "output_type": "stream",
          "name": "stderr",
          "text": [
            "Installing package into ‘/usr/local/lib/R/site-library’\n",
            "(as ‘lib’ is unspecified)\n",
            "\n"
          ]
        }
      ],
      "source": [
        "# ggplot2 패키지 설치\n",
        "# install.packages('ggplot2')"
      ]
    },
    {
      "cell_type": "code",
      "source": [
        "# ggplot2 패키지 로드\n",
        "library(ggplot2)"
      ],
      "metadata": {
        "id": "m3htRXQp5Z5L"
      },
      "id": "m3htRXQp5Z5L",
      "execution_count": null,
      "outputs": []
    },
    {
      "cell_type": "code",
      "source": [
        "data <- c(\"a\", \"a\", \"b\", \"c\")\n",
        "\n",
        "# qplot() : Quick plot\n",
        "# 빈도 막대 그래프 그리기\n",
        "qplot(data = data)"
      ],
      "metadata": {
        "colab": {
          "base_uri": "https://localhost:8080/",
          "height": 437
        },
        "id": "VSMW7d7W5yJ_",
        "outputId": "174ff0e3-898f-443f-eda3-6adb596202d0"
      },
      "id": "VSMW7d7W5yJ_",
      "execution_count": null,
      "outputs": [
        {
          "output_type": "display_data",
          "data": {
            "text/plain": [
              "plot without title"
            ],
            "image/png": "[encoded data removed]"
          },
          "metadata": {
            "image/png": {
              "width": 420,
              "height": 420
            }
          }
        }
      ]
    },
    {
      "cell_type": "markdown",
      "source": [
        "### MPG 데이터 실습\n",
        "\n",
        "- MPG(Mile Per Gallon) : 1999 ~ 2008년 미국에서 출시된 자동차 연비 데이터\n",
        "  - ggplot2에서 제공하는 예제 데이터\n",
        "\n",
        "|||\n",
        "| :-- | :-- |\n",
        "|manufacturer|제조사|\n",
        "|model|자동차 모델명|\n",
        "|displ|배기량|\n",
        "|year|생산 연도|\n",
        "|cyl|실린더 개수|\n",
        "|trans|변속기 종류|\n",
        "|drv|구동방식|\n",
        "|cty|도시 연비|\n",
        "|hwy|고속도로 연비|\n",
        "|fl|연료 종류|\n",
        "|class|자동차 종류|"
      ],
      "metadata": {
        "id": "YStI2xpb6efJ"
      },
      "id": "YStI2xpb6efJ"
    },
    {
      "cell_type": "code",
      "source": [
        "# data에 mpg, x축에 hwy 변수 저장하여 그래프 그리기\n",
        "qplot(data = mpg, x = hwy)"
      ],
      "metadata": {
        "colab": {
          "base_uri": "https://localhost:8080/",
          "height": 474
        },
        "id": "wqmnmBFp59TX",
        "outputId": "6466062f-52fd-44ad-9532-13bdc0c6631f"
      },
      "id": "wqmnmBFp59TX",
      "execution_count": null,
      "outputs": [
        {
          "output_type": "stream",
          "name": "stderr",
          "text": [
            "`stat_bin()` using `bins = 30`. Pick better value with `binwidth`.\n",
            "\n"
          ]
        },
        {
          "output_type": "display_data",
          "data": {
            "text/plain": [
              "plot without title"
            ],
            "image/png": "[encoded data removed]"
          },
          "metadata": {
            "image/png": {
              "width": 420,
              "height": 420
            }
          }
        }
      ]
    },
    {
      "cell_type": "code",
      "source": [
        "# x축에 cty\n",
        "qplot(data = mpg, x = cty)"
      ],
      "metadata": {
        "colab": {
          "base_uri": "https://localhost:8080/",
          "height": 474
        },
        "id": "TS4kRaGq8HFq",
        "outputId": "7766e9e5-9a75-480d-b06f-a90e8d56171c"
      },
      "id": "TS4kRaGq8HFq",
      "execution_count": null,
      "outputs": [
        {
          "output_type": "stream",
          "name": "stderr",
          "text": [
            "`stat_bin()` using `bins = 30`. Pick better value with `binwidth`.\n",
            "\n"
          ]
        },
        {
          "output_type": "display_data",
          "data": {
            "text/plain": [
              "plot without title"
            ],
            "image/png": "[encoded data removed]"
          },
          "metadata": {
            "image/png": {
              "width": 420,
              "height": 420
            }
          }
        }
      ]
    },
    {
      "cell_type": "code",
      "source": [
        "# x축 drv, y축 hwy 산점도\n",
        "qplot(data = mpg, x = drv, y = hwy)"
      ],
      "metadata": {
        "colab": {
          "base_uri": "https://localhost:8080/",
          "height": 437
        },
        "id": "MpS-nEEz8a3J",
        "outputId": "a65c189b-34cd-4fa6-de1c-5e90a9e4ffaf"
      },
      "id": "MpS-nEEz8a3J",
      "execution_count": null,
      "outputs": [
        {
          "output_type": "display_data",
          "data": {
            "text/plain": [
              "plot without title"
            ],
            "image/png": "[encoded data removed]"
          },
          "metadata": {
            "image/png": {
              "width": 420,
              "height": 420
            }
          }
        }
      ]
    },
    {
      "cell_type": "code",
      "source": [
        "qplot(data = mpg, x = drv, y = hwy, color = manufacturer)"
      ],
      "metadata": {
        "colab": {
          "base_uri": "https://localhost:8080/",
          "height": 437
        },
        "id": "almD_V3R8kK-",
        "outputId": "5195f977-0b97-45e1-e4b8-8d7f754fd8fb"
      },
      "id": "almD_V3R8kK-",
      "execution_count": null,
      "outputs": [
        {
          "output_type": "display_data",
          "data": {
            "text/plain": [
              "plot without title"
            ],
            "image/png": "[encoded data removed]"
          },
          "metadata": {
            "image/png": {
              "width": 420,
              "height": 420
            }
          }
        }
      ]
    },
    {
      "cell_type": "code",
      "source": [
        "# x축 drv, y축 hwy 선 그래프\n",
        "qplot(data = mpg, x = drv, y = hwy, geom = \"line\")"
      ],
      "metadata": {
        "colab": {
          "base_uri": "https://localhost:8080/",
          "height": 437
        },
        "id": "QA3j71mx81O6",
        "outputId": "8804cf2d-715c-409a-eb04-61b107fcd8ba"
      },
      "id": "QA3j71mx81O6",
      "execution_count": null,
      "outputs": [
        {
          "output_type": "display_data",
          "data": {
            "text/plain": [
              "plot without title"
            ],
            "image/png": "[encoded data removed]"
          },
          "metadata": {
            "image/png": {
              "width": 420,
              "height": 420
            }
          }
        }
      ]
    },
    {
      "cell_type": "code",
      "source": [
        "# x축 drv, y축 hwy, 상자 수염 그림\n",
        "qplot(data = mpg, x = drv, y = hwy, geom = \"boxplot\")"
      ],
      "metadata": {
        "colab": {
          "base_uri": "https://localhost:8080/",
          "height": 437
        },
        "id": "we5Z81dQ9Alk",
        "outputId": "e382ebeb-249d-40aa-cbf5-cc5122128da5"
      },
      "id": "we5Z81dQ9Alk",
      "execution_count": null,
      "outputs": [
        {
          "output_type": "display_data",
          "data": {
            "text/plain": [
              "plot without title"
            ],
            "image/png": "[encoded data removed]"
          },
          "metadata": {
            "image/png": {
              "width": 420,
              "height": 420
            }
          }
        }
      ]
    },
    {
      "cell_type": "code",
      "source": [
        "# x축 drv, y축 hwy, 상주 수염 그림, drv별 색 표현\n",
        "qplot(data = mpg, x = drv, y = hwy, geom = \"boxplot\", colour = drv)"
      ],
      "metadata": {
        "colab": {
          "base_uri": "https://localhost:8080/",
          "height": 437
        },
        "id": "RMX6AoPD9VcO",
        "outputId": "b25c132c-29db-4d4e-871a-1d15ad6744dd"
      },
      "id": "RMX6AoPD9VcO",
      "execution_count": null,
      "outputs": [
        {
          "output_type": "display_data",
          "data": {
            "text/plain": [
              "plot without title"
            ],
            "image/png": "[encoded data removed]"
          },
          "metadata": {
            "image/png": {
              "width": 420,
              "height": 420
            }
          }
        }
      ]
    },
    {
      "cell_type": "code",
      "source": [
        ""
      ],
      "metadata": {
        "id": "5pSXB_Hj90ID"
      },
      "id": "5pSXB_Hj90ID",
      "execution_count": null,
      "outputs": []
    }
  ],
  "metadata": {
    "kernelspec": {
      "display_name": "R",
      "language": "R",
      "name": "ir"
    },
    "language_info": {
      "codemirror_mode": "r",
      "file_extension": ".r",
      "mimetype": "text/x-r-source",
      "name": "R",
      "pygments_lexer": "r",
      "version": "3.6.1"
    },
    "colab": {
      "name": "1.R기본예제.ipynb",
      "provenance": [],
      "collapsed_sections": [],
      "toc_visible": true
    }
  },
  "nbformat": 4,
  "nbformat_minor": 5
}