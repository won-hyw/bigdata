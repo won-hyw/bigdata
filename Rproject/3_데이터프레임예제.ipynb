{
  "nbformat": 4,
  "nbformat_minor": 0,
  "metadata": {
    "colab": {
      "name": "3.데이터프레임예제.ipynb",
      "provenance": []
    },
    "kernelspec": {
      "name": "ir",
      "display_name": "R"
    },
    "language_info": {
      "name": "R"
    }
  },
  "cells": [
    {
      "cell_type": "markdown",
      "source": [
        "# 데이터프레임 생성"
      ],
      "metadata": {
        "id": "vDfQdHbtlWmf"
      }
    },
    {
      "cell_type": "code",
      "execution_count": 1,
      "metadata": {
        "colab": {
          "base_uri": "https://localhost:8080/"
        },
        "id": "39ns3nhKlNyu",
        "outputId": "f4cad03f-5192-4036-be8b-0f1da21403b1"
      },
      "outputs": [
        {
          "output_type": "stream",
          "name": "stdout",
          "text": [
            "  english math\n",
            "1      90   50\n",
            "2      80   60\n",
            "3      60  100\n",
            "4      70   20\n"
          ]
        }
      ],
      "source": [
        "# 영어 점수 변수 생성\n",
        "english <- c(90, 80, 60, 70)\n",
        "\n",
        "# 수학 점수 변수 생성\n",
        "math <- c(50, 60, 100, 20)\n",
        "\n",
        "# english, math로 데이터프레임 생성해서 df_midterm에 할당\n",
        "# 일반적으로 데이터프레임 변수명은 df를 붙여서 구분\n",
        "df_midterm <- data.frame(english, math)\n",
        "print(df_midterm)"
      ]
    },
    {
      "cell_type": "code",
      "source": [
        "class <- c(1, 1, 2, 2)\n",
        "df_midterm <- data.frame(english, math, class)\n",
        "print(df_midterm)"
      ],
      "metadata": {
        "colab": {
          "base_uri": "https://localhost:8080/"
        },
        "id": "6DU1_e7Il2GT",
        "outputId": "72eb911b-0240-422b-9419-5ee2364b7ae0"
      },
      "execution_count": 3,
      "outputs": [
        {
          "output_type": "stream",
          "name": "stdout",
          "text": [
            "  english math class\n",
            "1      90   50     1\n",
            "2      80   60     1\n",
            "3      60  100     2\n",
            "4      70   20     2\n"
          ]
        }
      ]
    },
    {
      "cell_type": "code",
      "source": [
        "# 변수를 미리 만들지 않고 데이터프레임을 생성\n",
        "df_midterm <- data.frame(english = c(90, 80, 60, 70),\n",
        "                         math = c(50, 60, 100, 20),\n",
        "                         class = c(1, 1, 2, 2))\n",
        "print(df_midterm)"
      ],
      "metadata": {
        "colab": {
          "base_uri": "https://localhost:8080/"
        },
        "id": "Xd8qHy-HmTrY",
        "outputId": "69f864b1-d90a-48c6-f846-278a4c087179"
      },
      "execution_count": 7,
      "outputs": [
        {
          "output_type": "stream",
          "name": "stdout",
          "text": [
            "  english math class\n",
            "1      90   50     1\n",
            "2      80   60     1\n",
            "3      60  100     2\n",
            "4      70   20     2\n"
          ]
        }
      ]
    },
    {
      "cell_type": "markdown",
      "source": [
        "# 데이터프레임 분석"
      ],
      "metadata": {
        "id": "UCkUvmbRmqZk"
      }
    },
    {
      "cell_type": "code",
      "source": [
        "# df_midterm의 english 평균\n",
        "mean(df_midterm$english) # $을 붙어 해당 열의 데이터만 사용할 수 있다"
      ],
      "metadata": {
        "colab": {
          "base_uri": "https://localhost:8080/",
          "height": 34
        },
        "id": "JY2iTLJkmld2",
        "outputId": "d61fa873-2638-4d9b-9022-f841fa5393aa"
      },
      "execution_count": 5,
      "outputs": [
        {
          "output_type": "display_data",
          "data": {
            "text/html": [
              "75"
            ],
            "text/markdown": "75",
            "text/latex": "75",
            "text/plain": [
              "[1] 75"
            ]
          },
          "metadata": {}
        }
      ]
    },
    {
      "cell_type": "code",
      "source": [
        "# df_midterm의 math 평균\n",
        "mean(df_midterm$math)"
      ],
      "metadata": {
        "colab": {
          "base_uri": "https://localhost:8080/",
          "height": 34
        },
        "id": "6GImBwTZm7N0",
        "outputId": "57b39231-fda9-4fee-af0b-612cad177f9b"
      },
      "execution_count": 8,
      "outputs": [
        {
          "output_type": "display_data",
          "data": {
            "text/html": [
              "57.5"
            ],
            "text/markdown": "57.5",
            "text/latex": "57.5",
            "text/plain": [
              "[1] 57.5"
            ]
          },
          "metadata": {}
        }
      ]
    },
    {
      "cell_type": "markdown",
      "source": [
        "## 데이터를 파악하는 함수\n",
        "\n",
        "- head() \n",
        "    - 데이터 앞부분 출력\n",
        "\n",
        "- tail()\n",
        "    - 데이터 뒷부분 출력\n",
        "\n",
        "- dim()\n",
        "    - 데이터 차원 출력\n",
        "\n",
        "- str()\n",
        "    - 데이터 속성 출력\n",
        "\n",
        "- summary()\n",
        "    - 요약통계량 출력"
      ],
      "metadata": {
        "id": "mEcSx4OMniOF"
      }
    },
    {
      "cell_type": "code",
      "source": [
        "# 외부데이터 불러오기\n",
        "exam <- read.csv(\"/content/csv_exam.csv\")"
      ],
      "metadata": {
        "id": "Hld8mroQm_V_"
      },
      "execution_count": 9,
      "outputs": []
    },
    {
      "cell_type": "code",
      "source": [
        "# 앞에서부터 6행까지 출력\n",
        "head(exam)"
      ],
      "metadata": {
        "colab": {
          "base_uri": "https://localhost:8080/",
          "height": 286
        },
        "id": "YtcN9tBfoWlJ",
        "outputId": "d3c2e563-8346-44b0-9430-258842ce5309"
      },
      "execution_count": 10,
      "outputs": [
        {
          "output_type": "display_data",
          "data": {
            "text/html": [
              "<table class=\"dataframe\">\n",
              "<caption>A data.frame: 6 × 5</caption>\n",
              "<thead>\n",
              "\t<tr><th></th><th scope=col>id</th><th scope=col>class</th><th scope=col>math</th><th scope=col>english</th><th scope=col>science</th></tr>\n",
              "\t<tr><th></th><th scope=col>&lt;int&gt;</th><th scope=col>&lt;int&gt;</th><th scope=col>&lt;int&gt;</th><th scope=col>&lt;int&gt;</th><th scope=col>&lt;int&gt;</th></tr>\n",
              "</thead>\n",
              "<tbody>\n",
              "\t<tr><th scope=row>1</th><td>1</td><td>1</td><td>50</td><td>98</td><td>50</td></tr>\n",
              "\t<tr><th scope=row>2</th><td>2</td><td>1</td><td>60</td><td>97</td><td>60</td></tr>\n",
              "\t<tr><th scope=row>3</th><td>3</td><td>1</td><td>45</td><td>86</td><td>78</td></tr>\n",
              "\t<tr><th scope=row>4</th><td>4</td><td>1</td><td>30</td><td>98</td><td>58</td></tr>\n",
              "\t<tr><th scope=row>5</th><td>5</td><td>2</td><td>25</td><td>80</td><td>65</td></tr>\n",
              "\t<tr><th scope=row>6</th><td>6</td><td>2</td><td>50</td><td>89</td><td>98</td></tr>\n",
              "</tbody>\n",
              "</table>\n"
            ],
            "text/markdown": "\nA data.frame: 6 × 5\n\n| <!--/--> | id &lt;int&gt; | class &lt;int&gt; | math &lt;int&gt; | english &lt;int&gt; | science &lt;int&gt; |\n|---|---|---|---|---|---|\n| 1 | 1 | 1 | 50 | 98 | 50 |\n| 2 | 2 | 1 | 60 | 97 | 60 |\n| 3 | 3 | 1 | 45 | 86 | 78 |\n| 4 | 4 | 1 | 30 | 98 | 58 |\n| 5 | 5 | 2 | 25 | 80 | 65 |\n| 6 | 6 | 2 | 50 | 89 | 98 |\n\n",
            "text/latex": "A data.frame: 6 × 5\n\\begin{tabular}{r|lllll}\n  & id & class & math & english & science\\\\\n  & <int> & <int> & <int> & <int> & <int>\\\\\n\\hline\n\t1 & 1 & 1 & 50 & 98 & 50\\\\\n\t2 & 2 & 1 & 60 & 97 & 60\\\\\n\t3 & 3 & 1 & 45 & 86 & 78\\\\\n\t4 & 4 & 1 & 30 & 98 & 58\\\\\n\t5 & 5 & 2 & 25 & 80 & 65\\\\\n\t6 & 6 & 2 & 50 & 89 & 98\\\\\n\\end{tabular}\n",
            "text/plain": [
              "  id class math english science\n",
              "1 1  1     50   98      50     \n",
              "2 2  1     60   97      60     \n",
              "3 3  1     45   86      78     \n",
              "4 4  1     30   98      58     \n",
              "5 5  2     25   80      65     \n",
              "6 6  2     50   89      98     "
            ]
          },
          "metadata": {}
        }
      ]
    },
    {
      "cell_type": "code",
      "source": [
        "# 앞에서부터 2행까지 출력\n",
        "head(exam, 2)"
      ],
      "metadata": {
        "colab": {
          "base_uri": "https://localhost:8080/",
          "height": 161
        },
        "id": "MIbehzDgpGQ9",
        "outputId": "2df463ad-5a19-43e9-f334-dedb7dc4dd9e"
      },
      "execution_count": 11,
      "outputs": [
        {
          "output_type": "display_data",
          "data": {
            "text/html": [
              "<table class=\"dataframe\">\n",
              "<caption>A data.frame: 2 × 5</caption>\n",
              "<thead>\n",
              "\t<tr><th></th><th scope=col>id</th><th scope=col>class</th><th scope=col>math</th><th scope=col>english</th><th scope=col>science</th></tr>\n",
              "\t<tr><th></th><th scope=col>&lt;int&gt;</th><th scope=col>&lt;int&gt;</th><th scope=col>&lt;int&gt;</th><th scope=col>&lt;int&gt;</th><th scope=col>&lt;int&gt;</th></tr>\n",
              "</thead>\n",
              "<tbody>\n",
              "\t<tr><th scope=row>1</th><td>1</td><td>1</td><td>50</td><td>98</td><td>50</td></tr>\n",
              "\t<tr><th scope=row>2</th><td>2</td><td>1</td><td>60</td><td>97</td><td>60</td></tr>\n",
              "</tbody>\n",
              "</table>\n"
            ],
            "text/markdown": "\nA data.frame: 2 × 5\n\n| <!--/--> | id &lt;int&gt; | class &lt;int&gt; | math &lt;int&gt; | english &lt;int&gt; | science &lt;int&gt; |\n|---|---|---|---|---|---|\n| 1 | 1 | 1 | 50 | 98 | 50 |\n| 2 | 2 | 1 | 60 | 97 | 60 |\n\n",
            "text/latex": "A data.frame: 2 × 5\n\\begin{tabular}{r|lllll}\n  & id & class & math & english & science\\\\\n  & <int> & <int> & <int> & <int> & <int>\\\\\n\\hline\n\t1 & 1 & 1 & 50 & 98 & 50\\\\\n\t2 & 2 & 1 & 60 & 97 & 60\\\\\n\\end{tabular}\n",
            "text/plain": [
              "  id class math english science\n",
              "1 1  1     50   98      50     \n",
              "2 2  1     60   97      60     "
            ]
          },
          "metadata": {}
        }
      ]
    },
    {
      "cell_type": "code",
      "source": [
        "# 뒤에서부터 6행 추력\n",
        "tail(exam)"
      ],
      "metadata": {
        "colab": {
          "base_uri": "https://localhost:8080/",
          "height": 286
        },
        "id": "S8vygngYpYzo",
        "outputId": "83cf5ea1-a101-44e8-f5d1-0315d97e742e"
      },
      "execution_count": 13,
      "outputs": [
        {
          "output_type": "display_data",
          "data": {
            "text/html": [
              "<table class=\"dataframe\">\n",
              "<caption>A data.frame: 6 × 5</caption>\n",
              "<thead>\n",
              "\t<tr><th></th><th scope=col>id</th><th scope=col>class</th><th scope=col>math</th><th scope=col>english</th><th scope=col>science</th></tr>\n",
              "\t<tr><th></th><th scope=col>&lt;int&gt;</th><th scope=col>&lt;int&gt;</th><th scope=col>&lt;int&gt;</th><th scope=col>&lt;int&gt;</th><th scope=col>&lt;int&gt;</th></tr>\n",
              "</thead>\n",
              "<tbody>\n",
              "\t<tr><th scope=row>15</th><td>15</td><td>4</td><td>75</td><td>56</td><td>78</td></tr>\n",
              "\t<tr><th scope=row>16</th><td>16</td><td>4</td><td>58</td><td>98</td><td>65</td></tr>\n",
              "\t<tr><th scope=row>17</th><td>17</td><td>5</td><td>65</td><td>68</td><td>98</td></tr>\n",
              "\t<tr><th scope=row>18</th><td>18</td><td>5</td><td>80</td><td>78</td><td>90</td></tr>\n",
              "\t<tr><th scope=row>19</th><td>19</td><td>5</td><td>89</td><td>68</td><td>87</td></tr>\n",
              "\t<tr><th scope=row>20</th><td>20</td><td>5</td><td>78</td><td>83</td><td>58</td></tr>\n",
              "</tbody>\n",
              "</table>\n"
            ],
            "text/markdown": "\nA data.frame: 6 × 5\n\n| <!--/--> | id &lt;int&gt; | class &lt;int&gt; | math &lt;int&gt; | english &lt;int&gt; | science &lt;int&gt; |\n|---|---|---|---|---|---|\n| 15 | 15 | 4 | 75 | 56 | 78 |\n| 16 | 16 | 4 | 58 | 98 | 65 |\n| 17 | 17 | 5 | 65 | 68 | 98 |\n| 18 | 18 | 5 | 80 | 78 | 90 |\n| 19 | 19 | 5 | 89 | 68 | 87 |\n| 20 | 20 | 5 | 78 | 83 | 58 |\n\n",
            "text/latex": "A data.frame: 6 × 5\n\\begin{tabular}{r|lllll}\n  & id & class & math & english & science\\\\\n  & <int> & <int> & <int> & <int> & <int>\\\\\n\\hline\n\t15 & 15 & 4 & 75 & 56 & 78\\\\\n\t16 & 16 & 4 & 58 & 98 & 65\\\\\n\t17 & 17 & 5 & 65 & 68 & 98\\\\\n\t18 & 18 & 5 & 80 & 78 & 90\\\\\n\t19 & 19 & 5 & 89 & 68 & 87\\\\\n\t20 & 20 & 5 & 78 & 83 & 58\\\\\n\\end{tabular}\n",
            "text/plain": [
              "   id class math english science\n",
              "15 15 4     75   56      78     \n",
              "16 16 4     58   98      65     \n",
              "17 17 5     65   68      98     \n",
              "18 18 5     80   78      90     \n",
              "19 19 5     89   68      87     \n",
              "20 20 5     78   83      58     "
            ]
          },
          "metadata": {}
        }
      ]
    },
    {
      "cell_type": "code",
      "source": [
        "# 데이터의 차원(행, 열) 출력\n",
        "dim(exam)"
      ],
      "metadata": {
        "colab": {
          "base_uri": "https://localhost:8080/",
          "height": 34
        },
        "id": "_917X3dqpfLo",
        "outputId": "65e9bce3-9bc1-4ecd-d9c2-ff1c192fe116"
      },
      "execution_count": 15,
      "outputs": [
        {
          "output_type": "display_data",
          "data": {
            "text/html": [
              "<style>\n",
              ".list-inline {list-style: none; margin:0; padding: 0}\n",
              ".list-inline>li {display: inline-block}\n",
              ".list-inline>li:not(:last-child)::after {content: \"\\00b7\"; padding: 0 .5ex}\n",
              "</style>\n",
              "<ol class=list-inline><li>20</li><li>5</li></ol>\n"
            ],
            "text/markdown": "1. 20\n2. 5\n\n\n",
            "text/latex": "\\begin{enumerate*}\n\\item 20\n\\item 5\n\\end{enumerate*}\n",
            "text/plain": [
              "[1] 20  5"
            ]
          },
          "metadata": {}
        }
      ]
    },
    {
      "cell_type": "code",
      "source": [
        "# 데이터의 속성 확인\n",
        "str(exam)\n",
        "\n",
        "# data.frame : 데이터프레임\n",
        "# 20 obs(observation) : 20개의 행\n",
        "# 5 variables : 5개의 변수"
      ],
      "metadata": {
        "colab": {
          "base_uri": "https://localhost:8080/"
        },
        "id": "eppLCuznppFb",
        "outputId": "7b861681-c469-4141-a4a7-3ec466a256c8"
      },
      "execution_count": 16,
      "outputs": [
        {
          "output_type": "stream",
          "name": "stdout",
          "text": [
            "'data.frame':\t20 obs. of  5 variables:\n",
            " $ id     : int  1 2 3 4 5 6 7 8 9 10 ...\n",
            " $ class  : int  1 1 1 1 2 2 2 2 3 3 ...\n",
            " $ math   : int  50 60 45 30 25 50 80 90 20 50 ...\n",
            " $ english: int  98 97 86 98 80 89 90 78 98 98 ...\n",
            " $ science: int  50 60 78 58 65 98 45 25 15 45 ...\n"
          ]
        }
      ]
    },
    {
      "cell_type": "code",
      "source": [
        "# 요약통계량 출력\n",
        "summary(exam)"
      ],
      "metadata": {
        "colab": {
          "base_uri": "https://localhost:8080/",
          "height": 144
        },
        "id": "87pApOr5pyAh",
        "outputId": "c2ca9f63-d367-49da-bec2-77c0d04ff0e4"
      },
      "execution_count": 17,
      "outputs": [
        {
          "output_type": "display_data",
          "data": {
            "text/plain": [
              "       id            class        math          english        science     \n",
              " Min.   : 1.00   Min.   :1   Min.   :20.00   Min.   :56.0   Min.   :12.00  \n",
              " 1st Qu.: 5.75   1st Qu.:2   1st Qu.:45.75   1st Qu.:78.0   1st Qu.:45.00  \n",
              " Median :10.50   Median :3   Median :54.00   Median :86.5   Median :62.50  \n",
              " Mean   :10.50   Mean   :3   Mean   :57.45   Mean   :84.9   Mean   :59.45  \n",
              " 3rd Qu.:15.25   3rd Qu.:4   3rd Qu.:75.75   3rd Qu.:98.0   3rd Qu.:78.00  \n",
              " Max.   :20.00   Max.   :5   Max.   :90.00   Max.   :98.0   Max.   :98.00  "
            ]
          },
          "metadata": {}
        }
      ]
    },
    {
      "cell_type": "markdown",
      "source": [
        "|출력값|통계량|설명|\n",
        "| :-- | :-- | :-- |\n",
        "|Min|최솟값(Minimum)|가장 작은 값|\n",
        "|1st Qu|1사분위수(1st Quantile)|하위 25%(4분의1) 지점에 위치하는 값|\n",
        "|Median|중앙값|중앙에 위치하는 값|\n",
        "|Mean|평균|모든 값을 더해 값의 개수로 나눈 값|\n",
        "|3rd Qu|3사분위수|하위 75%(4분의3) 지점에 위치하는 값|\n",
        "|Max|최댓값(Maximum)|가장 큰 값|"
      ],
      "metadata": {
        "id": "EWCQCsJCqXCi"
      }
    },
    {
      "cell_type": "markdown",
      "source": [
        "## ggplot2의 mpg 데이터를 이용한 실습"
      ],
      "metadata": {
        "id": "lEJ0gdWHrToy"
      }
    },
    {
      "cell_type": "code",
      "source": [
        "# 데이터를 데이터프레임 형태로 불러오기\n",
        "# 더블콜론(::) : 패키지에 들어 있는 함수나 데이터 지정\n",
        "mpg <- as.data.frame(ggplot2::mpg)"
      ],
      "metadata": {
        "id": "gzbKRNrkqMNy"
      },
      "execution_count": 18,
      "outputs": []
    },
    {
      "cell_type": "code",
      "source": [
        "head(mpg)"
      ],
      "metadata": {
        "colab": {
          "base_uri": "https://localhost:8080/",
          "height": 286
        },
        "id": "fZ4qqnkCrjyo",
        "outputId": "ea11cf81-091e-4929-a63c-840185e3eb9a"
      },
      "execution_count": 19,
      "outputs": [
        {
          "output_type": "display_data",
          "data": {
            "text/html": [
              "<table class=\"dataframe\">\n",
              "<caption>A data.frame: 6 × 11</caption>\n",
              "<thead>\n",
              "\t<tr><th></th><th scope=col>manufacturer</th><th scope=col>model</th><th scope=col>displ</th><th scope=col>year</th><th scope=col>cyl</th><th scope=col>trans</th><th scope=col>drv</th><th scope=col>cty</th><th scope=col>hwy</th><th scope=col>fl</th><th scope=col>class</th></tr>\n",
              "\t<tr><th></th><th scope=col>&lt;chr&gt;</th><th scope=col>&lt;chr&gt;</th><th scope=col>&lt;dbl&gt;</th><th scope=col>&lt;int&gt;</th><th scope=col>&lt;int&gt;</th><th scope=col>&lt;chr&gt;</th><th scope=col>&lt;chr&gt;</th><th scope=col>&lt;int&gt;</th><th scope=col>&lt;int&gt;</th><th scope=col>&lt;chr&gt;</th><th scope=col>&lt;chr&gt;</th></tr>\n",
              "</thead>\n",
              "<tbody>\n",
              "\t<tr><th scope=row>1</th><td>audi</td><td>a4</td><td>1.8</td><td>1999</td><td>4</td><td>auto(l5)  </td><td>f</td><td>18</td><td>29</td><td>p</td><td>compact</td></tr>\n",
              "\t<tr><th scope=row>2</th><td>audi</td><td>a4</td><td>1.8</td><td>1999</td><td>4</td><td>manual(m5)</td><td>f</td><td>21</td><td>29</td><td>p</td><td>compact</td></tr>\n",
              "\t<tr><th scope=row>3</th><td>audi</td><td>a4</td><td>2.0</td><td>2008</td><td>4</td><td>manual(m6)</td><td>f</td><td>20</td><td>31</td><td>p</td><td>compact</td></tr>\n",
              "\t<tr><th scope=row>4</th><td>audi</td><td>a4</td><td>2.0</td><td>2008</td><td>4</td><td>auto(av)  </td><td>f</td><td>21</td><td>30</td><td>p</td><td>compact</td></tr>\n",
              "\t<tr><th scope=row>5</th><td>audi</td><td>a4</td><td>2.8</td><td>1999</td><td>6</td><td>auto(l5)  </td><td>f</td><td>16</td><td>26</td><td>p</td><td>compact</td></tr>\n",
              "\t<tr><th scope=row>6</th><td>audi</td><td>a4</td><td>2.8</td><td>1999</td><td>6</td><td>manual(m5)</td><td>f</td><td>18</td><td>26</td><td>p</td><td>compact</td></tr>\n",
              "</tbody>\n",
              "</table>\n"
            ],
            "text/markdown": "\nA data.frame: 6 × 11\n\n| <!--/--> | manufacturer &lt;chr&gt; | model &lt;chr&gt; | displ &lt;dbl&gt; | year &lt;int&gt; | cyl &lt;int&gt; | trans &lt;chr&gt; | drv &lt;chr&gt; | cty &lt;int&gt; | hwy &lt;int&gt; | fl &lt;chr&gt; | class &lt;chr&gt; |\n|---|---|---|---|---|---|---|---|---|---|---|---|\n| 1 | audi | a4 | 1.8 | 1999 | 4 | auto(l5)   | f | 18 | 29 | p | compact |\n| 2 | audi | a4 | 1.8 | 1999 | 4 | manual(m5) | f | 21 | 29 | p | compact |\n| 3 | audi | a4 | 2.0 | 2008 | 4 | manual(m6) | f | 20 | 31 | p | compact |\n| 4 | audi | a4 | 2.0 | 2008 | 4 | auto(av)   | f | 21 | 30 | p | compact |\n| 5 | audi | a4 | 2.8 | 1999 | 6 | auto(l5)   | f | 16 | 26 | p | compact |\n| 6 | audi | a4 | 2.8 | 1999 | 6 | manual(m5) | f | 18 | 26 | p | compact |\n\n",
            "text/latex": "A data.frame: 6 × 11\n\\begin{tabular}{r|lllllllllll}\n  & manufacturer & model & displ & year & cyl & trans & drv & cty & hwy & fl & class\\\\\n  & <chr> & <chr> & <dbl> & <int> & <int> & <chr> & <chr> & <int> & <int> & <chr> & <chr>\\\\\n\\hline\n\t1 & audi & a4 & 1.8 & 1999 & 4 & auto(l5)   & f & 18 & 29 & p & compact\\\\\n\t2 & audi & a4 & 1.8 & 1999 & 4 & manual(m5) & f & 21 & 29 & p & compact\\\\\n\t3 & audi & a4 & 2.0 & 2008 & 4 & manual(m6) & f & 20 & 31 & p & compact\\\\\n\t4 & audi & a4 & 2.0 & 2008 & 4 & auto(av)   & f & 21 & 30 & p & compact\\\\\n\t5 & audi & a4 & 2.8 & 1999 & 6 & auto(l5)   & f & 16 & 26 & p & compact\\\\\n\t6 & audi & a4 & 2.8 & 1999 & 6 & manual(m5) & f & 18 & 26 & p & compact\\\\\n\\end{tabular}\n",
            "text/plain": [
              "  manufacturer model displ year cyl trans      drv cty hwy fl class  \n",
              "1 audi         a4    1.8   1999 4   auto(l5)   f   18  29  p  compact\n",
              "2 audi         a4    1.8   1999 4   manual(m5) f   21  29  p  compact\n",
              "3 audi         a4    2.0   2008 4   manual(m6) f   20  31  p  compact\n",
              "4 audi         a4    2.0   2008 4   auto(av)   f   21  30  p  compact\n",
              "5 audi         a4    2.8   1999 6   auto(l5)   f   16  26  p  compact\n",
              "6 audi         a4    2.8   1999 6   manual(m5) f   18  26  p  compact"
            ]
          },
          "metadata": {}
        }
      ]
    },
    {
      "cell_type": "code",
      "source": [
        "tail(mpg)"
      ],
      "metadata": {
        "colab": {
          "base_uri": "https://localhost:8080/",
          "height": 286
        },
        "id": "7hWYYjAArqvv",
        "outputId": "b8e66e0c-588a-4a62-b828-b65fc2926b56"
      },
      "execution_count": 20,
      "outputs": [
        {
          "output_type": "display_data",
          "data": {
            "text/html": [
              "<table class=\"dataframe\">\n",
              "<caption>A data.frame: 6 × 11</caption>\n",
              "<thead>\n",
              "\t<tr><th></th><th scope=col>manufacturer</th><th scope=col>model</th><th scope=col>displ</th><th scope=col>year</th><th scope=col>cyl</th><th scope=col>trans</th><th scope=col>drv</th><th scope=col>cty</th><th scope=col>hwy</th><th scope=col>fl</th><th scope=col>class</th></tr>\n",
              "\t<tr><th></th><th scope=col>&lt;chr&gt;</th><th scope=col>&lt;chr&gt;</th><th scope=col>&lt;dbl&gt;</th><th scope=col>&lt;int&gt;</th><th scope=col>&lt;int&gt;</th><th scope=col>&lt;chr&gt;</th><th scope=col>&lt;chr&gt;</th><th scope=col>&lt;int&gt;</th><th scope=col>&lt;int&gt;</th><th scope=col>&lt;chr&gt;</th><th scope=col>&lt;chr&gt;</th></tr>\n",
              "</thead>\n",
              "<tbody>\n",
              "\t<tr><th scope=row>229</th><td>volkswagen</td><td>passat</td><td>1.8</td><td>1999</td><td>4</td><td>auto(l5)  </td><td>f</td><td>18</td><td>29</td><td>p</td><td>midsize</td></tr>\n",
              "\t<tr><th scope=row>230</th><td>volkswagen</td><td>passat</td><td>2.0</td><td>2008</td><td>4</td><td>auto(s6)  </td><td>f</td><td>19</td><td>28</td><td>p</td><td>midsize</td></tr>\n",
              "\t<tr><th scope=row>231</th><td>volkswagen</td><td>passat</td><td>2.0</td><td>2008</td><td>4</td><td>manual(m6)</td><td>f</td><td>21</td><td>29</td><td>p</td><td>midsize</td></tr>\n",
              "\t<tr><th scope=row>232</th><td>volkswagen</td><td>passat</td><td>2.8</td><td>1999</td><td>6</td><td>auto(l5)  </td><td>f</td><td>16</td><td>26</td><td>p</td><td>midsize</td></tr>\n",
              "\t<tr><th scope=row>233</th><td>volkswagen</td><td>passat</td><td>2.8</td><td>1999</td><td>6</td><td>manual(m5)</td><td>f</td><td>18</td><td>26</td><td>p</td><td>midsize</td></tr>\n",
              "\t<tr><th scope=row>234</th><td>volkswagen</td><td>passat</td><td>3.6</td><td>2008</td><td>6</td><td>auto(s6)  </td><td>f</td><td>17</td><td>26</td><td>p</td><td>midsize</td></tr>\n",
              "</tbody>\n",
              "</table>\n"
            ],
            "text/markdown": "\nA data.frame: 6 × 11\n\n| <!--/--> | manufacturer &lt;chr&gt; | model &lt;chr&gt; | displ &lt;dbl&gt; | year &lt;int&gt; | cyl &lt;int&gt; | trans &lt;chr&gt; | drv &lt;chr&gt; | cty &lt;int&gt; | hwy &lt;int&gt; | fl &lt;chr&gt; | class &lt;chr&gt; |\n|---|---|---|---|---|---|---|---|---|---|---|---|\n| 229 | volkswagen | passat | 1.8 | 1999 | 4 | auto(l5)   | f | 18 | 29 | p | midsize |\n| 230 | volkswagen | passat | 2.0 | 2008 | 4 | auto(s6)   | f | 19 | 28 | p | midsize |\n| 231 | volkswagen | passat | 2.0 | 2008 | 4 | manual(m6) | f | 21 | 29 | p | midsize |\n| 232 | volkswagen | passat | 2.8 | 1999 | 6 | auto(l5)   | f | 16 | 26 | p | midsize |\n| 233 | volkswagen | passat | 2.8 | 1999 | 6 | manual(m5) | f | 18 | 26 | p | midsize |\n| 234 | volkswagen | passat | 3.6 | 2008 | 6 | auto(s6)   | f | 17 | 26 | p | midsize |\n\n",
            "text/latex": "A data.frame: 6 × 11\n\\begin{tabular}{r|lllllllllll}\n  & manufacturer & model & displ & year & cyl & trans & drv & cty & hwy & fl & class\\\\\n  & <chr> & <chr> & <dbl> & <int> & <int> & <chr> & <chr> & <int> & <int> & <chr> & <chr>\\\\\n\\hline\n\t229 & volkswagen & passat & 1.8 & 1999 & 4 & auto(l5)   & f & 18 & 29 & p & midsize\\\\\n\t230 & volkswagen & passat & 2.0 & 2008 & 4 & auto(s6)   & f & 19 & 28 & p & midsize\\\\\n\t231 & volkswagen & passat & 2.0 & 2008 & 4 & manual(m6) & f & 21 & 29 & p & midsize\\\\\n\t232 & volkswagen & passat & 2.8 & 1999 & 6 & auto(l5)   & f & 16 & 26 & p & midsize\\\\\n\t233 & volkswagen & passat & 2.8 & 1999 & 6 & manual(m5) & f & 18 & 26 & p & midsize\\\\\n\t234 & volkswagen & passat & 3.6 & 2008 & 6 & auto(s6)   & f & 17 & 26 & p & midsize\\\\\n\\end{tabular}\n",
            "text/plain": [
              "    manufacturer model  displ year cyl trans      drv cty hwy fl class  \n",
              "229 volkswagen   passat 1.8   1999 4   auto(l5)   f   18  29  p  midsize\n",
              "230 volkswagen   passat 2.0   2008 4   auto(s6)   f   19  28  p  midsize\n",
              "231 volkswagen   passat 2.0   2008 4   manual(m6) f   21  29  p  midsize\n",
              "232 volkswagen   passat 2.8   1999 6   auto(l5)   f   16  26  p  midsize\n",
              "233 volkswagen   passat 2.8   1999 6   manual(m5) f   18  26  p  midsize\n",
              "234 volkswagen   passat 3.6   2008 6   auto(s6)   f   17  26  p  midsize"
            ]
          },
          "metadata": {}
        }
      ]
    },
    {
      "cell_type": "code",
      "source": [
        "dim(mpg)"
      ],
      "metadata": {
        "colab": {
          "base_uri": "https://localhost:8080/",
          "height": 34
        },
        "id": "r8fivSnor8R2",
        "outputId": "b0cfb945-8b61-4b79-85e4-f1c3e6d94d73"
      },
      "execution_count": 21,
      "outputs": [
        {
          "output_type": "display_data",
          "data": {
            "text/html": [
              "<style>\n",
              ".list-inline {list-style: none; margin:0; padding: 0}\n",
              ".list-inline>li {display: inline-block}\n",
              ".list-inline>li:not(:last-child)::after {content: \"\\00b7\"; padding: 0 .5ex}\n",
              "</style>\n",
              "<ol class=list-inline><li>234</li><li>11</li></ol>\n"
            ],
            "text/markdown": "1. 234\n2. 11\n\n\n",
            "text/latex": "\\begin{enumerate*}\n\\item 234\n\\item 11\n\\end{enumerate*}\n",
            "text/plain": [
              "[1] 234  11"
            ]
          },
          "metadata": {}
        }
      ]
    },
    {
      "cell_type": "code",
      "source": [
        "str(mpg)"
      ],
      "metadata": {
        "colab": {
          "base_uri": "https://localhost:8080/"
        },
        "id": "xPmKXgz6r9MG",
        "outputId": "051fd2ac-ffdc-44af-e864-83f98c87cb79"
      },
      "execution_count": 22,
      "outputs": [
        {
          "output_type": "stream",
          "name": "stdout",
          "text": [
            "'data.frame':\t234 obs. of  11 variables:\n",
            " $ manufacturer: chr  \"audi\" \"audi\" \"audi\" \"audi\" ...\n",
            " $ model       : chr  \"a4\" \"a4\" \"a4\" \"a4\" ...\n",
            " $ displ       : num  1.8 1.8 2 2 2.8 2.8 3.1 1.8 1.8 2 ...\n",
            " $ year        : int  1999 1999 2008 2008 1999 1999 2008 1999 1999 2008 ...\n",
            " $ cyl         : int  4 4 4 4 6 6 6 4 4 4 ...\n",
            " $ trans       : chr  \"auto(l5)\" \"manual(m5)\" \"manual(m6)\" \"auto(av)\" ...\n",
            " $ drv         : chr  \"f\" \"f\" \"f\" \"f\" ...\n",
            " $ cty         : int  18 21 20 21 16 18 18 18 16 20 ...\n",
            " $ hwy         : int  29 29 31 30 26 26 27 26 25 28 ...\n",
            " $ fl          : chr  \"p\" \"p\" \"p\" \"p\" ...\n",
            " $ class       : chr  \"compact\" \"compact\" \"compact\" \"compact\" ...\n"
          ]
        }
      ]
    },
    {
      "cell_type": "code",
      "source": [
        "summary(mpg)"
      ],
      "metadata": {
        "colab": {
          "base_uri": "https://localhost:8080/",
          "height": 398
        },
        "id": "-P3ON4WcsQII",
        "outputId": "cee4098f-5d25-4e84-c266-0d647cf464d9"
      },
      "execution_count": 23,
      "outputs": [
        {
          "output_type": "display_data",
          "data": {
            "text/plain": [
              " manufacturer          model               displ            year     \n",
              " Length:234         Length:234         Min.   :1.600   Min.   :1999  \n",
              " Class :character   Class :character   1st Qu.:2.400   1st Qu.:1999  \n",
              " Mode  :character   Mode  :character   Median :3.300   Median :2004  \n",
              "                                       Mean   :3.472   Mean   :2004  \n",
              "                                       3rd Qu.:4.600   3rd Qu.:2008  \n",
              "                                       Max.   :7.000   Max.   :2008  \n",
              "      cyl           trans               drv                 cty       \n",
              " Min.   :4.000   Length:234         Length:234         Min.   : 9.00  \n",
              " 1st Qu.:4.000   Class :character   Class :character   1st Qu.:14.00  \n",
              " Median :6.000   Mode  :character   Mode  :character   Median :17.00  \n",
              " Mean   :5.889                                         Mean   :16.86  \n",
              " 3rd Qu.:8.000                                         3rd Qu.:19.00  \n",
              " Max.   :8.000                                         Max.   :35.00  \n",
              "      hwy             fl               class          \n",
              " Min.   :12.00   Length:234         Length:234        \n",
              " 1st Qu.:18.00   Class :character   Class :character  \n",
              " Median :24.00   Mode  :character   Mode  :character  \n",
              " Mean   :23.44                                        \n",
              " 3rd Qu.:27.00                                        \n",
              " Max.   :44.00                                        "
            ]
          },
          "metadata": {}
        }
      ]
    },
    {
      "cell_type": "markdown",
      "source": [
        "# 데이터 수정\n",
        "\n",
        "- dplyr : 데이터 전처리에 사용하는 패키지"
      ],
      "metadata": {
        "id": "BFHLe4Kqssnu"
      }
    },
    {
      "cell_type": "code",
      "source": [
        "# dplyr 설치\n",
        "install.packages(\"dplyr\")"
      ],
      "metadata": {
        "colab": {
          "base_uri": "https://localhost:8080/"
        },
        "id": "rC_NNtpEsf0D",
        "outputId": "ac8abcb5-b2be-4294-fefc-576641ed032c"
      },
      "execution_count": 24,
      "outputs": [
        {
          "output_type": "stream",
          "name": "stderr",
          "text": [
            "Installing package into ‘/usr/local/lib/R/site-library’\n",
            "(as ‘lib’ is unspecified)\n",
            "\n"
          ]
        }
      ]
    },
    {
      "cell_type": "code",
      "source": [
        "# dplyr 로드\n",
        "library(dplyr)"
      ],
      "metadata": {
        "colab": {
          "base_uri": "https://localhost:8080/"
        },
        "id": "R7GZ5Uu0s_6Q",
        "outputId": "4f85875a-176d-464d-b100-acd1028b46d5"
      },
      "execution_count": 25,
      "outputs": [
        {
          "output_type": "stream",
          "name": "stderr",
          "text": [
            "\n",
            "Attaching package: ‘dplyr’\n",
            "\n",
            "\n",
            "The following objects are masked from ‘package:stats’:\n",
            "\n",
            "    filter, lag\n",
            "\n",
            "\n",
            "The following objects are masked from ‘package:base’:\n",
            "\n",
            "    intersect, setdiff, setequal, union\n",
            "\n",
            "\n"
          ]
        }
      ]
    },
    {
      "cell_type": "code",
      "source": [
        "df_raw <- data.frame(var1 = c(1, 2, 1), var2 = c(2, 3, 2))\n",
        "print(df_raw)"
      ],
      "metadata": {
        "colab": {
          "base_uri": "https://localhost:8080/"
        },
        "id": "oBNCM2OztFKg",
        "outputId": "653def48-f498-418c-80b6-da69a11047b1"
      },
      "execution_count": 26,
      "outputs": [
        {
          "output_type": "stream",
          "name": "stdout",
          "text": [
            "  var1 var2\n",
            "1    1    2\n",
            "2    2    3\n",
            "3    1    2\n"
          ]
        }
      ]
    },
    {
      "cell_type": "code",
      "source": [
        "# 복사본 생성\n",
        "## 현업에서는 자료의 변화 과정을 남겨두는 것이 유용\n",
        "df_new <- df_raw\n",
        "print(df_new)"
      ],
      "metadata": {
        "colab": {
          "base_uri": "https://localhost:8080/"
        },
        "id": "byDn_fQbtRJn",
        "outputId": "3db9db77-9ba4-4dc4-a22b-f77e55084629"
      },
      "execution_count": 27,
      "outputs": [
        {
          "output_type": "stream",
          "name": "stdout",
          "text": [
            "  var1 var2\n",
            "1    1    2\n",
            "2    2    3\n",
            "3    1    2\n"
          ]
        }
      ]
    },
    {
      "cell_type": "markdown",
      "source": [
        "## 변수명 바꾸기"
      ],
      "metadata": {
        "id": "6jLNeivTttBm"
      }
    },
    {
      "cell_type": "code",
      "source": [
        "# rename(데이터, 새 변수명 = 기존 변수명)\n",
        "# 순서에 유의\n",
        "df_new <- rename(df_new, v2 = var2)\n",
        "print(df_new)"
      ],
      "metadata": {
        "colab": {
          "base_uri": "https://localhost:8080/"
        },
        "id": "obMVF_8Htrwt",
        "outputId": "8b15ee56-d12c-4aea-fdfe-3c7038a33447"
      },
      "execution_count": 28,
      "outputs": [
        {
          "output_type": "stream",
          "name": "stdout",
          "text": [
            "  var1 v2\n",
            "1    1  2\n",
            "2    2  3\n",
            "3    1  2\n"
          ]
        }
      ]
    },
    {
      "cell_type": "markdown",
      "source": [
        "## 파생변수 만들기\n",
        "\n",
        "- 파생변수(Derived Variable) : 기존의 변수들을 이용하여 새로운 변수를 만들어 낸 것"
      ],
      "metadata": {
        "id": "nb_CQbevuwSp"
      }
    },
    {
      "cell_type": "code",
      "source": [
        "df <- data.frame(var1 = c(4, 3, 8), var2 = c(2, 6, 1))\n",
        "print(df)"
      ],
      "metadata": {
        "colab": {
          "base_uri": "https://localhost:8080/"
        },
        "id": "uUlxgvsEue0F",
        "outputId": "4b044698-4b2f-4b21-fa31-a018916e1168"
      },
      "execution_count": 29,
      "outputs": [
        {
          "output_type": "stream",
          "name": "stdout",
          "text": [
            "  var1 var2\n",
            "1    4    2\n",
            "2    3    6\n",
            "3    8    1\n"
          ]
        }
      ]
    },
    {
      "cell_type": "code",
      "source": [
        "# var_sum 파생변수 생성\n",
        "df$var_sum <- df$var1 + df$var2\n",
        "print(df)"
      ],
      "metadata": {
        "colab": {
          "base_uri": "https://localhost:8080/"
        },
        "id": "G_4RJ4lHvBwk",
        "outputId": "8f2372a3-9da5-4fdc-c815-2b2c12f63eb1"
      },
      "execution_count": 30,
      "outputs": [
        {
          "output_type": "stream",
          "name": "stdout",
          "text": [
            "  var1 var2 var_sum\n",
            "1    4    2       6\n",
            "2    3    6       9\n",
            "3    8    1       9\n"
          ]
        }
      ]
    },
    {
      "cell_type": "code",
      "source": [
        "# var_mean 파생변수 생성\n",
        "df$var_mean <- (df$var1 + df$var2) / 2\n",
        "print(df)"
      ],
      "metadata": {
        "colab": {
          "base_uri": "https://localhost:8080/"
        },
        "id": "BJb-Ys89vLcB",
        "outputId": "7ec161d1-3647-4dd0-b32b-e0b1e19899d8"
      },
      "execution_count": 31,
      "outputs": [
        {
          "output_type": "stream",
          "name": "stdout",
          "text": [
            "  var1 var2 var_sum var_mean\n",
            "1    4    2       6      3.0\n",
            "2    3    6       9      4.5\n",
            "3    8    1       9      4.5\n"
          ]
        }
      ]
    },
    {
      "cell_type": "markdown",
      "source": [
        "## mpg 데이터 수정 실습\n",
        "\n",
        "** 분석 시나리오 ** <hr>\n",
        "*요구사항* : 도시 연비(cty)와 고속도로 연비(hwy) 데이터는 있지만, 도로 유형을 통합한 연비를 알고 싶다.\n",
        "\n",
        "*분석 계획* :\n",
        "1. 통합 연비 변수 생성(도시연비, 고속도로연비 평균)<br>\n",
        "2. 통합 연비 평균 구하기<br>\n",
        "3. 통합 연비 요약통계량 구하기"
      ],
      "metadata": {
        "id": "rawIi88Pvre0"
      }
    },
    {
      "cell_type": "code",
      "source": [
        "mpg <- as.data.frame(ggplot2::mpg)"
      ],
      "metadata": {
        "id": "pmNytn3Pvbdz"
      },
      "execution_count": 40,
      "outputs": []
    },
    {
      "cell_type": "code",
      "source": [
        "head(mpg)"
      ],
      "metadata": {
        "colab": {
          "base_uri": "https://localhost:8080/",
          "height": 286
        },
        "id": "nty3VEw0wLwR",
        "outputId": "6d008c25-9f0a-46f2-95ce-247549f88584"
      },
      "execution_count": 35,
      "outputs": [
        {
          "output_type": "display_data",
          "data": {
            "text/html": [
              "<table class=\"dataframe\">\n",
              "<caption>A data.frame: 6 × 11</caption>\n",
              "<thead>\n",
              "\t<tr><th></th><th scope=col>manufacturer</th><th scope=col>model</th><th scope=col>displ</th><th scope=col>year</th><th scope=col>cyl</th><th scope=col>trans</th><th scope=col>drv</th><th scope=col>cty</th><th scope=col>hwy</th><th scope=col>fl</th><th scope=col>class</th></tr>\n",
              "\t<tr><th></th><th scope=col>&lt;chr&gt;</th><th scope=col>&lt;chr&gt;</th><th scope=col>&lt;dbl&gt;</th><th scope=col>&lt;int&gt;</th><th scope=col>&lt;int&gt;</th><th scope=col>&lt;chr&gt;</th><th scope=col>&lt;chr&gt;</th><th scope=col>&lt;int&gt;</th><th scope=col>&lt;int&gt;</th><th scope=col>&lt;chr&gt;</th><th scope=col>&lt;chr&gt;</th></tr>\n",
              "</thead>\n",
              "<tbody>\n",
              "\t<tr><th scope=row>1</th><td>audi</td><td>a4</td><td>1.8</td><td>1999</td><td>4</td><td>auto(l5)  </td><td>f</td><td>18</td><td>29</td><td>p</td><td>compact</td></tr>\n",
              "\t<tr><th scope=row>2</th><td>audi</td><td>a4</td><td>1.8</td><td>1999</td><td>4</td><td>manual(m5)</td><td>f</td><td>21</td><td>29</td><td>p</td><td>compact</td></tr>\n",
              "\t<tr><th scope=row>3</th><td>audi</td><td>a4</td><td>2.0</td><td>2008</td><td>4</td><td>manual(m6)</td><td>f</td><td>20</td><td>31</td><td>p</td><td>compact</td></tr>\n",
              "\t<tr><th scope=row>4</th><td>audi</td><td>a4</td><td>2.0</td><td>2008</td><td>4</td><td>auto(av)  </td><td>f</td><td>21</td><td>30</td><td>p</td><td>compact</td></tr>\n",
              "\t<tr><th scope=row>5</th><td>audi</td><td>a4</td><td>2.8</td><td>1999</td><td>6</td><td>auto(l5)  </td><td>f</td><td>16</td><td>26</td><td>p</td><td>compact</td></tr>\n",
              "\t<tr><th scope=row>6</th><td>audi</td><td>a4</td><td>2.8</td><td>1999</td><td>6</td><td>manual(m5)</td><td>f</td><td>18</td><td>26</td><td>p</td><td>compact</td></tr>\n",
              "</tbody>\n",
              "</table>\n"
            ],
            "text/markdown": "\nA data.frame: 6 × 11\n\n| <!--/--> | manufacturer &lt;chr&gt; | model &lt;chr&gt; | displ &lt;dbl&gt; | year &lt;int&gt; | cyl &lt;int&gt; | trans &lt;chr&gt; | drv &lt;chr&gt; | cty &lt;int&gt; | hwy &lt;int&gt; | fl &lt;chr&gt; | class &lt;chr&gt; |\n|---|---|---|---|---|---|---|---|---|---|---|---|\n| 1 | audi | a4 | 1.8 | 1999 | 4 | auto(l5)   | f | 18 | 29 | p | compact |\n| 2 | audi | a4 | 1.8 | 1999 | 4 | manual(m5) | f | 21 | 29 | p | compact |\n| 3 | audi | a4 | 2.0 | 2008 | 4 | manual(m6) | f | 20 | 31 | p | compact |\n| 4 | audi | a4 | 2.0 | 2008 | 4 | auto(av)   | f | 21 | 30 | p | compact |\n| 5 | audi | a4 | 2.8 | 1999 | 6 | auto(l5)   | f | 16 | 26 | p | compact |\n| 6 | audi | a4 | 2.8 | 1999 | 6 | manual(m5) | f | 18 | 26 | p | compact |\n\n",
            "text/latex": "A data.frame: 6 × 11\n\\begin{tabular}{r|lllllllllll}\n  & manufacturer & model & displ & year & cyl & trans & drv & cty & hwy & fl & class\\\\\n  & <chr> & <chr> & <dbl> & <int> & <int> & <chr> & <chr> & <int> & <int> & <chr> & <chr>\\\\\n\\hline\n\t1 & audi & a4 & 1.8 & 1999 & 4 & auto(l5)   & f & 18 & 29 & p & compact\\\\\n\t2 & audi & a4 & 1.8 & 1999 & 4 & manual(m5) & f & 21 & 29 & p & compact\\\\\n\t3 & audi & a4 & 2.0 & 2008 & 4 & manual(m6) & f & 20 & 31 & p & compact\\\\\n\t4 & audi & a4 & 2.0 & 2008 & 4 & auto(av)   & f & 21 & 30 & p & compact\\\\\n\t5 & audi & a4 & 2.8 & 1999 & 6 & auto(l5)   & f & 16 & 26 & p & compact\\\\\n\t6 & audi & a4 & 2.8 & 1999 & 6 & manual(m5) & f & 18 & 26 & p & compact\\\\\n\\end{tabular}\n",
            "text/plain": [
              "  manufacturer model displ year cyl trans      drv cty hwy fl class  \n",
              "1 audi         a4    1.8   1999 4   auto(l5)   f   18  29  p  compact\n",
              "2 audi         a4    1.8   1999 4   manual(m5) f   21  29  p  compact\n",
              "3 audi         a4    2.0   2008 4   manual(m6) f   20  31  p  compact\n",
              "4 audi         a4    2.0   2008 4   auto(av)   f   21  30  p  compact\n",
              "5 audi         a4    2.8   1999 6   auto(l5)   f   16  26  p  compact\n",
              "6 audi         a4    2.8   1999 6   manual(m5) f   18  26  p  compact"
            ]
          },
          "metadata": {}
        }
      ]
    },
    {
      "cell_type": "code",
      "source": [
        "# 1. 통합 연비 변수 생성\n",
        "mpg$total <- (mpg$cty + mpg$hwy)/2\n",
        "head(mpg, 2)"
      ],
      "metadata": {
        "colab": {
          "base_uri": "https://localhost:8080/",
          "height": 161
        },
        "id": "kX97jJ-dwNLQ",
        "outputId": "c532681b-4030-4581-93a0-bb7112d95b4e"
      },
      "execution_count": 41,
      "outputs": [
        {
          "output_type": "display_data",
          "data": {
            "text/html": [
              "<table class=\"dataframe\">\n",
              "<caption>A data.frame: 2 × 12</caption>\n",
              "<thead>\n",
              "\t<tr><th></th><th scope=col>manufacturer</th><th scope=col>model</th><th scope=col>displ</th><th scope=col>year</th><th scope=col>cyl</th><th scope=col>trans</th><th scope=col>drv</th><th scope=col>cty</th><th scope=col>hwy</th><th scope=col>fl</th><th scope=col>class</th><th scope=col>total</th></tr>\n",
              "\t<tr><th></th><th scope=col>&lt;chr&gt;</th><th scope=col>&lt;chr&gt;</th><th scope=col>&lt;dbl&gt;</th><th scope=col>&lt;int&gt;</th><th scope=col>&lt;int&gt;</th><th scope=col>&lt;chr&gt;</th><th scope=col>&lt;chr&gt;</th><th scope=col>&lt;int&gt;</th><th scope=col>&lt;int&gt;</th><th scope=col>&lt;chr&gt;</th><th scope=col>&lt;chr&gt;</th><th scope=col>&lt;dbl&gt;</th></tr>\n",
              "</thead>\n",
              "<tbody>\n",
              "\t<tr><th scope=row>1</th><td>audi</td><td>a4</td><td>1.8</td><td>1999</td><td>4</td><td>auto(l5)  </td><td>f</td><td>18</td><td>29</td><td>p</td><td>compact</td><td>23.5</td></tr>\n",
              "\t<tr><th scope=row>2</th><td>audi</td><td>a4</td><td>1.8</td><td>1999</td><td>4</td><td>manual(m5)</td><td>f</td><td>21</td><td>29</td><td>p</td><td>compact</td><td>25.0</td></tr>\n",
              "</tbody>\n",
              "</table>\n"
            ],
            "text/markdown": "\nA data.frame: 2 × 12\n\n| <!--/--> | manufacturer &lt;chr&gt; | model &lt;chr&gt; | displ &lt;dbl&gt; | year &lt;int&gt; | cyl &lt;int&gt; | trans &lt;chr&gt; | drv &lt;chr&gt; | cty &lt;int&gt; | hwy &lt;int&gt; | fl &lt;chr&gt; | class &lt;chr&gt; | total &lt;dbl&gt; |\n|---|---|---|---|---|---|---|---|---|---|---|---|---|\n| 1 | audi | a4 | 1.8 | 1999 | 4 | auto(l5)   | f | 18 | 29 | p | compact | 23.5 |\n| 2 | audi | a4 | 1.8 | 1999 | 4 | manual(m5) | f | 21 | 29 | p | compact | 25.0 |\n\n",
            "text/latex": "A data.frame: 2 × 12\n\\begin{tabular}{r|llllllllllll}\n  & manufacturer & model & displ & year & cyl & trans & drv & cty & hwy & fl & class & total\\\\\n  & <chr> & <chr> & <dbl> & <int> & <int> & <chr> & <chr> & <int> & <int> & <chr> & <chr> & <dbl>\\\\\n\\hline\n\t1 & audi & a4 & 1.8 & 1999 & 4 & auto(l5)   & f & 18 & 29 & p & compact & 23.5\\\\\n\t2 & audi & a4 & 1.8 & 1999 & 4 & manual(m5) & f & 21 & 29 & p & compact & 25.0\\\\\n\\end{tabular}\n",
            "text/plain": [
              "  manufacturer model displ year cyl trans      drv cty hwy fl class   total\n",
              "1 audi         a4    1.8   1999 4   auto(l5)   f   18  29  p  compact 23.5 \n",
              "2 audi         a4    1.8   1999 4   manual(m5) f   21  29  p  compact 25.0 "
            ]
          },
          "metadata": {}
        }
      ]
    },
    {
      "cell_type": "code",
      "source": [
        "# 2. 통합 연비 평균 구하기\n",
        "mean(mpg$total)"
      ],
      "metadata": {
        "colab": {
          "base_uri": "https://localhost:8080/",
          "height": 34
        },
        "id": "Prjs_Kk6w81v",
        "outputId": "2409416c-ad60-4f24-c848-fb92852e0453"
      },
      "execution_count": 42,
      "outputs": [
        {
          "output_type": "display_data",
          "data": {
            "text/html": [
              "20.1495726495727"
            ],
            "text/markdown": "20.1495726495727",
            "text/latex": "20.1495726495727",
            "text/plain": [
              "[1] 20.14957"
            ]
          },
          "metadata": {}
        }
      ]
    },
    {
      "cell_type": "code",
      "source": [
        "# 통합 연비 요약통계량 구하기\n",
        "summary(mpg$total)"
      ],
      "metadata": {
        "colab": {
          "base_uri": "https://localhost:8080/",
          "height": 54
        },
        "id": "f-M9opLwwvxC",
        "outputId": "509e2411-032c-41e8-c6b4-7a18ac49da8a"
      },
      "execution_count": 43,
      "outputs": [
        {
          "output_type": "display_data",
          "data": {
            "text/plain": [
              "   Min. 1st Qu.  Median    Mean 3rd Qu.    Max. \n",
              "  10.50   15.50   20.50   20.15   23.50   39.50 "
            ]
          },
          "metadata": {}
        }
      ]
    },
    {
      "cell_type": "markdown",
      "source": [
        "## 조건문으로 파생변수 생성\n",
        "\n",
        "**분석 시나리오**<br>\n",
        "*요구사항* : 전체 자동차 중 연비가 우수한 자동차에 '고연비 인증서'를 부여하려한다. 따라서, '고연비'의 기준을 구하고 P/F 여부를 구해주기를 요구함<hr>\n",
        "\n",
        "- 히스토그램 : 숫자 자료를 동일한 폭의 계급으로 나누어 각 계급의 자료의 개수를 표현하는 그래프"
      ],
      "metadata": {
        "id": "N3zf31uQyvfg"
      }
    },
    {
      "cell_type": "code",
      "source": [
        "# 통합 연비 히스토그램 그리기\n",
        "hist(mpg$total)"
      ],
      "metadata": {
        "colab": {
          "base_uri": "https://localhost:8080/",
          "height": 437
        },
        "id": "tNtepIG3xDac",
        "outputId": "0788b090-d47f-4aba-8a2a-6017e178f331"
      },
      "execution_count": 44,
      "outputs": [
        {
          "output_type": "display_data",
          "data": {
            "text/plain": [
              "Plot with title “Histogram of mpg$total”"
            ],
            "image/png": "[encoded data removed]"
          },
          "metadata": {
            "image/png": {
              "width": 420,
              "height": 420
            }
          }
        }
      ]
    },
    {
      "cell_type": "code",
      "source": [
        "# 고연비의 기준 : total 변수가 20이상이면 pass, 20미만이면 fail을 부여하기로 함\n",
        "\n",
        "# ifelse() 조건문으로 파생변수 생성\n",
        "# ifelse(조건, 참일때의 값, 부정일때의 값)\n",
        "\n",
        "mpg$test <- ifelse(mpg$total >= 20, \"pass\", \"fail\")\n",
        "head(mpg, 2)"
      ],
      "metadata": {
        "colab": {
          "base_uri": "https://localhost:8080/",
          "height": 161
        },
        "id": "h4D_WJsJzd6e",
        "outputId": "c5510b5b-33d7-4bc4-e202-f05500fd5aa0"
      },
      "execution_count": 45,
      "outputs": [
        {
          "output_type": "display_data",
          "data": {
            "text/html": [
              "<table class=\"dataframe\">\n",
              "<caption>A data.frame: 2 × 13</caption>\n",
              "<thead>\n",
              "\t<tr><th></th><th scope=col>manufacturer</th><th scope=col>model</th><th scope=col>displ</th><th scope=col>year</th><th scope=col>cyl</th><th scope=col>trans</th><th scope=col>drv</th><th scope=col>cty</th><th scope=col>hwy</th><th scope=col>fl</th><th scope=col>class</th><th scope=col>total</th><th scope=col>test</th></tr>\n",
              "\t<tr><th></th><th scope=col>&lt;chr&gt;</th><th scope=col>&lt;chr&gt;</th><th scope=col>&lt;dbl&gt;</th><th scope=col>&lt;int&gt;</th><th scope=col>&lt;int&gt;</th><th scope=col>&lt;chr&gt;</th><th scope=col>&lt;chr&gt;</th><th scope=col>&lt;int&gt;</th><th scope=col>&lt;int&gt;</th><th scope=col>&lt;chr&gt;</th><th scope=col>&lt;chr&gt;</th><th scope=col>&lt;dbl&gt;</th><th scope=col>&lt;chr&gt;</th></tr>\n",
              "</thead>\n",
              "<tbody>\n",
              "\t<tr><th scope=row>1</th><td>audi</td><td>a4</td><td>1.8</td><td>1999</td><td>4</td><td>auto(l5)  </td><td>f</td><td>18</td><td>29</td><td>p</td><td>compact</td><td>23.5</td><td>pass</td></tr>\n",
              "\t<tr><th scope=row>2</th><td>audi</td><td>a4</td><td>1.8</td><td>1999</td><td>4</td><td>manual(m5)</td><td>f</td><td>21</td><td>29</td><td>p</td><td>compact</td><td>25.0</td><td>pass</td></tr>\n",
              "</tbody>\n",
              "</table>\n"
            ],
            "text/markdown": "\nA data.frame: 2 × 13\n\n| <!--/--> | manufacturer &lt;chr&gt; | model &lt;chr&gt; | displ &lt;dbl&gt; | year &lt;int&gt; | cyl &lt;int&gt; | trans &lt;chr&gt; | drv &lt;chr&gt; | cty &lt;int&gt; | hwy &lt;int&gt; | fl &lt;chr&gt; | class &lt;chr&gt; | total &lt;dbl&gt; | test &lt;chr&gt; |\n|---|---|---|---|---|---|---|---|---|---|---|---|---|---|\n| 1 | audi | a4 | 1.8 | 1999 | 4 | auto(l5)   | f | 18 | 29 | p | compact | 23.5 | pass |\n| 2 | audi | a4 | 1.8 | 1999 | 4 | manual(m5) | f | 21 | 29 | p | compact | 25.0 | pass |\n\n",
            "text/latex": "A data.frame: 2 × 13\n\\begin{tabular}{r|lllllllllllll}\n  & manufacturer & model & displ & year & cyl & trans & drv & cty & hwy & fl & class & total & test\\\\\n  & <chr> & <chr> & <dbl> & <int> & <int> & <chr> & <chr> & <int> & <int> & <chr> & <chr> & <dbl> & <chr>\\\\\n\\hline\n\t1 & audi & a4 & 1.8 & 1999 & 4 & auto(l5)   & f & 18 & 29 & p & compact & 23.5 & pass\\\\\n\t2 & audi & a4 & 1.8 & 1999 & 4 & manual(m5) & f & 21 & 29 & p & compact & 25.0 & pass\\\\\n\\end{tabular}\n",
            "text/plain": [
              "  manufacturer model displ year cyl trans      drv cty hwy fl class   total\n",
              "1 audi         a4    1.8   1999 4   auto(l5)   f   18  29  p  compact 23.5 \n",
              "2 audi         a4    1.8   1999 4   manual(m5) f   21  29  p  compact 25.0 \n",
              "  test\n",
              "1 pass\n",
              "2 pass"
            ]
          },
          "metadata": {}
        }
      ]
    },
    {
      "cell_type": "code",
      "source": [
        "# table() : 빈도표를 생성하는 함수\n",
        "# 연비 합격 빈도표를 생성\n",
        "table(mpg$test)"
      ],
      "metadata": {
        "colab": {
          "base_uri": "https://localhost:8080/",
          "height": 71
        },
        "id": "DfxuZVbr0Mvg",
        "outputId": "3bf5ca16-0a2e-4141-c2ad-41776b1f844e"
      },
      "execution_count": 46,
      "outputs": [
        {
          "output_type": "display_data",
          "data": {
            "text/plain": [
              "\n",
              "fail pass \n",
              " 106  128 "
            ]
          },
          "metadata": {}
        }
      ]
    },
    {
      "cell_type": "code",
      "source": [
        "# 막대 그래프로 빈도표 시각화\n",
        "library(ggplot2)\n",
        "qplot(mpg$test)"
      ],
      "metadata": {
        "colab": {
          "base_uri": "https://localhost:8080/",
          "height": 691
        },
        "id": "CW-qwcjw0XN_",
        "outputId": "3eac8be7-9270-4296-f18b-40b0292ea00d"
      },
      "execution_count": 48,
      "outputs": [
        {
          "output_type": "stream",
          "name": "stderr",
          "text": [
            "\n",
            "Attaching package: ‘ggplot2’\n",
            "\n",
            "\n",
            "The following object is masked _by_ ‘.GlobalEnv’:\n",
            "\n",
            "    mpg\n",
            "\n",
            "\n",
            "The following object is masked from ‘package:dplyr’:\n",
            "\n",
            "    vars\n",
            "\n",
            "\n"
          ]
        },
        {
          "output_type": "display_data",
          "data": {
            "text/plain": [
              "plot without title"
            ],
            "image/png": "[encoded data removed]"
          },
          "metadata": {
            "image/png": {
              "width": 420,
              "height": 420
            }
          }
        }
      ]
    },
    {
      "cell_type": "markdown",
      "source": [
        "## 중첩 조건문"
      ],
      "metadata": {
        "id": "tqPeuLJc0xCw"
      }
    },
    {
      "cell_type": "code",
      "source": [
        "# total을 기준으로 A, B, C, D등급 부여\n",
        "mpg$grade <- ifelse(mpg$total >= 30, \"A\", ifelse(mpg$total >= 25, \"B\", ifelse(mpg$total >= 20, \"C\", \"D\")))"
      ],
      "metadata": {
        "id": "vN_JZhFB0oyf"
      },
      "execution_count": 50,
      "outputs": []
    },
    {
      "cell_type": "code",
      "source": [
        "head(mpg)"
      ],
      "metadata": {
        "colab": {
          "base_uri": "https://localhost:8080/",
          "height": 286
        },
        "id": "KlxXOmRX2Ow9",
        "outputId": "db011a99-8958-43d4-db52-12068756fb76"
      },
      "execution_count": 51,
      "outputs": [
        {
          "output_type": "display_data",
          "data": {
            "text/html": [
              "<table class=\"dataframe\">\n",
              "<caption>A data.frame: 6 × 14</caption>\n",
              "<thead>\n",
              "\t<tr><th></th><th scope=col>manufacturer</th><th scope=col>model</th><th scope=col>displ</th><th scope=col>year</th><th scope=col>cyl</th><th scope=col>trans</th><th scope=col>drv</th><th scope=col>cty</th><th scope=col>hwy</th><th scope=col>fl</th><th scope=col>class</th><th scope=col>total</th><th scope=col>test</th><th scope=col>grade</th></tr>\n",
              "\t<tr><th></th><th scope=col>&lt;chr&gt;</th><th scope=col>&lt;chr&gt;</th><th scope=col>&lt;dbl&gt;</th><th scope=col>&lt;int&gt;</th><th scope=col>&lt;int&gt;</th><th scope=col>&lt;chr&gt;</th><th scope=col>&lt;chr&gt;</th><th scope=col>&lt;int&gt;</th><th scope=col>&lt;int&gt;</th><th scope=col>&lt;chr&gt;</th><th scope=col>&lt;chr&gt;</th><th scope=col>&lt;dbl&gt;</th><th scope=col>&lt;chr&gt;</th><th scope=col>&lt;chr&gt;</th></tr>\n",
              "</thead>\n",
              "<tbody>\n",
              "\t<tr><th scope=row>1</th><td>audi</td><td>a4</td><td>1.8</td><td>1999</td><td>4</td><td>auto(l5)  </td><td>f</td><td>18</td><td>29</td><td>p</td><td>compact</td><td>23.5</td><td>pass</td><td>C</td></tr>\n",
              "\t<tr><th scope=row>2</th><td>audi</td><td>a4</td><td>1.8</td><td>1999</td><td>4</td><td>manual(m5)</td><td>f</td><td>21</td><td>29</td><td>p</td><td>compact</td><td>25.0</td><td>pass</td><td>B</td></tr>\n",
              "\t<tr><th scope=row>3</th><td>audi</td><td>a4</td><td>2.0</td><td>2008</td><td>4</td><td>manual(m6)</td><td>f</td><td>20</td><td>31</td><td>p</td><td>compact</td><td>25.5</td><td>pass</td><td>B</td></tr>\n",
              "\t<tr><th scope=row>4</th><td>audi</td><td>a4</td><td>2.0</td><td>2008</td><td>4</td><td>auto(av)  </td><td>f</td><td>21</td><td>30</td><td>p</td><td>compact</td><td>25.5</td><td>pass</td><td>B</td></tr>\n",
              "\t<tr><th scope=row>5</th><td>audi</td><td>a4</td><td>2.8</td><td>1999</td><td>6</td><td>auto(l5)  </td><td>f</td><td>16</td><td>26</td><td>p</td><td>compact</td><td>21.0</td><td>pass</td><td>C</td></tr>\n",
              "\t<tr><th scope=row>6</th><td>audi</td><td>a4</td><td>2.8</td><td>1999</td><td>6</td><td>manual(m5)</td><td>f</td><td>18</td><td>26</td><td>p</td><td>compact</td><td>22.0</td><td>pass</td><td>C</td></tr>\n",
              "</tbody>\n",
              "</table>\n"
            ],
            "text/markdown": "\nA data.frame: 6 × 14\n\n| <!--/--> | manufacturer &lt;chr&gt; | model &lt;chr&gt; | displ &lt;dbl&gt; | year &lt;int&gt; | cyl &lt;int&gt; | trans &lt;chr&gt; | drv &lt;chr&gt; | cty &lt;int&gt; | hwy &lt;int&gt; | fl &lt;chr&gt; | class &lt;chr&gt; | total &lt;dbl&gt; | test &lt;chr&gt; | grade &lt;chr&gt; |\n|---|---|---|---|---|---|---|---|---|---|---|---|---|---|---|\n| 1 | audi | a4 | 1.8 | 1999 | 4 | auto(l5)   | f | 18 | 29 | p | compact | 23.5 | pass | C |\n| 2 | audi | a4 | 1.8 | 1999 | 4 | manual(m5) | f | 21 | 29 | p | compact | 25.0 | pass | B |\n| 3 | audi | a4 | 2.0 | 2008 | 4 | manual(m6) | f | 20 | 31 | p | compact | 25.5 | pass | B |\n| 4 | audi | a4 | 2.0 | 2008 | 4 | auto(av)   | f | 21 | 30 | p | compact | 25.5 | pass | B |\n| 5 | audi | a4 | 2.8 | 1999 | 6 | auto(l5)   | f | 16 | 26 | p | compact | 21.0 | pass | C |\n| 6 | audi | a4 | 2.8 | 1999 | 6 | manual(m5) | f | 18 | 26 | p | compact | 22.0 | pass | C |\n\n",
            "text/latex": "A data.frame: 6 × 14\n\\begin{tabular}{r|llllllllllllll}\n  & manufacturer & model & displ & year & cyl & trans & drv & cty & hwy & fl & class & total & test & grade\\\\\n  & <chr> & <chr> & <dbl> & <int> & <int> & <chr> & <chr> & <int> & <int> & <chr> & <chr> & <dbl> & <chr> & <chr>\\\\\n\\hline\n\t1 & audi & a4 & 1.8 & 1999 & 4 & auto(l5)   & f & 18 & 29 & p & compact & 23.5 & pass & C\\\\\n\t2 & audi & a4 & 1.8 & 1999 & 4 & manual(m5) & f & 21 & 29 & p & compact & 25.0 & pass & B\\\\\n\t3 & audi & a4 & 2.0 & 2008 & 4 & manual(m6) & f & 20 & 31 & p & compact & 25.5 & pass & B\\\\\n\t4 & audi & a4 & 2.0 & 2008 & 4 & auto(av)   & f & 21 & 30 & p & compact & 25.5 & pass & B\\\\\n\t5 & audi & a4 & 2.8 & 1999 & 6 & auto(l5)   & f & 16 & 26 & p & compact & 21.0 & pass & C\\\\\n\t6 & audi & a4 & 2.8 & 1999 & 6 & manual(m5) & f & 18 & 26 & p & compact & 22.0 & pass & C\\\\\n\\end{tabular}\n",
            "text/plain": [
              "  manufacturer model displ year cyl trans      drv cty hwy fl class   total\n",
              "1 audi         a4    1.8   1999 4   auto(l5)   f   18  29  p  compact 23.5 \n",
              "2 audi         a4    1.8   1999 4   manual(m5) f   21  29  p  compact 25.0 \n",
              "3 audi         a4    2.0   2008 4   manual(m6) f   20  31  p  compact 25.5 \n",
              "4 audi         a4    2.0   2008 4   auto(av)   f   21  30  p  compact 25.5 \n",
              "5 audi         a4    2.8   1999 6   auto(l5)   f   16  26  p  compact 21.0 \n",
              "6 audi         a4    2.8   1999 6   manual(m5) f   18  26  p  compact 22.0 \n",
              "  test grade\n",
              "1 pass C    \n",
              "2 pass B    \n",
              "3 pass B    \n",
              "4 pass B    \n",
              "5 pass C    \n",
              "6 pass C    "
            ]
          },
          "metadata": {}
        }
      ]
    },
    {
      "cell_type": "code",
      "source": [
        "table(mpg$grade)"
      ],
      "metadata": {
        "colab": {
          "base_uri": "https://localhost:8080/",
          "height": 71
        },
        "id": "W4rFYDXg2rb1",
        "outputId": "51f6076f-27a7-443e-a6ce-f60abe765fe7"
      },
      "execution_count": 52,
      "outputs": [
        {
          "output_type": "display_data",
          "data": {
            "text/plain": [
              "\n",
              "  A   B   C   D \n",
              " 10  33  85 106 "
            ]
          },
          "metadata": {}
        }
      ]
    },
    {
      "cell_type": "code",
      "source": [
        "qplot(mpg$grade)"
      ],
      "metadata": {
        "colab": {
          "base_uri": "https://localhost:8080/",
          "height": 437
        },
        "id": "X2Dw_hPu2xCF",
        "outputId": "07a25ad3-bb8d-44a0-d110-b9138d594efb"
      },
      "execution_count": 53,
      "outputs": [
        {
          "output_type": "display_data",
          "data": {
            "text/plain": [
              "plot without title"
            ],
            "image/png": "[encoded data removed]"
          },
          "metadata": {
            "image/png": {
              "width": 420,
              "height": 420
            }
          }
        }
      ]
    },
    {
      "cell_type": "markdown",
      "source": [
        "## 미국 중서부 437개 지역의 인구통계 데이터로 분석 실습\n",
        "\n",
        "*분석 계획* :\n",
        "1. ggplot2의 midwest 데이터를 데이터프레임 형태로 불러온 다음 데이터의 특징을 파악하기\n",
        "2. poptotal(전체 인구)변수를 total로, popasian(아시아 인구)변수를 asian으로 수정하기\n",
        "3. total, asian 변수를 이용해 \"전체 인구 대비 아시아 인구 백분율\" 파생변수를 만들고, 히스토그램을 만들어 도시들이 어떻게 분포하는지 알아보기\n",
        "4.아시아 인구 백분율 전체 평균을 구하고, 평균을 초과하면 \"large\",  그 외에는 \"small\"을 부여하는 파생변수 만들기\n",
        "5. \"large\"와 \"small\"에 해당하는 지역이 얼마나 되는지 빈도표와 빈도 막대 그래프를 만들기"
      ],
      "metadata": {
        "id": "uzBdmfRk250W"
      }
    },
    {
      "cell_type": "code",
      "source": [
        "# 1. ggplot2의 midwest 데이터를 데이터프레임 형태로 불러온 다음 데이터의 특징 파악하기\n",
        "midwest <- as.data.frame(ggplot2::midwest)\n",
        "head(midwest, 2)"
      ],
      "metadata": {
        "colab": {
          "base_uri": "https://localhost:8080/",
          "height": 181
        },
        "id": "0Dazic1p20Yf",
        "outputId": "2746fe18-aed0-4a58-e821-20ea741a84d8"
      },
      "execution_count": 57,
      "outputs": [
        {
          "output_type": "display_data",
          "data": {
            "text/html": [
              "<table class=\"dataframe\">\n",
              "<caption>A data.frame: 2 × 28</caption>\n",
              "<thead>\n",
              "\t<tr><th></th><th scope=col>PID</th><th scope=col>county</th><th scope=col>state</th><th scope=col>area</th><th scope=col>poptotal</th><th scope=col>popdensity</th><th scope=col>popwhite</th><th scope=col>popblack</th><th scope=col>popamerindian</th><th scope=col>popasian</th><th scope=col>⋯</th><th scope=col>percollege</th><th scope=col>percprof</th><th scope=col>poppovertyknown</th><th scope=col>percpovertyknown</th><th scope=col>percbelowpoverty</th><th scope=col>percchildbelowpovert</th><th scope=col>percadultpoverty</th><th scope=col>percelderlypoverty</th><th scope=col>inmetro</th><th scope=col>category</th></tr>\n",
              "\t<tr><th></th><th scope=col>&lt;int&gt;</th><th scope=col>&lt;chr&gt;</th><th scope=col>&lt;chr&gt;</th><th scope=col>&lt;dbl&gt;</th><th scope=col>&lt;int&gt;</th><th scope=col>&lt;dbl&gt;</th><th scope=col>&lt;int&gt;</th><th scope=col>&lt;int&gt;</th><th scope=col>&lt;int&gt;</th><th scope=col>&lt;int&gt;</th><th scope=col>⋯</th><th scope=col>&lt;dbl&gt;</th><th scope=col>&lt;dbl&gt;</th><th scope=col>&lt;int&gt;</th><th scope=col>&lt;dbl&gt;</th><th scope=col>&lt;dbl&gt;</th><th scope=col>&lt;dbl&gt;</th><th scope=col>&lt;dbl&gt;</th><th scope=col>&lt;dbl&gt;</th><th scope=col>&lt;int&gt;</th><th scope=col>&lt;chr&gt;</th></tr>\n",
              "</thead>\n",
              "<tbody>\n",
              "\t<tr><th scope=row>1</th><td>561</td><td>ADAMS    </td><td>IL</td><td>0.052</td><td>66090</td><td>1270.962</td><td>63917</td><td>1702</td><td>98</td><td>249</td><td>⋯</td><td>19.63139</td><td>4.355859</td><td>63628</td><td>96.27478</td><td>13.15144</td><td>18.01172</td><td>11.00978</td><td>12.44381</td><td>0</td><td>AAR</td></tr>\n",
              "\t<tr><th scope=row>2</th><td>562</td><td>ALEXANDER</td><td>IL</td><td>0.014</td><td>10626</td><td> 759.000</td><td> 7054</td><td>3496</td><td>19</td><td> 48</td><td>⋯</td><td>11.24331</td><td>2.870315</td><td>10529</td><td>99.08714</td><td>32.24428</td><td>45.82651</td><td>27.38565</td><td>25.22898</td><td>0</td><td>LHR</td></tr>\n",
              "</tbody>\n",
              "</table>\n"
            ],
            "text/markdown": "\nA data.frame: 2 × 28\n\n| <!--/--> | PID &lt;int&gt; | county &lt;chr&gt; | state &lt;chr&gt; | area &lt;dbl&gt; | poptotal &lt;int&gt; | popdensity &lt;dbl&gt; | popwhite &lt;int&gt; | popblack &lt;int&gt; | popamerindian &lt;int&gt; | popasian &lt;int&gt; | ⋯ ⋯ | percollege &lt;dbl&gt; | percprof &lt;dbl&gt; | poppovertyknown &lt;int&gt; | percpovertyknown &lt;dbl&gt; | percbelowpoverty &lt;dbl&gt; | percchildbelowpovert &lt;dbl&gt; | percadultpoverty &lt;dbl&gt; | percelderlypoverty &lt;dbl&gt; | inmetro &lt;int&gt; | category &lt;chr&gt; |\n|---|---|---|---|---|---|---|---|---|---|---|---|---|---|---|---|---|---|---|---|---|---|\n| 1 | 561 | ADAMS     | IL | 0.052 | 66090 | 1270.962 | 63917 | 1702 | 98 | 249 | ⋯ | 19.63139 | 4.355859 | 63628 | 96.27478 | 13.15144 | 18.01172 | 11.00978 | 12.44381 | 0 | AAR |\n| 2 | 562 | ALEXANDER | IL | 0.014 | 10626 |  759.000 |  7054 | 3496 | 19 |  48 | ⋯ | 11.24331 | 2.870315 | 10529 | 99.08714 | 32.24428 | 45.82651 | 27.38565 | 25.22898 | 0 | LHR |\n\n",
            "text/latex": "A data.frame: 2 × 28\n\\begin{tabular}{r|lllllllllllllllllllll}\n  & PID & county & state & area & poptotal & popdensity & popwhite & popblack & popamerindian & popasian & ⋯ & percollege & percprof & poppovertyknown & percpovertyknown & percbelowpoverty & percchildbelowpovert & percadultpoverty & percelderlypoverty & inmetro & category\\\\\n  & <int> & <chr> & <chr> & <dbl> & <int> & <dbl> & <int> & <int> & <int> & <int> & ⋯ & <dbl> & <dbl> & <int> & <dbl> & <dbl> & <dbl> & <dbl> & <dbl> & <int> & <chr>\\\\\n\\hline\n\t1 & 561 & ADAMS     & IL & 0.052 & 66090 & 1270.962 & 63917 & 1702 & 98 & 249 & ⋯ & 19.63139 & 4.355859 & 63628 & 96.27478 & 13.15144 & 18.01172 & 11.00978 & 12.44381 & 0 & AAR\\\\\n\t2 & 562 & ALEXANDER & IL & 0.014 & 10626 &  759.000 &  7054 & 3496 & 19 &  48 & ⋯ & 11.24331 & 2.870315 & 10529 & 99.08714 & 32.24428 & 45.82651 & 27.38565 & 25.22898 & 0 & LHR\\\\\n\\end{tabular}\n",
            "text/plain": [
              "  PID county    state area  poptotal popdensity popwhite popblack popamerindian\n",
              "1 561 ADAMS     IL    0.052 66090    1270.962   63917    1702     98           \n",
              "2 562 ALEXANDER IL    0.014 10626     759.000    7054    3496     19           \n",
              "  popasian ⋯ percollege percprof poppovertyknown percpovertyknown\n",
              "1 249      ⋯ 19.63139   4.355859 63628           96.27478        \n",
              "2  48      ⋯ 11.24331   2.870315 10529           99.08714        \n",
              "  percbelowpoverty percchildbelowpovert percadultpoverty percelderlypoverty\n",
              "1 13.15144         18.01172             11.00978         12.44381          \n",
              "2 32.24428         45.82651             27.38565         25.22898          \n",
              "  inmetro category\n",
              "1 0       AAR     \n",
              "2 0       LHR     "
            ]
          },
          "metadata": {}
        }
      ]
    },
    {
      "cell_type": "code",
      "source": [
        "str(midwest)"
      ],
      "metadata": {
        "colab": {
          "base_uri": "https://localhost:8080/"
        },
        "id": "1l6Uzsm76mpV",
        "outputId": "85494f23-b4d4-4985-b9a9-9a126b743fc9"
      },
      "execution_count": 58,
      "outputs": [
        {
          "output_type": "stream",
          "name": "stdout",
          "text": [
            "'data.frame':\t437 obs. of  28 variables:\n",
            " $ PID                 : int  561 562 563 564 565 566 567 568 569 570 ...\n",
            " $ county              : chr  \"ADAMS\" \"ALEXANDER\" \"BOND\" \"BOONE\" ...\n",
            " $ state               : chr  \"IL\" \"IL\" \"IL\" \"IL\" ...\n",
            " $ area                : num  0.052 0.014 0.022 0.017 0.018 0.05 0.017 0.027 0.024 0.058 ...\n",
            " $ poptotal            : int  66090 10626 14991 30806 5836 35688 5322 16805 13437 173025 ...\n",
            " $ popdensity          : num  1271 759 681 1812 324 ...\n",
            " $ popwhite            : int  63917 7054 14477 29344 5264 35157 5298 16519 13384 146506 ...\n",
            " $ popblack            : int  1702 3496 429 127 547 50 1 111 16 16559 ...\n",
            " $ popamerindian       : int  98 19 35 46 14 65 8 30 8 331 ...\n",
            " $ popasian            : int  249 48 16 150 5 195 15 61 23 8033 ...\n",
            " $ popother            : int  124 9 34 1139 6 221 0 84 6 1596 ...\n",
            " $ percwhite           : num  96.7 66.4 96.6 95.3 90.2 ...\n",
            " $ percblack           : num  2.575 32.9 2.862 0.412 9.373 ...\n",
            " $ percamerindan       : num  0.148 0.179 0.233 0.149 0.24 ...\n",
            " $ percasian           : num  0.3768 0.4517 0.1067 0.4869 0.0857 ...\n",
            " $ percother           : num  0.1876 0.0847 0.2268 3.6973 0.1028 ...\n",
            " $ popadults           : int  43298 6724 9669 19272 3979 23444 3583 11323 8825 95971 ...\n",
            " $ perchsd             : num  75.1 59.7 69.3 75.5 68.9 ...\n",
            " $ percollege          : num  19.6 11.2 17 17.3 14.5 ...\n",
            " $ percprof            : num  4.36 2.87 4.49 4.2 3.37 ...\n",
            " $ poppovertyknown     : int  63628 10529 14235 30337 4815 35107 5241 16455 13081 154934 ...\n",
            " $ percpovertyknown    : num  96.3 99.1 95 98.5 82.5 ...\n",
            " $ percbelowpoverty    : num  13.15 32.24 12.07 7.21 13.52 ...\n",
            " $ percchildbelowpovert: num  18 45.8 14 11.2 13 ...\n",
            " $ percadultpoverty    : num  11.01 27.39 10.85 5.54 11.14 ...\n",
            " $ percelderlypoverty  : num  12.44 25.23 12.7 6.22 19.2 ...\n",
            " $ inmetro             : int  0 0 0 1 0 0 0 0 0 1 ...\n",
            " $ category            : chr  \"AAR\" \"LHR\" \"AAR\" \"ALU\" ...\n"
          ]
        }
      ]
    },
    {
      "cell_type": "code",
      "source": [
        "summary(midwest)"
      ],
      "metadata": {
        "colab": {
          "base_uri": "https://localhost:8080/",
          "height": 906
        },
        "id": "wZXLyt2T6uIM",
        "outputId": "7ed0e88a-0905-4b35-f135-c2c391057ba4"
      },
      "execution_count": 59,
      "outputs": [
        {
          "output_type": "display_data",
          "data": {
            "text/plain": [
              "      PID          county             state                area        \n",
              " Min.   : 561   Length:437         Length:437         Min.   :0.00500  \n",
              " 1st Qu.: 670   Class :character   Class :character   1st Qu.:0.02400  \n",
              " Median :1221   Mode  :character   Mode  :character   Median :0.03000  \n",
              " Mean   :1437                                         Mean   :0.03317  \n",
              " 3rd Qu.:2059                                         3rd Qu.:0.03800  \n",
              " Max.   :3052                                         Max.   :0.11000  \n",
              "    poptotal         popdensity          popwhite          popblack      \n",
              " Min.   :   1701   Min.   :   85.05   Min.   :    416   Min.   :      0  \n",
              " 1st Qu.:  18840   1st Qu.:  622.41   1st Qu.:  18630   1st Qu.:     29  \n",
              " Median :  35324   Median : 1156.21   Median :  34471   Median :    201  \n",
              " Mean   :  96130   Mean   : 3097.74   Mean   :  81840   Mean   :  11024  \n",
              " 3rd Qu.:  75651   3rd Qu.: 2330.00   3rd Qu.:  72968   3rd Qu.:   1291  \n",
              " Max.   :5105067   Max.   :88018.40   Max.   :3204947   Max.   :1317147  \n",
              " popamerindian        popasian         popother        percwhite    \n",
              " Min.   :    4.0   Min.   :     0   Min.   :     0   Min.   :10.69  \n",
              " 1st Qu.:   44.0   1st Qu.:    35   1st Qu.:    20   1st Qu.:94.89  \n",
              " Median :   94.0   Median :   102   Median :    66   Median :98.03  \n",
              " Mean   :  343.1   Mean   :  1310   Mean   :  1613   Mean   :95.56  \n",
              " 3rd Qu.:  288.0   3rd Qu.:   401   3rd Qu.:   345   3rd Qu.:99.07  \n",
              " Max.   :10289.0   Max.   :188565   Max.   :384119   Max.   :99.82  \n",
              "   percblack       percamerindan        percasian        percother      \n",
              " Min.   : 0.0000   Min.   : 0.05623   Min.   :0.0000   Min.   :0.00000  \n",
              " 1st Qu.: 0.1157   1st Qu.: 0.15793   1st Qu.:0.1737   1st Qu.:0.09102  \n",
              " Median : 0.5390   Median : 0.21502   Median :0.2972   Median :0.17844  \n",
              " Mean   : 2.6763   Mean   : 0.79894   Mean   :0.4872   Mean   :0.47906  \n",
              " 3rd Qu.: 2.6014   3rd Qu.: 0.38362   3rd Qu.:0.5212   3rd Qu.:0.48050  \n",
              " Max.   :40.2100   Max.   :89.17738   Max.   :5.0705   Max.   :7.52427  \n",
              "   popadults          perchsd        percollege        percprof      \n",
              " Min.   :   1287   Min.   :46.91   Min.   : 7.336   Min.   : 0.5203  \n",
              " 1st Qu.:  12271   1st Qu.:71.33   1st Qu.:14.114   1st Qu.: 2.9980  \n",
              " Median :  22188   Median :74.25   Median :16.798   Median : 3.8142  \n",
              " Mean   :  60973   Mean   :73.97   Mean   :18.273   Mean   : 4.4473  \n",
              " 3rd Qu.:  47541   3rd Qu.:77.20   3rd Qu.:20.550   3rd Qu.: 4.9493  \n",
              " Max.   :3291995   Max.   :88.90   Max.   :48.079   Max.   :20.7913  \n",
              " poppovertyknown   percpovertyknown percbelowpoverty percchildbelowpovert\n",
              " Min.   :   1696   Min.   :80.90    Min.   : 2.180   Min.   : 1.919      \n",
              " 1st Qu.:  18364   1st Qu.:96.89    1st Qu.: 9.199   1st Qu.:11.624      \n",
              " Median :  33788   Median :98.17    Median :11.822   Median :15.270      \n",
              " Mean   :  93642   Mean   :97.11    Mean   :12.511   Mean   :16.447      \n",
              " 3rd Qu.:  72840   3rd Qu.:98.60    3rd Qu.:15.133   3rd Qu.:20.352      \n",
              " Max.   :5023523   Max.   :99.86    Max.   :48.691   Max.   :64.308      \n",
              " percadultpoverty percelderlypoverty    inmetro         category        \n",
              " Min.   : 1.938   Min.   : 3.547     Min.   :0.0000   Length:437        \n",
              " 1st Qu.: 7.668   1st Qu.: 8.912     1st Qu.:0.0000   Class :character  \n",
              " Median :10.008   Median :10.869     Median :0.0000   Mode  :character  \n",
              " Mean   :10.919   Mean   :11.389     Mean   :0.3432                     \n",
              " 3rd Qu.:13.182   3rd Qu.:13.412     3rd Qu.:1.0000                     \n",
              " Max.   :43.312   Max.   :31.162     Max.   :1.0000                     "
            ]
          },
          "metadata": {}
        }
      ]
    },
    {
      "cell_type": "code",
      "source": [
        "# 2. poptotal(전체 인구)변수를 total로, popasian(아시아 인구) 변수를 aisan으로 수정하기\n",
        "# 데이터 <- rename(데이터, 새 변수명 = 기존 변수명)\n",
        "midwest <- rename(midwest, total = poptotal, aisan = popasian)"
      ],
      "metadata": {
        "id": "HiKvHZZg3tAG"
      },
      "execution_count": 60,
      "outputs": []
    },
    {
      "cell_type": "code",
      "source": [
        "# 3. total, asian 변수를 이용해 \"전체 인구 대비 아시아 인구 백분율\" 파생변수를 만들고, 히스토그램을 만들어 도시들이 어떻게 분포하는지 알아보기\n",
        "midwest$ratio <- (midwest$aisan / midwest$total) * 100\n",
        "hist(midwest$ratio)"
      ],
      "metadata": {
        "colab": {
          "base_uri": "https://localhost:8080/",
          "height": 437
        },
        "id": "i48YazyY4Ul7",
        "outputId": "f52f832f-e7fe-413d-b62f-6ab8cf97b0dd"
      },
      "execution_count": 61,
      "outputs": [
        {
          "output_type": "display_data",
          "data": {
            "text/plain": [
              "Plot with title “Histogram of midwest$ratio”"
            ],
            "image/png": "[encoded data removed]"
          },
          "metadata": {
            "image/png": {
              "width": 420,
              "height": 420
            }
          }
        }
      ]
    },
    {
      "cell_type": "code",
      "source": [
        "# 4. 아시아 인구 백분율 전체 평균을 구하고, 평균을 초과하면 \"large\", 그 외에는 \"small\"을 부여하는 파생변수 만들기\n",
        "mean(midwest$ratio)"
      ],
      "metadata": {
        "colab": {
          "base_uri": "https://localhost:8080/",
          "height": 34
        },
        "id": "MDuNi9Bk5Dpb",
        "outputId": "d775508c-0729-4f70-dd1b-3960cd192dd7"
      },
      "execution_count": 62,
      "outputs": [
        {
          "output_type": "display_data",
          "data": {
            "text/html": [
              "0.487246183435734"
            ],
            "text/markdown": "0.487246183435734",
            "text/latex": "0.487246183435734",
            "text/plain": [
              "[1] 0.4872462"
            ]
          },
          "metadata": {}
        }
      ]
    },
    {
      "cell_type": "code",
      "source": [
        "midwest$group <- ifelse(midwest$ratio > mean(midwest$ratio), \"large\", \"small\")"
      ],
      "metadata": {
        "id": "qT9Q_E_A7dge"
      },
      "execution_count": 63,
      "outputs": []
    },
    {
      "cell_type": "code",
      "source": [
        "head(midwest)"
      ],
      "metadata": {
        "colab": {
          "base_uri": "https://localhost:8080/",
          "height": 306
        },
        "id": "mmSfjOEz7qF0",
        "outputId": "d7585036-0a06-4f60-cb2c-e2069982c9ac"
      },
      "execution_count": 64,
      "outputs": [
        {
          "output_type": "display_data",
          "data": {
            "text/html": [
              "<table class=\"dataframe\">\n",
              "<caption>A data.frame: 6 × 30</caption>\n",
              "<thead>\n",
              "\t<tr><th></th><th scope=col>PID</th><th scope=col>county</th><th scope=col>state</th><th scope=col>area</th><th scope=col>total</th><th scope=col>popdensity</th><th scope=col>popwhite</th><th scope=col>popblack</th><th scope=col>popamerindian</th><th scope=col>aisan</th><th scope=col>⋯</th><th scope=col>poppovertyknown</th><th scope=col>percpovertyknown</th><th scope=col>percbelowpoverty</th><th scope=col>percchildbelowpovert</th><th scope=col>percadultpoverty</th><th scope=col>percelderlypoverty</th><th scope=col>inmetro</th><th scope=col>category</th><th scope=col>ratio</th><th scope=col>group</th></tr>\n",
              "\t<tr><th></th><th scope=col>&lt;int&gt;</th><th scope=col>&lt;chr&gt;</th><th scope=col>&lt;chr&gt;</th><th scope=col>&lt;dbl&gt;</th><th scope=col>&lt;int&gt;</th><th scope=col>&lt;dbl&gt;</th><th scope=col>&lt;int&gt;</th><th scope=col>&lt;int&gt;</th><th scope=col>&lt;int&gt;</th><th scope=col>&lt;int&gt;</th><th scope=col>⋯</th><th scope=col>&lt;int&gt;</th><th scope=col>&lt;dbl&gt;</th><th scope=col>&lt;dbl&gt;</th><th scope=col>&lt;dbl&gt;</th><th scope=col>&lt;dbl&gt;</th><th scope=col>&lt;dbl&gt;</th><th scope=col>&lt;int&gt;</th><th scope=col>&lt;chr&gt;</th><th scope=col>&lt;dbl&gt;</th><th scope=col>&lt;chr&gt;</th></tr>\n",
              "</thead>\n",
              "<tbody>\n",
              "\t<tr><th scope=row>1</th><td>561</td><td>ADAMS    </td><td>IL</td><td>0.052</td><td>66090</td><td>1270.9615</td><td>63917</td><td>1702</td><td>98</td><td>249</td><td>⋯</td><td>63628</td><td>96.27478</td><td>13.151443</td><td>18.01172</td><td>11.009776</td><td>12.443812</td><td>0</td><td>AAR</td><td>0.37675897</td><td>small</td></tr>\n",
              "\t<tr><th scope=row>2</th><td>562</td><td>ALEXANDER</td><td>IL</td><td>0.014</td><td>10626</td><td> 759.0000</td><td> 7054</td><td>3496</td><td>19</td><td> 48</td><td>⋯</td><td>10529</td><td>99.08714</td><td>32.244278</td><td>45.82651</td><td>27.385647</td><td>25.228976</td><td>0</td><td>LHR</td><td>0.45172219</td><td>small</td></tr>\n",
              "\t<tr><th scope=row>3</th><td>563</td><td>BOND     </td><td>IL</td><td>0.022</td><td>14991</td><td> 681.4091</td><td>14477</td><td> 429</td><td>35</td><td> 16</td><td>⋯</td><td>14235</td><td>94.95697</td><td>12.068844</td><td>14.03606</td><td>10.852090</td><td>12.697410</td><td>0</td><td>AAR</td><td>0.10673071</td><td>small</td></tr>\n",
              "\t<tr><th scope=row>4</th><td>564</td><td>BOONE    </td><td>IL</td><td>0.017</td><td>30806</td><td>1812.1176</td><td>29344</td><td> 127</td><td>46</td><td>150</td><td>⋯</td><td>30337</td><td>98.47757</td><td> 7.209019</td><td>11.17954</td><td> 5.536013</td><td> 6.217047</td><td>1</td><td>ALU</td><td>0.48691813</td><td>small</td></tr>\n",
              "\t<tr><th scope=row>5</th><td>565</td><td>BROWN    </td><td>IL</td><td>0.018</td><td> 5836</td><td> 324.2222</td><td> 5264</td><td> 547</td><td>14</td><td>  5</td><td>⋯</td><td> 4815</td><td>82.50514</td><td>13.520249</td><td>13.02289</td><td>11.143211</td><td>19.200000</td><td>0</td><td>AAR</td><td>0.08567512</td><td>small</td></tr>\n",
              "\t<tr><th scope=row>6</th><td>566</td><td>BUREAU   </td><td>IL</td><td>0.050</td><td>35688</td><td> 713.7600</td><td>35157</td><td>  50</td><td>65</td><td>195</td><td>⋯</td><td>35107</td><td>98.37200</td><td>10.399635</td><td>14.15882</td><td> 8.179287</td><td>11.008586</td><td>0</td><td>AAR</td><td>0.54640215</td><td>large</td></tr>\n",
              "</tbody>\n",
              "</table>\n"
            ],
            "text/markdown": "\nA data.frame: 6 × 30\n\n| <!--/--> | PID &lt;int&gt; | county &lt;chr&gt; | state &lt;chr&gt; | area &lt;dbl&gt; | total &lt;int&gt; | popdensity &lt;dbl&gt; | popwhite &lt;int&gt; | popblack &lt;int&gt; | popamerindian &lt;int&gt; | aisan &lt;int&gt; | ⋯ ⋯ | poppovertyknown &lt;int&gt; | percpovertyknown &lt;dbl&gt; | percbelowpoverty &lt;dbl&gt; | percchildbelowpovert &lt;dbl&gt; | percadultpoverty &lt;dbl&gt; | percelderlypoverty &lt;dbl&gt; | inmetro &lt;int&gt; | category &lt;chr&gt; | ratio &lt;dbl&gt; | group &lt;chr&gt; |\n|---|---|---|---|---|---|---|---|---|---|---|---|---|---|---|---|---|---|---|---|---|---|\n| 1 | 561 | ADAMS     | IL | 0.052 | 66090 | 1270.9615 | 63917 | 1702 | 98 | 249 | ⋯ | 63628 | 96.27478 | 13.151443 | 18.01172 | 11.009776 | 12.443812 | 0 | AAR | 0.37675897 | small |\n| 2 | 562 | ALEXANDER | IL | 0.014 | 10626 |  759.0000 |  7054 | 3496 | 19 |  48 | ⋯ | 10529 | 99.08714 | 32.244278 | 45.82651 | 27.385647 | 25.228976 | 0 | LHR | 0.45172219 | small |\n| 3 | 563 | BOND      | IL | 0.022 | 14991 |  681.4091 | 14477 |  429 | 35 |  16 | ⋯ | 14235 | 94.95697 | 12.068844 | 14.03606 | 10.852090 | 12.697410 | 0 | AAR | 0.10673071 | small |\n| 4 | 564 | BOONE     | IL | 0.017 | 30806 | 1812.1176 | 29344 |  127 | 46 | 150 | ⋯ | 30337 | 98.47757 |  7.209019 | 11.17954 |  5.536013 |  6.217047 | 1 | ALU | 0.48691813 | small |\n| 5 | 565 | BROWN     | IL | 0.018 |  5836 |  324.2222 |  5264 |  547 | 14 |   5 | ⋯ |  4815 | 82.50514 | 13.520249 | 13.02289 | 11.143211 | 19.200000 | 0 | AAR | 0.08567512 | small |\n| 6 | 566 | BUREAU    | IL | 0.050 | 35688 |  713.7600 | 35157 |   50 | 65 | 195 | ⋯ | 35107 | 98.37200 | 10.399635 | 14.15882 |  8.179287 | 11.008586 | 0 | AAR | 0.54640215 | large |\n\n",
            "text/latex": "A data.frame: 6 × 30\n\\begin{tabular}{r|lllllllllllllllllllll}\n  & PID & county & state & area & total & popdensity & popwhite & popblack & popamerindian & aisan & ⋯ & poppovertyknown & percpovertyknown & percbelowpoverty & percchildbelowpovert & percadultpoverty & percelderlypoverty & inmetro & category & ratio & group\\\\\n  & <int> & <chr> & <chr> & <dbl> & <int> & <dbl> & <int> & <int> & <int> & <int> & ⋯ & <int> & <dbl> & <dbl> & <dbl> & <dbl> & <dbl> & <int> & <chr> & <dbl> & <chr>\\\\\n\\hline\n\t1 & 561 & ADAMS     & IL & 0.052 & 66090 & 1270.9615 & 63917 & 1702 & 98 & 249 & ⋯ & 63628 & 96.27478 & 13.151443 & 18.01172 & 11.009776 & 12.443812 & 0 & AAR & 0.37675897 & small\\\\\n\t2 & 562 & ALEXANDER & IL & 0.014 & 10626 &  759.0000 &  7054 & 3496 & 19 &  48 & ⋯ & 10529 & 99.08714 & 32.244278 & 45.82651 & 27.385647 & 25.228976 & 0 & LHR & 0.45172219 & small\\\\\n\t3 & 563 & BOND      & IL & 0.022 & 14991 &  681.4091 & 14477 &  429 & 35 &  16 & ⋯ & 14235 & 94.95697 & 12.068844 & 14.03606 & 10.852090 & 12.697410 & 0 & AAR & 0.10673071 & small\\\\\n\t4 & 564 & BOONE     & IL & 0.017 & 30806 & 1812.1176 & 29344 &  127 & 46 & 150 & ⋯ & 30337 & 98.47757 &  7.209019 & 11.17954 &  5.536013 &  6.217047 & 1 & ALU & 0.48691813 & small\\\\\n\t5 & 565 & BROWN     & IL & 0.018 &  5836 &  324.2222 &  5264 &  547 & 14 &   5 & ⋯ &  4815 & 82.50514 & 13.520249 & 13.02289 & 11.143211 & 19.200000 & 0 & AAR & 0.08567512 & small\\\\\n\t6 & 566 & BUREAU    & IL & 0.050 & 35688 &  713.7600 & 35157 &   50 & 65 & 195 & ⋯ & 35107 & 98.37200 & 10.399635 & 14.15882 &  8.179287 & 11.008586 & 0 & AAR & 0.54640215 & large\\\\\n\\end{tabular}\n",
            "text/plain": [
              "  PID county    state area  total popdensity popwhite popblack popamerindian\n",
              "1 561 ADAMS     IL    0.052 66090 1270.9615  63917    1702     98           \n",
              "2 562 ALEXANDER IL    0.014 10626  759.0000   7054    3496     19           \n",
              "3 563 BOND      IL    0.022 14991  681.4091  14477     429     35           \n",
              "4 564 BOONE     IL    0.017 30806 1812.1176  29344     127     46           \n",
              "5 565 BROWN     IL    0.018  5836  324.2222   5264     547     14           \n",
              "6 566 BUREAU    IL    0.050 35688  713.7600  35157      50     65           \n",
              "  aisan ⋯ poppovertyknown percpovertyknown percbelowpoverty\n",
              "1 249   ⋯ 63628           96.27478         13.151443       \n",
              "2  48   ⋯ 10529           99.08714         32.244278       \n",
              "3  16   ⋯ 14235           94.95697         12.068844       \n",
              "4 150   ⋯ 30337           98.47757          7.209019       \n",
              "5   5   ⋯  4815           82.50514         13.520249       \n",
              "6 195   ⋯ 35107           98.37200         10.399635       \n",
              "  percchildbelowpovert percadultpoverty percelderlypoverty inmetro category\n",
              "1 18.01172             11.009776        12.443812          0       AAR     \n",
              "2 45.82651             27.385647        25.228976          0       LHR     \n",
              "3 14.03606             10.852090        12.697410          0       AAR     \n",
              "4 11.17954              5.536013         6.217047          1       ALU     \n",
              "5 13.02289             11.143211        19.200000          0       AAR     \n",
              "6 14.15882              8.179287        11.008586          0       AAR     \n",
              "  ratio      group\n",
              "1 0.37675897 small\n",
              "2 0.45172219 small\n",
              "3 0.10673071 small\n",
              "4 0.48691813 small\n",
              "5 0.08567512 small\n",
              "6 0.54640215 large"
            ]
          },
          "metadata": {}
        }
      ]
    },
    {
      "cell_type": "code",
      "source": [
        "# 5. \"large\"와 \"small\"에 해당하는 지역이 얼마나 되는지 빈도표와 빈도 막대 그래프를 만들기\n",
        "table(midwest$group)"
      ],
      "metadata": {
        "colab": {
          "base_uri": "https://localhost:8080/",
          "height": 71
        },
        "id": "z1Meovt87AV_",
        "outputId": "30e3222a-a08b-4fba-ffff-c860d5acb373"
      },
      "execution_count": 65,
      "outputs": [
        {
          "output_type": "display_data",
          "data": {
            "text/plain": [
              "\n",
              "large small \n",
              "  119   318 "
            ]
          },
          "metadata": {}
        }
      ]
    },
    {
      "cell_type": "code",
      "source": [
        "qplot(midwest$group)"
      ],
      "metadata": {
        "colab": {
          "base_uri": "https://localhost:8080/",
          "height": 437
        },
        "id": "5bQ5JbG3726d",
        "outputId": "09cc7dae-1293-4173-f1c6-1fae08fc25f4"
      },
      "execution_count": 66,
      "outputs": [
        {
          "output_type": "display_data",
          "data": {
            "text/plain": [
              "plot without title"
            ],
            "image/png": "[encoded data removed]"
          },
          "metadata": {
            "image/png": {
              "width": 420,
              "height": 420
            }
          }
        }
      ]
    },
    {
      "cell_type": "code",
      "source": [
        ""
      ],
      "metadata": {
        "id": "3EvQzrsO75Ay"
      },
      "execution_count": null,
      "outputs": []
    }
  ]
}